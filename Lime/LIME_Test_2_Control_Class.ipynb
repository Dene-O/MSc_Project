{
 "cells": [
  {
   "cell_type": "markdown",
   "id": "278b44ac-a7bc-41e4-8c34-c35f4304c5cb",
   "metadata": {
    "tags": []
   },
   "source": [
    "## LIME Test 2 Control Data Classification"
   ]
  },
  {
   "cell_type": "code",
   "execution_count": 1,
   "id": "1025d3e3-337e-40ec-8ecd-e7949c6a79f3",
   "metadata": {},
   "outputs": [
    {
     "ename": "<class 'ImportError'>",
     "evalue": "cannot import name 'Class_Feature_Statistics' from 'feature_stats' (C:\\Users\\deneb\\Ulster\\Machine_Learning\\MSc_Project\\Lime\\feature_stats.py)",
     "output_type": "error",
     "traceback": [
      "\u001b[1;31m---------------------------------------------------------------------------\u001b[0m",
      "\u001b[1;31mImportError\u001b[0m                               Traceback (most recent call last)",
      "Cell \u001b[1;32mIn[1], line 7\u001b[0m\n\u001b[0;32m      4\u001b[0m \u001b[38;5;28;01mfrom\u001b[39;00m \u001b[38;5;21;01msklearn\u001b[39;00m\u001b[38;5;21;01m.\u001b[39;00m\u001b[38;5;21;01mmodel_selection\u001b[39;00m \u001b[38;5;28;01mimport\u001b[39;00m train_test_split\n\u001b[0;32m      6\u001b[0m \u001b[38;5;28;01mfrom\u001b[39;00m \u001b[38;5;21;01mcontrol_data\u001b[39;00m  \u001b[38;5;28;01mimport\u001b[39;00m Control_Data\n\u001b[1;32m----> 7\u001b[0m \u001b[38;5;28;01mfrom\u001b[39;00m \u001b[38;5;21;01mfeature_stats\u001b[39;00m \u001b[38;5;28;01mimport\u001b[39;00m Feature_Statistics, Class_Feature_Statistics\n",
      "\u001b[1;31mImportError\u001b[0m: cannot import name 'Class_Feature_Statistics' from 'feature_stats' (C:\\Users\\deneb\\Ulster\\Machine_Learning\\MSc_Project\\Lime\\feature_stats.py)"
     ]
    }
   ],
   "source": [
    "# Import Libraries\n",
    "import numpy as np\n",
    "#import pandas as pd\n",
    "from sklearn.model_selection import train_test_split\n",
    "\n",
    "from control_data  import Control_Data\n",
    "from feature_stats import Feature_Statistics, Class_Feature_Statistics\n"
   ]
  },
  {
   "cell_type": "code",
   "execution_count": null,
   "id": "c4cfb715-40d3-4f4d-81ac-cc684d7da848",
   "metadata": {},
   "outputs": [],
   "source": [
    "active_features  = [\"Active_1\", \"Active_2\", \"Active_3\", \"Active_4\", \"Active_5\"]\n",
    "passive_features = [\"Passive_1\", \"Passive_2\", \"Passive_3\", \"Passive_4\", \"Passive_5\"]\n",
    "all_features     = active_features + passive_features"
   ]
  },
  {
   "cell_type": "code",
   "execution_count": null,
   "id": "1716f0ab-1734-488e-8f7f-58916a9ede7a",
   "metadata": {},
   "outputs": [],
   "source": [
    "data = Control_Data(Y_std_dev=0.1,\n",
    "                    Y_Func='Classification',\n",
    "                    Active_X=active_features,\n",
    "                    Passive_X=passive_features,\n",
    "                    Num_Samples=500,\n",
    "                    feature_bounds=[[0,2],[1,2],[2,3],[0,5],[8,10],\\\n",
    "                                    [0,2],[0,4],[0,5],[0,8],[0,10]])\n"
   ]
  },
  {
   "cell_type": "code",
   "execution_count": null,
   "id": "84a8e7b0-0ca2-4975-942d-88afcf093e3a",
   "metadata": {},
   "outputs": [],
   "source": [
    "# Splitting X & y into training and testing set\n",
    "X = data.Get_Features()\n",
    "y = data.Get_Outcomes()\n",
    "\n",
    "X_train, X_test, y_train, y_test = train_test_split(X, y, train_size=0.80)\n",
    "\n",
    "print('Train Test Shapes:', X_train.shape, X_test.shape)\n"
   ]
  },
  {
   "cell_type": "code",
   "execution_count": null,
   "id": "fe0f341c-5bbc-4b56-8a7b-9383c4920ee5",
   "metadata": {},
   "outputs": [],
   "source": [
    "#Train and Test a Random Forest with the data\n",
    "from sklearn.ensemble import RandomForestClassifier\n",
    "RF_Model = RandomForestClassifier(n_estimators=100, criterion='log_loss')\n",
    "RF_Model.fit(X_train, y_train)"
   ]
  },
  {
   "cell_type": "code",
   "execution_count": null,
   "id": "b1a26ba4-502a-45a1-9651-feefd9fb5117",
   "metadata": {},
   "outputs": [],
   "source": [
    "#Train and Test a Linear Classifier with the data\n",
    "from sklearn.linear_model import LogisticRegression\n",
    "\n",
    "LR_Model = LogisticRegression()\n",
    "LR_Model.fit(X_train, y_train)"
   ]
  },
  {
   "cell_type": "code",
   "execution_count": null,
   "id": "08dce04f-225c-4edf-b1dc-bdc29f4bdcf0",
   "metadata": {},
   "outputs": [],
   "source": [
    "#Train and Test a Dummy Classifier with the data\n",
    "#from sklearn.dummy import DummyClassifier \n",
    "#Dumb_Model = DummyClassifier (strategy = 'uniform')\n",
    "#Dumb_Model.fit(X_train, y_train)"
   ]
  },
  {
   "cell_type": "code",
   "execution_count": null,
   "id": "dfa2b5b3-1639-4b0f-b95b-7bf2335cf770",
   "metadata": {},
   "outputs": [],
   "source": [
    "print('Model Score Random Forest', RF_Model.score(X_test, y_test))\n",
    "#print('Model Score Linear Reg.  ', LR_Model.score(X_test, y_test))\n",
    "#print('Model Score Dummy        ', Dumb_Model.score(X_test, y_test))"
   ]
  },
  {
   "cell_type": "code",
   "execution_count": null,
   "id": "f060652f-2bee-4f7d-9060-bd512ec7b5a4",
   "metadata": {},
   "outputs": [],
   "source": [
    "print('RF Feature Importances:  ', RF_Model.feature_importances_)\n",
    "#print('LR Feature Coefficients: ', LR_Model.coef_)\n",
    "#print('LR Feature No.Features:  ', LR_Model.n_features_in_)\n",
    "#print('Dumb Output Classes:     ', Dumb_Model.classes_)\n",
    "#print('Dumb Class Prior:        ', Dumb_Model.class_prior_)"
   ]
  },
  {
   "cell_type": "code",
   "execution_count": null,
   "id": "5ab3659b-870e-472d-ae30-fff476c55325",
   "metadata": {},
   "outputs": [],
   "source": [
    "# LIME Explanation for Training Data\n",
    "from lime import lime_tabular\n",
    "\n",
    "RF_LIME = lime_tabular.LimeTabularExplainer(training_data=X_train,\n",
    "                                            mode=\"classification\",\n",
    "                                            #training_labels=None,\n",
    "                                            feature_names=data.Get_Feature_Names(),\n",
    "                                            #categorical_features=None,\n",
    "                                            #categorical_names=None,\n",
    "                                            #kernel_width=None,\n",
    "                                            #kernel=None,\n",
    "                                            verbose=False,\n",
    "                                            class_names=data.Get_Class_Names(),\n",
    "                                            #feature_selection='auto',\n",
    "                                            discretize_continuous=False,\n",
    "                                            #discretizer='quartile',\n",
    "                                            sample_around_instance=True)\n",
    "                                            #random_state=None,\n",
    "                                            #training_data_stats=None)\n"
   ]
  },
  {
   "cell_type": "code",
   "execution_count": null,
   "id": "4b8cbdb5-0d13-43ef-b7e2-78dc9b8a88d6",
   "metadata": {},
   "outputs": [],
   "source": [
    "# Generate explantion data for Random Foreall_featuresst\n",
    "\n",
    "RF_Stats = Feature_Statistics(all_features, classes=['Zero', 'One'])\n",
    "\n",
    "for test_instance in range(X_test.shape[0]):\n",
    "\n",
    "    data_row  = X_test[test_instance,:]\n",
    "    \n",
    "    RF_explain_inst = RF_LIME.explain_instance(data_row=data_row,\n",
    "                                               predict_fn=RF_Model.predict_proba,\n",
    "                                               #labels=None,\n",
    "                                               #top_labels=None,\n",
    "                                               #num_features=10,\n",
    "                                               num_samples=100,\n",
    "                                               #distance_metric='euclidean',\n",
    "                                               #model_regressor=None,\n",
    "                                               sampling_method='gaussian')\n",
    "    \n",
    "    data_row  = data_row\n",
    "    \n",
    "    y_predict = RF_Model.predict_proba(data_row.reshape(1, -1))\n",
    "\n",
    "    print('INSTANCE: ', test_instance)\n",
    "    \n",
    "    RF_Stats.Add_Sample(sample     = RF_explain_inst.as_list(),\n",
    "                        outcome    = y_test[test_instance],\n",
    "                        prediction = y_predict)\n",
    "    \n",
    "    last_instance = test_instance"
   ]
  },
  {
   "cell_type": "code",
   "execution_count": null,
   "id": "f018704c-e76a-4142-b68f-fbf0439e8059",
   "metadata": {},
   "outputs": [],
   "source": [
    "print(RF_explain_inst.as_list())\n",
    "\n",
    "print(y_predict)"
   ]
  },
  {
   "cell_type": "code",
   "execution_count": null,
   "id": "c295a809-ecf9-439e-bc2b-c9ac14332c4c",
   "metadata": {},
   "outputs": [],
   "source": [
    "RF_explain_inst.show_in_notebook()"
   ]
  },
  {
   "cell_type": "code",
   "execution_count": null,
   "id": "80499cdf-864f-4b36-bfd9-4795b15cbe81",
   "metadata": {},
   "outputs": [],
   "source": [
    "RF_Stats.Feature_Counts(max_features=8, scaled=True, threshold=0.075)"
   ]
  },
  {
   "cell_type": "code",
   "execution_count": null,
   "id": "13f3d852-7889-42a1-b0a0-1a2f71329861",
   "metadata": {},
   "outputs": [],
   "source": [
    "RF_Stats.Frequency_Plot()"
   ]
  },
  {
   "cell_type": "code",
   "execution_count": null,
   "id": "60416838-2c4c-453d-81a7-2736f965f7d2",
   "metadata": {},
   "outputs": [],
   "source": [
    "RF_Stats.Frequency_Plot(top_features=False)"
   ]
  },
  {
   "cell_type": "code",
   "execution_count": null,
   "id": "d900bac5-1fab-49e7-8c13-1ddc579c41dd",
   "metadata": {},
   "outputs": [],
   "source": [
    "RF_Stats.Box_Plot()"
   ]
  },
  {
   "cell_type": "code",
   "execution_count": null,
   "id": "0274f8d9-e6f7-4ac2-ac07-19cbfef34cc2",
   "metadata": {},
   "outputs": [],
   "source": [
    "RF_Stats.Box_Plot(top_features=False)"
   ]
  },
  {
   "cell_type": "code",
   "execution_count": null,
   "id": "51bcd0f2-e474-4697-a8a7-0bae2f458abb",
   "metadata": {},
   "outputs": [],
   "source": [
    "RF_Stats.Violin_Plot()"
   ]
  },
  {
   "cell_type": "code",
   "execution_count": null,
   "id": "5d31c039-fd1a-412c-b4a2-ec8fbf4f1020",
   "metadata": {},
   "outputs": [],
   "source": [
    "RF_Stats.Violin_Plot(top_features=False)"
   ]
  },
  {
   "cell_type": "code",
   "execution_count": null,
   "id": "b7be93c4-f76b-4cb0-9a47-efd4c626be93",
   "metadata": {},
   "outputs": [],
   "source": [
    "RF_Stats.View_Explanation(instance=last_instance)"
   ]
  },
  {
   "cell_type": "code",
   "execution_count": null,
   "id": "7575e8a1-cdb9-477f-a5e4-63ffcfa81ff7",
   "metadata": {},
   "outputs": [],
   "source": [
    "RF_Stats.View_Explanation(instance=last_instance, max_features=6)"
   ]
  },
  {
   "cell_type": "code",
   "execution_count": null,
   "id": "a33b72dc-09f6-4b6c-aedc-867ea694212e",
   "metadata": {},
   "outputs": [],
   "source": [
    "Stats = Classes_Container(RF_Stats)"
   ]
  },
  {
   "cell_type": "code",
   "execution_count": null,
   "id": "cec02312-8af2-4789-a007-aa4005601ecb",
   "metadata": {},
   "outputs": [],
   "source": []
  },
  {
   "cell_type": "code",
   "execution_count": null,
   "id": "62e3fbd2-beb0-42ad-89e8-30197fc9b173",
   "metadata": {},
   "outputs": [],
   "source": []
  },
  {
   "cell_type": "code",
   "execution_count": null,
   "id": "d5cb214a-e5ac-4d24-b3a4-3949c0b805a3",
   "metadata": {},
   "outputs": [],
   "source": []
  },
  {
   "cell_type": "code",
   "execution_count": null,
   "id": "8ed59b55-efdf-450f-84b3-3bb3cc8085ed",
   "metadata": {},
   "outputs": [],
   "source": []
  },
  {
   "cell_type": "code",
   "execution_count": null,
   "id": "73e08ec6-ab68-4194-862f-d2dc137a1d1a",
   "metadata": {},
   "outputs": [],
   "source": []
  },
  {
   "cell_type": "code",
   "execution_count": null,
   "id": "517fa4bb-ee37-4349-806e-785c1fb9bc92",
   "metadata": {},
   "outputs": [],
   "source": []
  }
 ],
 "metadata": {
  "kernelspec": {
   "display_name": "Python 3.11 (XPython)",
   "language": "python",
   "name": "xpython"
  },
  "language_info": {
   "file_extension": ".py",
   "mimetype": "text/x-python",
   "name": "python",
   "version": "3.11.0"
  }
 },
 "nbformat": 4,
 "nbformat_minor": 5
}
