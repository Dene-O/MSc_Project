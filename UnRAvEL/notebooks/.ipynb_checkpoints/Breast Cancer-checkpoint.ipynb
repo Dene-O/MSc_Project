{
 "cells": [
  {
   "cell_type": "code",
   "execution_count": 1,
   "metadata": {},
   "outputs": [
    {
     "name": "stdout",
     "output_type": "stream",
     "text": [
      "R2 score for the model on test set = 0.9298245614035088\n",
      "Prediction model type = classification\n",
      "Number of categorical featues = 0\n"
     ]
    }
   ],
   "source": [
    "#Adding path to parent directory\n",
    "import numpy as np\n",
    "import os\n",
    "import sys\n",
    "sys.path.insert(0, os.path.dirname(os.getcwd()))\n",
    "\n",
    "#Loading black box utilities\n",
    "from evaluation.blackbox_util import BlackBoxSimulator\n",
    "dataset_utilities = BlackBoxSimulator().load_breast_cancer_utilities()\n",
    "[X_train, y_train, X_test, y_test, features, model, mode, categorical_features, sample_idx] = dataset_utilities.values()\n",
    "\n",
    "assert X_train.shape[0] == y_train.shape[0]\n",
    "assert X_test.shape[0] == y_test.shape[0]\n",
    "\n",
    "print(f\"Prediction model type = {mode}\")\n",
    "print(f\"Number of categorical featues = {len(categorical_features)}\")"
   ]
  },
  {
   "cell_type": "code",
   "execution_count": 2,
   "metadata": {},
   "outputs": [
    {
     "ename": "ModuleNotFoundError",
     "evalue": "No module named 'GPy'",
     "output_type": "error",
     "traceback": [
      "\u001b[1;31m---------------------------------------------------------------------------\u001b[0m",
      "\u001b[1;31mModuleNotFoundError\u001b[0m                       Traceback (most recent call last)",
      "Cell \u001b[1;32mIn[2], line 2\u001b[0m\n\u001b[0;32m      1\u001b[0m \u001b[38;5;66;03m#Default settings\u001b[39;00m\n\u001b[1;32m----> 2\u001b[0m \u001b[38;5;28;01mfrom\u001b[39;00m \u001b[38;5;21;01munravel\u001b[39;00m\u001b[38;5;21;01m.\u001b[39;00m\u001b[38;5;21;01mtabular\u001b[39;00m \u001b[38;5;28;01mimport\u001b[39;00m UnRAVELTabularExplainer\n\u001b[0;32m      4\u001b[0m \u001b[38;5;66;03m#Sample to be explained\u001b[39;00m\n\u001b[0;32m      5\u001b[0m sample_idx \u001b[38;5;241m=\u001b[39m sample_idx[\u001b[38;5;241m0\u001b[39m]\n",
      "File \u001b[1;32m~\\Ulster\\Machine_Learning\\MSc_Project\\UnRAvEL\\unravel\\tabular.py:2\u001b[0m\n\u001b[0;32m      1\u001b[0m \u001b[38;5;28;01mimport\u001b[39;00m \u001b[38;5;21;01mmath\u001b[39;00m\n\u001b[1;32m----> 2\u001b[0m \u001b[38;5;28;01mimport\u001b[39;00m \u001b[38;5;21;01mGPy\u001b[39;00m\n\u001b[0;32m      3\u001b[0m \u001b[38;5;28;01mimport\u001b[39;00m \u001b[38;5;21;01mGPyOpt\u001b[39;00m\n\u001b[0;32m      4\u001b[0m \u001b[38;5;28;01mimport\u001b[39;00m \u001b[38;5;21;01mnumpy\u001b[39;00m \u001b[38;5;28;01mas\u001b[39;00m \u001b[38;5;21;01mnp\u001b[39;00m\n",
      "\u001b[1;31mModuleNotFoundError\u001b[0m: No module named 'GPy'"
     ]
    }
   ],
   "source": [
    "#Default settings\n",
    "from unravel.tabular import UnRAVELTabularExplainer\n",
    "\n",
    "#Sample to be explained\n",
    "sample_idx = sample_idx[0]\n",
    "\n",
    "#Generating initial starting point\n",
    "X_init = np.array([X_test[sample_idx]])\n",
    "\n",
    "#Initializing the explainer object\n",
    "f_e = UnRAVELTabularExplainer(model, X_train, categorical_features = categorical_features, mode = mode)\n",
    "\n",
    "explanation = f_e.explain(X_init = X_init, feature_names = features, alpha = \"FUR\", max_iter = 50, importance_method=\"ARD\")"
   ]
  },
  {
   "cell_type": "code",
   "execution_count": 3,
   "metadata": {},
   "outputs": [
    {
     "data": {
      "text/plain": [
       "<StemContainer object of 3 artists>"
      ]
     },
     "execution_count": 3,
     "metadata": {},
     "output_type": "execute_result"
    },
    {
     "data": {
      "image/png": "[encoded data removed]",
      "text/plain": [
       "<Figure size 432x288 with 1 Axes>"
      ]
     },
     "metadata": {
      "needs_background": "light"
     },
     "output_type": "display_data"
    }
   ],
   "source": [
    "import matplotlib.pyplot as plt\n",
    "plt.stem(explanation)"
   ]
  }
 ],
 "metadata": {
  "interpreter": {
   "hash": "c7118b647d8aee2f8c09effbe5401c08cfa1b0b54a052ea455fdde2a36cad5c3"
  },
  "kernelspec": {
   "display_name": "Python 3 (ipykernel)",
   "language": "python",
   "name": "python3"
  },
  "language_info": {
   "codemirror_mode": {
    "name": "ipython",
    "version": 3
   },
   "file_extension": ".py",
   "mimetype": "text/x-python",
   "name": "python",
   "nbconvert_exporter": "python",
   "pygments_lexer": "ipython3",
   "version": "3.11.0"
  }
 },
 "nbformat": 4,
 "nbformat_minor": 4
}
