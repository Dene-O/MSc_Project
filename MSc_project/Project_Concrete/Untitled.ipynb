{
 "cells": [
  {
   "cell_type": "code",
   "execution_count": 12,
   "id": "b68934c9-343a-47e5-ae76-14f3c2c8aeb1",
   "metadata": {
    "tags": []
   },
   "outputs": [],
   "source": [
    "import numpy as np\n"
   ]
  },
  {
   "cell_type": "code",
   "execution_count": 25,
   "id": "6dd88977-9d64-4ebb-9a97-b7e6dd638cf4",
   "metadata": {
    "tags": []
   },
   "outputs": [],
   "source": [
    "#create array of 50 random integers between 0 and 10\n",
    "var1 = np.random.randint(0, 10, 3)\n",
    "\n",
    "#create a positively correlated array with some random noise\n",
    "var2 = var1 + np.random.normal(0, 10, 3)"
   ]
  },
  {
   "cell_type": "code",
   "execution_count": 33,
   "id": "18cbf60a-5010-4517-95ad-8fe72ef95452",
   "metadata": {
    "tags": []
   },
   "outputs": [],
   "source": [
    "#create array of 50 random integers between 0 and 10\n",
    "var1 = [4,8,2]\n",
    "\n",
    "#create a positively correlated array with some random noise\n",
    "var2 = [18,24,-2]"
   ]
  },
  {
   "cell_type": "code",
   "execution_count": 34,
   "id": "a196a56c-f819-49a1-81cb-918033b475f2",
   "metadata": {
    "tags": []
   },
   "outputs": [
    {
     "name": "stdout",
     "output_type": "stream",
     "text": [
      "[[1.         0.88160953]\n",
      " [0.88160953 1.        ]]\n"
     ]
    }
   ],
   "source": [
    "print(np.corrcoef(var1, var2))"
   ]
  },
  {
   "cell_type": "code",
   "execution_count": 35,
   "id": "d3cc614e-be5a-4212-b95a-a2d5b26900c4",
   "metadata": {
    "tags": []
   },
   "outputs": [],
   "source": [
    "def correl(x1, x2):\n",
    "    \n",
    "    mean_x1 = np.mean(x1)\n",
    "    mean_x2 = np.mean(x2)\n",
    "    \n",
    "    print(x1, x2)\n",
    "    \n",
    "    x1_a = x1 - mean_x1\n",
    "    x2_a = x2 - mean_x2\n",
    "\n",
    "    print(x1_a, x2_a)\n",
    "    print(x1_a * x2_a)\n",
    "\n",
    "    numerator = np.sum(x1_a * x2_a)\n",
    "    print('numerator',numerator)\n",
    "    \n",
    "    denominator = np.sqrt(np.sum(x1_a * x1_a)) * np.sqrt(np.sum(x2_a * x2_a))\n",
    "    print('denominator',denominator)\n",
    "    \n",
    "    return numerator / denominator\n",
    "    "
   ]
  },
  {
   "cell_type": "code",
   "execution_count": 36,
   "id": "15584623-8af3-4e88-8973-45eeffffbf8e",
   "metadata": {
    "tags": []
   },
   "outputs": [
    {
     "name": "stdout",
     "output_type": "stream",
     "text": [
      "[4, 8, 2] [18, 24, -2]\n",
      "[-0.66666667  3.33333333 -2.66666667] [  4.66666667  10.66666667 -15.33333333]\n",
      "[-3.11111111 35.55555556 40.88888889]\n",
      "numerator 73.33333333333333\n",
      "denominator 83.18119445590519\n",
      "0.8816095250015643\n"
     ]
    }
   ],
   "source": [
    "c = correl (var1, var2)\n",
    "\n",
    "print(c)"
   ]
  },
  {
   "cell_type": "code",
   "execution_count": null,
   "id": "3e43ffd7-ac02-4f3d-95fa-38a055f021ad",
   "metadata": {},
   "outputs": [],
   "source": []
  }
 ],
 "metadata": {
  "kernelspec": {
   "display_name": "Python 3 (ipykernel)",
   "language": "python",
   "name": "python3"
  },
  "language_info": {
   "codemirror_mode": {
    "name": "ipython",
    "version": 3
   },
   "file_extension": ".py",
   "mimetype": "text/x-python",
   "name": "python",
   "nbconvert_exporter": "python",
   "pygments_lexer": "ipython3",
   "version": "3.11.3"
  }
 },
 "nbformat": 4,
 "nbformat_minor": 5
}
