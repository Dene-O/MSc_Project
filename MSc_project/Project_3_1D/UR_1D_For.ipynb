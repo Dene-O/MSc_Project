{
 "cells": [
  {
   "cell_type": "code",
   "execution_count": 1,
   "id": "33815253-dca2-4013-b9e5-e64aacdeda2e",
   "metadata": {},
   "outputs": [],
   "source": [
    "# Import Libraries\n",
    "import numpy as np\n",
    "\n",
    "from project_utils.bb_model         import BB_Model\n",
    "from project_utils.feature_stats    import Feature_Statistics\n",
    "from project_utils.feature_stats    import Regression_Container\n",
    "from project_utils.acq_data_capture import Acq_Data_1D\n",
    "from project_utils.surroagte_gp     import Surrogate_GP\n",
    "\n",
    "\n",
    "\n",
    "Num_Points = 1\n"
   ]
  },
  {
   "cell_type": "code",
   "execution_count": 2,
   "id": "f29a7de3-601a-44ed-924d-f6d83c6d8004",
   "metadata": {},
   "outputs": [
    {
     "data": {
      "image/png": "[encoded data removed]",
      "text/plain": [
       "<Figure size 640x480 with 1 Axes>"
      ]
     },
     "metadata": {},
     "output_type": "display_data"
    }
   ],
   "source": [
    "# Load Forrester model\n",
    "\n",
    "Forrester_Data = BB_Model('Forrester')\n",
    "\n",
    "#Forrester_Data.df().head()"
   ]
  },
  {
   "cell_type": "code",
   "execution_count": null,
   "id": "ea385186-88ac-4037-8d21-cf7f3f0cf5a2",
   "metadata": {},
   "outputs": [],
   "source": [
    "Forrester_Data.MPL()"
   ]
  },
  {
   "cell_type": "code",
   "execution_count": null,
   "id": "18a03da2-e036-4695-b08b-cf31394ef7b6",
   "metadata": {},
   "outputs": [],
   "source": [
    "Forrester_Data.Random_Forest()"
   ]
  },
  {
   "cell_type": "code",
   "execution_count": null,
   "id": "398368f4-ea2f-4999-acd3-5cf7b7b43db2",
   "metadata": {},
   "outputs": [],
   "source": [
    "Forrester_Data.GP()"
   ]
  },
  {
   "cell_type": "code",
   "execution_count": null,
   "id": "a6f5d586-fb1b-42f6-8586-be6270da7c34",
   "metadata": {},
   "outputs": [],
   "source": [
    "print(Forrester_Data.get_features())"
   ]
  },
  {
   "cell_type": "code",
   "execution_count": null,
   "id": "c1975436-74b2-4311-b48d-193f2b21c159",
   "metadata": {},
   "outputs": [],
   "source": [
    "#Default settings\n",
    "from unravel_2.ur_model import UR_Model\n",
    "\n",
    "X_train, X_test, y_train, y_test = Forrester_Data.get_TT_data()\n",
    "\n",
    "#Initializing the explainer object\n",
    "URM_Exp = UR_Model(bbox_model           = Forrester_Data.get_GP(),\n",
    "                   train_data           = X_train,\n",
    "                   feature_names        = Forrester_Data.get_features(),\n",
    "                   categorical_features = Forrester_Data.get_catagorical(),\n",
    "                   mode                 = Forrester_Data.get_mode(),\n",
    "                   sampling_optimize    = \"opt\")\n",
    "\n",
    "#sur_GP = Surrogate_GP()\n"
   ]
  },
  {
   "cell_type": "code",
   "execution_count": null,
   "id": "81327488-ab1c-456a-97ed-afb4783c433d",
   "metadata": {},
   "outputs": [],
   "source": [
    "mean = np.mean(X_train, axis=0)\n",
    "std = np.std(X_train, axis=0)\n",
    "print('Mean 0:', mean)\n",
    "print('Std 0: ', std)\n"
   ]
  },
  {
   "cell_type": "code",
   "execution_count": null,
   "id": "3d88776e-ffe0-4186-a30e-e2c3377c9709",
   "metadata": {},
   "outputs": [],
   "source": [
    "# Generate explantion data for Random Forest\n",
    "\n",
    "Forrester_Stats = Feature_Statistics(feature_names = Forrester_Data.get_features(), mode = Forrester_Data.get_mode())\n",
    "\n",
    "if Num_Points == 0: Num_Points = X_test.shape[0]\n",
    "\n",
    "for test_instance in range(Num_Points):\n",
    "\n",
    "    print('INSTANCE: ', test_instance)\n",
    "       \n",
    "#    data_row  = np.array([X_test[test_instance]])\n",
    "    data_row  = np.array([0.4])\n",
    "    print('data row ',data_row)\n",
    "    \n",
    "    #scores, acq_data = URM_Exp.explain(X_init            = data_row.reshape(1, -1),\n",
    "    scores = URM_Exp.explain(X_init      = data_row.reshape(-1, 1),\n",
    "                             Dimension   = 'One_For',\n",
    "                             kernel_type = \"Matern\",\n",
    "                             max_iter    = 20,\n",
    "                             alpha       = \"FUR_W\",\n",
    "                             #jitter=5,\n",
    "                             interval    = 1,\n",
    "                             normalize   = False)\n",
    "       \n",
    "    f_predict = Forrester_Data.get_Random_Forest().predict(data_row.reshape(1, -1))\n",
    "\n",
    "    e_predict = URM_Exp.exp_predict(data_row.reshape(-1, 1))\n",
    "    e_predict = np.array(e_predict).ravel()\n",
    "    \n",
    "    acq_data = URM_Exp.get_acq_data()\n",
    "    \n",
    "#    X, y = URM_Exp.get_surrogate_data()\n",
    "\n",
    "#    e_predict = sur_GP.predict(X, y)\n",
    "#    e_predict = sur_GP.predict(URM_Exp.get_surrogate_data())\n",
    "\n",
    "    print(f_predict, e_predict)\n",
    "    \n",
    "    Forrester_Stats.Add_Sample(sample_scores = scores,\n",
    "                               outcome       = y_test[test_instance],\n",
    "                               X_row         = data_row,\n",
    "                               f_prediction  = f_predict,\n",
    "                               e_prediction  = e_predict.ravel(),\n",
    "                               feopt         = acq_data.get_fe_x0(),\n",
    "                               model         = URM_Exp.get_exp_model())\n"
   ]
  },
  {
   "cell_type": "code",
   "execution_count": null,
   "id": "4e60ec92-4b90-4dce-9408-e3f771da3b8b",
   "metadata": {},
   "outputs": [],
   "source": [
    "import matplotlib.pyplot as plt\n"
   ]
  },
  {
   "cell_type": "code",
   "execution_count": null,
   "id": "850c1211-b3ba-4299-a091-e190ee07b43e",
   "metadata": {},
   "outputs": [],
   "source": [
    "print(f_predict)\n",
    "print(e_predict)\n"
   ]
  },
  {
   "cell_type": "code",
   "execution_count": null,
   "id": "f63f1ab3-faac-43a2-a415-8ecde903060e",
   "metadata": {},
   "outputs": [],
   "source": [
    "Forrester_Stats.Fidelity()"
   ]
  },
  {
   "cell_type": "code",
   "execution_count": null,
   "id": "c2580756-1f4e-497d-bab3-0e65979a448d",
   "metadata": {},
   "outputs": [],
   "source": [
    "#Forrester_Stats.Jaccard_Values()"
   ]
  },
  {
   "cell_type": "code",
   "execution_count": null,
   "id": "aee227c0-3941-4fe0-a65b-3510d07f995d",
   "metadata": {},
   "outputs": [],
   "source": [
    "Forrester_Stats.Reg_Fidelity_Graph()"
   ]
  },
  {
   "cell_type": "code",
   "execution_count": null,
   "id": "835eb5c2-72bd-4d80-adff-fdae7343164e",
   "metadata": {},
   "outputs": [],
   "source": [
    "from sklearn.gaussian_process import GaussianProcessRegressor\n",
    "from sklearn.gaussian_process.kernels import Matern\n",
    "from sklearn.gaussian_process.kernels import RBF\n",
    "\n",
    "#X, y = URM_Exp.get_surrogate_data()\n",
    "#kernel = Matern()\n",
    "\n",
    "#GP = GaussianProcessRegressor(kernel=kernel, n_restarts_optimizer = 10, optimizer='fmin_l_bfgs_b', normalize_y = False, copy_X_train=True)\n",
    "#GP.fit(X, y)\n",
    "        \n",
    "#print(y[0])\n",
    "#fe = GP.predict(X[0].reshape(1,-1))\n",
    "#print(fe)\n",
    "#ey = URM_Exp.gpmodel_predict(X[0].reshape(1,-1))\n",
    "#print(ey)\n"
   ]
  },
  {
   "cell_type": "code",
   "execution_count": null,
   "id": "157868f3-949f-417b-a6a7-898b0746512d",
   "metadata": {},
   "outputs": [],
   "source": [
    "#acq_data.Create_BB_plot()"
   ]
  },
  {
   "cell_type": "code",
   "execution_count": null,
   "id": "b60666ae-a471-4690-957e-19931e177dd1",
   "metadata": {},
   "outputs": [],
   "source": []
  },
  {
   "cell_type": "code",
   "execution_count": null,
   "id": "6782e250-2920-4783-a7c8-726d6e9e84c2",
   "metadata": {},
   "outputs": [],
   "source": [
    "acq_data.plot_point(0)"
   ]
  },
  {
   "cell_type": "code",
   "execution_count": null,
   "id": "98c03624-b0cf-423b-b985-2f07289cf506",
   "metadata": {},
   "outputs": [],
   "source": [
    "acq_data.plot_t1_t2(0)"
   ]
  },
  {
   "cell_type": "code",
   "execution_count": null,
   "id": "5dfaa2cd-c5c5-4db5-a882-331721f6e1bc",
   "metadata": {},
   "outputs": [],
   "source": [
    "acq_data.plot_point(1)"
   ]
  },
  {
   "cell_type": "code",
   "execution_count": null,
   "id": "20a020da-0bdd-4172-8d48-81b507f9ec85",
   "metadata": {},
   "outputs": [],
   "source": [
    "acq_data.plot_t1_t2(1)"
   ]
  },
  {
   "cell_type": "code",
   "execution_count": null,
   "id": "3b4385d3-f519-41b7-aaaa-90a2889534ef",
   "metadata": {},
   "outputs": [],
   "source": [
    "acq_data.plot_point(2)"
   ]
  },
  {
   "cell_type": "code",
   "execution_count": null,
   "id": "e39acda6-983d-4228-8d67-79e8cf30b48b",
   "metadata": {},
   "outputs": [],
   "source": [
    "acq_data.plot_point(3)"
   ]
  },
  {
   "cell_type": "code",
   "execution_count": null,
   "id": "8fd032bb-abfb-4447-826b-356d5b49320b",
   "metadata": {},
   "outputs": [],
   "source": [
    "acq_data.plot_point(4)"
   ]
  },
  {
   "cell_type": "code",
   "execution_count": null,
   "id": "a832f388-bdc7-43b1-8658-efa68d1e973d",
   "metadata": {},
   "outputs": [],
   "source": [
    "acq_data.plot_t1_t2(4)"
   ]
  },
  {
   "cell_type": "code",
   "execution_count": null,
   "id": "367b48cf-496f-47d7-8d9c-9430d46691ae",
   "metadata": {},
   "outputs": [],
   "source": [
    "acq_data.plot_point(5)"
   ]
  },
  {
   "cell_type": "code",
   "execution_count": null,
   "id": "864e20e0-ba5e-4a24-be8d-e910c41fee6c",
   "metadata": {},
   "outputs": [],
   "source": [
    "acq_data.plot_point(6)"
   ]
  },
  {
   "cell_type": "code",
   "execution_count": null,
   "id": "ff691069-96e8-4a25-a414-f4a2d8909ba7",
   "metadata": {},
   "outputs": [],
   "source": [
    "acq_data.plot_t1_t2(6)"
   ]
  },
  {
   "cell_type": "code",
   "execution_count": null,
   "id": "3a8f3072-fe6b-4a73-ba65-0de1977582e1",
   "metadata": {},
   "outputs": [],
   "source": [
    "acq_data.plot_point(7)"
   ]
  },
  {
   "cell_type": "code",
   "execution_count": null,
   "id": "e9d3a4ee-2d31-4ff0-8c8c-535cfde889f0",
   "metadata": {},
   "outputs": [],
   "source": [
    "acq_data.plot_point(8)"
   ]
  },
  {
   "cell_type": "code",
   "execution_count": null,
   "id": "b4ca72da-7dff-409e-9325-745e344c0299",
   "metadata": {},
   "outputs": [],
   "source": [
    "acq_data.plot_point(9)"
   ]
  },
  {
   "cell_type": "code",
   "execution_count": null,
   "id": "9afb003b-65b0-4651-9a2b-2f18f3f304c1",
   "metadata": {},
   "outputs": [],
   "source": [
    "acq_data.plot_point(10)"
   ]
  },
  {
   "cell_type": "code",
   "execution_count": null,
   "id": "fc734371-80a7-444f-902e-fef59e300903",
   "metadata": {},
   "outputs": [],
   "source": [
    "acq_data.plot_point(11)"
   ]
  },
  {
   "cell_type": "code",
   "execution_count": null,
   "id": "a55d4422-450e-4a93-9ac2-73e6f305e0e3",
   "metadata": {},
   "outputs": [],
   "source": [
    "acq_data.plot_point(12)"
   ]
  },
  {
   "cell_type": "code",
   "execution_count": null,
   "id": "308b8ab6-339f-4971-8e2c-58a39104ef25",
   "metadata": {},
   "outputs": [],
   "source": [
    "acq_data.plot_point(13)"
   ]
  },
  {
   "cell_type": "code",
   "execution_count": null,
   "id": "c2188be5-dd8c-49ee-8ae5-7feef3919f05",
   "metadata": {},
   "outputs": [],
   "source": [
    "acq_data.plot_point(14)"
   ]
  },
  {
   "cell_type": "code",
   "execution_count": null,
   "id": "d5e1b372-8b1f-468c-8809-82b5bb30dfaf",
   "metadata": {},
   "outputs": [],
   "source": [
    "acq_data.plot_point(15)"
   ]
  },
  {
   "cell_type": "code",
   "execution_count": null,
   "id": "6f695107-8ed7-49c4-9f05-57e34fdcf836",
   "metadata": {},
   "outputs": [],
   "source": [
    "acq_data.plot_point(16)"
   ]
  },
  {
   "cell_type": "code",
   "execution_count": null,
   "id": "2726b18d-2e99-42b9-adf8-a8135d606619",
   "metadata": {},
   "outputs": [],
   "source": [
    "acq_data.plot_point(17)"
   ]
  },
  {
   "cell_type": "code",
   "execution_count": null,
   "id": "fb5a972f-ae5f-4359-90d5-d1867ba7ebb9",
   "metadata": {},
   "outputs": [],
   "source": [
    "acq_data.plot_point(18)"
   ]
  },
  {
   "cell_type": "code",
   "execution_count": null,
   "id": "200d95bd-475d-49bf-a6eb-fbd0103a67c2",
   "metadata": {},
   "outputs": [],
   "source": [
    "acq_data.plot_point(19)"
   ]
  },
  {
   "cell_type": "code",
   "execution_count": null,
   "id": "99be2580-0617-4f98-b001-1579bcdc12d1",
   "metadata": {},
   "outputs": [],
   "source": [
    "acq_data.plot_all()"
   ]
  },
  {
   "cell_type": "code",
   "execution_count": null,
   "id": "f1962695-2cd5-4f2c-90bf-818abe266dbd",
   "metadata": {},
   "outputs": [],
   "source": []
  }
 ],
 "metadata": {
  "kernelspec": {
   "display_name": "Python 3.11 (XPython)",
   "language": "python",
   "name": "xpython"
  },
  "language_info": {
   "file_extension": ".py",
   "mimetype": "text/x-python",
   "name": "python",
   "version": "3.11.0"
  }
 },
 "nbformat": 4,
 "nbformat_minor": 5
}
