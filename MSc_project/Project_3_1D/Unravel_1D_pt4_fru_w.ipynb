{
 "cells": [
  {
   "cell_type": "code",
   "execution_count": 1,
   "id": "33815253-dca2-4013-b9e5-e64aacdeda2e",
   "metadata": {},
   "outputs": [],
   "source": [
    "# Import Libraries\n",
    "import numpy as np\n",
    "\n",
    "from project_utils.bb_model         import BB_Model\n",
    "from project_utils.feature_stats    import Feature_Statistics\n",
    "from project_utils.feature_stats    import Regression_Container\n",
    "from project_utils.acq_data_capture import Acq_Data\n",
    "from project_utils.surroagte_gp     import Surrogate_GP\n",
    "\n",
    "\n",
    "\n",
    "Num_Points = 1\n"
   ]
  },
  {
   "cell_type": "code",
   "execution_count": 2,
   "id": "f29a7de3-601a-44ed-924d-f6d83c6d8004",
   "metadata": {},
   "outputs": [
    {
     "name": "stdout",
     "output_type": "stream",
     "text": [
      "(1000,)\n"
     ]
    },
    {
     "data": {
      "image/png": "[encoded data removed]",
      "text/plain": [
       "<Figure size 640x480 with 1 Axes>"
      ]
     },
     "metadata": {},
     "output_type": "display_data"
    },
    {
     "name": "stdout",
     "output_type": "stream",
     "text": [
      "(1000, 1)\n"
     ]
    }
   ],
   "source": [
    "# Load Forrester model\n",
    "\n",
    "Forrester_Data = BB_Model('Forrester')\n",
    "\n",
    "#Forrester_Data.df().head()"
   ]
  },
  {
   "cell_type": "code",
   "execution_count": 3,
   "id": "ea385186-88ac-4037-8d21-cf7f3f0cf5a2",
   "metadata": {},
   "outputs": [
    {
     "name": "stderr",
     "output_type": "stream",
     "text": [
      "C:\\Users\\deneb\\AppData\\Local\\Programs\\Python\\Python311\\Lib\\site-packages\\sklearn\\neural_network\\_multilayer_perceptron.py:702: ConvergenceWarning: Stochastic Optimizer: Maximum iterations (200) reached and the optimization hasn't converged yet.\n",
      "  warnings.warn(\n"
     ]
    },
    {
     "name": "stdout",
     "output_type": "stream",
     "text": [
      "0.2796164966658692\n"
     ]
    },
    {
     "data": {
      "text/html": [
       "<style>#sk-container-id-1 {color: black;background-color: white;}#sk-container-id-1 pre{padding: 0;}#sk-container-id-1 div.sk-toggleable {background-color: white;}#sk-container-id-1 label.sk-toggleable__label {cursor: pointer;display: block;width: 100%;margin-bottom: 0;padding: 0.3em;box-sizing: border-box;text-align: center;}#sk-container-id-1 label.sk-toggleable__label-arrow:before {content: \"▸\";float: left;margin-right: 0.25em;color: #696969;}#sk-container-id-1 label.sk-toggleable__label-arrow:hover:before {color: black;}#sk-container-id-1 div.sk-estimator:hover label.sk-toggleable__label-arrow:before {color: black;}#sk-container-id-1 div.sk-toggleable__content {max-height: 0;max-width: 0;overflow: hidden;text-align: left;background-color: #f0f8ff;}#sk-container-id-1 div.sk-toggleable__content pre {margin: 0.2em;color: black;border-radius: 0.25em;background-color: #f0f8ff;}#sk-container-id-1 input.sk-toggleable__control:checked~div.sk-toggleable__content {max-height: 200px;max-width: 100%;overflow: auto;}#sk-container-id-1 input.sk-toggleable__control:checked~label.sk-toggleable__label-arrow:before {content: \"▾\";}#sk-container-id-1 div.sk-estimator input.sk-toggleable__control:checked~label.sk-toggleable__label {background-color: #d4ebff;}#sk-container-id-1 div.sk-label input.sk-toggleable__control:checked~label.sk-toggleable__label {background-color: #d4ebff;}#sk-container-id-1 input.sk-hidden--visually {border: 0;clip: rect(1px 1px 1px 1px);clip: rect(1px, 1px, 1px, 1px);height: 1px;margin: -1px;overflow: hidden;padding: 0;position: absolute;width: 1px;}#sk-container-id-1 div.sk-estimator {font-family: monospace;background-color: #f0f8ff;border: 1px dotted black;border-radius: 0.25em;box-sizing: border-box;margin-bottom: 0.5em;}#sk-container-id-1 div.sk-estimator:hover {background-color: #d4ebff;}#sk-container-id-1 div.sk-parallel-item::after {content: \"\";width: 100%;border-bottom: 1px solid gray;flex-grow: 1;}#sk-container-id-1 div.sk-label:hover label.sk-toggleable__label {background-color: #d4ebff;}#sk-container-id-1 div.sk-serial::before {content: \"\";position: absolute;border-left: 1px solid gray;box-sizing: border-box;top: 0;bottom: 0;left: 50%;z-index: 0;}#sk-container-id-1 div.sk-serial {display: flex;flex-direction: column;align-items: center;background-color: white;padding-right: 0.2em;padding-left: 0.2em;position: relative;}#sk-container-id-1 div.sk-item {position: relative;z-index: 1;}#sk-container-id-1 div.sk-parallel {display: flex;align-items: stretch;justify-content: center;background-color: white;position: relative;}#sk-container-id-1 div.sk-item::before, #sk-container-id-1 div.sk-parallel-item::before {content: \"\";position: absolute;border-left: 1px solid gray;box-sizing: border-box;top: 0;bottom: 0;left: 50%;z-index: -1;}#sk-container-id-1 div.sk-parallel-item {display: flex;flex-direction: column;z-index: 1;position: relative;background-color: white;}#sk-container-id-1 div.sk-parallel-item:first-child::after {align-self: flex-end;width: 50%;}#sk-container-id-1 div.sk-parallel-item:last-child::after {align-self: flex-start;width: 50%;}#sk-container-id-1 div.sk-parallel-item:only-child::after {width: 0;}#sk-container-id-1 div.sk-dashed-wrapped {border: 1px dashed gray;margin: 0 0.4em 0.5em 0.4em;box-sizing: border-box;padding-bottom: 0.4em;background-color: white;}#sk-container-id-1 div.sk-label label {font-family: monospace;font-weight: bold;display: inline-block;line-height: 1.2em;}#sk-container-id-1 div.sk-label-container {text-align: center;}#sk-container-id-1 div.sk-container {/* jupyter's `normalize.less` sets `[hidden] { display: none; }` but bootstrap.min.css set `[hidden] { display: none !important; }` so we also need the `!important` here to be able to override the default hidden behavior on the sphinx rendered scikit-learn.org. See: https://github.com/scikit-learn/scikit-learn/issues/21755 */display: inline-block !important;position: relative;}#sk-container-id-1 div.sk-text-repr-fallback {display: none;}</style><div id=\"sk-container-id-1\" class=\"sk-top-container\"><div class=\"sk-text-repr-fallback\"><pre>MLPRegressor(random_state=RandomState(MT19937) at 0x20A8FCE9840)</pre><b>In a Jupyter environment, please rerun this cell to show the HTML representation or trust the notebook. <br />On GitHub, the HTML representation is unable to render, please try loading this page with nbviewer.org.</b></div><div class=\"sk-container\" hidden><div class=\"sk-item\"><div class=\"sk-estimator sk-toggleable\"><input class=\"sk-toggleable__control sk-hidden--visually\" id=\"sk-estimator-id-1\" type=\"checkbox\" checked><label for=\"sk-estimator-id-1\" class=\"sk-toggleable__label sk-toggleable__label-arrow\">MLPRegressor</label><div class=\"sk-toggleable__content\"><pre>MLPRegressor(random_state=RandomState(MT19937) at 0x20A8FCE9840)</pre></div></div></div></div></div>"
      ],
      "text/plain": [
       "MLPRegressor(random_state=RandomState(MT19937) at 0x20A8FCE9840)"
      ]
     },
     "execution_count": 3,
     "metadata": {},
     "output_type": "execute_result"
    }
   ],
   "source": [
    "Forrester_Data.MPL()"
   ]
  },
  {
   "cell_type": "code",
   "execution_count": 4,
   "id": "18a03da2-e036-4695-b08b-cf31394ef7b6",
   "metadata": {},
   "outputs": [
    {
     "name": "stdout",
     "output_type": "stream",
     "text": [
      "0.99992622445309\n"
     ]
    },
    {
     "data": {
      "text/html": [
       "<style>#sk-container-id-2 {color: black;background-color: white;}#sk-container-id-2 pre{padding: 0;}#sk-container-id-2 div.sk-toggleable {background-color: white;}#sk-container-id-2 label.sk-toggleable__label {cursor: pointer;display: block;width: 100%;margin-bottom: 0;padding: 0.3em;box-sizing: border-box;text-align: center;}#sk-container-id-2 label.sk-toggleable__label-arrow:before {content: \"▸\";float: left;margin-right: 0.25em;color: #696969;}#sk-container-id-2 label.sk-toggleable__label-arrow:hover:before {color: black;}#sk-container-id-2 div.sk-estimator:hover label.sk-toggleable__label-arrow:before {color: black;}#sk-container-id-2 div.sk-toggleable__content {max-height: 0;max-width: 0;overflow: hidden;text-align: left;background-color: #f0f8ff;}#sk-container-id-2 div.sk-toggleable__content pre {margin: 0.2em;color: black;border-radius: 0.25em;background-color: #f0f8ff;}#sk-container-id-2 input.sk-toggleable__control:checked~div.sk-toggleable__content {max-height: 200px;max-width: 100%;overflow: auto;}#sk-container-id-2 input.sk-toggleable__control:checked~label.sk-toggleable__label-arrow:before {content: \"▾\";}#sk-container-id-2 div.sk-estimator input.sk-toggleable__control:checked~label.sk-toggleable__label {background-color: #d4ebff;}#sk-container-id-2 div.sk-label input.sk-toggleable__control:checked~label.sk-toggleable__label {background-color: #d4ebff;}#sk-container-id-2 input.sk-hidden--visually {border: 0;clip: rect(1px 1px 1px 1px);clip: rect(1px, 1px, 1px, 1px);height: 1px;margin: -1px;overflow: hidden;padding: 0;position: absolute;width: 1px;}#sk-container-id-2 div.sk-estimator {font-family: monospace;background-color: #f0f8ff;border: 1px dotted black;border-radius: 0.25em;box-sizing: border-box;margin-bottom: 0.5em;}#sk-container-id-2 div.sk-estimator:hover {background-color: #d4ebff;}#sk-container-id-2 div.sk-parallel-item::after {content: \"\";width: 100%;border-bottom: 1px solid gray;flex-grow: 1;}#sk-container-id-2 div.sk-label:hover label.sk-toggleable__label {background-color: #d4ebff;}#sk-container-id-2 div.sk-serial::before {content: \"\";position: absolute;border-left: 1px solid gray;box-sizing: border-box;top: 0;bottom: 0;left: 50%;z-index: 0;}#sk-container-id-2 div.sk-serial {display: flex;flex-direction: column;align-items: center;background-color: white;padding-right: 0.2em;padding-left: 0.2em;position: relative;}#sk-container-id-2 div.sk-item {position: relative;z-index: 1;}#sk-container-id-2 div.sk-parallel {display: flex;align-items: stretch;justify-content: center;background-color: white;position: relative;}#sk-container-id-2 div.sk-item::before, #sk-container-id-2 div.sk-parallel-item::before {content: \"\";position: absolute;border-left: 1px solid gray;box-sizing: border-box;top: 0;bottom: 0;left: 50%;z-index: -1;}#sk-container-id-2 div.sk-parallel-item {display: flex;flex-direction: column;z-index: 1;position: relative;background-color: white;}#sk-container-id-2 div.sk-parallel-item:first-child::after {align-self: flex-end;width: 50%;}#sk-container-id-2 div.sk-parallel-item:last-child::after {align-self: flex-start;width: 50%;}#sk-container-id-2 div.sk-parallel-item:only-child::after {width: 0;}#sk-container-id-2 div.sk-dashed-wrapped {border: 1px dashed gray;margin: 0 0.4em 0.5em 0.4em;box-sizing: border-box;padding-bottom: 0.4em;background-color: white;}#sk-container-id-2 div.sk-label label {font-family: monospace;font-weight: bold;display: inline-block;line-height: 1.2em;}#sk-container-id-2 div.sk-label-container {text-align: center;}#sk-container-id-2 div.sk-container {/* jupyter's `normalize.less` sets `[hidden] { display: none; }` but bootstrap.min.css set `[hidden] { display: none !important; }` so we also need the `!important` here to be able to override the default hidden behavior on the sphinx rendered scikit-learn.org. See: https://github.com/scikit-learn/scikit-learn/issues/21755 */display: inline-block !important;position: relative;}#sk-container-id-2 div.sk-text-repr-fallback {display: none;}</style><div id=\"sk-container-id-2\" class=\"sk-top-container\"><div class=\"sk-text-repr-fallback\"><pre>RandomForestRegressor(random_state=RandomState(MT19937) at 0x20A8FCE9840)</pre><b>In a Jupyter environment, please rerun this cell to show the HTML representation or trust the notebook. <br />On GitHub, the HTML representation is unable to render, please try loading this page with nbviewer.org.</b></div><div class=\"sk-container\" hidden><div class=\"sk-item\"><div class=\"sk-estimator sk-toggleable\"><input class=\"sk-toggleable__control sk-hidden--visually\" id=\"sk-estimator-id-2\" type=\"checkbox\" checked><label for=\"sk-estimator-id-2\" class=\"sk-toggleable__label sk-toggleable__label-arrow\">RandomForestRegressor</label><div class=\"sk-toggleable__content\"><pre>RandomForestRegressor(random_state=RandomState(MT19937) at 0x20A8FCE9840)</pre></div></div></div></div></div>"
      ],
      "text/plain": [
       "RandomForestRegressor(random_state=RandomState(MT19937) at 0x20A8FCE9840)"
      ]
     },
     "execution_count": 4,
     "metadata": {},
     "output_type": "execute_result"
    }
   ],
   "source": [
    "Forrester_Data.Random_Forest()"
   ]
  },
  {
   "cell_type": "code",
   "execution_count": 5,
   "id": "398368f4-ea2f-4999-acd3-5cf7b7b43db2",
   "metadata": {},
   "outputs": [
    {
     "name": "stdout",
     "output_type": "stream",
     "text": [
      "0.9930421837533465\n"
     ]
    },
    {
     "data": {
      "text/html": [
       "<style>#sk-container-id-3 {color: black;background-color: white;}#sk-container-id-3 pre{padding: 0;}#sk-container-id-3 div.sk-toggleable {background-color: white;}#sk-container-id-3 label.sk-toggleable__label {cursor: pointer;display: block;width: 100%;margin-bottom: 0;padding: 0.3em;box-sizing: border-box;text-align: center;}#sk-container-id-3 label.sk-toggleable__label-arrow:before {content: \"▸\";float: left;margin-right: 0.25em;color: #696969;}#sk-container-id-3 label.sk-toggleable__label-arrow:hover:before {color: black;}#sk-container-id-3 div.sk-estimator:hover label.sk-toggleable__label-arrow:before {color: black;}#sk-container-id-3 div.sk-toggleable__content {max-height: 0;max-width: 0;overflow: hidden;text-align: left;background-color: #f0f8ff;}#sk-container-id-3 div.sk-toggleable__content pre {margin: 0.2em;color: black;border-radius: 0.25em;background-color: #f0f8ff;}#sk-container-id-3 input.sk-toggleable__control:checked~div.sk-toggleable__content {max-height: 200px;max-width: 100%;overflow: auto;}#sk-container-id-3 input.sk-toggleable__control:checked~label.sk-toggleable__label-arrow:before {content: \"▾\";}#sk-container-id-3 div.sk-estimator input.sk-toggleable__control:checked~label.sk-toggleable__label {background-color: #d4ebff;}#sk-container-id-3 div.sk-label input.sk-toggleable__control:checked~label.sk-toggleable__label {background-color: #d4ebff;}#sk-container-id-3 input.sk-hidden--visually {border: 0;clip: rect(1px 1px 1px 1px);clip: rect(1px, 1px, 1px, 1px);height: 1px;margin: -1px;overflow: hidden;padding: 0;position: absolute;width: 1px;}#sk-container-id-3 div.sk-estimator {font-family: monospace;background-color: #f0f8ff;border: 1px dotted black;border-radius: 0.25em;box-sizing: border-box;margin-bottom: 0.5em;}#sk-container-id-3 div.sk-estimator:hover {background-color: #d4ebff;}#sk-container-id-3 div.sk-parallel-item::after {content: \"\";width: 100%;border-bottom: 1px solid gray;flex-grow: 1;}#sk-container-id-3 div.sk-label:hover label.sk-toggleable__label {background-color: #d4ebff;}#sk-container-id-3 div.sk-serial::before {content: \"\";position: absolute;border-left: 1px solid gray;box-sizing: border-box;top: 0;bottom: 0;left: 50%;z-index: 0;}#sk-container-id-3 div.sk-serial {display: flex;flex-direction: column;align-items: center;background-color: white;padding-right: 0.2em;padding-left: 0.2em;position: relative;}#sk-container-id-3 div.sk-item {position: relative;z-index: 1;}#sk-container-id-3 div.sk-parallel {display: flex;align-items: stretch;justify-content: center;background-color: white;position: relative;}#sk-container-id-3 div.sk-item::before, #sk-container-id-3 div.sk-parallel-item::before {content: \"\";position: absolute;border-left: 1px solid gray;box-sizing: border-box;top: 0;bottom: 0;left: 50%;z-index: -1;}#sk-container-id-3 div.sk-parallel-item {display: flex;flex-direction: column;z-index: 1;position: relative;background-color: white;}#sk-container-id-3 div.sk-parallel-item:first-child::after {align-self: flex-end;width: 50%;}#sk-container-id-3 div.sk-parallel-item:last-child::after {align-self: flex-start;width: 50%;}#sk-container-id-3 div.sk-parallel-item:only-child::after {width: 0;}#sk-container-id-3 div.sk-dashed-wrapped {border: 1px dashed gray;margin: 0 0.4em 0.5em 0.4em;box-sizing: border-box;padding-bottom: 0.4em;background-color: white;}#sk-container-id-3 div.sk-label label {font-family: monospace;font-weight: bold;display: inline-block;line-height: 1.2em;}#sk-container-id-3 div.sk-label-container {text-align: center;}#sk-container-id-3 div.sk-container {/* jupyter's `normalize.less` sets `[hidden] { display: none; }` but bootstrap.min.css set `[hidden] { display: none !important; }` so we also need the `!important` here to be able to override the default hidden behavior on the sphinx rendered scikit-learn.org. See: https://github.com/scikit-learn/scikit-learn/issues/21755 */display: inline-block !important;position: relative;}#sk-container-id-3 div.sk-text-repr-fallback {display: none;}</style><div id=\"sk-container-id-3\" class=\"sk-top-container\"><div class=\"sk-text-repr-fallback\"><pre>GaussianProcessRegressor()</pre><b>In a Jupyter environment, please rerun this cell to show the HTML representation or trust the notebook. <br />On GitHub, the HTML representation is unable to render, please try loading this page with nbviewer.org.</b></div><div class=\"sk-container\" hidden><div class=\"sk-item\"><div class=\"sk-estimator sk-toggleable\"><input class=\"sk-toggleable__control sk-hidden--visually\" id=\"sk-estimator-id-3\" type=\"checkbox\" checked><label for=\"sk-estimator-id-3\" class=\"sk-toggleable__label sk-toggleable__label-arrow\">GaussianProcessRegressor</label><div class=\"sk-toggleable__content\"><pre>GaussianProcessRegressor()</pre></div></div></div></div></div>"
      ],
      "text/plain": [
       "GaussianProcessRegressor()"
      ]
     },
     "execution_count": 5,
     "metadata": {},
     "output_type": "execute_result"
    }
   ],
   "source": [
    "Forrester_Data.GP()"
   ]
  },
  {
   "cell_type": "code",
   "execution_count": 6,
   "id": "a6f5d586-fb1b-42f6-8586-be6270da7c34",
   "metadata": {},
   "outputs": [
    {
     "name": "stdout",
     "output_type": "stream",
     "text": [
      "['X']\n"
     ]
    }
   ],
   "source": [
    "print(Forrester_Data.get_features())"
   ]
  },
  {
   "cell_type": "code",
   "execution_count": 7,
   "id": "c1975436-74b2-4311-b48d-193f2b21c159",
   "metadata": {},
   "outputs": [
    {
     "name": "stdout",
     "output_type": "stream",
     "text": [
      "warning in stationary: failed to import cython module: falling back to numpy\n",
      "warning in coregionalize: failed to import cython module: falling back to numpy\n",
      "warning in choleskies: failed to import cython module: falling back to numpy\n"
     ]
    }
   ],
   "source": [
    "#Default settings\n",
    "from unravel.tabular import UnRAVELTabularExplainer\n",
    "\n",
    "X_train, X_test, y_train, y_test = Forrester_Data.get_TT_data()\n",
    "\n",
    "#Initializing the explainer object\n",
    "Unravel_Exp = UnRAVELTabularExplainer(bbox_model           = Forrester_Data.get_GP(),\n",
    "                                      train_data           = X_train,\n",
    "                                      categorical_features = Forrester_Data.get_catagorical(),\n",
    "                                      mode                 = Forrester_Data.get_mode())\n",
    "\n",
    "sur_GP = Surrogate_GP()\n"
   ]
  },
  {
   "cell_type": "code",
   "execution_count": 8,
   "id": "858a867c-2baa-434e-b8cf-da89dcecdac6",
   "metadata": {},
   "outputs": [],
   "source": [
    "#Default settings\n",
    "#from unravel_2.ur_model import UR_Model\n",
    "\n",
    "#X_train, X_test, y_train, y_test = Forrester_Data.get_TT_data()\n",
    "\n",
    "\n",
    "##Initializing the explainer object\n",
    "#Unravel_Exp = UR_Model(bbox_model           = Forrester_Data.get_Random_Forest(),\n",
    "#                       train_data           = X_train,\n",
    "#                       categorical_features = Forrester_Data.get_catagorical(),\n",
    "#                       mode                 = Forrester_Data.get_mode())       \n"
   ]
  },
  {
   "cell_type": "code",
   "execution_count": 9,
   "id": "81327488-ab1c-456a-97ed-afb4783c433d",
   "metadata": {},
   "outputs": [
    {
     "name": "stdout",
     "output_type": "stream",
     "text": [
      "Mean 0: [0.49551]\n",
      "Std 0:  [0.290557]\n"
     ]
    }
   ],
   "source": [
    "mean = np.mean(X_train, axis=0)\n",
    "std = np.std(X_train, axis=0)\n",
    "print('Mean 0:', mean)\n",
    "print('Std 0: ', std)\n"
   ]
  },
  {
   "cell_type": "code",
   "execution_count": 10,
   "id": "760bed7a-bcd4-4e7f-add6-55913bb941ca",
   "metadata": {},
   "outputs": [],
   "source": [
    "#for i in range(5):\n",
    "#    print(X_test[i,:])"
   ]
  },
  {
   "cell_type": "code",
   "execution_count": 11,
   "id": "b562e733-6aad-4411-a120-b5c428bdf796",
   "metadata": {},
   "outputs": [],
   "source": [
    "#from matplotlib import pyplot\n",
    "#pyplot.boxplot(x=X_test)\n",
    "#pyplot.show()"
   ]
  },
  {
   "cell_type": "code",
   "execution_count": 12,
   "id": "3d88776e-ffe0-4186-a30e-e2c3377c9709",
   "metadata": {},
   "outputs": [
    {
     "name": "stdout",
     "output_type": "stream",
     "text": [
      "INSTANCE:  0\n"
     ]
    },
    {
     "ename": "<class 'TypeError'>",
     "evalue": "FUR_W._compute_acq() got an unexpected keyword argument 'v'",
     "output_type": "error",
     "traceback": [
      "\u001b[1;31m---------------------------------------------------------------------------\u001b[0m",
      "\u001b[1;31mTypeError\u001b[0m                                 Traceback (most recent call last)",
      "Cell \u001b[1;32mIn[12], line 15\u001b[0m\n\u001b[0;32m     12\u001b[0m data_row  \u001b[38;5;241m=\u001b[39m np\u001b[38;5;241m.\u001b[39marray([\u001b[38;5;241m0.4\u001b[39m])\n\u001b[0;32m     14\u001b[0m \u001b[38;5;66;03m#scores, acq_data = Unravel_Exp.explain(X_init            = data_row.reshape(1, -1),\u001b[39;00m\n\u001b[1;32m---> 15\u001b[0m scores \u001b[38;5;241m=\u001b[39m \u001b[43mUnravel_Exp\u001b[49m\u001b[38;5;241;43m.\u001b[39;49m\u001b[43mexplain\u001b[49m\u001b[43m(\u001b[49m\u001b[43mX_init\u001b[49m\u001b[43m            \u001b[49m\u001b[38;5;241;43m=\u001b[39;49m\u001b[43m \u001b[49m\u001b[43mdata_row\u001b[49m\u001b[38;5;241;43m.\u001b[39;49m\u001b[43mreshape\u001b[49m\u001b[43m(\u001b[49m\u001b[38;5;241;43m1\u001b[39;49m\u001b[43m,\u001b[49m\u001b[43m \u001b[49m\u001b[38;5;241;43m-\u001b[39;49m\u001b[38;5;241;43m1\u001b[39;49m\u001b[43m)\u001b[49m\u001b[43m,\u001b[49m\n\u001b[0;32m     16\u001b[0m \u001b[43m                                       \u001b[49m\u001b[43mfeature_names\u001b[49m\u001b[43m     \u001b[49m\u001b[38;5;241;43m=\u001b[39;49m\u001b[43m \u001b[49m\u001b[43mForrester_Data\u001b[49m\u001b[38;5;241;43m.\u001b[39;49m\u001b[43mget_features\u001b[49m\u001b[43m(\u001b[49m\u001b[43m)\u001b[49m\u001b[43m,\u001b[49m\n\u001b[0;32m     17\u001b[0m \u001b[43m                                       \u001b[49m\u001b[43malpha\u001b[49m\u001b[43m             \u001b[49m\u001b[38;5;241;43m=\u001b[39;49m\u001b[43m \u001b[49m\u001b[38;5;124;43m\"\u001b[39;49m\u001b[38;5;124;43mFUR_W\u001b[39;49m\u001b[38;5;124;43m\"\u001b[39;49m\u001b[43m,\u001b[49m\n\u001b[0;32m     18\u001b[0m \u001b[43m                                       \u001b[49m\u001b[43mmax_iter\u001b[49m\u001b[43m          \u001b[49m\u001b[38;5;241;43m=\u001b[39;49m\u001b[43m \u001b[49m\u001b[38;5;241;43m20\u001b[39;49m\u001b[43m,\u001b[49m\n\u001b[0;32m     19\u001b[0m \u001b[43m                                       \u001b[49m\u001b[43mnormalize\u001b[49m\u001b[43m         \u001b[49m\u001b[38;5;241;43m=\u001b[39;49m\u001b[43m \u001b[49m\u001b[38;5;28;43;01mFalse\u001b[39;49;00m\u001b[43m,\u001b[49m\n\u001b[0;32m     20\u001b[0m \u001b[43m                                       \u001b[49m\u001b[43minterval\u001b[49m\u001b[43m          \u001b[49m\u001b[38;5;241;43m=\u001b[39;49m\u001b[43m \u001b[49m\u001b[38;5;241;43m1\u001b[39;49m\u001b[43m,\u001b[49m\n\u001b[0;32m     21\u001b[0m \u001b[43m                                       \u001b[49m\u001b[43mimportance_method\u001b[49m\u001b[43m \u001b[49m\u001b[38;5;241;43m=\u001b[39;49m\u001b[43m \u001b[49m\u001b[38;5;124;43m\"\u001b[39;49m\u001b[38;5;124;43mARD\u001b[39;49m\u001b[38;5;124;43m\"\u001b[39;49m\u001b[43m)\u001b[49m\n\u001b[0;32m     23\u001b[0m f_predict \u001b[38;5;241m=\u001b[39m Forrester_Data\u001b[38;5;241m.\u001b[39mget_Random_Forest()\u001b[38;5;241m.\u001b[39mpredict(data_row\u001b[38;5;241m.\u001b[39mreshape(\u001b[38;5;241m1\u001b[39m, \u001b[38;5;241m-\u001b[39m\u001b[38;5;241m1\u001b[39m))\n\u001b[0;32m     25\u001b[0m \u001b[38;5;66;03m#e_predict = Unravel_Exp.gpmodel_predict(data_row)\u001b[39;00m\n\u001b[0;32m     26\u001b[0m \u001b[38;5;66;03m#e_predict = np.array(e_predict).ravel()\u001b[39;00m\n",
      "File \u001b[1;32m~\\Ulster\\Machine_Learning\\MSc_Project\\MSc_project\\Project_3_1D\\unravel\\tabular.py:330\u001b[0m, in \u001b[0;36mUnRAVELTabularExplainer.explain\u001b[1;34m(self, X_init, feature_names, kernel_type, max_iter, alpha, alpha_params, jitter, normalize, plot, interval, verbosity, maximize, importance_method, delta)\u001b[0m\n\u001b[0;32m    327\u001b[0m kernel \u001b[38;5;241m=\u001b[39m Kernel(kernel_type, X_init\u001b[38;5;241m.\u001b[39mshape[\u001b[38;5;241m1\u001b[39m])\n\u001b[0;32m    329\u001b[0m \u001b[38;5;66;03m# Extracting the coefficient values\u001b[39;00m\n\u001b[1;32m--> 330\u001b[0m f_optim \u001b[38;5;241m=\u001b[39m \u001b[38;5;28;43mself\u001b[39;49m\u001b[38;5;241;43m.\u001b[39;49m\u001b[43mgenerate_optimizer\u001b[49m\u001b[43m(\u001b[49m\n\u001b[0;32m    331\u001b[0m \u001b[43m                           \u001b[49m\u001b[43mX_init\u001b[49m\u001b[38;5;241;43m=\u001b[39;49m\u001b[43mX_init\u001b[49m\u001b[43m,\u001b[49m\n\u001b[0;32m    332\u001b[0m \u001b[43m                           \u001b[49m\u001b[43mkernel\u001b[49m\u001b[38;5;241;43m=\u001b[39;49m\u001b[43mkernel\u001b[49m\u001b[43m,\u001b[49m\n\u001b[0;32m    333\u001b[0m \u001b[43m                           \u001b[49m\u001b[43mmax_iter\u001b[49m\u001b[38;5;241;43m=\u001b[39;49m\u001b[43mmax_iter\u001b[49m\u001b[43m,\u001b[49m\n\u001b[0;32m    334\u001b[0m \u001b[43m                           \u001b[49m\u001b[43malpha\u001b[49m\u001b[38;5;241;43m=\u001b[39;49m\u001b[43malpha\u001b[49m\u001b[43m,\u001b[49m\n\u001b[0;32m    335\u001b[0m \u001b[43m                           \u001b[49m\u001b[43malpha_params\u001b[49m\u001b[38;5;241;43m=\u001b[39;49m\u001b[43malpha_params\u001b[49m\u001b[43m,\u001b[49m\n\u001b[0;32m    336\u001b[0m \u001b[43m                           \u001b[49m\u001b[43mjitter\u001b[49m\u001b[38;5;241;43m=\u001b[39;49m\u001b[43mjitter\u001b[49m\u001b[43m,\u001b[49m\n\u001b[0;32m    337\u001b[0m \u001b[43m                           \u001b[49m\u001b[43minterval\u001b[49m\u001b[38;5;241;43m=\u001b[39;49m\u001b[43minterval\u001b[49m\u001b[43m,\u001b[49m\n\u001b[0;32m    338\u001b[0m \u001b[43m                           \u001b[49m\u001b[43mverbosity\u001b[49m\u001b[38;5;241;43m=\u001b[39;49m\u001b[43mverbosity\u001b[49m\u001b[43m,\u001b[49m\n\u001b[0;32m    339\u001b[0m \u001b[43m                           \u001b[49m\u001b[43mmaximize\u001b[49m\u001b[38;5;241;43m=\u001b[39;49m\u001b[43mmaximize\u001b[49m\u001b[43m,\u001b[49m\n\u001b[0;32m    340\u001b[0m \u001b[43m                           \u001b[49m\u001b[43m)\u001b[49m\n\u001b[0;32m    342\u001b[0m \u001b[38;5;66;03m# Extracting the scores from the coefficients\u001b[39;00m\n\u001b[0;32m    343\u001b[0m scores \u001b[38;5;241m=\u001b[39m \u001b[38;5;28mself\u001b[39m\u001b[38;5;241m.\u001b[39mgenerate_scores(\n\u001b[0;32m    344\u001b[0m     kernel, f_optim, importance_method\u001b[38;5;241m=\u001b[39mimportance_method, delta\u001b[38;5;241m=\u001b[39mdelta, feature_names\u001b[38;5;241m=\u001b[39mfeature_names\n\u001b[0;32m    345\u001b[0m )\n",
      "File \u001b[1;32m~\\Ulster\\Machine_Learning\\MSc_Project\\MSc_project\\Project_3_1D\\unravel\\tabular.py:186\u001b[0m, in \u001b[0;36mUnRAVELTabularExplainer.generate_optimizer\u001b[1;34m(self, X_init, kernel, max_iter, alpha, alpha_params, jitter, interval, verbosity, maximize)\u001b[0m\n\u001b[0;32m    171\u001b[0m     f_optim \u001b[38;5;241m=\u001b[39m GPyOpt\u001b[38;5;241m.\u001b[39mmethods\u001b[38;5;241m.\u001b[39mBayesianOptimization(\n\u001b[0;32m    172\u001b[0m         f\u001b[38;5;241m=\u001b[39m\u001b[38;5;28;01mlambda\u001b[39;00m x: \u001b[38;5;28mself\u001b[39m\u001b[38;5;241m.\u001b[39mf_p(x),\n\u001b[0;32m    173\u001b[0m         domain\u001b[38;5;241m=\u001b[39mbounds,\n\u001b[1;32m   (...)\u001b[0m\n\u001b[0;32m    182\u001b[0m         maximize\u001b[38;5;241m=\u001b[39mmaximize,\n\u001b[0;32m    183\u001b[0m     )\n\u001b[0;32m    185\u001b[0m \u001b[38;5;66;03m# Running the Bayesian Optimization Routine\u001b[39;00m\n\u001b[1;32m--> 186\u001b[0m \u001b[38;5;28mself\u001b[39m\u001b[38;5;241m.\u001b[39macq_data \u001b[38;5;241m=\u001b[39m \u001b[43mf_optim\u001b[49m\u001b[38;5;241;43m.\u001b[39;49m\u001b[43mrun_optimization\u001b[49m\u001b[43m(\u001b[49m\u001b[43mmax_iter\u001b[49m\u001b[38;5;241;43m=\u001b[39;49m\u001b[43mmax_iter\u001b[49m\u001b[43m,\u001b[49m\u001b[43m \u001b[49m\u001b[43mverbosity\u001b[49m\u001b[38;5;241;43m=\u001b[39;49m\u001b[38;5;28;43;01mFalse\u001b[39;49;00m\u001b[43m,\u001b[49m\u001b[43m \u001b[49m\u001b[43meps\u001b[49m\u001b[38;5;241;43m=\u001b[39;49m\u001b[38;5;241;43m-\u001b[39;49m\u001b[43mnp\u001b[49m\u001b[38;5;241;43m.\u001b[39;49m\u001b[43minf\u001b[49m\u001b[43m)\u001b[49m\n\u001b[0;32m    187\u001b[0m \u001b[38;5;66;03m#f_optim.run_optimization(max_iter=max_iter, verbosity=False, eps=-np.inf)\u001b[39;00m\n\u001b[0;32m    189\u001b[0m \u001b[38;5;28mself\u001b[39m\u001b[38;5;241m.\u001b[39msurrogate_data \u001b[38;5;241m=\u001b[39m f_optim\u001b[38;5;241m.\u001b[39mget_evaluations()\n",
      "File \u001b[1;32m~\\Ulster\\Machine_Learning\\MSc_Project\\MSc_project\\Project_3_1D\\GPyOpt\\core\\bo.py:165\u001b[0m, in \u001b[0;36mBO.run_optimization\u001b[1;34m(self, max_iter, max_time, eps, context, verbosity, save_models_parameters, report_file, evaluations_file, models_file)\u001b[0m\n\u001b[0;32m    162\u001b[0m \u001b[38;5;66;03m# --- Evaluate *f* in X, augment Y and update cost function (if needed)\u001b[39;00m\n\u001b[0;32m    163\u001b[0m \u001b[38;5;28mself\u001b[39m\u001b[38;5;241m.\u001b[39mevaluate_objective()\n\u001b[1;32m--> 165\u001b[0m \u001b[38;5;28;43mself\u001b[39;49m\u001b[38;5;241;43m.\u001b[39;49m\u001b[43macq_data\u001b[49m\u001b[38;5;241;43m.\u001b[39;49m\u001b[43mnew_X\u001b[49m\u001b[43m(\u001b[49m\u001b[43mX\u001b[49m\u001b[43m            \u001b[49m\u001b[38;5;241;43m=\u001b[39;49m\u001b[43m \u001b[49m\u001b[38;5;28;43mself\u001b[39;49m\u001b[38;5;241;43m.\u001b[39;49m\u001b[43msuggested_sample\u001b[49m\u001b[43m,\u001b[49m\n\u001b[0;32m    166\u001b[0m \u001b[43m                    \u001b[49m\u001b[43my\u001b[49m\u001b[43m            \u001b[49m\u001b[38;5;241;43m=\u001b[39;49m\u001b[43m \u001b[49m\u001b[38;5;28;43mself\u001b[39;49m\u001b[38;5;241;43m.\u001b[39;49m\u001b[43mY_new\u001b[49m\u001b[43m,\u001b[49m\n\u001b[0;32m    167\u001b[0m \u001b[43m                    \u001b[49m\u001b[43mfe_x0\u001b[49m\u001b[43m        \u001b[49m\u001b[38;5;241;43m=\u001b[39;49m\u001b[43m \u001b[49m\u001b[38;5;28;43mself\u001b[39;49m\u001b[38;5;241;43m.\u001b[39;49m\u001b[43mfe_x0\u001b[49m\u001b[43m,\u001b[49m\n\u001b[0;32m    168\u001b[0m \u001b[43m                    \u001b[49m\u001b[43macq_function\u001b[49m\u001b[43m \u001b[49m\u001b[38;5;241;43m=\u001b[39;49m\u001b[43m \u001b[49m\u001b[38;5;28;43mself\u001b[39;49m\u001b[38;5;241;43m.\u001b[39;49m\u001b[43macquisition\u001b[49m\u001b[43m)\u001b[49m\n\u001b[0;32m    170\u001b[0m \u001b[38;5;66;03m# --- Update current evaluation time and function evaluations\u001b[39;00m\n\u001b[0;32m    171\u001b[0m \u001b[38;5;28mself\u001b[39m\u001b[38;5;241m.\u001b[39mcum_time \u001b[38;5;241m=\u001b[39m time\u001b[38;5;241m.\u001b[39mtime() \u001b[38;5;241m-\u001b[39m \u001b[38;5;28mself\u001b[39m\u001b[38;5;241m.\u001b[39mtime_zero\n",
      "File \u001b[1;32m~\\Ulster\\Machine_Learning\\MSc_Project\\MSc_project\\Project_3_1D\\project_utils\\acq_data_capture.py:37\u001b[0m, in \u001b[0;36mAcq_Data.new_X\u001b[1;34m(self, X, y, fe_x0, acq_function)\u001b[0m\n\u001b[0;32m     35\u001b[0m \u001b[38;5;66;03m#        acq_values = acq_function._compute_acq(X_range)       \u001b[39;00m\n\u001b[0;32m     36\u001b[0m         \u001b[38;5;28;01mfor\u001b[39;00m i \u001b[38;5;129;01min\u001b[39;00m \u001b[38;5;28mrange\u001b[39m(\u001b[38;5;28mself\u001b[39m\u001b[38;5;241m.\u001b[39mnum_acq_points):\n\u001b[1;32m---> 37\u001b[0m             acq_values[i] \u001b[38;5;241m=\u001b[39m \u001b[43macq_function\u001b[49m\u001b[38;5;241;43m.\u001b[39;49m\u001b[43m_compute_acq\u001b[49m\u001b[43m(\u001b[49m\u001b[43mX_range\u001b[49m\u001b[43m[\u001b[49m\u001b[43mi\u001b[49m\u001b[43m]\u001b[49m\u001b[43m,\u001b[49m\u001b[43mv\u001b[49m\u001b[38;5;241;43m=\u001b[39;49m\u001b[38;5;28;43;01mFalse\u001b[39;49;00m\u001b[43m)\u001b[49m\n\u001b[0;32m     39\u001b[0m         \u001b[38;5;28mself\u001b[39m\u001b[38;5;241m.\u001b[39macq_values \u001b[38;5;241m=\u001b[39m np\u001b[38;5;241m.\u001b[39mvstack([\u001b[38;5;28mself\u001b[39m\u001b[38;5;241m.\u001b[39macq_values, acq_values])\n\u001b[0;32m     41\u001b[0m         \u001b[38;5;28mself\u001b[39m\u001b[38;5;241m.\u001b[39mfe_x0 \u001b[38;5;241m=\u001b[39m fe_x0\n",
      "\u001b[1;31mTypeError\u001b[0m: FUR_W._compute_acq() got an unexpected keyword argument 'v'"
     ]
    }
   ],
   "source": [
    "# Generate explantion data for Random Forest\n",
    "\n",
    "Forrester_Stats = Feature_Statistics(feature_names = Forrester_Data.get_features(), mode = Forrester_Data.get_mode())\n",
    "\n",
    "if Num_Points == 0: Num_Points = X_test.shape[0]\n",
    "\n",
    "for test_instance in range(Num_Points):\n",
    "\n",
    "    print('INSTANCE: ', test_instance)\n",
    "       \n",
    "#    data_row  = np.array([X_test[test_instance]])\n",
    "    data_row  = np.array([0.4])\n",
    "    \n",
    "    #scores, acq_data = Unravel_Exp.explain(X_init            = data_row.reshape(1, -1),\n",
    "    scores = Unravel_Exp.explain(X_init            = data_row.reshape(1, -1),\n",
    "                                           feature_names     = Forrester_Data.get_features(),\n",
    "                                           alpha             = \"FUR_W\",\n",
    "                                           max_iter          = 20,\n",
    "                                           normalize         = False,\n",
    "                                           interval          = 1,\n",
    "                                           importance_method = \"ARD\")\n",
    "       \n",
    "    f_predict = Forrester_Data.get_Random_Forest().predict(data_row.reshape(1, -1))\n",
    "\n",
    "    #e_predict = Unravel_Exp.gpmodel_predict(data_row)\n",
    "    #e_predict = np.array(e_predict).ravel()\n",
    "    \n",
    "    acq_data = Unravel_Exp.get_acq_data()\n",
    "    \n",
    "    X, y = Unravel_Exp.get_surrogate_data()\n",
    "\n",
    "    e_predict = sur_GP.predict(X, y)\n",
    "#    e_predict = sur_GP.predict(Unravel_Exp.get_surrogate_data())\n",
    "\n",
    "    print(f_predict, e_predict)\n",
    "    \n",
    "    Forrester_Stats.Add_Sample(sample_scores = scores,\n",
    "                               outcome       = y_test[test_instance],\n",
    "                               X_row         = data_row,\n",
    "                               f_prediction  = f_predict,\n",
    "                               e_prediction  = e_predict.ravel(),\n",
    "                               feopt         = acq_data.get_fe_x0(),\n",
    "                               model         = Unravel_Exp.get_gpmodel())\n"
   ]
  },
  {
   "cell_type": "code",
   "execution_count": null,
   "id": "4e60ec92-4b90-4dce-9408-e3f771da3b8b",
   "metadata": {},
   "outputs": [],
   "source": [
    "import matplotlib.pyplot as plt\n"
   ]
  },
  {
   "cell_type": "code",
   "execution_count": null,
   "id": "850c1211-b3ba-4299-a091-e190ee07b43e",
   "metadata": {},
   "outputs": [],
   "source": [
    "print(f_predict)\n",
    "print(e_predict)\n"
   ]
  },
  {
   "cell_type": "code",
   "execution_count": null,
   "id": "f63f1ab3-faac-43a2-a415-8ecde903060e",
   "metadata": {},
   "outputs": [],
   "source": [
    "Forrester_Stats.Fidelity()"
   ]
  },
  {
   "cell_type": "code",
   "execution_count": null,
   "id": "c2580756-1f4e-497d-bab3-0e65979a448d",
   "metadata": {},
   "outputs": [],
   "source": [
    "#Forrester_Stats.Jaccard_Values()"
   ]
  },
  {
   "cell_type": "code",
   "execution_count": null,
   "id": "aee227c0-3941-4fe0-a65b-3510d07f995d",
   "metadata": {},
   "outputs": [],
   "source": [
    "Forrester_Stats.Reg_Fidelity_Graph()"
   ]
  },
  {
   "cell_type": "code",
   "execution_count": null,
   "id": "835eb5c2-72bd-4d80-adff-fdae7343164e",
   "metadata": {},
   "outputs": [],
   "source": [
    "from sklearn.gaussian_process import GaussianProcessRegressor\n",
    "from sklearn.gaussian_process.kernels import Matern\n",
    "from sklearn.gaussian_process.kernels import RBF\n",
    "\n",
    "X, y = Unravel_Exp.get_surrogate_data()\n",
    "kernel = Matern()\n",
    "\n",
    "GP = GaussianProcessRegressor(kernel=kernel, n_restarts_optimizer = 10, optimizer='fmin_l_bfgs_b', normalize_y = False, copy_X_train=True)\n",
    "GP.fit(X, y)\n",
    "        \n",
    "print(y[0])\n",
    "fe = GP.predict(X[0].reshape(1,-1))\n",
    "print(fe)\n",
    "ey = Unravel_Exp.gpmodel_predict(X[0].reshape(1,-1))\n",
    "print(ey)\n"
   ]
  },
  {
   "cell_type": "code",
   "execution_count": null,
   "id": "6782e250-2920-4783-a7c8-726d6e9e84c2",
   "metadata": {},
   "outputs": [],
   "source": [
    "acq_data.plot_point()"
   ]
  },
  {
   "cell_type": "code",
   "execution_count": null,
   "id": "5dfaa2cd-c5c5-4db5-a882-331721f6e1bc",
   "metadata": {},
   "outputs": [],
   "source": [
    "acq_data.plot_point(1)"
   ]
  },
  {
   "cell_type": "code",
   "execution_count": null,
   "id": "3b4385d3-f519-41b7-aaaa-90a2889534ef",
   "metadata": {},
   "outputs": [],
   "source": [
    "acq_data.plot_point(2)"
   ]
  },
  {
   "cell_type": "code",
   "execution_count": null,
   "id": "e39acda6-983d-4228-8d67-79e8cf30b48b",
   "metadata": {},
   "outputs": [],
   "source": [
    "acq_data.plot_point(3)"
   ]
  },
  {
   "cell_type": "code",
   "execution_count": null,
   "id": "8fd032bb-abfb-4447-826b-356d5b49320b",
   "metadata": {},
   "outputs": [],
   "source": [
    "acq_data.plot_point(4)"
   ]
  },
  {
   "cell_type": "code",
   "execution_count": null,
   "id": "367b48cf-496f-47d7-8d9c-9430d46691ae",
   "metadata": {},
   "outputs": [],
   "source": [
    "acq_data.plot_point(5)"
   ]
  },
  {
   "cell_type": "code",
   "execution_count": null,
   "id": "864e20e0-ba5e-4a24-be8d-e910c41fee6c",
   "metadata": {},
   "outputs": [],
   "source": [
    "acq_data.plot_point(6)"
   ]
  },
  {
   "cell_type": "code",
   "execution_count": null,
   "id": "3a8f3072-fe6b-4a73-ba65-0de1977582e1",
   "metadata": {},
   "outputs": [],
   "source": [
    "acq_data.plot_point(7)"
   ]
  },
  {
   "cell_type": "code",
   "execution_count": null,
   "id": "e9d3a4ee-2d31-4ff0-8c8c-535cfde889f0",
   "metadata": {},
   "outputs": [],
   "source": [
    "acq_data.plot_point(8)"
   ]
  },
  {
   "cell_type": "code",
   "execution_count": null,
   "id": "b4ca72da-7dff-409e-9325-745e344c0299",
   "metadata": {},
   "outputs": [],
   "source": [
    "acq_data.plot_point(9)"
   ]
  },
  {
   "cell_type": "code",
   "execution_count": null,
   "id": "9afb003b-65b0-4651-9a2b-2f18f3f304c1",
   "metadata": {},
   "outputs": [],
   "source": [
    "acq_data.plot_point(10)"
   ]
  },
  {
   "cell_type": "code",
   "execution_count": null,
   "id": "fc734371-80a7-444f-902e-fef59e300903",
   "metadata": {},
   "outputs": [],
   "source": [
    "acq_data.plot_point(11)"
   ]
  },
  {
   "cell_type": "code",
   "execution_count": null,
   "id": "a55d4422-450e-4a93-9ac2-73e6f305e0e3",
   "metadata": {},
   "outputs": [],
   "source": [
    "acq_data.plot_point(12)"
   ]
  },
  {
   "cell_type": "code",
   "execution_count": null,
   "id": "308b8ab6-339f-4971-8e2c-58a39104ef25",
   "metadata": {},
   "outputs": [],
   "source": [
    "acq_data.plot_point(13)"
   ]
  },
  {
   "cell_type": "code",
   "execution_count": null,
   "id": "c2188be5-dd8c-49ee-8ae5-7feef3919f05",
   "metadata": {},
   "outputs": [],
   "source": [
    "acq_data.plot_point(14)"
   ]
  },
  {
   "cell_type": "code",
   "execution_count": null,
   "id": "d5e1b372-8b1f-468c-8809-82b5bb30dfaf",
   "metadata": {},
   "outputs": [],
   "source": [
    "acq_data.plot_point(15)"
   ]
  },
  {
   "cell_type": "code",
   "execution_count": null,
   "id": "6f695107-8ed7-49c4-9f05-57e34fdcf836",
   "metadata": {},
   "outputs": [],
   "source": [
    "acq_data.plot_point(16)"
   ]
  },
  {
   "cell_type": "code",
   "execution_count": null,
   "id": "2726b18d-2e99-42b9-adf8-a8135d606619",
   "metadata": {},
   "outputs": [],
   "source": [
    "acq_data.plot_point(17)"
   ]
  },
  {
   "cell_type": "code",
   "execution_count": null,
   "id": "fb5a972f-ae5f-4359-90d5-d1867ba7ebb9",
   "metadata": {},
   "outputs": [],
   "source": [
    "acq_data.plot_point(18)"
   ]
  },
  {
   "cell_type": "code",
   "execution_count": null,
   "id": "200d95bd-475d-49bf-a6eb-fbd0103a67c2",
   "metadata": {},
   "outputs": [],
   "source": [
    "acq_data.plot_point(19)"
   ]
  },
  {
   "cell_type": "code",
   "execution_count": null,
   "id": "99be2580-0617-4f98-b001-1579bcdc12d1",
   "metadata": {},
   "outputs": [],
   "source": [
    "acq_data.plot_all()"
   ]
  },
  {
   "cell_type": "code",
   "execution_count": null,
   "id": "f1962695-2cd5-4f2c-90bf-818abe266dbd",
   "metadata": {},
   "outputs": [],
   "source": []
  }
 ],
 "metadata": {
  "kernelspec": {
   "display_name": "Python 3.11 (XPython)",
   "language": "python",
   "name": "xpython"
  },
  "language_info": {
   "file_extension": ".py",
   "mimetype": "text/x-python",
   "name": "python",
   "version": "3.11.0"
  }
 },
 "nbformat": 4,
 "nbformat_minor": 5
}
