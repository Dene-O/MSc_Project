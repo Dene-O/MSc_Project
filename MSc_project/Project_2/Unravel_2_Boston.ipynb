{
 "cells": [
  {
   "cell_type": "code",
   "execution_count": 1,
   "id": "33815253-dca2-4013-b9e5-e64aacdeda2e",
   "metadata": {},
   "outputs": [],
   "source": [
    "# Import Libraries\n",
    "import numpy as np\n",
    "\n",
    "from project_utils.bb_model import BB_Model\n",
    "from project_utils.feature_stats import Feature_Statistics\n",
    "from project_utils.feature_stats import Regression_Container\n",
    "\n",
    "Num_Points = 1\n"
   ]
  },
  {
   "cell_type": "code",
   "execution_count": 2,
   "id": "f29a7de3-601a-44ed-924d-f6d83c6d8004",
   "metadata": {},
   "outputs": [],
   "source": [
    "# Load Boston model\n",
    "\n",
    "Boston_Data = BB_Model('Boston')\n",
    "\n",
    "#Boston_Data.df().head()"
   ]
  },
  {
   "cell_type": "code",
   "execution_count": 3,
   "id": "ea385186-88ac-4037-8d21-cf7f3f0cf5a2",
   "metadata": {},
   "outputs": [
    {
     "name": "stderr",
     "output_type": "stream",
     "text": [
      "C:\\Users\\deneb\\AppData\\Local\\Programs\\Python\\Python311\\Lib\\site-packages\\sklearn\\neural_network\\_multilayer_perceptron.py:702: ConvergenceWarning: Stochastic Optimizer: Maximum iterations (200) reached and the optimization hasn't converged yet.\n",
      "  warnings.warn(\n"
     ]
    },
    {
     "name": "stdout",
     "output_type": "stream",
     "text": [
      "0.5270263237579467\n"
     ]
    },
    {
     "data": {
      "text/html": [
       "<style>#sk-container-id-1 {color: black;background-color: white;}#sk-container-id-1 pre{padding: 0;}#sk-container-id-1 div.sk-toggleable {background-color: white;}#sk-container-id-1 label.sk-toggleable__label {cursor: pointer;display: block;width: 100%;margin-bottom: 0;padding: 0.3em;box-sizing: border-box;text-align: center;}#sk-container-id-1 label.sk-toggleable__label-arrow:before {content: \"▸\";float: left;margin-right: 0.25em;color: #696969;}#sk-container-id-1 label.sk-toggleable__label-arrow:hover:before {color: black;}#sk-container-id-1 div.sk-estimator:hover label.sk-toggleable__label-arrow:before {color: black;}#sk-container-id-1 div.sk-toggleable__content {max-height: 0;max-width: 0;overflow: hidden;text-align: left;background-color: #f0f8ff;}#sk-container-id-1 div.sk-toggleable__content pre {margin: 0.2em;color: black;border-radius: 0.25em;background-color: #f0f8ff;}#sk-container-id-1 input.sk-toggleable__control:checked~div.sk-toggleable__content {max-height: 200px;max-width: 100%;overflow: auto;}#sk-container-id-1 input.sk-toggleable__control:checked~label.sk-toggleable__label-arrow:before {content: \"▾\";}#sk-container-id-1 div.sk-estimator input.sk-toggleable__control:checked~label.sk-toggleable__label {background-color: #d4ebff;}#sk-container-id-1 div.sk-label input.sk-toggleable__control:checked~label.sk-toggleable__label {background-color: #d4ebff;}#sk-container-id-1 input.sk-hidden--visually {border: 0;clip: rect(1px 1px 1px 1px);clip: rect(1px, 1px, 1px, 1px);height: 1px;margin: -1px;overflow: hidden;padding: 0;position: absolute;width: 1px;}#sk-container-id-1 div.sk-estimator {font-family: monospace;background-color: #f0f8ff;border: 1px dotted black;border-radius: 0.25em;box-sizing: border-box;margin-bottom: 0.5em;}#sk-container-id-1 div.sk-estimator:hover {background-color: #d4ebff;}#sk-container-id-1 div.sk-parallel-item::after {content: \"\";width: 100%;border-bottom: 1px solid gray;flex-grow: 1;}#sk-container-id-1 div.sk-label:hover label.sk-toggleable__label {background-color: #d4ebff;}#sk-container-id-1 div.sk-serial::before {content: \"\";position: absolute;border-left: 1px solid gray;box-sizing: border-box;top: 0;bottom: 0;left: 50%;z-index: 0;}#sk-container-id-1 div.sk-serial {display: flex;flex-direction: column;align-items: center;background-color: white;padding-right: 0.2em;padding-left: 0.2em;position: relative;}#sk-container-id-1 div.sk-item {position: relative;z-index: 1;}#sk-container-id-1 div.sk-parallel {display: flex;align-items: stretch;justify-content: center;background-color: white;position: relative;}#sk-container-id-1 div.sk-item::before, #sk-container-id-1 div.sk-parallel-item::before {content: \"\";position: absolute;border-left: 1px solid gray;box-sizing: border-box;top: 0;bottom: 0;left: 50%;z-index: -1;}#sk-container-id-1 div.sk-parallel-item {display: flex;flex-direction: column;z-index: 1;position: relative;background-color: white;}#sk-container-id-1 div.sk-parallel-item:first-child::after {align-self: flex-end;width: 50%;}#sk-container-id-1 div.sk-parallel-item:last-child::after {align-self: flex-start;width: 50%;}#sk-container-id-1 div.sk-parallel-item:only-child::after {width: 0;}#sk-container-id-1 div.sk-dashed-wrapped {border: 1px dashed gray;margin: 0 0.4em 0.5em 0.4em;box-sizing: border-box;padding-bottom: 0.4em;background-color: white;}#sk-container-id-1 div.sk-label label {font-family: monospace;font-weight: bold;display: inline-block;line-height: 1.2em;}#sk-container-id-1 div.sk-label-container {text-align: center;}#sk-container-id-1 div.sk-container {/* jupyter's `normalize.less` sets `[hidden] { display: none; }` but bootstrap.min.css set `[hidden] { display: none !important; }` so we also need the `!important` here to be able to override the default hidden behavior on the sphinx rendered scikit-learn.org. See: https://github.com/scikit-learn/scikit-learn/issues/21755 */display: inline-block !important;position: relative;}#sk-container-id-1 div.sk-text-repr-fallback {display: none;}</style><div id=\"sk-container-id-1\" class=\"sk-top-container\"><div class=\"sk-text-repr-fallback\"><pre>MLPRegressor(random_state=RandomState(MT19937) at 0x27D093D9840)</pre><b>In a Jupyter environment, please rerun this cell to show the HTML representation or trust the notebook. <br />On GitHub, the HTML representation is unable to render, please try loading this page with nbviewer.org.</b></div><div class=\"sk-container\" hidden><div class=\"sk-item\"><div class=\"sk-estimator sk-toggleable\"><input class=\"sk-toggleable__control sk-hidden--visually\" id=\"sk-estimator-id-1\" type=\"checkbox\" checked><label for=\"sk-estimator-id-1\" class=\"sk-toggleable__label sk-toggleable__label-arrow\">MLPRegressor</label><div class=\"sk-toggleable__content\"><pre>MLPRegressor(random_state=RandomState(MT19937) at 0x27D093D9840)</pre></div></div></div></div></div>"
      ],
      "text/plain": [
       "MLPRegressor(random_state=RandomState(MT19937) at 0x27D093D9840)"
      ]
     },
     "execution_count": 3,
     "metadata": {},
     "output_type": "execute_result"
    }
   ],
   "source": [
    "Boston_Data.MPL()"
   ]
  },
  {
   "cell_type": "code",
   "execution_count": 4,
   "id": "18a03da2-e036-4695-b08b-cf31394ef7b6",
   "metadata": {},
   "outputs": [
    {
     "name": "stdout",
     "output_type": "stream",
     "text": [
      "0.9127029551042252\n"
     ]
    },
    {
     "data": {
      "text/html": [
       "<style>#sk-container-id-2 {color: black;background-color: white;}#sk-container-id-2 pre{padding: 0;}#sk-container-id-2 div.sk-toggleable {background-color: white;}#sk-container-id-2 label.sk-toggleable__label {cursor: pointer;display: block;width: 100%;margin-bottom: 0;padding: 0.3em;box-sizing: border-box;text-align: center;}#sk-container-id-2 label.sk-toggleable__label-arrow:before {content: \"▸\";float: left;margin-right: 0.25em;color: #696969;}#sk-container-id-2 label.sk-toggleable__label-arrow:hover:before {color: black;}#sk-container-id-2 div.sk-estimator:hover label.sk-toggleable__label-arrow:before {color: black;}#sk-container-id-2 div.sk-toggleable__content {max-height: 0;max-width: 0;overflow: hidden;text-align: left;background-color: #f0f8ff;}#sk-container-id-2 div.sk-toggleable__content pre {margin: 0.2em;color: black;border-radius: 0.25em;background-color: #f0f8ff;}#sk-container-id-2 input.sk-toggleable__control:checked~div.sk-toggleable__content {max-height: 200px;max-width: 100%;overflow: auto;}#sk-container-id-2 input.sk-toggleable__control:checked~label.sk-toggleable__label-arrow:before {content: \"▾\";}#sk-container-id-2 div.sk-estimator input.sk-toggleable__control:checked~label.sk-toggleable__label {background-color: #d4ebff;}#sk-container-id-2 div.sk-label input.sk-toggleable__control:checked~label.sk-toggleable__label {background-color: #d4ebff;}#sk-container-id-2 input.sk-hidden--visually {border: 0;clip: rect(1px 1px 1px 1px);clip: rect(1px, 1px, 1px, 1px);height: 1px;margin: -1px;overflow: hidden;padding: 0;position: absolute;width: 1px;}#sk-container-id-2 div.sk-estimator {font-family: monospace;background-color: #f0f8ff;border: 1px dotted black;border-radius: 0.25em;box-sizing: border-box;margin-bottom: 0.5em;}#sk-container-id-2 div.sk-estimator:hover {background-color: #d4ebff;}#sk-container-id-2 div.sk-parallel-item::after {content: \"\";width: 100%;border-bottom: 1px solid gray;flex-grow: 1;}#sk-container-id-2 div.sk-label:hover label.sk-toggleable__label {background-color: #d4ebff;}#sk-container-id-2 div.sk-serial::before {content: \"\";position: absolute;border-left: 1px solid gray;box-sizing: border-box;top: 0;bottom: 0;left: 50%;z-index: 0;}#sk-container-id-2 div.sk-serial {display: flex;flex-direction: column;align-items: center;background-color: white;padding-right: 0.2em;padding-left: 0.2em;position: relative;}#sk-container-id-2 div.sk-item {position: relative;z-index: 1;}#sk-container-id-2 div.sk-parallel {display: flex;align-items: stretch;justify-content: center;background-color: white;position: relative;}#sk-container-id-2 div.sk-item::before, #sk-container-id-2 div.sk-parallel-item::before {content: \"\";position: absolute;border-left: 1px solid gray;box-sizing: border-box;top: 0;bottom: 0;left: 50%;z-index: -1;}#sk-container-id-2 div.sk-parallel-item {display: flex;flex-direction: column;z-index: 1;position: relative;background-color: white;}#sk-container-id-2 div.sk-parallel-item:first-child::after {align-self: flex-end;width: 50%;}#sk-container-id-2 div.sk-parallel-item:last-child::after {align-self: flex-start;width: 50%;}#sk-container-id-2 div.sk-parallel-item:only-child::after {width: 0;}#sk-container-id-2 div.sk-dashed-wrapped {border: 1px dashed gray;margin: 0 0.4em 0.5em 0.4em;box-sizing: border-box;padding-bottom: 0.4em;background-color: white;}#sk-container-id-2 div.sk-label label {font-family: monospace;font-weight: bold;display: inline-block;line-height: 1.2em;}#sk-container-id-2 div.sk-label-container {text-align: center;}#sk-container-id-2 div.sk-container {/* jupyter's `normalize.less` sets `[hidden] { display: none; }` but bootstrap.min.css set `[hidden] { display: none !important; }` so we also need the `!important` here to be able to override the default hidden behavior on the sphinx rendered scikit-learn.org. See: https://github.com/scikit-learn/scikit-learn/issues/21755 */display: inline-block !important;position: relative;}#sk-container-id-2 div.sk-text-repr-fallback {display: none;}</style><div id=\"sk-container-id-2\" class=\"sk-top-container\"><div class=\"sk-text-repr-fallback\"><pre>RandomForestRegressor(random_state=RandomState(MT19937) at 0x27D093D9840)</pre><b>In a Jupyter environment, please rerun this cell to show the HTML representation or trust the notebook. <br />On GitHub, the HTML representation is unable to render, please try loading this page with nbviewer.org.</b></div><div class=\"sk-container\" hidden><div class=\"sk-item\"><div class=\"sk-estimator sk-toggleable\"><input class=\"sk-toggleable__control sk-hidden--visually\" id=\"sk-estimator-id-2\" type=\"checkbox\" checked><label for=\"sk-estimator-id-2\" class=\"sk-toggleable__label sk-toggleable__label-arrow\">RandomForestRegressor</label><div class=\"sk-toggleable__content\"><pre>RandomForestRegressor(random_state=RandomState(MT19937) at 0x27D093D9840)</pre></div></div></div></div></div>"
      ],
      "text/plain": [
       "RandomForestRegressor(random_state=RandomState(MT19937) at 0x27D093D9840)"
      ]
     },
     "execution_count": 4,
     "metadata": {},
     "output_type": "execute_result"
    }
   ],
   "source": [
    "Boston_Data.Random_Forest()"
   ]
  },
  {
   "cell_type": "code",
   "execution_count": 5,
   "id": "a6f5d586-fb1b-42f6-8586-be6270da7c34",
   "metadata": {},
   "outputs": [
    {
     "name": "stdout",
     "output_type": "stream",
     "text": [
      "['crime_rate', 'zoned_lots', 'industry', 'by_river', 'NOX', 'avg_rooms', 'pre_1940', 'emp_distance', 'rad_access', 'tax_rate', 'pupil_tea_rat', 'low_status']\n"
     ]
    }
   ],
   "source": [
    "print(Boston_Data.get_features())"
   ]
  },
  {
   "cell_type": "code",
   "execution_count": 6,
   "id": "858a867c-2baa-434e-b8cf-da89dcecdac6",
   "metadata": {},
   "outputs": [
    {
     "name": "stdout",
     "output_type": "stream",
     "text": [
      "STD:  [2.61270354e+00 2.47102776e+01 6.80521504e+00 2.76037079e-01\n",
      " 1.17057221e-01 6.74763270e-01 2.78491148e+01 2.06804365e+00\n",
      " 7.70832553e+00 1.53519674e+02 2.21120832e+00 6.21316414e+00]\n"
     ]
    }
   ],
   "source": [
    "#Default settings\n",
    "from unravel_2.ur_model import UR_Model\n",
    "\n",
    "X_train, X_test, y_train, y_test = Boston_Data.get_TT_data()\n",
    "\n",
    "\n",
    "#Initializing the explainer object\n",
    "Unravel_Exp = UR_Model(bbox_model           = Boston_Data.get_Random_Forest(),\n",
    "                       train_data           = X_train,\n",
    "                       categorical_features = Boston_Data.get_catagorical(),\n",
    "                       mode                 = Boston_Data.get_mode())       \n"
   ]
  },
  {
   "cell_type": "code",
   "execution_count": 7,
   "id": "81327488-ab1c-456a-97ed-afb4783c433d",
   "metadata": {},
   "outputs": [
    {
     "name": "stdout",
     "output_type": "stream",
     "text": [
      "Mean 0: [1.48630645e+00 1.33448753e+01 1.03917452e+01 8.31024931e-02\n",
      " 5.43004986e-01 6.34466205e+00 6.59778393e+01 4.03258504e+00\n",
      " 8.00000000e+00 3.78905817e+02 1.81980609e+01 1.14789751e+01]\n",
      "Std 0:  [2.61270354e+00 2.47102776e+01 6.80521504e+00 2.76037079e-01\n",
      " 1.17057221e-01 6.74763270e-01 2.78491148e+01 2.06804365e+00\n",
      " 7.70832553e+00 1.53519674e+02 2.21120832e+00 6.21316414e+00]\n"
     ]
    }
   ],
   "source": [
    "mean = np.mean(X_train, axis=0)\n",
    "std = np.std(X_train, axis=0)\n",
    "print('Mean 0:', mean)\n",
    "print('Std 0: ', std)\n"
   ]
  },
  {
   "cell_type": "code",
   "execution_count": 8,
   "id": "760bed7a-bcd4-4e7f-add6-55913bb941ca",
   "metadata": {},
   "outputs": [
    {
     "name": "stdout",
     "output_type": "stream",
     "text": [
      "[  4.0974   0.      19.58     0.       0.871    5.468  100.       1.4118\n",
      "   5.     403.      14.7     26.42  ]\n",
      "[  0.35114   0.        7.38      0.        0.493     6.041    49.9\n",
      "   4.7211    5.      287.       19.6       7.7    ]\n",
      "[3.6150e-02 8.0000e+01 4.9500e+00 0.0000e+00 4.1100e-01 6.6300e+00\n",
      " 2.3400e+01 5.1167e+00 4.0000e+00 2.4500e+02 1.9200e+01 4.7000e+00]\n",
      "[5.82401e+00 0.00000e+00 1.81000e+01 0.00000e+00 5.32000e-01 6.24200e+00\n",
      " 6.47000e+01 3.42420e+00 2.40000e+01 6.66000e+02 2.02000e+01 1.07400e+01]\n",
      "[1.2650e-01 2.5000e+01 5.1300e+00 0.0000e+00 4.5300e-01 6.7620e+00\n",
      " 4.3400e+01 7.9809e+00 8.0000e+00 2.8400e+02 1.9700e+01 9.5000e+00]\n"
     ]
    }
   ],
   "source": [
    "for i in range(5):\n",
    "    print(X_test[i,:])"
   ]
  },
  {
   "cell_type": "code",
   "execution_count": 9,
   "id": "b562e733-6aad-4411-a120-b5c428bdf796",
   "metadata": {},
   "outputs": [
    {
     "data": {
      "image/png": "[encoded data removed]",
      "text/plain": [
       "<Figure size 640x480 with 1 Axes>"
      ]
     },
     "metadata": {},
     "output_type": "display_data"
    }
   ],
   "source": [
    "from matplotlib import pyplot\n",
    "pyplot.boxplot(x=X_test)\n",
    "pyplot.show()"
   ]
  },
  {
   "cell_type": "code",
   "execution_count": 10,
   "id": "3d88776e-ffe0-4186-a30e-e2c3377c9709",
   "metadata": {},
   "outputs": [
    {
     "name": "stdout",
     "output_type": "stream",
     "text": [
      "INSTANCE:  0\n",
      "2  :  [[  4.0974   0.      19.58     0.       0.871    5.468  100.       1.4118\n",
      "    5.     403.      14.7     26.42  ]]  :  [13.835]  :  [1.00000004e-05]  :  [-126.02433122]\n",
      "2  :  [[ 4.44215168e+00 -1.50056312e+01  1.93166721e+01 -5.05743942e-02\n",
      "   8.39716441e-01  5.06823601e+00  9.62859048e+01  1.10253995e+00\n",
      "   8.68107554e+00  2.36093720e+02  1.31133070e+01  2.26438459e+01]]  :  [0.]  :  [1.]  :  [-81.35109757]\n",
      "2  :  [[ 4.49372133e+00 -3.54996555e+01  1.75204345e+01  2.16435679e-04\n",
      "   8.55745280e-01  6.43876543e+00  4.41869367e+01 -2.29349522e-01\n",
      "   1.00088653e+00  3.36179936e+02  1.69487678e+01  3.59570865e+01]]  :  [0.]  :  [1.]  :  [-26.48021669]\n",
      "2  :  [[  4.51126107  13.49997103  24.54329934   0.77469956   0.86645848\n",
      "    5.69006981  86.24718207   5.1695727   17.19163156 727.94897212\n",
      "   14.2561201   42.64095294]]  :  [0.]  :  [1.]  :  [-306.73231802]\n",
      "2  :  [[ 1.16137102e+00 -2.43922110e+01  2.16125555e+01  5.48969865e-02\n",
      "   7.08826934e-01  4.77561366e+00  1.00330330e+02  2.14216833e-01\n",
      "   3.75516067e+00  1.98528227e+02  1.23544993e+01  3.80383747e+01]]  :  [0.]  :  [1.]  :  [-173.18901626]\n",
      "3  :  [[  4.0974   0.      19.58     0.       0.871    5.468  100.       1.4118\n",
      "    5.     403.      14.7     26.42  ]]  :  [13.835]  :  [1.00000004e-05]  :  [-12.06122803]\n",
      "3  :  [[ 3.32849258e+00 -1.68976915e+01  1.87703544e+01  2.30579546e-02\n",
      "   7.28266145e-01  5.58689101e+00  1.13871877e+02  3.45765277e+00\n",
      "   3.02716517e+00  6.09505136e+02  1.28856024e+01  3.24873525e+01]]  :  [14.12883657]  :  [0.02380294]  :  [-189.4970574]\n",
      "3  :  [[ 3.58578609e+00 -1.69060167e+01  1.69065031e+01 -2.46563705e-02\n",
      "   9.53651117e-01  4.65078452e+00  1.09823226e+02  5.29195015e-01\n",
      "   2.06702810e+00  7.98792907e+02  1.25146602e+01  3.77817890e+01]]  :  [14.19132821]  :  [0.03132352]  :  [-157.02920422]\n",
      "3  :  [[4.88732814e+00 1.07124274e+01 2.60092515e+01 3.18187467e-01\n",
      "  1.13425953e+00 5.25941013e+00 7.70251635e+01 2.34977750e+00\n",
      "  1.01760906e+01 3.30824725e+02 1.48715223e+01 2.64701240e+01]]  :  [13.67828262]  :  [0.02150095]  :  [-119.27167956]\n",
      "3  :  [[ 3.39094495e+00  9.10531440e+00  2.44879523e+01  5.24221279e-02\n",
      "   7.24551686e-01  5.80406811e+00  1.03319458e+02 -1.03304154e+00\n",
      "   1.10539781e+01  2.94607685e+02  1.66845989e+01  2.08962264e+01]]  :  [13.58727745]  :  [0.01756454]  :  [-139.08433568]\n",
      "4  :  [[  4.0974   0.      19.58     0.       0.871    5.468  100.       1.4118\n",
      "    5.     403.      14.7     26.42  ]]  :  [13.835]  :  [1.00000004e-05]  :  [-15.11695267]\n",
      "4  :  [[ 6.42090054e+00 -1.84434773e+00  1.87197681e+01  1.05820634e-01\n",
      "   9.16592996e-01  6.09897886e+00  7.70516880e+01 -2.41863863e+00\n",
      "   9.27872805e+00  3.83601239e+02  1.57830367e+01  2.67777054e+01]]  :  [2.92262671e-205]  :  [1.]  :  [-67.55712304]\n",
      "4  :  [[2.00537817e+00 1.27926960e+01 1.41386828e+01 2.28089908e-02\n",
      "  9.75448582e-01 4.87514907e+00 7.91590571e+01 3.17498857e+00\n",
      "  7.94303484e+00 2.34846138e+02 1.85175332e+01 2.92297775e+01]]  :  [0.]  :  [1.]  :  [-172.60362922]\n",
      "4  :  [[ 3.06083738e+00 -1.71831795e+01  1.11734113e+01  7.87964682e-02\n",
      "   6.85066326e-01  6.29943039e+00  1.13904611e+02  5.40672951e+00\n",
      "   4.33919501e+00  1.75336116e+02  1.21535070e+01  3.21027903e+01]]  :  [0.]  :  [1.]  :  [-89.28333961]\n",
      "4  :  [[  1.07160823   5.8811891    5.01402131  -0.72308719   1.0895929\n",
      "    6.35872011 125.61423853  -1.09934293   5.73799971 215.9616472\n",
      "   13.02406727  37.87155789]]  :  [0.]  :  [1.]  :  [-90.13399065]\n",
      "5  :  [[  4.0974   0.      19.58     0.       0.871    5.468  100.       1.4118\n",
      "    5.     403.      14.7     26.42  ]]  :  [13.835]  :  [1.00000004e-05]  :  [-18.98001146]\n",
      "5  :  [[  0.49655609  15.2724034   18.04838484   0.22938908   0.89671396\n",
      "    4.94993179 126.3874062   -1.65302185  -7.67656234  89.97077348\n",
      "   16.44882178  23.35133671]]  :  [13.92662597]  :  [0.45836856]  :  [-187.891811]\n",
      "5  :  [[-1.66955086e+00 -4.80742679e+00  1.24776848e+01 -2.91971682e-02\n",
      "   9.90151118e-01  5.80416585e+00  1.01546310e+02  3.07187147e+00\n",
      "   4.70274913e+00  2.76651134e+02  1.63179777e+01  3.11706104e+01]]  :  [9.07610419]  :  [0.68649891]  :  [-47.27329914]\n",
      "5  :  [[  9.20081839 -16.51893456  19.29758173   0.18708736   1.19477768\n",
      "    5.99625019 147.96144579   3.46709593  14.83994473 121.43095115\n",
      "   16.11816218  30.90835882]]  :  [10.34754243]  :  [0.64778199]  :  [-92.75918079]\n",
      "5  :  [[  2.79478069 -26.52522734  21.0688547   -0.64387841   0.88791826\n",
      "    5.52304154 133.04686652  -2.81861953   8.96014425 448.45784835\n",
      "   13.2463276   31.42888829]]  :  [13.27983562]  :  [0.42947484]  :  [-29.9568442]\n",
      "6  :  [[  4.0974   0.      19.58     0.       0.871    5.468  100.       1.4118\n",
      "    5.     403.      14.7     26.42  ]]  :  [13.835]  :  [1.00000004e-05]  :  [-25.78696892]\n",
      "6  :  [[ 2.14779797e+00 -4.35782125e+01  2.31977853e+01 -4.03139435e-01\n",
      "   9.45250401e-01  5.30815242e+00  1.26736120e+02  1.50662667e+00\n",
      "   1.38348119e+01  7.16610329e+02  1.42013697e+01  2.22531525e+01]]  :  [0.]  :  [1.]  :  [-153.00823976]\n",
      "6  :  [[  5.57024528   3.89017085  24.32224065  -0.65924167   0.85543262\n",
      "    5.78832276  88.02123077  -0.24916257  -6.24704227 228.98162805\n",
      "   12.3879668    9.71942097]]  :  [0.]  :  [1.]  :  [-117.28274825]\n",
      "6  :  [[ 2.84548390e+00 -6.35719757e+00  1.96260776e+01  7.53770337e-02\n",
      "   7.26923865e-01  5.39548184e+00  1.33332389e+02  8.99511896e-01\n",
      "   6.66786463e+00  2.68251268e+02  1.43704647e+01  2.38182864e+01]]  :  [0.]  :  [1.]  :  [-88.43186756]\n",
      "6  :  [[  7.96168856  -2.97128179   9.96449678   0.58206836   0.97031757\n",
      "    5.27033627  86.56372679   3.41696844   1.89379363 448.30784908\n",
      "   11.08545351  40.51018594]]  :  [0.]  :  [1.]  :  [-21.64570546]\n",
      "7  :  [[  4.0974   0.      19.58     0.       0.871    5.468  100.       1.4118\n",
      "    5.     403.      14.7     26.42  ]]  :  [13.835]  :  [1.00000004e-05]  :  [-26.7363803]\n",
      "7  :  [[ 1.97321021e+00 -5.45911017e+00  2.24925533e+01  1.71617703e-01\n",
      "   5.21214410e-01  6.38274098e+00  6.82653747e+01  1.30090923e+00\n",
      "   1.66482964e+01  4.66276901e+02  1.64966448e+01  3.16810571e+01]]  :  [0.]  :  [1.]  :  [-106.11056477]\n",
      "7  :  [[  6.65974366  -5.23395918  19.88919506  -0.80577046   0.81609751\n",
      "    5.16091145  68.91927772   4.00497016  14.57103169 403.28079175\n",
      "   13.79667056  19.81597759]]  :  [6.31562579e-248]  :  [1.]  :  [-19.05336797]\n",
      "7  :  [[ 6.82655583e-01  1.35170735e+01  2.27246309e+01 -1.26172250e-02\n",
      "   9.24016015e-01  6.14533171e+00  1.81569978e+02  2.28343123e+00\n",
      "   1.86555150e+01  7.12300047e+02  1.45230070e+01  3.54156459e+01]]  :  [0.]  :  [1.]  :  [-187.43199767]\n",
      "7  :  [[ 4.50257101e+00 -7.25575878e+00  3.11089857e+01 -3.88259436e-02\n",
      "   7.06172642e-01  4.85410434e+00  1.37507599e+02  3.78583812e+00\n",
      "   6.98955934e+00  3.34463169e+02  1.79548636e+01  2.70293375e+01]]  :  [0.]  :  [1.]  :  [-31.82317984]\n",
      "8  :  [[  4.0974   0.      19.58     0.       0.871    5.468  100.       1.4118\n",
      "    5.     403.      14.7     26.42  ]]  :  [13.835]  :  [1.00000004e-05]  :  [-4.227849]\n",
      "8  :  [[ 6.36294931e+00  1.68712987e+01  2.46285498e+01 -3.22470258e-02\n",
      "   6.35539231e-01  5.69893513e+00  9.42838749e+01  4.54860148e+00\n",
      "   3.36219899e+00  4.21403474e+02  1.72800816e+01  3.67277192e+01]]  :  [12.70786336]  :  [0.39540429]  :  [-11.05932066]\n",
      "8  :  [[ 3.87210663e+00 -1.43661160e+01  7.10990389e-01 -2.72554365e-01\n",
      "   7.35422297e-01  6.40033621e+00  1.08758574e+02 -6.87080451e-01\n",
      "   1.25131953e+01  4.47403117e+02  1.28300885e+01  2.18302036e+01]]  :  [10.43681063]  :  [0.65682441]  :  [-33.27442165]\n",
      "8  :  [[ 6.54442647e+00 -2.28773197e+00  2.05252813e+01 -4.34840798e-01\n",
      "   9.69865701e-01  4.60492145e+00  8.94461261e+01 -1.49767908e-02\n",
      "  -8.54438069e-01  3.71948864e+02  1.22447858e+01  2.88024844e+01]]  :  [12.28757447]  :  [0.46015685]  :  [-61.08489378]\n",
      "8  :  [[ 4.59387241e+00  9.08908605e+00  1.82608096e+01 -6.32682670e-03\n",
      "   8.03012488e-01  6.39801590e+00  7.57505381e+01 -3.49008542e+00\n",
      "  -9.08229954e+00  1.16706323e+02  9.72160908e+00  2.79880625e+01]]  :  [14.15650714]  :  [0.48054267]  :  [-157.73374454]\n",
      "9  :  [[  4.0974   0.      19.58     0.       0.871    5.468  100.       1.4118\n",
      "    5.     403.      14.7     26.42  ]]  :  [13.835]  :  [1.00000004e-05]  :  [-49.63496817]\n",
      "9  :  [[ 3.96666107e+00  3.81183481e+01  2.70924764e+01  2.19339622e-01\n",
      "   9.04177056e-01  6.21845581e+00  1.42099822e+02  3.48312239e+00\n",
      "  -2.32389881e+00  7.33845776e+02  1.67584902e+01  1.90704138e+01]]  :  [0.]  :  [1.]  :  [-159.89321462]\n",
      "9  :  [[ 5.14719958e+00 -7.77662279e+00  1.63062424e+01  1.84206160e-01\n",
      "   9.11638437e-01  5.27439078e+00  9.97930321e+01  3.18485131e+00\n",
      "   1.10836875e+00  3.35000355e+02  1.12967867e+01  2.15044279e+01]]  :  [0.]  :  [1.]  :  [-19.36829838]\n",
      "9  :  [[  2.44965712  20.51384182  16.13080224   0.2277665    0.95321776\n",
      "    5.85732016  76.67739823   1.68184926   8.46254134 -98.99158819\n",
      "   15.37060577  25.0296693 ]]  :  [0.]  :  [1.]  :  [-186.90825948]\n",
      "9  :  [[ 2.17925913e+00  5.16716755e+01  1.54744731e+01 -3.23545083e-02\n",
      "   8.57491759e-01  5.56628949e+00  8.55346734e+01 -2.80635808e+00\n",
      "   1.82290158e+00  3.02494991e+02  1.20143484e+01  2.85152943e+01]]  :  [0.]  :  [1.]  :  [-63.83441584]\n",
      "10  :  [[  4.0974   0.      19.58     0.       0.871    5.468  100.       1.4118\n",
      "    5.     403.      14.7     26.42  ]]  :  [13.835]  :  [1.00000004e-05]  :  [-13.50886383]\n",
      "10  :  [[1.69213691e+00 5.18777214e+01 1.13625117e+01 3.63445936e-01\n",
      "  8.69830227e-01 5.17988782e+00 1.07072022e+02 4.24145623e-01\n",
      "  1.76415907e+01 4.83651007e+02 1.38012838e+01 1.61127074e+01]]  :  [2.28379601e-92]  :  [1.]  :  [-71.75379436]\n",
      "10  :  [[ 5.71252747e+00 -1.84044060e+01  8.02404142e+00  2.07714539e-01\n",
      "   9.45566633e-01  5.39785899e+00  1.18400526e+02  3.20898371e+00\n",
      "   6.99196623e+00  5.18386708e+02  1.13827445e+01  1.62205070e+01]]  :  [1.721201e-137]  :  [1.]  :  [-21.18522642]\n",
      "10  :  [[5.62217327e+00 1.57796768e+01 7.21766717e+00 2.18454487e-03\n",
      "  1.11210076e+00 4.78668854e+00 1.09144312e+02 2.17586807e+00\n",
      "  1.26732178e+00 3.29437334e+02 9.91720474e+00 2.50678770e+01]]  :  [4.62927842e-57]  :  [1.]  :  [-21.89293029]\n",
      "10  :  [[ 5.42695079e+00  7.18090933e+00  1.72478168e+01 -3.94145466e-01\n",
      "   8.32981129e-01  5.64230629e+00  1.37668321e+02  2.61491392e+00\n",
      "   1.56788941e+01  4.88613226e+02  1.27761401e+01  2.58098911e+01]]  :  [5.59712465e-86]  :  [1.]  :  [-86.85014715]\n",
      "11  :  [[  4.0974   0.      19.58     0.       0.871    5.468  100.       1.4118\n",
      "    5.     403.      14.7     26.42  ]]  :  [13.835]  :  [1.00000004e-05]  :  [-10.70445135]\n",
      "11  :  [[4.69148652e+00 1.30249946e+01 1.18253284e+01 2.41947046e-01\n",
      "  9.62302755e-01 5.89320599e+00 1.14539606e+02 1.30378173e+00\n",
      "  1.48463060e+00 5.33766692e+02 1.24586077e+01 2.34725539e+01]]  :  [0.]  :  [1.]  :  [-34.44818237]\n",
      "11  :  [[ 2.43709799e+00  6.60732900e+00  2.71101386e+01 -1.48037224e-01\n",
      "   9.20587372e-01  6.38819209e+00  7.03764513e+01  3.55684538e+00\n",
      "   1.63778788e+00  3.91941530e+02  1.66289676e+01  1.44959068e+01]]  :  [2.04268764e-274]  :  [1.]  :  [-33.30713408]\n",
      "11  :  [[  2.82962821   4.65148592  18.67762065   0.47366827   0.80296118\n",
      "    6.11522702  61.5987661    4.13721466   8.41904721 173.54295764\n",
      "   10.70824076  21.35064889]]  :  [0.]  :  [1.]  :  [-44.16050286]\n",
      "11  :  [[ 8.15813605e+00  5.46605966e+00  2.74393215e+01  7.52365794e-02\n",
      "   7.57644002e-01  3.48457681e+00  1.04273445e+02  3.27920455e+00\n",
      "  -8.23730878e-01  3.45324557e+02  1.41161686e+01  1.86736946e+01]]  :  [0.]  :  [1.]  :  [-11.67290466]\n",
      "12  :  [[  4.0974   0.      19.58     0.       0.871    5.468  100.       1.4118\n",
      "    5.     403.      14.7     26.42  ]]  :  [13.835]  :  [1.00000004e-05]  :  [-6.19429659]\n",
      "12  :  [[ 3.10947495e+00 -4.81684418e+01  2.17064510e+01  2.70950455e-02\n",
      "   9.77855010e-01  5.14068445e+00  6.88299634e+01 -1.34819150e+00\n",
      "   1.47373879e+01  4.30664920e+02  1.66501706e+01  2.71835762e+01]]  :  [8.60249052]  :  [0.7709886]  :  [-31.22373052]\n",
      "12  :  [[ 1.90567855e+00  2.68780020e+01  2.16514225e+01 -2.94976458e-01\n",
      "   9.76047067e-01  6.54566675e+00  9.83795443e+01  6.96234548e+00\n",
      "   4.65437947e+00  6.84669022e+02  1.63531639e+01  2.31701556e+01]]  :  [6.01700861]  :  [0.54015416]  :  [-110.95201225]\n",
      "12  :  [[ 8.31285853e+00  1.55229696e+01  2.50376998e+01 -3.32607060e-02\n",
      "   7.17674738e-01  4.92036997e+00  9.37176737e+01  4.63858513e+00\n",
      "   2.23622221e+00  4.51318236e+02  1.07940153e+01  2.50443453e+01]]  :  [9.99545031]  :  [0.66480089]  :  [-64.54065298]\n",
      "12  :  [[ 6.15772701e+00 -3.03471783e+01  2.52063563e+01 -3.13189525e-02\n",
      "   8.66476689e-01  4.46708164e+00  1.52105355e+02  1.13659964e+00\n",
      "   1.23462561e+01  2.46128938e+02  1.52616153e+01  2.96466302e+01]]  :  [6.5619627]  :  [0.93174883]  :  [-113.27690725]\n",
      "13  :  [[  4.0974   0.      19.58     0.       0.871    5.468  100.       1.4118\n",
      "    5.     403.      14.7     26.42  ]]  :  [13.835]  :  [1.00000004e-05]  :  [-9.91212463]\n",
      "13  :  [[ 4.60143501e+00 -1.97572803e+01  1.61111081e+01  7.82111049e-02\n",
      "   7.64950354e-01  6.84551800e+00  6.54736811e+01  4.44981008e+00\n",
      "  -1.41860755e+00  4.46306951e+02  1.69695921e+01  2.46082496e+01]]  :  [0.]  :  [1.]  :  [-44.23835947]\n",
      "13  :  [[ 9.73093294e-01  3.78585202e+01  9.83748792e+00 -2.00578242e-01\n",
      "   7.01155592e-01  5.11389932e+00  6.40936157e+01  1.56567789e+00\n",
      "   1.09858496e+01  2.38131251e+02  1.70307599e+01  2.16587571e+01]]  :  [3.98281261e-247]  :  [1.]  :  [-58.06896258]\n",
      "13  :  [[-1.68044492e-01 -2.76135868e+01  2.75322594e+01 -2.99485769e-03\n",
      "   8.84989395e-01  5.43060230e+00  9.70587378e+01 -1.06397324e-01\n",
      "  -6.76269094e+00  6.65008187e+02  1.35790572e+01  3.02908346e+01]]  :  [0.]  :  [1.]  :  [-134.09298487]\n",
      "13  :  [[ 7.25310028e+00 -6.34842377e+00  2.09698580e+01 -1.30617679e-03\n",
      "   1.19208577e+00  6.15944961e+00  7.66275093e+01  9.88590401e-01\n",
      "   5.80573142e+00  1.69912188e+02  1.66760042e+01  2.27236745e+01]]  :  [0.]  :  [1.]  :  [-163.32415552]\n",
      "14  :  [[  4.0974   0.      19.58     0.       0.871    5.468  100.       1.4118\n",
      "    5.     403.      14.7     26.42  ]]  :  [13.835]  :  [1.00000004e-05]  :  [-57.10270226]\n",
      "14  :  [[  2.88491192  27.18534923  18.95480337  -0.32311217   0.95697873\n",
      "    5.78919937  68.5583391    3.15975862  -1.9362256  207.99330686\n",
      "   19.78084876  40.3417391 ]]  :  [14.94779224]  :  [0.53367315]  :  [-100.25767482]\n",
      "14  :  [[1.64400439e+00 8.37243454e+00 1.96136845e+01 1.67770742e-01\n",
      "  8.52355640e-01 5.53168132e+00 1.38326572e+02 1.00463475e-01\n",
      "  5.25687209e-01 3.34115852e+02 1.55701127e+01 2.87236556e+01]]  :  [8.62914579]  :  [0.87108456]  :  [-43.78435286]\n",
      "14  :  [[ 6.41470180e+00 -1.64873431e+01  1.13688890e+01  1.12068530e-01\n",
      "   1.01469880e+00  5.58931175e+00  7.35176517e+01  2.13282141e+00\n",
      "   1.21159825e+01  3.97137250e+02  1.59075842e+01  3.14943588e+01]]  :  [12.22253207]  :  [0.49187293]  :  [-74.73063722]\n",
      "14  :  [[ 7.93476894e+00 -1.87860517e+01  1.55878943e+01  1.55922531e-01\n",
      "   6.70292446e-01  5.44418971e+00  8.00503943e+01  2.77849311e+00\n",
      "   4.55495942e+00  4.33638520e+02  1.53776277e+01  2.43442701e+01]]  :  [11.03280328]  :  [0.58157193]  :  [-26.26899933]\n",
      "15  :  [[  4.0974   0.      19.58     0.       0.871    5.468  100.       1.4118\n",
      "    5.     403.      14.7     26.42  ]]  :  [13.835]  :  [1.00000004e-05]  :  [-11.10069877]\n",
      "15  :  [[4.10383909e+00 2.10362254e+00 2.31347385e+01 2.60357175e-01\n",
      "  8.91216744e-01 5.73629108e+00 1.26894725e+02 1.77936790e+00\n",
      "  4.02798043e+00 3.92547701e+02 1.26752772e+01 3.58955266e+01]]  :  [12.53740775]  :  [0.43579802]  :  [-29.17815226]\n",
      "15  :  [[ 1.22902910e+00 -4.47498083e+00  1.97387201e+01 -3.29767838e-01\n",
      "   9.71138581e-01  4.43195149e+00  1.15749612e+02  1.39252116e+00\n",
      "   1.01030134e+01  4.44361525e+02  1.30926844e+01  3.48166773e+01]]  :  [10.65566677]  :  [0.6096079]  :  [-27.12920402]\n",
      "15  :  [[ 2.24784273e+00  2.82718268e+01  2.74888622e+01 -1.91753956e-01\n",
      "   7.97524696e-01  5.24992142e+00  7.79087638e+01  1.31905173e+00\n",
      "   1.64405359e+01  3.11109394e+02  1.55976821e+01  2.09844701e+01]]  :  [10.80428809]  :  [0.82619643]  :  [-26.76929462]\n",
      "15  :  [[ 4.92167898e+00 -1.10060955e+01  3.27964790e+01  4.60760618e-01\n",
      "   8.68588980e-01  4.84966114e+00  9.14089835e+01  1.12630090e+00\n",
      "   1.49582276e+01  4.99378096e+02  1.79421469e+01  2.28172782e+01]]  :  [4.49713481]  :  [0.94178736]  :  [-91.76815625]\n",
      "16  :  [[  4.0974   0.      19.58     0.       0.871    5.468  100.       1.4118\n",
      "    5.     403.      14.7     26.42  ]]  :  [13.835]  :  [1.00000004e-05]  :  [-20.26517223]\n",
      "16  :  [[  4.38136707  -9.9381592   21.13806802   0.55038834   1.01100477\n",
      "    5.6767392  114.85609599   1.33842824   1.37559574 303.64925094\n",
      "   15.40873218  36.3900285 ]]  :  [0.]  :  [1.]  :  [-44.41520092]\n",
      "16  :  [[2.71624797e+00 5.88088934e+00 2.26311290e+01 3.63330630e-01\n",
      "  1.07740315e+00 6.27922068e+00 9.12397684e+01 2.73619630e-01\n",
      "  4.79674857e+00 4.78323428e+02 1.29621090e+01 2.85532143e+01]]  :  [0.]  :  [1.]  :  [-62.67993591]\n",
      "16  :  [[ 1.47262538e+00 -5.52545540e-01  1.92160265e+01  9.84909580e-02\n",
      "   9.07757419e-01  5.66768554e+00  1.43200906e+02  3.41795002e+00\n",
      "   5.25151084e+00  9.27495119e+01  1.53896265e+01  3.58551402e+01]]  :  [3.01486916e-263]  :  [1.]  :  [-135.78894583]\n",
      "16  :  [[ 5.35572121e+00  3.29714620e+01  1.02244282e+01 -1.69154810e-01\n",
      "   9.68588288e-01  5.21911707e+00  5.75692560e+01 -1.16176280e+00\n",
      "   3.34573997e+00  4.30371199e+02  1.36986989e+01  2.76818282e+01]]  :  [0.]  :  [1.]  :  [-36.31470986]\n",
      "17  :  [[  4.0974   0.      19.58     0.       0.871    5.468  100.       1.4118\n",
      "    5.     403.      14.7     26.42  ]]  :  [13.835]  :  [1.00000004e-05]  :  [-24.08106473]\n",
      "17  :  [[ 1.48690719e+00 -3.93601765e+00  1.31611971e+01 -2.27159648e-01\n",
      "   7.88938119e-01  5.63247718e+00  7.78218218e+01  1.57585663e+00\n",
      "   2.71670271e+00  5.56510540e+02  1.19999016e+01  3.52071309e+01]]  :  [0.56850453]  :  [0.99879109]  :  [-105.80050671]\n",
      "17  :  [[  4.53761353 -48.57597096  12.88455167   0.68867775   0.59661175\n",
      "    5.00935944  85.91145494   2.94472665  11.79420271 204.80649111\n",
      "   12.49636326  20.13165872]]  :  [26.99679686]  :  [0.37016527]  :  [-122.14519545]\n",
      "17  :  [[ 4.92239962e+00  4.02126223e+01  3.47604040e+01  6.47203991e-02\n",
      "   8.75342935e-01  5.25783947e+00  8.14224258e+01  2.84503411e+00\n",
      "  -2.45076685e+00  5.69454066e+02  1.86666625e+01  2.26111448e+01]]  :  [0.25364711]  :  [0.9990296]  :  [-74.96237797]\n",
      "17  :  [[ 1.34039341e+00 -4.50695839e+01  1.66015395e+01  3.93302203e-01\n",
      "   8.12347189e-01  4.58366095e+00  1.45310971e+02  2.78758507e+00\n",
      "  -6.23024804e+00  6.58837970e+02  1.28095656e+01  2.77562200e+01]]  :  [3.88906006]  :  [0.931281]  :  [-106.7821226]\n",
      "18  :  [[  4.0974   0.      19.58     0.       0.871    5.468  100.       1.4118\n",
      "    5.     403.      14.7     26.42  ]]  :  [13.835]  :  [1.00000004e-05]  :  [-5.5397313]\n",
      "18  :  [[  2.81071803  10.04978611  10.4120424    0.46555902   0.89327556\n",
      "    5.400643    94.81852058   1.52350675  20.37935467 256.86781046\n",
      "   16.305475    27.06490121]]  :  [13.8938058]  :  [0.63164712]  :  [-63.1487569]\n",
      "18  :  [[ 8.61181983e+00  1.82747323e+01  5.47504546e+00 -4.93189098e-02\n",
      "   9.53116105e-01  6.35553674e+00  1.11406229e+02  4.47393336e+00\n",
      "  -9.51070810e+00  3.81288203e+02  1.90072653e+01  2.78932773e+01]]  :  [11.65308018]  :  [0.55462554]  :  [-30.89965366]\n",
      "18  :  [[ 2.57907398e+00  3.23912239e+00  1.20591402e+01 -9.42055197e-02\n",
      "   1.11450780e+00  5.51865640e+00  6.54186671e+01 -2.37107402e+00\n",
      "  -2.54931991e+00  5.84847261e+02  1.09382629e+01  1.67270551e+01]]  :  [0.0319472]  :  [0.99771792]  :  [-68.21840237]\n",
      "18  :  [[ 2.95838302e+00 -3.13227752e+01  2.00770806e+01 -2.15080321e-01\n",
      "   8.32422824e-01  5.64996002e+00  1.00120119e+02  4.56012313e+00\n",
      "  -5.14074578e+00  4.67419879e+02  1.82382921e+01  2.24763927e+01]]  :  [6.84752274]  :  [0.86681878]  :  [-26.38363791]\n",
      "19  :  [[  4.0974   0.      19.58     0.       0.871    5.468  100.       1.4118\n",
      "    5.     403.      14.7     26.42  ]]  :  [13.835]  :  [1.00000004e-05]  :  [-21.36859065]\n",
      "19  :  [[ 4.11423739e+00  8.92666611e+00  2.68761930e+01  1.71349407e-01\n",
      "   9.99466667e-01  6.82909269e+00  8.30584108e+01 -1.91225590e+00\n",
      "   1.60760710e+00  5.42998487e+02  1.71031737e+01  2.23578016e+01]]  :  [1.08575717]  :  [0.99675835]  :  [-88.21488422]\n",
      "19  :  [[  3.24169476  36.28546697  25.09544709  -0.49806113   0.91578598\n",
      "    5.29221284 135.91380538   3.27613223   1.59055584 388.41721851\n",
      "   15.34852557  34.40638081]]  :  [9.58929927]  :  [0.72364098]  :  [-78.9275738]\n",
      "19  :  [[ 9.09088224e+00  2.60663232e+01  2.56856993e+01  4.47631900e-01\n",
      "   9.53515975e-01  6.57222661e+00  9.80057532e+01  2.17456895e+00\n",
      "  -1.54798343e+00  5.21043803e+02  1.54848032e+01  2.84382360e+01]]  :  [2.14305471]  :  [0.9878958]  :  [-77.58367533]\n",
      "19  :  [[ 6.30463404e+00 -9.04729326e+00  2.77111673e+01 -2.23966310e-01\n",
      "   9.36865724e-01  4.93990158e+00  1.08318496e+02 -1.60798832e+00\n",
      "  -4.51354471e-01  7.27784779e+02  1.13250149e+01  3.24140134e+01]]  :  [12.30255453]  :  [0.48534697]  :  [-146.83321566]\n",
      "20  :  [[  4.0974   0.      19.58     0.       0.871    5.468  100.       1.4118\n",
      "    5.     403.      14.7     26.42  ]]  :  [13.835]  :  [1.00000004e-05]  :  [-11.93475653]\n",
      "20  :  [[ 2.97048519e+00  3.31443216e+01  1.53029140e+01 -1.91329408e-01\n",
      "   7.77560980e-01  5.80842948e+00  1.52913791e+02  1.01943215e+00\n",
      "   3.99847193e-03  4.63064039e+02  1.39472015e+01  2.42515022e+01]]  :  [4.96462507]  :  [0.93291368]  :  [-62.49664862]\n",
      "20  :  [[  6.69926379 -32.07389356  10.16803669   0.62910402   0.80968389\n",
      "    5.25086767 100.8108783    4.47188277   6.66077923 285.67187189\n",
      "   14.03654856  24.81123984]]  :  [11.60685845]  :  [0.86942716]  :  [-86.3063084]\n",
      "20  :  [[ 8.46269826e-01 -1.78599433e+00  3.44665462e+01  7.61582543e-02\n",
      "   8.63428727e-01  6.03885530e+00  1.04825784e+02  3.09120651e+00\n",
      "   5.14885349e+00  5.45808876e+02  1.74624809e+01  2.89428083e+01]]  :  [1.90998627]  :  [0.99457358]  :  [-39.8859474]\n",
      "20  :  [[ 7.36334571e+00  4.08984805e+01  2.15907320e+01 -3.37218176e-01\n",
      "   8.01345542e-01  6.35913216e+00  6.89679918e+01  2.00666011e+00\n",
      "   5.39184560e+00  5.37918031e+02  2.06953494e+01  2.15164705e+01]]  :  [1.20638567]  :  [0.99765722]  :  [-91.49484824]\n",
      "21  :  [[  4.0974   0.      19.58     0.       0.871    5.468  100.       1.4118\n",
      "    5.     403.      14.7     26.42  ]]  :  [13.835]  :  [1.00000004e-05]  :  [-33.18009369]\n",
      "21  :  [[ 2.17273365e+00 -2.49369444e+01  1.94099744e+01  2.28628474e-01\n",
      "   1.09029721e+00  4.52448521e+00  1.65435097e+02  2.28698305e+00\n",
      "   3.28293675e+00  6.83822151e+02  1.75279311e+01  3.94558760e+01]]  :  [13.14622084]  :  [0.56376739]  :  [-165.43431609]\n",
      "21  :  [[1.43781174e-01 2.34091960e+01 2.09787103e+01 1.21034814e-01\n",
      "  7.86248565e-01 5.14336206e+00 1.51088158e+02 2.55029433e-01\n",
      "  1.62666426e+01 3.66503012e+02 1.77132730e+01 2.82114508e+01]]  :  [7.38990122]  :  [0.85426237]  :  [-37.04431489]\n",
      "21  :  [[ 6.60354557e+00  1.16926423e+01  2.06040402e+01 -9.68380526e-02\n",
      "   9.74206964e-01  5.04205766e+00  1.20575728e+02  5.77094659e-01\n",
      "  -2.77680930e+00  4.57038236e+02  1.14388397e+01  2.51073564e+01]]  :  [8.34192296]  :  [0.79584751]  :  [-7.80048065]\n",
      "21  :  [[ 2.83481712e+00  1.77730584e+01  2.67518118e+01 -1.66391287e-01\n",
      "   8.92147227e-01  5.47495751e+00  6.63880404e+01  7.80460439e-01\n",
      "   1.94792508e+01  5.52875301e+02  1.38611449e+01  1.75144931e+01]]  :  [1.47044717]  :  [0.99670336]  :  [-55.60980185]\n",
      "Feature: 0, Score: 0.00119\n",
      "Feature: 1, Score: 9.37485\n",
      "Feature: 2, Score: 0.05943\n",
      "Feature: 3, Score: 0.00000\n",
      "Feature: 4, Score: 0.00000\n",
      "Feature: 5, Score: 0.00003\n",
      "Feature: 6, Score: 14.32832\n",
      "Feature: 7, Score: 0.00128\n",
      "Feature: 8, Score: 0.35469\n",
      "Feature: 9, Score: 37.82472\n",
      "Feature: 10, Score: 0.00147\n",
      "Feature: 11, Score: 0.23710\n",
      "[13.835] [1.38350000e+01 1.00000004e-05]\n"
     ]
    }
   ],
   "source": [
    "# Generate explantion data for Random Forest\n",
    "\n",
    "Boston_Stats = Feature_Statistics(feature_names = Boston_Data.get_features(), mode = Boston_Data.get_mode())\n",
    "\n",
    "if Num_Points == 0: Num_Points = X_test.shape[0]\n",
    "\n",
    "for test_instance in range(Num_Points):\n",
    "\n",
    "    print('INSTANCE: ', test_instance)\n",
    "       \n",
    "    data_row  = np.array([X_test[test_instance]])\n",
    "    \n",
    "    Unravel_Exp.explain(X_init            = data_row,\n",
    "                        feature_names     = Boston_Data.get_features(),\n",
    "                        alpha             = \"FUR_W\",\n",
    "                        max_iter          = 20,\n",
    "                        normalize         = False,\n",
    "                        importance_method = \"ARD\")\n",
    "       \n",
    "    f_predict = Boston_Data.get_Random_Forest().predict(data_row.reshape(1, -1))\n",
    "\n",
    "    e_predict = Unravel_Exp.exp_predict(data_row)\n",
    "    \n",
    "    e_predict = np.array(e_predict).ravel()\n",
    "    \n",
    "    print(f_predict, e_predict)\n",
    "    \n",
    "\n",
    "    Boston_Stats.Add_Sample(sample       = data_row,\n",
    "                            outcome      = y_test[test_instance],\n",
    "                            f_prediction = f_predict,\n",
    "                            e_prediction = e_predict)\n",
    "    "
   ]
  },
  {
   "cell_type": "code",
   "execution_count": 11,
   "id": "ad6a73a4-cd4b-4baf-a2dd-2992c57bbc61",
   "metadata": {},
   "outputs": [],
   "source": [
    "debug_data = Unravel_Exp.get_debug_data()"
   ]
  },
  {
   "cell_type": "code",
   "execution_count": 12,
   "id": "a3418333-5647-4574-9d6f-557fa88732cd",
   "metadata": {},
   "outputs": [],
   "source": [
    "x_diffs = debug_data[:,:,0]\n",
    "mean_ps = debug_data[:,:,1]\n",
    "std_ps  = debug_data[:,:,2]\n",
    "f_acqs  = debug_data[:,:,3]"
   ]
  },
  {
   "cell_type": "code",
   "execution_count": 13,
   "id": "e0414c9d-4f7d-4fa6-ae0d-909f7da849d1",
   "metadata": {},
   "outputs": [],
   "source": [
    "#print(f_acqs)"
   ]
  },
  {
   "cell_type": "code",
   "execution_count": 14,
   "id": "cd1fffa5-e03d-44c5-8e79-fc18396b2689",
   "metadata": {},
   "outputs": [],
   "source": [
    "#print(mean_ps)"
   ]
  },
  {
   "cell_type": "code",
   "execution_count": 15,
   "id": "4e60ec92-4b90-4dce-9408-e3f771da3b8b",
   "metadata": {},
   "outputs": [],
   "source": [
    "import matplotlib.pyplot as plt\n"
   ]
  },
  {
   "cell_type": "code",
   "execution_count": 16,
   "id": "850c1211-b3ba-4299-a091-e190ee07b43e",
   "metadata": {},
   "outputs": [
    {
     "name": "stdout",
     "output_type": "stream",
     "text": [
      "[13.835]\n",
      "[1.38350000e+01 1.00000004e-05]\n"
     ]
    }
   ],
   "source": [
    "print(f_predict)\n",
    "print(e_predict)\n"
   ]
  },
  {
   "cell_type": "code",
   "execution_count": 17,
   "id": "62a6032d-7f0e-4c1d-a708-53fbd99f51e3",
   "metadata": {},
   "outputs": [
    {
     "data": {
      "text/plain": [
       "<function matplotlib.pyplot.show(close=None, block=None)>"
      ]
     },
     "execution_count": 17,
     "metadata": {},
     "output_type": "execute_result"
    },
    {
     "data": {
      "image/png": "[encoded data removed]",
      "text/plain": [
       "<Figure size 640x480 with 1 Axes>"
      ]
     },
     "metadata": {},
     "output_type": "display_data"
    }
   ],
   "source": [
    "xmins = np.min(x_diffs, axis = 1)\n",
    "\n",
    "plt.scatter(x=range(20), y=xmins)\n",
    "plt.show"
   ]
  },
  {
   "cell_type": "code",
   "execution_count": 18,
   "id": "bc115eaf-13cd-48ed-8b7d-0e8aed20f1e0",
   "metadata": {},
   "outputs": [
    {
     "data": {
      "text/plain": [
       "<function matplotlib.pyplot.show(close=None, block=None)>"
      ]
     },
     "execution_count": 18,
     "metadata": {},
     "output_type": "execute_result"
    },
    {
     "data": {
      "image/png": "[encoded data removed]",
      "text/plain": [
       "<Figure size 640x480 with 1 Axes>"
      ]
     },
     "metadata": {},
     "output_type": "display_data"
    }
   ],
   "source": [
    "xmeans = np.mean(x_diffs, axis = 1)\n",
    "\n",
    "plt.scatter(x=range(20), y=xmeans)\n",
    "plt.show"
   ]
  },
  {
   "cell_type": "code",
   "execution_count": 19,
   "id": "70aa5688-6cc9-40e1-b39c-53bf40a26817",
   "metadata": {},
   "outputs": [
    {
     "data": {
      "text/plain": [
       "<function matplotlib.pyplot.show(close=None, block=None)>"
      ]
     },
     "execution_count": 19,
     "metadata": {},
     "output_type": "execute_result"
    },
    {
     "data": {
      "image/png": "[encoded data removed]",
      "text/plain": [
       "<Figure size 640x480 with 1 Axes>"
      ]
     },
     "metadata": {},
     "output_type": "display_data"
    }
   ],
   "source": [
    "xmins = np.min(x_diffs, axis = 0)\n",
    "\n",
    "plt.scatter(x=range(21), y=xmins)\n",
    "plt.show"
   ]
  },
  {
   "cell_type": "code",
   "execution_count": 20,
   "id": "0d94fc48-9bc4-4762-be8d-97edf8a88b5b",
   "metadata": {},
   "outputs": [
    {
     "data": {
      "text/plain": [
       "<function matplotlib.pyplot.show(close=None, block=None)>"
      ]
     },
     "execution_count": 20,
     "metadata": {},
     "output_type": "execute_result"
    },
    {
     "data": {
      "image/png": "[encoded data removed]",
      "text/plain": [
       "<Figure size 640x480 with 1 Axes>"
      ]
     },
     "metadata": {},
     "output_type": "display_data"
    }
   ],
   "source": [
    "std_min = np.min(std_ps, axis = 0)\n",
    "\n",
    "plt.scatter(x=range(21), y=std_min)\n",
    "plt.show"
   ]
  },
  {
   "cell_type": "code",
   "execution_count": 21,
   "id": "e4fc29aa-bfee-47d3-a60c-f68763a15ed2",
   "metadata": {},
   "outputs": [
    {
     "data": {
      "text/plain": [
       "<function matplotlib.pyplot.show(close=None, block=None)>"
      ]
     },
     "execution_count": 21,
     "metadata": {},
     "output_type": "execute_result"
    },
    {
     "data": {
      "image/png": "[encoded data removed]",
      "text/plain": [
       "<Figure size 640x480 with 1 Axes>"
      ]
     },
     "metadata": {},
     "output_type": "display_data"
    }
   ],
   "source": [
    "std_min = np.min(std_ps, axis = 1)\n",
    "\n",
    "plt.scatter(x=range(20), y=std_min)\n",
    "plt.show"
   ]
  },
  {
   "cell_type": "code",
   "execution_count": 22,
   "id": "6ca7638a-7a62-4651-be28-e9fa94723594",
   "metadata": {},
   "outputs": [
    {
     "data": {
      "text/plain": [
       "<function matplotlib.pyplot.show(close=None, block=None)>"
      ]
     },
     "execution_count": 22,
     "metadata": {},
     "output_type": "execute_result"
    },
    {
     "data": {
      "image/png": "[encoded data removed]",
      "text/plain": [
       "<Figure size 640x480 with 1 Axes>"
      ]
     },
     "metadata": {},
     "output_type": "display_data"
    }
   ],
   "source": [
    "std_mean = np.mean(std_ps, axis = 0)\n",
    "\n",
    "plt.scatter(x=range(21), y=std_mean)\n",
    "plt.show"
   ]
  },
  {
   "cell_type": "code",
   "execution_count": 23,
   "id": "9d9ad197-fd74-407f-8898-190cfe1c596f",
   "metadata": {},
   "outputs": [
    {
     "data": {
      "text/plain": [
       "<function matplotlib.pyplot.show(close=None, block=None)>"
      ]
     },
     "execution_count": 23,
     "metadata": {},
     "output_type": "execute_result"
    },
    {
     "data": {
      "image/png": "[encoded data removed]",
      "text/plain": [
       "<Figure size 640x480 with 1 Axes>"
      ]
     },
     "metadata": {},
     "output_type": "display_data"
    }
   ],
   "source": [
    "mean = np.mean(mean_ps, axis = 1)\n",
    "\n",
    "plt.scatter(x=range(20), y=mean)\n",
    "plt.show"
   ]
  },
  {
   "cell_type": "code",
   "execution_count": null,
   "id": "7487fc4f-d152-496b-85a6-c105e8b31d43",
   "metadata": {},
   "outputs": [],
   "source": []
  },
  {
   "cell_type": "code",
   "execution_count": null,
   "id": "bec67d34-45ab-4d2f-b1ab-07894a6a0747",
   "metadata": {},
   "outputs": [],
   "source": []
  },
  {
   "cell_type": "code",
   "execution_count": 24,
   "id": "effdc9e8-7fe5-4e0e-ad34-10e7e5abb64f",
   "metadata": {},
   "outputs": [
    {
     "ename": "<class 'SyntaxError'>",
     "evalue": "invalid syntax (C:/Users/deneb/AppData/Local/Temp/xpython_24412/4225526034.py, line 1)",
     "output_type": "error",
     "traceback": [
      "\u001b[1;36m  Cell \u001b[1;32mIn[24], line 1\u001b[1;36m\u001b[0m\n\u001b[1;33m    stop!!\u001b[0m\n\u001b[1;37m        ^\u001b[0m\n\u001b[1;31mSyntaxError\u001b[0m\u001b[1;31m:\u001b[0m invalid syntax\n"
     ]
    }
   ],
   "source": [
    "stop!!\n",
    "Boston_Stats.Feature_Counts(max_features=8, scaled=True, threshold=0.075)"
   ]
  },
  {
   "cell_type": "code",
   "execution_count": null,
   "id": "8d77a05d-a896-48ff-ad4c-0e3a7975460b",
   "metadata": {},
   "outputs": [],
   "source": [
    "Boston_Stats.Frequency_Plot()"
   ]
  },
  {
   "cell_type": "code",
   "execution_count": null,
   "id": "62897a39-35ee-4c21-9f76-bec5b37a48b8",
   "metadata": {},
   "outputs": [],
   "source": [
    "Boston_Stats.Box_Plot()"
   ]
  },
  {
   "cell_type": "code",
   "execution_count": null,
   "id": "bf759e94-ffcf-4383-8b17-d8648d7caafe",
   "metadata": {},
   "outputs": [],
   "source": [
    "Boston_Stats.Violin_Plot(top_features=False)"
   ]
  },
  {
   "cell_type": "code",
   "execution_count": null,
   "id": "a394dfa2-51fd-447c-967f-3b94f97e8874",
   "metadata": {},
   "outputs": [],
   "source": [
    "Boston_Container = Regression_Container(Boston_Stats, 5)\n",
    "\n",
    "Boston_Container.Feature_Counts(max_features=11, scaled=True, threshold=0.05)\n"
   ]
  },
  {
   "cell_type": "code",
   "execution_count": null,
   "id": "e59f91ee-ee9d-42c0-877f-2ebdee8410c5",
   "metadata": {},
   "outputs": [],
   "source": [
    "Boston_Container.Frequency_Plot()"
   ]
  },
  {
   "cell_type": "code",
   "execution_count": null,
   "id": "f63f1ab3-faac-43a2-a415-8ecde903060e",
   "metadata": {},
   "outputs": [],
   "source": [
    "Boston_Stats.Fidelity()"
   ]
  },
  {
   "cell_type": "code",
   "execution_count": null,
   "id": "c2580756-1f4e-497d-bab3-0e65979a448d",
   "metadata": {},
   "outputs": [],
   "source": [
    "Boston_Stats.Jaccard_Values()"
   ]
  },
  {
   "cell_type": "code",
   "execution_count": null,
   "id": "aee227c0-3941-4fe0-a65b-3510d07f995d",
   "metadata": {},
   "outputs": [],
   "source": [
    "Boston_Stats.Reg_Fidelity_Graph()"
   ]
  },
  {
   "cell_type": "code",
   "execution_count": null,
   "id": "835eb5c2-72bd-4d80-adff-fdae7343164e",
   "metadata": {},
   "outputs": [],
   "source": []
  }
 ],
 "metadata": {
  "kernelspec": {
   "display_name": "Python 3.11 (XPython)",
   "language": "python",
   "name": "xpython"
  },
  "language_info": {
   "file_extension": ".py",
   "mimetype": "text/x-python",
   "name": "python",
   "version": "3.11.0"
  }
 },
 "nbformat": 4,
 "nbformat_minor": 5
}
