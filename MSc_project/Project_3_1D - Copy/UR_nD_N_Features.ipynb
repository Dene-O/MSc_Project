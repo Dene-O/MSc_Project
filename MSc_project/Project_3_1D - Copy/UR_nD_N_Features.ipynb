{
 "cells": [
  {
   "cell_type": "code",
   "execution_count": 1,
   "id": "33815253-dca2-4013-b9e5-e64aacdeda2e",
   "metadata": {},
   "outputs": [],
   "source": [
    "# Import Libraries\n",
    "import numpy as np\n",
    "\n",
    "from project_utils.bb_model         import BB_Model\n",
    "from project_utils.feature_stats    import Feature_Statistics\n",
    "from project_utils.feature_stats    import Regression_Container\n",
    "from project_utils.acq_data_capture import Acq_Data_nD\n",
    "from project_utils.surroagte_gp     import Surrogate_GP\n",
    "\n",
    "\n",
    "\n",
    "Num_Points = 10\n"
   ]
  },
  {
   "cell_type": "code",
   "execution_count": 2,
   "id": "f29a7de3-601a-44ed-924d-f6d83c6d8004",
   "metadata": {},
   "outputs": [],
   "source": [
    "# Load Forrester model\n",
    "\n",
    "Reg_Data = BB_Model(dataset = 'Regression_2', Feature_Counts=[10,8])\n",
    "\n",
    "#Reg_Data.df().head()"
   ]
  },
  {
   "cell_type": "code",
   "execution_count": 3,
   "id": "ea385186-88ac-4037-8d21-cf7f3f0cf5a2",
   "metadata": {},
   "outputs": [
    {
     "name": "stderr",
     "output_type": "stream",
     "text": [
      "C:\\Users\\deneb\\AppData\\Local\\Programs\\Python\\Python311\\Lib\\site-packages\\sklearn\\neural_network\\_multilayer_perceptron.py:702: ConvergenceWarning: Stochastic Optimizer: Maximum iterations (200) reached and the optimization hasn't converged yet.\n",
      "  warnings.warn(\n"
     ]
    },
    {
     "name": "stdout",
     "output_type": "stream",
     "text": [
      "0.5948649522916043\n"
     ]
    },
    {
     "data": {
      "text/html": [
       "<style>#sk-container-id-1 {color: black;background-color: white;}#sk-container-id-1 pre{padding: 0;}#sk-container-id-1 div.sk-toggleable {background-color: white;}#sk-container-id-1 label.sk-toggleable__label {cursor: pointer;display: block;width: 100%;margin-bottom: 0;padding: 0.3em;box-sizing: border-box;text-align: center;}#sk-container-id-1 label.sk-toggleable__label-arrow:before {content: \"▸\";float: left;margin-right: 0.25em;color: #696969;}#sk-container-id-1 label.sk-toggleable__label-arrow:hover:before {color: black;}#sk-container-id-1 div.sk-estimator:hover label.sk-toggleable__label-arrow:before {color: black;}#sk-container-id-1 div.sk-toggleable__content {max-height: 0;max-width: 0;overflow: hidden;text-align: left;background-color: #f0f8ff;}#sk-container-id-1 div.sk-toggleable__content pre {margin: 0.2em;color: black;border-radius: 0.25em;background-color: #f0f8ff;}#sk-container-id-1 input.sk-toggleable__control:checked~div.sk-toggleable__content {max-height: 200px;max-width: 100%;overflow: auto;}#sk-container-id-1 input.sk-toggleable__control:checked~label.sk-toggleable__label-arrow:before {content: \"▾\";}#sk-container-id-1 div.sk-estimator input.sk-toggleable__control:checked~label.sk-toggleable__label {background-color: #d4ebff;}#sk-container-id-1 div.sk-label input.sk-toggleable__control:checked~label.sk-toggleable__label {background-color: #d4ebff;}#sk-container-id-1 input.sk-hidden--visually {border: 0;clip: rect(1px 1px 1px 1px);clip: rect(1px, 1px, 1px, 1px);height: 1px;margin: -1px;overflow: hidden;padding: 0;position: absolute;width: 1px;}#sk-container-id-1 div.sk-estimator {font-family: monospace;background-color: #f0f8ff;border: 1px dotted black;border-radius: 0.25em;box-sizing: border-box;margin-bottom: 0.5em;}#sk-container-id-1 div.sk-estimator:hover {background-color: #d4ebff;}#sk-container-id-1 div.sk-parallel-item::after {content: \"\";width: 100%;border-bottom: 1px solid gray;flex-grow: 1;}#sk-container-id-1 div.sk-label:hover label.sk-toggleable__label {background-color: #d4ebff;}#sk-container-id-1 div.sk-serial::before {content: \"\";position: absolute;border-left: 1px solid gray;box-sizing: border-box;top: 0;bottom: 0;left: 50%;z-index: 0;}#sk-container-id-1 div.sk-serial {display: flex;flex-direction: column;align-items: center;background-color: white;padding-right: 0.2em;padding-left: 0.2em;position: relative;}#sk-container-id-1 div.sk-item {position: relative;z-index: 1;}#sk-container-id-1 div.sk-parallel {display: flex;align-items: stretch;justify-content: center;background-color: white;position: relative;}#sk-container-id-1 div.sk-item::before, #sk-container-id-1 div.sk-parallel-item::before {content: \"\";position: absolute;border-left: 1px solid gray;box-sizing: border-box;top: 0;bottom: 0;left: 50%;z-index: -1;}#sk-container-id-1 div.sk-parallel-item {display: flex;flex-direction: column;z-index: 1;position: relative;background-color: white;}#sk-container-id-1 div.sk-parallel-item:first-child::after {align-self: flex-end;width: 50%;}#sk-container-id-1 div.sk-parallel-item:last-child::after {align-self: flex-start;width: 50%;}#sk-container-id-1 div.sk-parallel-item:only-child::after {width: 0;}#sk-container-id-1 div.sk-dashed-wrapped {border: 1px dashed gray;margin: 0 0.4em 0.5em 0.4em;box-sizing: border-box;padding-bottom: 0.4em;background-color: white;}#sk-container-id-1 div.sk-label label {font-family: monospace;font-weight: bold;display: inline-block;line-height: 1.2em;}#sk-container-id-1 div.sk-label-container {text-align: center;}#sk-container-id-1 div.sk-container {/* jupyter's `normalize.less` sets `[hidden] { display: none; }` but bootstrap.min.css set `[hidden] { display: none !important; }` so we also need the `!important` here to be able to override the default hidden behavior on the sphinx rendered scikit-learn.org. See: https://github.com/scikit-learn/scikit-learn/issues/21755 */display: inline-block !important;position: relative;}#sk-container-id-1 div.sk-text-repr-fallback {display: none;}</style><div id=\"sk-container-id-1\" class=\"sk-top-container\"><div class=\"sk-text-repr-fallback\"><pre>MLPRegressor(random_state=RandomState(MT19937) at 0x2055F809840)</pre><b>In a Jupyter environment, please rerun this cell to show the HTML representation or trust the notebook. <br />On GitHub, the HTML representation is unable to render, please try loading this page with nbviewer.org.</b></div><div class=\"sk-container\" hidden><div class=\"sk-item\"><div class=\"sk-estimator sk-toggleable\"><input class=\"sk-toggleable__control sk-hidden--visually\" id=\"sk-estimator-id-1\" type=\"checkbox\" checked><label for=\"sk-estimator-id-1\" class=\"sk-toggleable__label sk-toggleable__label-arrow\">MLPRegressor</label><div class=\"sk-toggleable__content\"><pre>MLPRegressor(random_state=RandomState(MT19937) at 0x2055F809840)</pre></div></div></div></div></div>"
      ],
      "text/plain": [
       "MLPRegressor(random_state=RandomState(MT19937) at 0x2055F809840)"
      ]
     },
     "execution_count": 3,
     "metadata": {},
     "output_type": "execute_result"
    }
   ],
   "source": [
    "Reg_Data.MPL()"
   ]
  },
  {
   "cell_type": "code",
   "execution_count": 4,
   "id": "18a03da2-e036-4695-b08b-cf31394ef7b6",
   "metadata": {},
   "outputs": [
    {
     "name": "stdout",
     "output_type": "stream",
     "text": [
      "0.5453081223168325\n"
     ]
    },
    {
     "data": {
      "text/html": [
       "<style>#sk-container-id-2 {color: black;background-color: white;}#sk-container-id-2 pre{padding: 0;}#sk-container-id-2 div.sk-toggleable {background-color: white;}#sk-container-id-2 label.sk-toggleable__label {cursor: pointer;display: block;width: 100%;margin-bottom: 0;padding: 0.3em;box-sizing: border-box;text-align: center;}#sk-container-id-2 label.sk-toggleable__label-arrow:before {content: \"▸\";float: left;margin-right: 0.25em;color: #696969;}#sk-container-id-2 label.sk-toggleable__label-arrow:hover:before {color: black;}#sk-container-id-2 div.sk-estimator:hover label.sk-toggleable__label-arrow:before {color: black;}#sk-container-id-2 div.sk-toggleable__content {max-height: 0;max-width: 0;overflow: hidden;text-align: left;background-color: #f0f8ff;}#sk-container-id-2 div.sk-toggleable__content pre {margin: 0.2em;color: black;border-radius: 0.25em;background-color: #f0f8ff;}#sk-container-id-2 input.sk-toggleable__control:checked~div.sk-toggleable__content {max-height: 200px;max-width: 100%;overflow: auto;}#sk-container-id-2 input.sk-toggleable__control:checked~label.sk-toggleable__label-arrow:before {content: \"▾\";}#sk-container-id-2 div.sk-estimator input.sk-toggleable__control:checked~label.sk-toggleable__label {background-color: #d4ebff;}#sk-container-id-2 div.sk-label input.sk-toggleable__control:checked~label.sk-toggleable__label {background-color: #d4ebff;}#sk-container-id-2 input.sk-hidden--visually {border: 0;clip: rect(1px 1px 1px 1px);clip: rect(1px, 1px, 1px, 1px);height: 1px;margin: -1px;overflow: hidden;padding: 0;position: absolute;width: 1px;}#sk-container-id-2 div.sk-estimator {font-family: monospace;background-color: #f0f8ff;border: 1px dotted black;border-radius: 0.25em;box-sizing: border-box;margin-bottom: 0.5em;}#sk-container-id-2 div.sk-estimator:hover {background-color: #d4ebff;}#sk-container-id-2 div.sk-parallel-item::after {content: \"\";width: 100%;border-bottom: 1px solid gray;flex-grow: 1;}#sk-container-id-2 div.sk-label:hover label.sk-toggleable__label {background-color: #d4ebff;}#sk-container-id-2 div.sk-serial::before {content: \"\";position: absolute;border-left: 1px solid gray;box-sizing: border-box;top: 0;bottom: 0;left: 50%;z-index: 0;}#sk-container-id-2 div.sk-serial {display: flex;flex-direction: column;align-items: center;background-color: white;padding-right: 0.2em;padding-left: 0.2em;position: relative;}#sk-container-id-2 div.sk-item {position: relative;z-index: 1;}#sk-container-id-2 div.sk-parallel {display: flex;align-items: stretch;justify-content: center;background-color: white;position: relative;}#sk-container-id-2 div.sk-item::before, #sk-container-id-2 div.sk-parallel-item::before {content: \"\";position: absolute;border-left: 1px solid gray;box-sizing: border-box;top: 0;bottom: 0;left: 50%;z-index: -1;}#sk-container-id-2 div.sk-parallel-item {display: flex;flex-direction: column;z-index: 1;position: relative;background-color: white;}#sk-container-id-2 div.sk-parallel-item:first-child::after {align-self: flex-end;width: 50%;}#sk-container-id-2 div.sk-parallel-item:last-child::after {align-self: flex-start;width: 50%;}#sk-container-id-2 div.sk-parallel-item:only-child::after {width: 0;}#sk-container-id-2 div.sk-dashed-wrapped {border: 1px dashed gray;margin: 0 0.4em 0.5em 0.4em;box-sizing: border-box;padding-bottom: 0.4em;background-color: white;}#sk-container-id-2 div.sk-label label {font-family: monospace;font-weight: bold;display: inline-block;line-height: 1.2em;}#sk-container-id-2 div.sk-label-container {text-align: center;}#sk-container-id-2 div.sk-container {/* jupyter's `normalize.less` sets `[hidden] { display: none; }` but bootstrap.min.css set `[hidden] { display: none !important; }` so we also need the `!important` here to be able to override the default hidden behavior on the sphinx rendered scikit-learn.org. See: https://github.com/scikit-learn/scikit-learn/issues/21755 */display: inline-block !important;position: relative;}#sk-container-id-2 div.sk-text-repr-fallback {display: none;}</style><div id=\"sk-container-id-2\" class=\"sk-top-container\"><div class=\"sk-text-repr-fallback\"><pre>RandomForestRegressor(random_state=RandomState(MT19937) at 0x2055F809840)</pre><b>In a Jupyter environment, please rerun this cell to show the HTML representation or trust the notebook. <br />On GitHub, the HTML representation is unable to render, please try loading this page with nbviewer.org.</b></div><div class=\"sk-container\" hidden><div class=\"sk-item\"><div class=\"sk-estimator sk-toggleable\"><input class=\"sk-toggleable__control sk-hidden--visually\" id=\"sk-estimator-id-2\" type=\"checkbox\" checked><label for=\"sk-estimator-id-2\" class=\"sk-toggleable__label sk-toggleable__label-arrow\">RandomForestRegressor</label><div class=\"sk-toggleable__content\"><pre>RandomForestRegressor(random_state=RandomState(MT19937) at 0x2055F809840)</pre></div></div></div></div></div>"
      ],
      "text/plain": [
       "RandomForestRegressor(random_state=RandomState(MT19937) at 0x2055F809840)"
      ]
     },
     "execution_count": 4,
     "metadata": {},
     "output_type": "execute_result"
    }
   ],
   "source": [
    "Reg_Data.Random_Forest()"
   ]
  },
  {
   "cell_type": "code",
   "execution_count": 5,
   "id": "398368f4-ea2f-4999-acd3-5cf7b7b43db2",
   "metadata": {},
   "outputs": [
    {
     "name": "stdout",
     "output_type": "stream",
     "text": [
      "-1.989783919992091\n"
     ]
    },
    {
     "data": {
      "text/html": [
       "<style>#sk-container-id-3 {color: black;background-color: white;}#sk-container-id-3 pre{padding: 0;}#sk-container-id-3 div.sk-toggleable {background-color: white;}#sk-container-id-3 label.sk-toggleable__label {cursor: pointer;display: block;width: 100%;margin-bottom: 0;padding: 0.3em;box-sizing: border-box;text-align: center;}#sk-container-id-3 label.sk-toggleable__label-arrow:before {content: \"▸\";float: left;margin-right: 0.25em;color: #696969;}#sk-container-id-3 label.sk-toggleable__label-arrow:hover:before {color: black;}#sk-container-id-3 div.sk-estimator:hover label.sk-toggleable__label-arrow:before {color: black;}#sk-container-id-3 div.sk-toggleable__content {max-height: 0;max-width: 0;overflow: hidden;text-align: left;background-color: #f0f8ff;}#sk-container-id-3 div.sk-toggleable__content pre {margin: 0.2em;color: black;border-radius: 0.25em;background-color: #f0f8ff;}#sk-container-id-3 input.sk-toggleable__control:checked~div.sk-toggleable__content {max-height: 200px;max-width: 100%;overflow: auto;}#sk-container-id-3 input.sk-toggleable__control:checked~label.sk-toggleable__label-arrow:before {content: \"▾\";}#sk-container-id-3 div.sk-estimator input.sk-toggleable__control:checked~label.sk-toggleable__label {background-color: #d4ebff;}#sk-container-id-3 div.sk-label input.sk-toggleable__control:checked~label.sk-toggleable__label {background-color: #d4ebff;}#sk-container-id-3 input.sk-hidden--visually {border: 0;clip: rect(1px 1px 1px 1px);clip: rect(1px, 1px, 1px, 1px);height: 1px;margin: -1px;overflow: hidden;padding: 0;position: absolute;width: 1px;}#sk-container-id-3 div.sk-estimator {font-family: monospace;background-color: #f0f8ff;border: 1px dotted black;border-radius: 0.25em;box-sizing: border-box;margin-bottom: 0.5em;}#sk-container-id-3 div.sk-estimator:hover {background-color: #d4ebff;}#sk-container-id-3 div.sk-parallel-item::after {content: \"\";width: 100%;border-bottom: 1px solid gray;flex-grow: 1;}#sk-container-id-3 div.sk-label:hover label.sk-toggleable__label {background-color: #d4ebff;}#sk-container-id-3 div.sk-serial::before {content: \"\";position: absolute;border-left: 1px solid gray;box-sizing: border-box;top: 0;bottom: 0;left: 50%;z-index: 0;}#sk-container-id-3 div.sk-serial {display: flex;flex-direction: column;align-items: center;background-color: white;padding-right: 0.2em;padding-left: 0.2em;position: relative;}#sk-container-id-3 div.sk-item {position: relative;z-index: 1;}#sk-container-id-3 div.sk-parallel {display: flex;align-items: stretch;justify-content: center;background-color: white;position: relative;}#sk-container-id-3 div.sk-item::before, #sk-container-id-3 div.sk-parallel-item::before {content: \"\";position: absolute;border-left: 1px solid gray;box-sizing: border-box;top: 0;bottom: 0;left: 50%;z-index: -1;}#sk-container-id-3 div.sk-parallel-item {display: flex;flex-direction: column;z-index: 1;position: relative;background-color: white;}#sk-container-id-3 div.sk-parallel-item:first-child::after {align-self: flex-end;width: 50%;}#sk-container-id-3 div.sk-parallel-item:last-child::after {align-self: flex-start;width: 50%;}#sk-container-id-3 div.sk-parallel-item:only-child::after {width: 0;}#sk-container-id-3 div.sk-dashed-wrapped {border: 1px dashed gray;margin: 0 0.4em 0.5em 0.4em;box-sizing: border-box;padding-bottom: 0.4em;background-color: white;}#sk-container-id-3 div.sk-label label {font-family: monospace;font-weight: bold;display: inline-block;line-height: 1.2em;}#sk-container-id-3 div.sk-label-container {text-align: center;}#sk-container-id-3 div.sk-container {/* jupyter's `normalize.less` sets `[hidden] { display: none; }` but bootstrap.min.css set `[hidden] { display: none !important; }` so we also need the `!important` here to be able to override the default hidden behavior on the sphinx rendered scikit-learn.org. See: https://github.com/scikit-learn/scikit-learn/issues/21755 */display: inline-block !important;position: relative;}#sk-container-id-3 div.sk-text-repr-fallback {display: none;}</style><div id=\"sk-container-id-3\" class=\"sk-top-container\"><div class=\"sk-text-repr-fallback\"><pre>GaussianProcessRegressor()</pre><b>In a Jupyter environment, please rerun this cell to show the HTML representation or trust the notebook. <br />On GitHub, the HTML representation is unable to render, please try loading this page with nbviewer.org.</b></div><div class=\"sk-container\" hidden><div class=\"sk-item\"><div class=\"sk-estimator sk-toggleable\"><input class=\"sk-toggleable__control sk-hidden--visually\" id=\"sk-estimator-id-3\" type=\"checkbox\" checked><label for=\"sk-estimator-id-3\" class=\"sk-toggleable__label sk-toggleable__label-arrow\">GaussianProcessRegressor</label><div class=\"sk-toggleable__content\"><pre>GaussianProcessRegressor()</pre></div></div></div></div></div>"
      ],
      "text/plain": [
       "GaussianProcessRegressor()"
      ]
     },
     "execution_count": 5,
     "metadata": {},
     "output_type": "execute_result"
    }
   ],
   "source": [
    "Reg_Data.GP()"
   ]
  },
  {
   "cell_type": "code",
   "execution_count": 6,
   "id": "a6f5d586-fb1b-42f6-8586-be6270da7c34",
   "metadata": {},
   "outputs": [
    {
     "name": "stdout",
     "output_type": "stream",
     "text": [
      "['Passive_0', 'Passive_1', 'Active_2', 'Active_3', 'Active_4', 'Active_5', 'Active_6', 'Active_7']\n"
     ]
    }
   ],
   "source": [
    "print(Reg_Data.get_features())"
   ]
  },
  {
   "cell_type": "code",
   "execution_count": 7,
   "id": "c1975436-74b2-4311-b48d-193f2b21c159",
   "metadata": {},
   "outputs": [],
   "source": [
    "#Default settings\n",
    "from unravel_2.ur_model import UR_Model\n",
    "\n",
    "X_train, X_test, y_train, y_test = Reg_Data.get_TT_data()\n",
    "\n",
    "#Initializing the explainer object\n",
    "URM_Exp = UR_Model(bbox_model           = Reg_Data.get_Random_Forest(),\n",
    "                   train_data           = X_train,\n",
    "                   feature_names        = Reg_Data.get_features(),\n",
    "                   categorical_features = Reg_Data.get_catagorical(),\n",
    "                   mode                 = Reg_Data.get_mode(),\n",
    "                   sampling_optimize    = \"opt\")\n",
    "\n",
    "#sur_GP = Surrogate_GP()\n"
   ]
  },
  {
   "cell_type": "code",
   "execution_count": null,
   "id": "120e21b9-1596-4156-95e0-822be3c8df55",
   "metadata": {},
   "outputs": [],
   "source": []
  },
  {
   "cell_type": "code",
   "execution_count": 8,
   "id": "81327488-ab1c-456a-97ed-afb4783c433d",
   "metadata": {},
   "outputs": [
    {
     "name": "stdout",
     "output_type": "stream",
     "text": [
      "Mean 0: [ 3.18465579  5.37418022  5.81328886  3.81693199  5.55308716  7.57412185\n",
      " 11.45220007 11.56305762]\n",
      "Std 0:  [3.89504959 2.98885104 3.40752648 3.55503118 0.76339094 2.42907255\n",
      " 4.249504   4.85237741]\n"
     ]
    }
   ],
   "source": [
    "mean = np.mean(X_train, axis=0)\n",
    "std = np.std(X_train, axis=0)\n",
    "print('Mean 0:', mean)\n",
    "print('Std 0: ', std)\n"
   ]
  },
  {
   "cell_type": "code",
   "execution_count": 9,
   "id": "3d88776e-ffe0-4186-a30e-e2c3377c9709",
   "metadata": {},
   "outputs": [
    {
     "name": "stdout",
     "output_type": "stream",
     "text": [
      "INSTANCE:  0\n"
     ]
    },
    {
     "name": "stderr",
     "output_type": "stream",
     "text": [
      "C:\\Users\\deneb\\AppData\\Local\\Programs\\Python\\Python311\\Lib\\site-packages\\sklearn\\gaussian_process\\_gpr.py:616: ConvergenceWarning: lbfgs failed to converge (status=2):\n",
      "ABNORMAL_TERMINATION_IN_LNSRCH.\n",
      "\n",
      "Increase the number of iterations (max_iter) or scale the data as shown in:\n",
      "    https://scikit-learn.org/stable/modules/preprocessing.html\n",
      "  _check_optimize_result(\"lbfgs\", opt_res)\n",
      "C:\\Users\\deneb\\AppData\\Local\\Programs\\Python\\Python311\\Lib\\site-packages\\sklearn\\gaussian_process\\_gpr.py:616: ConvergenceWarning: lbfgs failed to converge (status=2):\n",
      "ABNORMAL_TERMINATION_IN_LNSRCH.\n",
      "\n",
      "Increase the number of iterations (max_iter) or scale the data as shown in:\n",
      "    https://scikit-learn.org/stable/modules/preprocessing.html\n",
      "  _check_optimize_result(\"lbfgs\", opt_res)\n",
      "C:\\Users\\deneb\\AppData\\Local\\Programs\\Python\\Python311\\Lib\\site-packages\\sklearn\\gaussian_process\\_gpr.py:616: ConvergenceWarning: lbfgs failed to converge (status=2):\n",
      "ABNORMAL_TERMINATION_IN_LNSRCH.\n",
      "\n",
      "Increase the number of iterations (max_iter) or scale the data as shown in:\n",
      "    https://scikit-learn.org/stable/modules/preprocessing.html\n",
      "  _check_optimize_result(\"lbfgs\", opt_res)\n"
     ]
    },
    {
     "name": "stdout",
     "output_type": "stream",
     "text": [
      "[60.32278235] [6.03227825e+01 1.00000004e-05] [60.32278252]\n",
      "Passive_0:\t 727.00675\n",
      "Passive_1:\t 497.18647\n",
      "Active_2:\t 607.00519\n",
      "Active_3:\t 644.37042\n",
      "Active_4:\t 13.05047\n",
      "Active_5:\t 346.75258\n",
      "Active_6:\t 807.08115\n",
      "Active_7:\t 926.72007\n",
      "INSTANCE:  1\n",
      "[-10.04876873] [-1.00487687e+01  1.00000004e-05] [-10.04876873]\n",
      "Passive_0:\t 57.60807\n",
      "Passive_1:\t 51.36544\n",
      "Active_2:\t 54.71379\n",
      "Active_3:\t 55.60621\n",
      "Active_4:\t 5.16474\n",
      "Active_5:\t 45.58240\n",
      "Active_6:\t 59.43535\n",
      "Active_7:\t 61.88563\n",
      "INSTANCE:  2\n",
      "[37.51075061] [3.75107506e+01 1.00000004e-05] [37.51075062]\n",
      "Passive_0:\t 728.30516\n",
      "Passive_1:\t 552.03995\n",
      "Active_2:\t 640.92488\n",
      "Active_3:\t 675.11413\n",
      "Active_4:\t 30.04784\n",
      "Active_5:\t 417.34711\n",
      "Active_6:\t 786.26225\n",
      "Active_7:\t 855.48293\n",
      "INSTANCE:  3\n"
     ]
    },
    {
     "name": "stderr",
     "output_type": "stream",
     "text": [
      "C:\\Users\\deneb\\AppData\\Local\\Programs\\Python\\Python311\\Lib\\site-packages\\sklearn\\gaussian_process\\_gpr.py:616: ConvergenceWarning: lbfgs failed to converge (status=2):\n",
      "ABNORMAL_TERMINATION_IN_LNSRCH.\n",
      "\n",
      "Increase the number of iterations (max_iter) or scale the data as shown in:\n",
      "    https://scikit-learn.org/stable/modules/preprocessing.html\n",
      "  _check_optimize_result(\"lbfgs\", opt_res)\n"
     ]
    },
    {
     "name": "stdout",
     "output_type": "stream",
     "text": [
      "[149.22888637] [1.49228886e+02 1.00000004e-05] [149.22888639]\n",
      "Passive_0:\t 2867.59906\n",
      "Passive_1:\t 1804.55162\n",
      "Active_2:\t 2302.73361\n",
      "Active_3:\t 2476.59667\n",
      "Active_4:\t 39.16497\n",
      "Active_5:\t 1161.75932\n",
      "Active_6:\t 3253.68025\n",
      "Active_7:\t 3841.01361\n",
      "INSTANCE:  4\n",
      "[157.04662388] [1.57046624e+02 1.00000004e-05] [157.04662445]\n",
      "Passive_0:\t 2496.77477\n",
      "Passive_1:\t 1525.05505\n",
      "Active_2:\t 1973.65957\n",
      "Active_3:\t 2133.00944\n",
      "Active_4:\t 30.84748\n",
      "Active_5:\t 963.31050\n",
      "Active_6:\t 2863.44460\n",
      "Active_7:\t 3435.67473\n",
      "INSTANCE:  5\n",
      "[120.23791948] [1.20237920e+02 1.00000004e-05] [120.23791955]\n",
      "Passive_0:\t 6071.32817\n",
      "Passive_1:\t 4641.09552\n",
      "Active_2:\t 5351.57656\n",
      "Active_3:\t 5609.30524\n",
      "Active_4:\t 274.21922\n",
      "Active_5:\t 3540.87427\n",
      "Active_6:\t 6491.99554\n",
      "Active_7:\t 7087.40233\n",
      "INSTANCE:  6\n"
     ]
    },
    {
     "name": "stderr",
     "output_type": "stream",
     "text": [
      "C:\\Users\\deneb\\AppData\\Local\\Programs\\Python\\Python311\\Lib\\site-packages\\sklearn\\gaussian_process\\_gpr.py:616: ConvergenceWarning: lbfgs failed to converge (status=2):\n",
      "ABNORMAL_TERMINATION_IN_LNSRCH.\n",
      "\n",
      "Increase the number of iterations (max_iter) or scale the data as shown in:\n",
      "    https://scikit-learn.org/stable/modules/preprocessing.html\n",
      "  _check_optimize_result(\"lbfgs\", opt_res)\n"
     ]
    },
    {
     "name": "stdout",
     "output_type": "stream",
     "text": [
      "[191.98437279] [1.91984373e+02 1.00000004e-05] [191.9843728]\n",
      "Passive_0:\t 6514.87926\n",
      "Passive_1:\t 4147.10654\n",
      "Active_2:\t 5261.44122\n",
      "Active_3:\t 5648.36136\n",
      "Active_4:\t 94.33322\n",
      "Active_5:\t 2695.15270\n",
      "Active_6:\t 7365.33835\n",
      "Active_7:\t 8647.04121\n",
      "INSTANCE:  7\n"
     ]
    },
    {
     "name": "stderr",
     "output_type": "stream",
     "text": [
      "C:\\Users\\deneb\\AppData\\Local\\Programs\\Python\\Python311\\Lib\\site-packages\\sklearn\\gaussian_process\\_gpr.py:616: ConvergenceWarning: lbfgs failed to converge (status=2):\n",
      "ABNORMAL_TERMINATION_IN_LNSRCH.\n",
      "\n",
      "Increase the number of iterations (max_iter) or scale the data as shown in:\n",
      "    https://scikit-learn.org/stable/modules/preprocessing.html\n",
      "  _check_optimize_result(\"lbfgs\", opt_res)\n",
      "C:\\Users\\deneb\\AppData\\Local\\Programs\\Python\\Python311\\Lib\\site-packages\\sklearn\\gaussian_process\\_gpr.py:616: ConvergenceWarning: lbfgs failed to converge (status=2):\n",
      "ABNORMAL_TERMINATION_IN_LNSRCH.\n",
      "\n",
      "Increase the number of iterations (max_iter) or scale the data as shown in:\n",
      "    https://scikit-learn.org/stable/modules/preprocessing.html\n",
      "  _check_optimize_result(\"lbfgs\", opt_res)\n",
      "C:\\Users\\deneb\\AppData\\Local\\Programs\\Python\\Python311\\Lib\\site-packages\\sklearn\\gaussian_process\\_gpr.py:616: ConvergenceWarning: lbfgs failed to converge (status=2):\n",
      "ABNORMAL_TERMINATION_IN_LNSRCH.\n",
      "\n",
      "Increase the number of iterations (max_iter) or scale the data as shown in:\n",
      "    https://scikit-learn.org/stable/modules/preprocessing.html\n",
      "  _check_optimize_result(\"lbfgs\", opt_res)\n",
      "C:\\Users\\deneb\\AppData\\Local\\Programs\\Python\\Python311\\Lib\\site-packages\\sklearn\\gaussian_process\\_gpr.py:616: ConvergenceWarning: lbfgs failed to converge (status=2):\n",
      "ABNORMAL_TERMINATION_IN_LNSRCH.\n",
      "\n",
      "Increase the number of iterations (max_iter) or scale the data as shown in:\n",
      "    https://scikit-learn.org/stable/modules/preprocessing.html\n",
      "  _check_optimize_result(\"lbfgs\", opt_res)\n"
     ]
    },
    {
     "name": "stdout",
     "output_type": "stream",
     "text": [
      "[116.08068536] [1.16080685e+02 9.99995045e-06] [116.08068513]\n",
      "Passive_0:\t 990.07156\n",
      "Passive_1:\t 581.23453\n",
      "Active_2:\t 767.42599\n",
      "Active_3:\t 834.67314\n",
      "Active_4:\t 10.47612\n",
      "Active_5:\t 355.90886\n",
      "Active_6:\t 1149.03694\n",
      "Active_7:\t 1400.91706\n",
      "INSTANCE:  8\n",
      "[88.97059045] [8.89705908e+01 1.00000004e-05] [88.9705908]\n",
      "Passive_0:\t 1179.57639\n",
      "Passive_1:\t 703.12521\n",
      "Active_2:\t 921.79082\n",
      "Active_3:\t 1000.05587\n",
      "Active_4:\t 12.57604\n",
      "Active_5:\t 434.26871\n",
      "Active_6:\t 1361.42774\n",
      "Active_7:\t 1646.42048\n",
      "INSTANCE:  9\n",
      "[46.52839772] [4.65283977e+01 1.00000004e-05] [46.52839772]\n",
      "Passive_0:\t 1637.36330\n",
      "Passive_1:\t 1330.92130\n",
      "Active_2:\t 1486.95318\n",
      "Active_3:\t 1535.75776\n",
      "Active_4:\t 112.30403\n",
      "Active_5:\t 1075.91579\n",
      "Active_6:\t 1728.69655\n",
      "Active_7:\t 1854.52527\n"
     ]
    }
   ],
   "source": [
    "# Generate explantion data for Random Forest\n",
    "\n",
    "Reg_Stats = Feature_Statistics(feature_names = Reg_Data.get_features(), mode = Reg_Data.get_mode())\n",
    "\n",
    "if Num_Points == 0: Num_Points = X_test.shape[0]\n",
    "\n",
    "for test_instance in range(Num_Points):\n",
    "\n",
    "    print('INSTANCE: ', test_instance)\n",
    "       \n",
    "    data_row  = np.array([X_test[test_instance]])\n",
    "    \n",
    "#    data_row  = np.array([0.4])\n",
    "\n",
    "#    print('data row ',data_row)\n",
    "    \n",
    "    URM_Exp.explain(X_init      = data_row.reshape(1, -1),\n",
    "                    Dimension   = 'Multi D',\n",
    "                    kernel_type = \"Matern\",\n",
    "                    max_iter    = 20,\n",
    "                    alpha       = \"FUR_W\",\n",
    "                    #jitter=5,\n",
    "                    interval    = 1,\n",
    "                    normalize   = False)\n",
    "       \n",
    "    f_predict = Reg_Data.get_Random_Forest().predict(data_row.reshape(1, -1))\n",
    "\n",
    "    e_predict = URM_Exp.exp_predict(data_row.reshape(1, -1))\n",
    "    e_predict = np.array(e_predict).ravel()\n",
    "    \n",
    "    acq_data = URM_Exp.get_acq_data()\n",
    "    \n",
    "#    X, y = URM_Exp.get_surrogate_data()\n",
    "\n",
    "#    e_predict = sur_GP.predict(X, y)\n",
    "#    e_predict = sur_GP.predict(URM_Exp.get_surrogate_data())\n",
    "\n",
    "    print(f_predict, e_predict, acq_data.get_fe_x0())\n",
    "    \n",
    "    scores = URM_Exp.permutation_importance()\n",
    "    \n",
    "    Reg_Stats.Add_Sample(sample_scores = scores,\n",
    "                         outcome       = y_test[test_instance],\n",
    "                         X_row         = data_row.reshape(1, -1),\n",
    "                         f_prediction  = f_predict,\n",
    "                         e_prediction  = e_predict.ravel(),\n",
    "                         feopt         = acq_data.get_fe_x0(),\n",
    "                         model         = URM_Exp.get_exp_model())\n"
   ]
  },
  {
   "cell_type": "code",
   "execution_count": 10,
   "id": "4e60ec92-4b90-4dce-9408-e3f771da3b8b",
   "metadata": {},
   "outputs": [],
   "source": [
    "import matplotlib.pyplot as plt\n"
   ]
  },
  {
   "cell_type": "code",
   "execution_count": 11,
   "id": "850c1211-b3ba-4299-a091-e190ee07b43e",
   "metadata": {},
   "outputs": [
    {
     "name": "stdout",
     "output_type": "stream",
     "text": [
      "[46.52839772]\n",
      "[4.65283977e+01 1.00000004e-05]\n"
     ]
    }
   ],
   "source": [
    "print(f_predict)\n",
    "print(e_predict)\n"
   ]
  },
  {
   "cell_type": "code",
   "execution_count": 12,
   "id": "668a0159-af7d-44e0-88f5-18556053b061",
   "metadata": {},
   "outputs": [],
   "source": [
    "Reg_Stats.Feature_Counts(max_features=6, scaled=True, threshold=0.05)\n"
   ]
  },
  {
   "cell_type": "code",
   "execution_count": 13,
   "id": "7f58c97d-7f82-4b6a-8e00-41f2e22df774",
   "metadata": {},
   "outputs": [
    {
     "data": {
      "image/png": "[encoded data removed]",
      "text/plain": [
       "<Figure size 640x480 with 1 Axes>"
      ]
     },
     "metadata": {},
     "output_type": "display_data"
    }
   ],
   "source": [
    "Reg_Stats.Frequency_Plot()\n"
   ]
  },
  {
   "cell_type": "code",
   "execution_count": 14,
   "id": "f63f1ab3-faac-43a2-a415-8ecde903060e",
   "metadata": {},
   "outputs": [
    {
     "name": "stdout",
     "output_type": "stream",
     "text": [
      "Average, Var, and Max Differences:\n",
      "y - BB(x):           33.844985757378105  :  471.72085227378045  :  69.1240955774569\n",
      "y - exp(x):          33.84498573484508  :  471.7208515374952  :  69.12409558006414\n",
      "BB(x) - exp(x):      1.3954975806029779e-07  :  3.2482578301814295e-14  :  5.719742262044747e-07\n",
      "Average exp(x) var:  9.99999541768596e-06\n"
     ]
    }
   ],
   "source": [
    "Reg_Stats.Fidelity()"
   ]
  },
  {
   "cell_type": "code",
   "execution_count": 15,
   "id": "c2580756-1f4e-497d-bab3-0e65979a448d",
   "metadata": {},
   "outputs": [
    {
     "name": "stdout",
     "output_type": "stream",
     "text": [
      "Mean Jaccard Similarity:  1.0\n",
      "Mean Jaccard Distance:    0.0\n"
     ]
    }
   ],
   "source": [
    "Reg_Stats.Jaccard_Values()"
   ]
  },
  {
   "cell_type": "code",
   "execution_count": 16,
   "id": "aee227c0-3941-4fe0-a65b-3510d07f995d",
   "metadata": {},
   "outputs": [
    {
     "data": {
      "image/png": "[encoded data removed]",
      "text/plain": [
       "<Figure size 640x480 with 1 Axes>"
      ]
     },
     "metadata": {},
     "output_type": "display_data"
    }
   ],
   "source": [
    "Reg_Stats.Reg_Fidelity_Graph()"
   ]
  },
  {
   "cell_type": "code",
   "execution_count": 17,
   "id": "835eb5c2-72bd-4d80-adff-fdae7343164e",
   "metadata": {},
   "outputs": [
    {
     "name": "stdout",
     "output_type": "stream",
     "text": [
      "top_features True\n",
      "top_features (10, 6)\n"
     ]
    },
    {
     "data": {
      "image/png": "[encoded data removed]",
      "text/plain": [
       "<Figure size 640x480 with 1 Axes>"
      ]
     },
     "metadata": {},
     "output_type": "display_data"
    },
    {
     "name": "stdout",
     "output_type": "stream",
     "text": [
      "1 -      Passive_0\n",
      "2 -      Active_2\n",
      "3 -      Active_3\n",
      "4 -      Active_5\n",
      "5 -      Active_6\n",
      "6 -      Active_7\n"
     ]
    }
   ],
   "source": [
    "Reg_Stats.Box_Plot()\n"
   ]
  },
  {
   "cell_type": "code",
   "execution_count": 18,
   "id": "be382092-3677-4620-ab42-71d108d7a1bd",
   "metadata": {},
   "outputs": [
    {
     "data": {
      "image/png": "[encoded data removed]",
      "text/plain": [
       "<Figure size 640x480 with 2 Axes>"
      ]
     },
     "metadata": {},
     "output_type": "display_data"
    }
   ],
   "source": [
    "Reg_Stats.View_Explanation(instance = 0)"
   ]
  },
  {
   "cell_type": "code",
   "execution_count": null,
   "id": "80ffd675-aebf-4d27-b405-08e2b2ba5eab",
   "metadata": {},
   "outputs": [],
   "source": []
  },
  {
   "cell_type": "code",
   "execution_count": 19,
   "id": "5bf1cf59-a107-4a96-aa82-e5bb18de747e",
   "metadata": {},
   "outputs": [
    {
     "name": "stdout",
     "output_type": "stream",
     "text": [
      "Passive_0:\t 1780.12454\n",
      "Passive_1:\t 1464.38450\n",
      "Active_2:\t 1629.12201\n",
      "Active_3:\t 1679.05257\n",
      "Active_4:\t 115.72673\n",
      "Active_5:\t 1183.30161\n",
      "Active_6:\t 1867.33634\n",
      "Active_7:\t 1981.41836\n"
     ]
    }
   ],
   "source": [
    "scores = URM_Exp.permutation_importance()\n",
    "    \n"
   ]
  },
  {
   "cell_type": "code",
   "execution_count": 20,
   "id": "e8f23dea-0e62-42ab-aa68-0ecfae0ff72f",
   "metadata": {},
   "outputs": [
    {
     "name": "stdout",
     "output_type": "stream",
     "text": [
      "[11.3448973  11.64134614 11.51311636 11.46426355 12.04354083 11.78739474\n",
      " 11.21156375 10.96994597]\n"
     ]
    }
   ],
   "source": [
    "scores_k = URM_Exp.KL_imp()\n",
    "\n",
    "print(scores_k)"
   ]
  },
  {
   "cell_type": "code",
   "execution_count": null,
   "id": "bdfaa06b-0958-448c-8f19-1eb128dd4710",
   "metadata": {},
   "outputs": [],
   "source": []
  },
  {
   "cell_type": "code",
   "execution_count": null,
   "id": "55caa5cc-5f95-4a34-9f59-607c36882c38",
   "metadata": {},
   "outputs": [],
   "source": []
  },
  {
   "cell_type": "code",
   "execution_count": 21,
   "id": "616108d3-b97a-4591-84f7-6d05dfa5c206",
   "metadata": {},
   "outputs": [
    {
     "name": "stdout",
     "output_type": "stream",
     "text": [
      "[177.92878306 170.62189427 173.68456568 174.88813775 161.71850775\n",
      " 167.27947844 181.52491871 188.77723475]\n"
     ]
    }
   ],
   "source": [
    "scores_v = URM_Exp.Var_imp()\n",
    "\n",
    "print(scores_v)"
   ]
  },
  {
   "cell_type": "code",
   "execution_count": null,
   "id": "7f98268d-3502-4c15-b906-6304a0377fa6",
   "metadata": {},
   "outputs": [],
   "source": []
  },
  {
   "cell_type": "code",
   "execution_count": 22,
   "id": "1483ef16-efc6-4eeb-929a-b066b9b40360",
   "metadata": {},
   "outputs": [
    {
     "name": "stdout",
     "output_type": "stream",
     "text": [
      "[0.21288566 1.16608831 0.80342894 1.16389956 1.15526798 1.16597935\n",
      " 1.16597008 1.16648011]\n"
     ]
    }
   ],
   "source": [
    "scores_x = URM_Exp.X_rel()\n",
    "\n",
    "print(scores_x)"
   ]
  },
  {
   "cell_type": "code",
   "execution_count": null,
   "id": "eba6cae5-4fc0-4a77-9858-8e5c878c9aeb",
   "metadata": {},
   "outputs": [],
   "source": []
  },
  {
   "cell_type": "code",
   "execution_count": 23,
   "id": "28590fdf-a2d6-4177-8153-adfdbb0b4c02",
   "metadata": {},
   "outputs": [
    {
     "name": "stdout",
     "output_type": "stream",
     "text": [
      "[2.84444444 0.07901235 3.3382716  0.01975309 0.49382716 0.96790123\n",
      " 0.17777778 0.07901235]\n"
     ]
    }
   ],
   "source": [
    "scores_x2 = URM_Exp.X2_rel()\n",
    "\n",
    "print(scores_x2)"
   ]
  },
  {
   "cell_type": "code",
   "execution_count": null,
   "id": "dd03f49c-c1a9-4890-b9e0-e0cb5de0ba25",
   "metadata": {},
   "outputs": [],
   "source": []
  },
  {
   "cell_type": "code",
   "execution_count": 25,
   "id": "a35e214b-8994-4ac6-bf5b-e432527e5c1c",
   "metadata": {},
   "outputs": [
    {
     "name": "stdout",
     "output_type": "stream",
     "text": [
      "[[ 1.00000000e+00  0.00000000e+00  0.00000000e+00  0.00000000e+00\n",
      "   0.00000000e+00  0.00000000e+00  0.00000000e+00  0.00000000e+00\n",
      "   0.00000000e+00  0.00000000e+00  0.00000000e+00  0.00000000e+00\n",
      "   0.00000000e+00  0.00000000e+00  0.00000000e+00  0.00000000e+00\n",
      "   0.00000000e+00  0.00000000e+00  0.00000000e+00  0.00000000e+00\n",
      "   0.00000000e+00]\n",
      " [ 5.30551531e-05  9.99999999e-01  0.00000000e+00  0.00000000e+00\n",
      "   0.00000000e+00  0.00000000e+00  0.00000000e+00  0.00000000e+00\n",
      "   0.00000000e+00  0.00000000e+00  0.00000000e+00  0.00000000e+00\n",
      "   0.00000000e+00  0.00000000e+00  0.00000000e+00  0.00000000e+00\n",
      "   0.00000000e+00  0.00000000e+00  0.00000000e+00  0.00000000e+00\n",
      "   0.00000000e+00]\n",
      " [ 5.30551531e-05 -2.41163131e-09  9.99999999e-01  0.00000000e+00\n",
      "   0.00000000e+00  0.00000000e+00  0.00000000e+00  0.00000000e+00\n",
      "   0.00000000e+00  0.00000000e+00  0.00000000e+00  0.00000000e+00\n",
      "   0.00000000e+00  0.00000000e+00  0.00000000e+00  0.00000000e+00\n",
      "   0.00000000e+00  0.00000000e+00  0.00000000e+00  0.00000000e+00\n",
      "   0.00000000e+00]\n",
      " [ 1.27158398e-01  1.39612260e-03 -4.88262989e-06  9.91881441e-01\n",
      "   0.00000000e+00  0.00000000e+00  0.00000000e+00  0.00000000e+00\n",
      "   0.00000000e+00  0.00000000e+00  0.00000000e+00  0.00000000e+00\n",
      "   0.00000000e+00  0.00000000e+00  0.00000000e+00  0.00000000e+00\n",
      "   0.00000000e+00  0.00000000e+00  0.00000000e+00  0.00000000e+00\n",
      "   0.00000000e+00]\n",
      " [ 1.18954031e-02  1.72857477e-02 -5.05586841e-07  2.22460393e-01\n",
      "   9.74715895e-01  0.00000000e+00  0.00000000e+00  0.00000000e+00\n",
      "   0.00000000e+00  0.00000000e+00  0.00000000e+00  0.00000000e+00\n",
      "   0.00000000e+00  0.00000000e+00  0.00000000e+00  0.00000000e+00\n",
      "   0.00000000e+00  0.00000000e+00  0.00000000e+00  0.00000000e+00\n",
      "   0.00000000e+00]\n",
      " [ 9.56780212e-02  1.93232679e-03 -3.74845086e-06  9.44328132e-01\n",
      "   7.94878813e-02  3.04578460e-01  0.00000000e+00  0.00000000e+00\n",
      "   0.00000000e+00  0.00000000e+00  0.00000000e+00  0.00000000e+00\n",
      "   0.00000000e+00  0.00000000e+00  0.00000000e+00  0.00000000e+00\n",
      "   0.00000000e+00  0.00000000e+00  0.00000000e+00  0.00000000e+00\n",
      "   0.00000000e+00]\n",
      " [ 1.55878955e-01  1.09931569e-03 -5.88400598e-06  9.58958136e-01\n",
      "  -3.35339446e-02 -1.55107552e-01  1.75832188e-01  0.00000000e+00\n",
      "   0.00000000e+00  0.00000000e+00  0.00000000e+00  0.00000000e+00\n",
      "   0.00000000e+00  0.00000000e+00  0.00000000e+00  0.00000000e+00\n",
      "   0.00000000e+00  0.00000000e+00  0.00000000e+00  0.00000000e+00\n",
      "   0.00000000e+00]\n",
      " [ 1.58872893e-02 -6.70353589e-07  1.29503074e-02 -1.36825433e-03\n",
      "   1.68102887e-04  7.77541311e-04 -1.12120640e-03  9.99788038e-01\n",
      "   0.00000000e+00  0.00000000e+00  0.00000000e+00  0.00000000e+00\n",
      "   0.00000000e+00  0.00000000e+00  0.00000000e+00  0.00000000e+00\n",
      "   0.00000000e+00  0.00000000e+00  0.00000000e+00  0.00000000e+00\n",
      "   0.00000000e+00]\n",
      " [ 7.29077782e-02 -2.90267268e-06  2.61570177e-03 -5.92488940e-03\n",
      "   7.27928274e-04  3.36695172e-03 -4.85510898e-03  4.55905181e-01\n",
      "   8.86993538e-01  0.00000000e+00  0.00000000e+00  0.00000000e+00\n",
      "   0.00000000e+00  0.00000000e+00  0.00000000e+00  0.00000000e+00\n",
      "   0.00000000e+00  0.00000000e+00  0.00000000e+00  0.00000000e+00\n",
      "   0.00000000e+00]\n",
      " [ 1.18344518e-04 -5.34948703e-09  7.83765302e-01 -7.06115318e-06\n",
      "   8.67528945e-07  4.01265918e-06 -5.78621235e-06  1.70802116e-02\n",
      "  -4.72543644e-03  6.20804216e-01  0.00000000e+00  0.00000000e+00\n",
      "   0.00000000e+00  0.00000000e+00  0.00000000e+00  0.00000000e+00\n",
      "   0.00000000e+00  0.00000000e+00  0.00000000e+00  0.00000000e+00\n",
      "   0.00000000e+00]\n",
      " [ 1.11470110e-01  1.62468185e-03 -4.32232381e-06  9.81223528e-01\n",
      "   3.24833102e-02  1.43951744e-01 -2.69647118e-02 -6.46681266e-06\n",
      "  -2.82400652e-05 -9.07827678e-08  4.76213871e-02  0.00000000e+00\n",
      "   0.00000000e+00  0.00000000e+00  0.00000000e+00  0.00000000e+00\n",
      "   0.00000000e+00  0.00000000e+00  0.00000000e+00  0.00000000e+00\n",
      "   0.00000000e+00]\n",
      " [ 6.47054798e-01 -1.76107280e-05  1.32593965e-04 -3.59468160e-02\n",
      "   4.41640375e-03  2.04275871e-02 -2.94563658e-02  3.50650110e-02\n",
      "   1.46212597e-01  4.52168925e-04 -3.47542204e-03  7.45723452e-01\n",
      "   0.00000000e+00  0.00000000e+00  0.00000000e+00  0.00000000e+00\n",
      "   0.00000000e+00  0.00000000e+00  0.00000000e+00  0.00000000e+00\n",
      "   0.00000000e+00]\n",
      " [ 3.45611902e-01 -1.17293751e-05  3.95897100e-04 -2.39418644e-02\n",
      "   2.94148277e-03  1.36055032e-02 -1.96189925e-02  9.63955822e-02\n",
      "   3.65597049e-01  1.03229550e-03 -2.14578089e-03  6.11232183e-01\n",
      "   6.02359208e-01  0.00000000e+00  0.00000000e+00  0.00000000e+00\n",
      "   0.00000000e+00  0.00000000e+00  0.00000000e+00  0.00000000e+00\n",
      "   0.00000000e+00]\n",
      " [ 1.39834132e-02 -5.91998348e-07  1.47174596e-02 -1.20830781e-03\n",
      "   1.48451956e-04  6.86648102e-04 -9.90139343e-04  9.89824561e-01\n",
      "  -4.23800974e-02  3.56705741e-03 -1.06071261e-05  3.37375001e-03\n",
      "   6.11204550e-03  1.34069867e-01  0.00000000e+00  0.00000000e+00\n",
      "   0.00000000e+00  0.00000000e+00  0.00000000e+00  0.00000000e+00\n",
      "   0.00000000e+00]\n",
      " [ 6.14220873e-01 -1.72494357e-05  1.49119980e-04 -3.52093502e-02\n",
      "   4.32579915e-03  2.00085055e-02 -2.88520546e-02  3.92049160e-02\n",
      "   1.62433327e-01  4.99514388e-04 -3.39206424e-03  7.65517931e-01\n",
      "   4.46771555e-02 -5.69954981e-04  6.55290852e-02  0.00000000e+00\n",
      "   0.00000000e+00  0.00000000e+00  0.00000000e+00  0.00000000e+00\n",
      "   0.00000000e+00]\n",
      " [ 5.39911609e-01 -1.61328149e-05  1.93315357e-04 -3.29301163e-02\n",
      "   4.04577387e-03  1.87132796e-02 -2.69843524e-02  5.00505800e-02\n",
      "   2.03905235e-01  6.17618732e-04 -3.13983659e-03  7.74187796e-01\n",
      "   1.81409292e-01 -2.11999590e-03  1.45936167e-01  9.29824407e-02\n",
      "   0.00000000e+00  0.00000000e+00  0.00000000e+00  0.00000000e+00\n",
      "   0.00000000e+00]\n",
      " [ 2.12315281e-01 -7.76279027e-06  7.54821172e-04 -1.58453150e-02\n",
      "   1.94674568e-03  9.00445681e-03 -1.29843320e-02  1.69331598e-01\n",
      "   5.74753669e-01  1.42221754e-03 -1.20844791e-03  3.67131317e-01\n",
      "   5.42999736e-01  2.50311681e-02 -7.55896909e-02 -7.95100275e-02\n",
      "   3.91282940e-01  0.00000000e+00  0.00000000e+00  0.00000000e+00\n",
      "   0.00000000e+00]\n",
      " [ 1.62666570e-02  1.26464790e-02 -6.85893537e-07  2.89601002e-01\n",
      "   9.06159377e-01  8.16141934e-02  1.15554899e-02  2.77129567e-06\n",
      "   1.21020314e-05  3.89041564e-08 -2.46924699e-02 -1.99689198e-05\n",
      "   4.99955144e-06 -6.44153414e-08  8.07334206e-06 -8.49563368e-07\n",
      "  -4.37114365e-08  2.95258837e-01  0.00000000e+00  0.00000000e+00\n",
      "   0.00000000e+00]\n",
      " [ 5.20520671e-01  2.06809212e-04 -1.57818982e-05  3.50443462e-01\n",
      "  -3.83527469e-02 -1.77396389e-01  2.53135011e-01 -3.47968530e-03\n",
      "  -1.51955136e-02 -4.88487109e-05  2.94548455e-02 -1.19283940e-01\n",
      "   2.98647197e-02 -3.84783743e-04  4.82259460e-02 -5.07484965e-03\n",
      "  -2.61109385e-04  4.17536976e-04  7.00461829e-01  0.00000000e+00\n",
      "   0.00000000e+00]\n",
      " [ 7.18684574e-02  2.65739115e-03 -2.86351896e-06  8.36393113e-01\n",
      "   1.87859005e-01  4.54069174e-01  4.10297927e-02  9.83997109e-06\n",
      "   4.29703843e-05  1.38136027e-07 -8.76749430e-02 -7.09031500e-05\n",
      "   1.77517837e-05 -2.28717960e-07  2.86658161e-05 -3.01652365e-06\n",
      "  -1.55205117e-07  5.80019966e-02  5.90345564e-04  2.02656546e-01\n",
      "   0.00000000e+00]\n",
      " [ 1.44929073e-01 -5.50588953e-06  1.19824776e-03 -1.12385529e-02\n",
      "   1.38076171e-03  6.38656055e-03 -9.20935316e-03  2.48961670e-01\n",
      "   7.44822673e-01  1.51001451e-03 -6.39666623e-04  1.99537401e-01\n",
      "   3.33729800e-01  4.24325886e-02 -5.69845828e-02 -5.99399957e-02\n",
      "   3.65487924e-01  1.04389972e-08  2.62847900e-05 -2.55539666e-08\n",
      "   2.61881943e-01]]\n"
     ]
    }
   ],
   "source": [
    "print(URM_Exp.get_exp_L())\n"
   ]
  },
  {
   "cell_type": "code",
   "execution_count": null,
   "id": "05d27bec-36f8-4160-8aee-08014b43c44e",
   "metadata": {},
   "outputs": [],
   "source": []
  },
  {
   "cell_type": "code",
   "execution_count": null,
   "id": "48f68673-a26a-4b9d-8d2f-c4202b57a880",
   "metadata": {},
   "outputs": [],
   "source": []
  },
  {
   "cell_type": "code",
   "execution_count": null,
   "id": "157868f3-949f-417b-a6a7-898b0746512d",
   "metadata": {},
   "outputs": [],
   "source": [
    "acq_data.Create_BB_plot()"
   ]
  },
  {
   "cell_type": "code",
   "execution_count": null,
   "id": "19f1d167-eba5-4f4b-8ecf-a1f8e4f4d5f1",
   "metadata": {},
   "outputs": [],
   "source": []
  },
  {
   "cell_type": "code",
   "execution_count": null,
   "id": "6782e250-2920-4783-a7c8-726d6e9e84c2",
   "metadata": {},
   "outputs": [],
   "source": [
    "acq_data.plot_point(0)"
   ]
  },
  {
   "cell_type": "code",
   "execution_count": null,
   "id": "367b48cf-496f-47d7-8d9c-9430d46691ae",
   "metadata": {},
   "outputs": [],
   "source": [
    "acq_data.plot_point(5)"
   ]
  },
  {
   "cell_type": "code",
   "execution_count": null,
   "id": "9afb003b-65b0-4651-9a2b-2f18f3f304c1",
   "metadata": {},
   "outputs": [],
   "source": [
    "acq_data.plot_point(10)"
   ]
  },
  {
   "cell_type": "code",
   "execution_count": null,
   "id": "d5e1b372-8b1f-468c-8809-82b5bb30dfaf",
   "metadata": {},
   "outputs": [],
   "source": [
    "acq_data.plot_point(15)"
   ]
  },
  {
   "cell_type": "code",
   "execution_count": null,
   "id": "200d95bd-475d-49bf-a6eb-fbd0103a67c2",
   "metadata": {},
   "outputs": [],
   "source": [
    "acq_data.plot_point(19)"
   ]
  },
  {
   "cell_type": "code",
   "execution_count": null,
   "id": "99be2580-0617-4f98-b001-1579bcdc12d1",
   "metadata": {},
   "outputs": [],
   "source": [
    "acq_data.plot_all()"
   ]
  },
  {
   "cell_type": "code",
   "execution_count": null,
   "id": "f1962695-2cd5-4f2c-90bf-818abe266dbd",
   "metadata": {},
   "outputs": [],
   "source": []
  }
 ],
 "metadata": {
  "kernelspec": {
   "display_name": "Python 3.11 (XPython)",
   "language": "python",
   "name": "xpython"
  },
  "language_info": {
   "file_extension": ".py",
   "mimetype": "text/x-python",
   "name": "python",
   "version": "3.11.0"
  }
 },
 "nbformat": 4,
 "nbformat_minor": 5
}
