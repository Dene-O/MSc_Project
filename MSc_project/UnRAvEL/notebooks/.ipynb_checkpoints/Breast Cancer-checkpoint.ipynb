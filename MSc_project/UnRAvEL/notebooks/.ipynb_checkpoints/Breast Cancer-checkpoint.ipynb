{
 "cells": [
  {
   "cell_type": "code",
   "execution_count": 8,
   "metadata": {},
   "outputs": [
    {
     "name": "stdout",
     "output_type": "stream",
     "text": [
      "R2 score for the model on test set = 0.9298245614035088\n",
      "Prediction model type = classification\n",
      "Number of categorical featues = 0\n",
      "X (512, 30)\n",
      "Y (512,)\n",
      "X test (57, 30)\n",
      "Y test  (57,)\n",
      "features  ['mean radius' 'mean texture' 'mean perimeter' 'mean area'\n",
      " 'mean smoothness' 'mean compactness' 'mean concavity'\n",
      " 'mean concave points' 'mean symmetry' 'mean fractal dimension'\n",
      " 'radius error' 'texture error' 'perimeter error' 'area error'\n",
      " 'smoothness error' 'compactness error' 'concavity error'\n",
      " 'concave points error' 'symmetry error' 'fractal dimension error'\n",
      " 'worst radius' 'worst texture' 'worst perimeter' 'worst area'\n",
      " 'worst smoothness' 'worst compactness' 'worst concavity'\n",
      " 'worst concave points' 'worst symmetry' 'worst fractal dimension']\n",
      "mode  classification\n",
      "categorical_features  []\n",
      "sample_idx  [44  1 25 39  8 29 40 42 41 13]\n"
     ]
    }
   ],
   "source": [
    "#Adding path to parent directory\n",
    "import numpy as np\n",
    "import os\n",
    "import sys\n",
    "sys.path.insert(0, os.path.dirname(os.getcwd()))\n",
    "\n",
    "#Loading black box utilities\n",
    "from evaluation.blackbox_util import BlackBoxSimulator\n",
    "dataset_utilities = BlackBoxSimulator().load_breast_cancer_utilities()\n",
    "[X_train, y_train, X_test, y_test, features, model, mode, categorical_features, sample_idx] = dataset_utilities.values()\n",
    "\n",
    "assert X_train.shape[0] == y_train.shape[0]\n",
    "assert X_test.shape[0] == y_test.shape[0]\n",
    "\n",
    "print(f\"Prediction model type = {mode}\")\n",
    "print(f\"Number of categorical featues = {len(categorical_features)}\")\n",
    "\n",
    "print ('X', X_train.shape)\n",
    "print ('Y', y_train.shape)\n",
    "print ('X test', X_test.shape)\n",
    "print ('Y test ', y_test.shape)\n",
    "print ('features ', features)\n",
    "print ('mode ', mode)\n",
    "print ('categorical_features ', categorical_features)\n",
    "print ('sample_idx ', sample_idx)\n",
    "\n"
   ]
  },
  {
   "cell_type": "code",
   "execution_count": null,
   "metadata": {},
   "outputs": [],
   "source": [
    "#Default settings\n",
    "from unravel.tabular import UnRAVELTabularExplainer\n",
    "\n",
    "#Sample to be explained\n",
    "sample_idx = sample_idx[0]\n",
    "\n",
    "#Generating initial starting point\n",
    "X_init = np.array([X_test[sample_idx]])\n",
    "\n",
    "#Initializing the explainer object\n",
    "f_e = UnRAVELTabularExplainer(model, X_train, categorical_features = categorical_features, mode = mode)\n",
    "\n",
    "explanation = f_e.explain(X_init = X_init, feature_names = features, alpha = \"FUR\", max_iter = 50, importance_method=\"ARD\")"
   ]
  },
  {
   "cell_type": "code",
   "execution_count": 7,
   "metadata": {},
   "outputs": [
    {
     "data": {
      "text/plain": [
       "<StemContainer object of 3 artists>"
      ]
     },
     "execution_count": 7,
     "metadata": {},
     "output_type": "execute_result"
    },
    {
     "data": {
      "image/png": "[encoded data removed]",
      "text/plain": [
       "<Figure size 640x480 with 1 Axes>"
      ]
     },
     "metadata": {},
     "output_type": "display_data"
    }
   ],
   "source": [
    "import matplotlib.pyplot as plt\n",
    "plt.stem(explanation)"
   ]
  },
  {
   "cell_type": "code",
   "execution_count": null,
   "metadata": {},
   "outputs": [],
   "source": [
    "f_e.print_info()\n"
   ]
  }
 ],
 "metadata": {
  "interpreter": {
   "hash": "c7118b647d8aee2f8c09effbe5401c08cfa1b0b54a052ea455fdde2a36cad5c3"
  },
  "kernelspec": {
   "display_name": "Python 3 (ipykernel)",
   "language": "python",
   "name": "python3"
  },
  "language_info": {
   "codemirror_mode": {
    "name": "ipython",
    "version": 3
   },
   "file_extension": ".py",
   "mimetype": "text/x-python",
   "name": "python",
   "nbconvert_exporter": "python",
   "pygments_lexer": "ipython3",
   "version": "3.11.0"
  }
 },
 "nbformat": 4,
 "nbformat_minor": 4
}
