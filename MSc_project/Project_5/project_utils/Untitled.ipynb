{
 "cells": [
  {
   "cell_type": "code",
   "execution_count": 1,
   "id": "730cd587-dc5f-4830-a838-f6161f6aac81",
   "metadata": {},
   "outputs": [],
   "source": [
    "import numpy as np"
   ]
  },
  {
   "cell_type": "code",
   "execution_count": 4,
   "id": "03ad7594-d63d-44dd-948b-60d8035b667f",
   "metadata": {},
   "outputs": [
    {
     "name": "stdout",
     "output_type": "stream",
     "text": [
      "[[0.39474817 0.60525183]\n",
      " [0.10005893 0.89994107]\n",
      " [0.54429612 0.45570388]\n",
      " [0.76279522 0.23720478]\n",
      " [0.38611379 0.61388621]\n",
      " [0.59491352 0.40508648]\n",
      " [0.57210951 0.42789049]\n",
      " [0.78537905 0.21462095]\n",
      " [0.6297464  0.3702536 ]\n",
      " [0.0374025  0.9625975 ]]\n"
     ]
    }
   ],
   "source": [
    "f_pred = np.random.rand(10,2)\n",
    "f_pred[:,1] = 1 - f_pred[:,0]\n",
    "\n",
    "print(f_pred)\n"
   ]
  },
  {
   "cell_type": "code",
   "execution_count": 5,
   "id": "5ae30950-d4c4-4dfe-957c-f6297657bb35",
   "metadata": {},
   "outputs": [
    {
     "name": "stdout",
     "output_type": "stream",
     "text": [
      "[[0.73864397 0.26135603]\n",
      " [0.74891821 0.25108179]\n",
      " [0.56794386 0.43205614]\n",
      " [0.38510578 0.61489422]\n",
      " [0.13869192 0.86130808]\n",
      " [0.87235561 0.12764439]\n",
      " [0.44070234 0.55929766]\n",
      " [0.55818242 0.44181758]\n",
      " [0.10887204 0.89112796]\n",
      " [0.0827442  0.9172558 ]]\n"
     ]
    }
   ],
   "source": [
    "e_pred = np.random.rand(10,2)\n",
    "e_pred[:,1] = 1 - e_pred[:,0]\n",
    "\n",
    "print(e_pred)\n"
   ]
  },
  {
   "cell_type": "code",
   "execution_count": 8,
   "id": "594a03ff-dea5-4a4b-9f87-0c1afbeb78c8",
   "metadata": {},
   "outputs": [
    {
     "name": "stdout",
     "output_type": "stream",
     "text": [
      "[1 1 0 0 1 0 0 0 0 1]\n"
     ]
    }
   ],
   "source": [
    "fp = np.argmax(f_pred, axis = 1)\n",
    "print(fp)"
   ]
  },
  {
   "cell_type": "code",
   "execution_count": null,
   "id": "d0037e53-ce1b-4e79-b644-967897ef714d",
   "metadata": {},
   "outputs": [],
   "source": []
  },
  {
   "cell_type": "code",
   "execution_count": null,
   "id": "596379f9-7f91-41e3-b937-77ffad8ea3c6",
   "metadata": {},
   "outputs": [],
   "source": []
  }
 ],
 "metadata": {
  "kernelspec": {
   "display_name": "Python 3.11 (XPython)",
   "language": "python",
   "name": "xpython"
  },
  "language_info": {
   "file_extension": ".py",
   "mimetype": "text/x-python",
   "name": "python",
   "version": "3.11.0"
  }
 },
 "nbformat": 4,
 "nbformat_minor": 5
}
