{
 "cells": [
  {
   "cell_type": "code",
   "execution_count": 1,
   "id": "c4cbcb82-983a-499e-ae0f-faaa1c6e858f",
   "metadata": {},
   "outputs": [],
   "source": [
    "import numpy as np"
   ]
  },
  {
   "cell_type": "code",
   "execution_count": 2,
   "id": "f6674fae-816f-4e99-a020-50de01946a87",
   "metadata": {},
   "outputs": [],
   "source": [
    "n_scores = 20\n",
    "top_k    = 5"
   ]
  },
  {
   "cell_type": "code",
   "execution_count": 3,
   "id": "05724b1b-9d9c-4bdf-a79a-039b7bf0183c",
   "metadata": {},
   "outputs": [
    {
     "name": "stdout",
     "output_type": "stream",
     "text": [
      "s1\n",
      "[0.23112369 6.28278082 4.62282611 3.85083815 9.55973586 7.82964084\n",
      " 9.70310259 3.79348293 3.35963311 5.30725807 7.39157414 0.01256539\n",
      " 2.69214993 8.38989633 0.45736365 9.81310104 7.58803647 3.54605803\n",
      " 8.73659998 0.03217617]\n"
     ]
    }
   ],
   "source": [
    "s1 = np.random.uniform(low=0.0, high=10.0, size=n_scores)\n",
    "\n",
    "print('s1')\n",
    "print(s1)"
   ]
  },
  {
   "cell_type": "code",
   "execution_count": 4,
   "id": "f014d1eb-e0cf-4c6b-8d33-551981aea856",
   "metadata": {},
   "outputs": [
    {
     "name": "stdout",
     "output_type": "stream",
     "text": [
      "s2\n",
      "[3.34802526 5.95698471 7.05888962 7.95703665 7.89083116 2.03076978\n",
      " 0.53001533 8.46917314 0.17548185 6.32553566 2.42879778 2.13848646\n",
      " 5.58029512 5.9012031  2.92769026 6.91789845 5.45793682 5.37545514\n",
      " 8.94915242 9.55390028]\n"
     ]
    }
   ],
   "source": [
    "s2 = np.random.uniform(low=0.0, high=10.0, size=n_scores)\n",
    "\n",
    "print('s2')\n",
    "print(s2)"
   ]
  },
  {
   "cell_type": "code",
   "execution_count": 5,
   "id": "9e2509a6-068a-438a-bba4-7ea67997f033",
   "metadata": {},
   "outputs": [
    {
     "name": "stdout",
     "output_type": "stream",
     "text": [
      "s1\n",
      "{4, 6, 13, 15, 18}\n"
     ]
    }
   ],
   "source": [
    "s1 = set(np.argpartition(s1, -top_k)[-top_k:])\n",
    "\n",
    "print('s1')\n",
    "print(s1)"
   ]
  },
  {
   "cell_type": "code",
   "execution_count": 6,
   "id": "749a9004-bf36-40e6-ac05-d2467852ddc2",
   "metadata": {},
   "outputs": [
    {
     "name": "stdout",
     "output_type": "stream",
     "text": [
      "s2\n",
      "{3, 4, 7, 18, 19}\n"
     ]
    }
   ],
   "source": [
    "s2 = set(np.argpartition(s2, -top_k)[-top_k:])\n",
    "\n",
    "print('s2')\n",
    "print(s2)"
   ]
  },
  {
   "cell_type": "code",
   "execution_count": 7,
   "id": "cf9aab21-0c3f-4749-80e5-2a85524e13c7",
   "metadata": {},
   "outputs": [
    {
     "name": "stdout",
     "output_type": "stream",
     "text": [
      "0.25\n"
     ]
    }
   ],
   "source": [
    "jaccard_similarity = len(s1.intersection(s2)) / len(s1.union(s2))\n",
    "\n",
    "print(jaccard_similarity)"
   ]
  },
  {
   "cell_type": "code",
   "execution_count": null,
   "id": "3d165016-7ada-4438-9b70-99f17d3c3721",
   "metadata": {},
   "outputs": [],
   "source": []
  }
 ],
 "metadata": {
  "kernelspec": {
   "display_name": "Python 3.11 (XPython)",
   "language": "python",
   "name": "xpython"
  },
  "language_info": {
   "file_extension": ".py",
   "mimetype": "text/x-python",
   "name": "python",
   "version": "3.11.0"
  }
 },
 "nbformat": 4,
 "nbformat_minor": 5
}
