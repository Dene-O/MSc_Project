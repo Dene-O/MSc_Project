{
 "cells": [
  {
   "cell_type": "code",
   "execution_count": 1,
   "id": "6a02475f-108f-4235-bc87-ad6b1ab7997f",
   "metadata": {},
   "outputs": [],
   "source": [
    "from uncertainty_toolbox.metrics_calibration import root_mean_squared_calibration_error\n",
    "import numpy as np"
   ]
  },
  {
   "cell_type": "code",
   "execution_count": 9,
   "id": "050e9fd3-d180-4954-b2d1-d68a25d4ccd4",
   "metadata": {},
   "outputs": [],
   "source": [
    "y_true = abs(np.arange(1000) + np.random.normal(0, 3, 1000)) / 500\n",
    "\n",
    "y_pred = abs(500 - np.arange(1000)) / 1000 + np.random.normal(0, 6, 1000) / 500 + y_true\n",
    "\n",
    "y_std  = abs(np.random.normal(0, 5, 1000)) / 500"
   ]
  },
  {
   "cell_type": "code",
   "execution_count": 10,
   "id": "54b1850f-70a2-42c0-ae1f-d3050715177b",
   "metadata": {},
   "outputs": [
    {
     "name": "stdout",
     "output_type": "stream",
     "text": [
      "0.5595946590082614\n"
     ]
    }
   ],
   "source": [
    "rmsce = root_mean_squared_calibration_error(y_pred, y_std, y_true)\n",
    "print(rmsce)"
   ]
  },
  {
   "cell_type": "code",
   "execution_count": 11,
   "id": "8f964aa2-aa40-4b72-a987-1a87bb95a441",
   "metadata": {},
   "outputs": [
    {
     "name": "stdout",
     "output_type": "stream",
     "text": [
      "[[1.         0.97001852]\n",
      " [0.97001852 1.        ]]\n"
     ]
    }
   ],
   "source": [
    "corr = np.corrcoef(y_true, y_pred)\n",
    "print(corr)"
   ]
  },
  {
   "cell_type": "code",
   "execution_count": null,
   "id": "53e3ce4f-53a9-4e04-85c5-2708c8e5af87",
   "metadata": {},
   "outputs": [],
   "source": []
  },
  {
   "cell_type": "code",
   "execution_count": 12,
   "id": "5d1efdd5-909c-46a5-b7ab-2cfc2767b379",
   "metadata": {},
   "outputs": [],
   "source": [
    "y_true = abs(np.arange(1000) + np.random.normal(0, 3, 1000)) / 500\n",
    "\n",
    "y_pred = np.random.normal(0, 6, 1000) / 500 + y_true\n",
    "\n",
    "y_std  = abs(np.random.normal(0, 5, 1000)) / 500"
   ]
  },
  {
   "cell_type": "code",
   "execution_count": 13,
   "id": "acd6db63-ff22-40c4-a78e-4e615c1d1baa",
   "metadata": {},
   "outputs": [
    {
     "name": "stdout",
     "output_type": "stream",
     "text": [
      "0.18366095730736368\n"
     ]
    }
   ],
   "source": [
    "rmsce = root_mean_squared_calibration_error(y_pred, y_std, y_true)\n",
    "print(rmsce)"
   ]
  },
  {
   "cell_type": "code",
   "execution_count": null,
   "id": "58487c4f-55af-4e04-a304-fe64d4124bb7",
   "metadata": {},
   "outputs": [],
   "source": []
  },
  {
   "cell_type": "code",
   "execution_count": 14,
   "id": "5b983df9-fc3a-4fc7-ad2a-6cb02cc818fb",
   "metadata": {},
   "outputs": [
    {
     "name": "stdout",
     "output_type": "stream",
     "text": [
      "[[1.         0.99980159]\n",
      " [0.99980159 1.        ]]\n"
     ]
    }
   ],
   "source": [
    "corr = np.corrcoef(y_true, y_pred)\n",
    "print(corr)"
   ]
  },
  {
   "cell_type": "code",
   "execution_count": null,
   "id": "b19d7f9a-f397-4e85-adf0-9093c575417e",
   "metadata": {},
   "outputs": [],
   "source": []
  },
  {
   "cell_type": "code",
   "execution_count": null,
   "id": "0f3545f6-abb8-4cc4-8881-4f70afbfb0c0",
   "metadata": {},
   "outputs": [],
   "source": []
  }
 ],
 "metadata": {
  "kernelspec": {
   "display_name": "Python 3.11 (XPython)",
   "language": "python",
   "name": "xpython"
  },
  "language_info": {
   "file_extension": ".py",
   "mimetype": "text/x-python",
   "name": "python",
   "version": "3.11.0"
  }
 },
 "nbformat": 4,
 "nbformat_minor": 5
}
