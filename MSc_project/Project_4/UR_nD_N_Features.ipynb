{
 "cells": [
  {
   "cell_type": "code",
   "execution_count": 1,
   "id": "33815253-dca2-4013-b9e5-e64aacdeda2e",
   "metadata": {},
   "outputs": [],
   "source": [
    "# Import Libraries\n",
    "import numpy as np\n",
    "\n",
    "from project_utils.bb_model         import BB_Model\n",
    "from project_utils.feature_stats    import Feature_Statistics\n",
    "from project_utils.feature_stats    import Regression_Container\n",
    "from project_utils.acq_data_capture import Acq_Data_nD\n",
    "from project_utils.surroagte_gp     import Surrogate_GP\n",
    "\n"
   ]
  },
  {
   "cell_type": "code",
   "execution_count": 2,
   "id": "6b40f5d7-967b-4e4f-8d57-4d989682cb85",
   "metadata": {},
   "outputs": [],
   "source": [
    "Num_Points    = 5\n",
    "Title         = 'Synthetic Regression'\n",
    "FUR_Weight    = 0.1\n",
    "N_consistancy = 5"
   ]
  },
  {
   "cell_type": "code",
   "execution_count": 3,
   "id": "7a7b9d93-fa67-4472-9f45-04e52ecab422",
   "metadata": {},
   "outputs": [
    {
     "name": "stdout",
     "output_type": "stream",
     "text": [
      "[0.1, 0.9]\n"
     ]
    }
   ],
   "source": [
    "if isinstance(FUR_Weight, float):\n",
    "    FUR_Weight = [FUR_Weight, 1.0 - FUR_Weight]\n",
    "    \n",
    "print(FUR_Weight)"
   ]
  },
  {
   "cell_type": "code",
   "execution_count": 4,
   "id": "f29a7de3-601a-44ed-924d-f6d83c6d8004",
   "metadata": {},
   "outputs": [],
   "source": [
    "# Load Forrester model\n",
    "\n",
    "Reg_Data = BB_Model(dataset = 'Synthetic_Reg', Feature_Counts=[16,12])\n",
    "\n",
    "#Reg_Data.df().head()"
   ]
  },
  {
   "cell_type": "code",
   "execution_count": 5,
   "id": "ea385186-88ac-4037-8d21-cf7f3f0cf5a2",
   "metadata": {},
   "outputs": [
    {
     "name": "stderr",
     "output_type": "stream",
     "text": [
      "C:\\Users\\deneb\\AppData\\Local\\Programs\\Python\\Python311\\Lib\\site-packages\\sklearn\\neural_network\\_multilayer_perceptron.py:702: ConvergenceWarning: Stochastic Optimizer: Maximum iterations (200) reached and the optimization hasn't converged yet.\n",
      "  warnings.warn(\n"
     ]
    },
    {
     "name": "stdout",
     "output_type": "stream",
     "text": [
      "0.4341086089262337\n"
     ]
    },
    {
     "data": {
      "text/html": [
       "<style>#sk-container-id-1 {color: black;background-color: white;}#sk-container-id-1 pre{padding: 0;}#sk-container-id-1 div.sk-toggleable {background-color: white;}#sk-container-id-1 label.sk-toggleable__label {cursor: pointer;display: block;width: 100%;margin-bottom: 0;padding: 0.3em;box-sizing: border-box;text-align: center;}#sk-container-id-1 label.sk-toggleable__label-arrow:before {content: \"▸\";float: left;margin-right: 0.25em;color: #696969;}#sk-container-id-1 label.sk-toggleable__label-arrow:hover:before {color: black;}#sk-container-id-1 div.sk-estimator:hover label.sk-toggleable__label-arrow:before {color: black;}#sk-container-id-1 div.sk-toggleable__content {max-height: 0;max-width: 0;overflow: hidden;text-align: left;background-color: #f0f8ff;}#sk-container-id-1 div.sk-toggleable__content pre {margin: 0.2em;color: black;border-radius: 0.25em;background-color: #f0f8ff;}#sk-container-id-1 input.sk-toggleable__control:checked~div.sk-toggleable__content {max-height: 200px;max-width: 100%;overflow: auto;}#sk-container-id-1 input.sk-toggleable__control:checked~label.sk-toggleable__label-arrow:before {content: \"▾\";}#sk-container-id-1 div.sk-estimator input.sk-toggleable__control:checked~label.sk-toggleable__label {background-color: #d4ebff;}#sk-container-id-1 div.sk-label input.sk-toggleable__control:checked~label.sk-toggleable__label {background-color: #d4ebff;}#sk-container-id-1 input.sk-hidden--visually {border: 0;clip: rect(1px 1px 1px 1px);clip: rect(1px, 1px, 1px, 1px);height: 1px;margin: -1px;overflow: hidden;padding: 0;position: absolute;width: 1px;}#sk-container-id-1 div.sk-estimator {font-family: monospace;background-color: #f0f8ff;border: 1px dotted black;border-radius: 0.25em;box-sizing: border-box;margin-bottom: 0.5em;}#sk-container-id-1 div.sk-estimator:hover {background-color: #d4ebff;}#sk-container-id-1 div.sk-parallel-item::after {content: \"\";width: 100%;border-bottom: 1px solid gray;flex-grow: 1;}#sk-container-id-1 div.sk-label:hover label.sk-toggleable__label {background-color: #d4ebff;}#sk-container-id-1 div.sk-serial::before {content: \"\";position: absolute;border-left: 1px solid gray;box-sizing: border-box;top: 0;bottom: 0;left: 50%;z-index: 0;}#sk-container-id-1 div.sk-serial {display: flex;flex-direction: column;align-items: center;background-color: white;padding-right: 0.2em;padding-left: 0.2em;position: relative;}#sk-container-id-1 div.sk-item {position: relative;z-index: 1;}#sk-container-id-1 div.sk-parallel {display: flex;align-items: stretch;justify-content: center;background-color: white;position: relative;}#sk-container-id-1 div.sk-item::before, #sk-container-id-1 div.sk-parallel-item::before {content: \"\";position: absolute;border-left: 1px solid gray;box-sizing: border-box;top: 0;bottom: 0;left: 50%;z-index: -1;}#sk-container-id-1 div.sk-parallel-item {display: flex;flex-direction: column;z-index: 1;position: relative;background-color: white;}#sk-container-id-1 div.sk-parallel-item:first-child::after {align-self: flex-end;width: 50%;}#sk-container-id-1 div.sk-parallel-item:last-child::after {align-self: flex-start;width: 50%;}#sk-container-id-1 div.sk-parallel-item:only-child::after {width: 0;}#sk-container-id-1 div.sk-dashed-wrapped {border: 1px dashed gray;margin: 0 0.4em 0.5em 0.4em;box-sizing: border-box;padding-bottom: 0.4em;background-color: white;}#sk-container-id-1 div.sk-label label {font-family: monospace;font-weight: bold;display: inline-block;line-height: 1.2em;}#sk-container-id-1 div.sk-label-container {text-align: center;}#sk-container-id-1 div.sk-container {/* jupyter's `normalize.less` sets `[hidden] { display: none; }` but bootstrap.min.css set `[hidden] { display: none !important; }` so we also need the `!important` here to be able to override the default hidden behavior on the sphinx rendered scikit-learn.org. See: https://github.com/scikit-learn/scikit-learn/issues/21755 */display: inline-block !important;position: relative;}#sk-container-id-1 div.sk-text-repr-fallback {display: none;}</style><div id=\"sk-container-id-1\" class=\"sk-top-container\"><div class=\"sk-text-repr-fallback\"><pre>MLPRegressor(random_state=RandomState(MT19937) at 0x26331809840)</pre><b>In a Jupyter environment, please rerun this cell to show the HTML representation or trust the notebook. <br />On GitHub, the HTML representation is unable to render, please try loading this page with nbviewer.org.</b></div><div class=\"sk-container\" hidden><div class=\"sk-item\"><div class=\"sk-estimator sk-toggleable\"><input class=\"sk-toggleable__control sk-hidden--visually\" id=\"sk-estimator-id-1\" type=\"checkbox\" checked><label for=\"sk-estimator-id-1\" class=\"sk-toggleable__label sk-toggleable__label-arrow\">MLPRegressor</label><div class=\"sk-toggleable__content\"><pre>MLPRegressor(random_state=RandomState(MT19937) at 0x26331809840)</pre></div></div></div></div></div>"
      ],
      "text/plain": [
       "MLPRegressor(random_state=RandomState(MT19937) at 0x26331809840)"
      ]
     },
     "execution_count": 5,
     "metadata": {},
     "output_type": "execute_result"
    }
   ],
   "source": [
    "Reg_Data.MPL()"
   ]
  },
  {
   "cell_type": "code",
   "execution_count": 6,
   "id": "18a03da2-e036-4695-b08b-cf31394ef7b6",
   "metadata": {},
   "outputs": [
    {
     "name": "stdout",
     "output_type": "stream",
     "text": [
      "0.37275610299080697\n"
     ]
    },
    {
     "data": {
      "text/html": [
       "<style>#sk-container-id-2 {color: black;background-color: white;}#sk-container-id-2 pre{padding: 0;}#sk-container-id-2 div.sk-toggleable {background-color: white;}#sk-container-id-2 label.sk-toggleable__label {cursor: pointer;display: block;width: 100%;margin-bottom: 0;padding: 0.3em;box-sizing: border-box;text-align: center;}#sk-container-id-2 label.sk-toggleable__label-arrow:before {content: \"▸\";float: left;margin-right: 0.25em;color: #696969;}#sk-container-id-2 label.sk-toggleable__label-arrow:hover:before {color: black;}#sk-container-id-2 div.sk-estimator:hover label.sk-toggleable__label-arrow:before {color: black;}#sk-container-id-2 div.sk-toggleable__content {max-height: 0;max-width: 0;overflow: hidden;text-align: left;background-color: #f0f8ff;}#sk-container-id-2 div.sk-toggleable__content pre {margin: 0.2em;color: black;border-radius: 0.25em;background-color: #f0f8ff;}#sk-container-id-2 input.sk-toggleable__control:checked~div.sk-toggleable__content {max-height: 200px;max-width: 100%;overflow: auto;}#sk-container-id-2 input.sk-toggleable__control:checked~label.sk-toggleable__label-arrow:before {content: \"▾\";}#sk-container-id-2 div.sk-estimator input.sk-toggleable__control:checked~label.sk-toggleable__label {background-color: #d4ebff;}#sk-container-id-2 div.sk-label input.sk-toggleable__control:checked~label.sk-toggleable__label {background-color: #d4ebff;}#sk-container-id-2 input.sk-hidden--visually {border: 0;clip: rect(1px 1px 1px 1px);clip: rect(1px, 1px, 1px, 1px);height: 1px;margin: -1px;overflow: hidden;padding: 0;position: absolute;width: 1px;}#sk-container-id-2 div.sk-estimator {font-family: monospace;background-color: #f0f8ff;border: 1px dotted black;border-radius: 0.25em;box-sizing: border-box;margin-bottom: 0.5em;}#sk-container-id-2 div.sk-estimator:hover {background-color: #d4ebff;}#sk-container-id-2 div.sk-parallel-item::after {content: \"\";width: 100%;border-bottom: 1px solid gray;flex-grow: 1;}#sk-container-id-2 div.sk-label:hover label.sk-toggleable__label {background-color: #d4ebff;}#sk-container-id-2 div.sk-serial::before {content: \"\";position: absolute;border-left: 1px solid gray;box-sizing: border-box;top: 0;bottom: 0;left: 50%;z-index: 0;}#sk-container-id-2 div.sk-serial {display: flex;flex-direction: column;align-items: center;background-color: white;padding-right: 0.2em;padding-left: 0.2em;position: relative;}#sk-container-id-2 div.sk-item {position: relative;z-index: 1;}#sk-container-id-2 div.sk-parallel {display: flex;align-items: stretch;justify-content: center;background-color: white;position: relative;}#sk-container-id-2 div.sk-item::before, #sk-container-id-2 div.sk-parallel-item::before {content: \"\";position: absolute;border-left: 1px solid gray;box-sizing: border-box;top: 0;bottom: 0;left: 50%;z-index: -1;}#sk-container-id-2 div.sk-parallel-item {display: flex;flex-direction: column;z-index: 1;position: relative;background-color: white;}#sk-container-id-2 div.sk-parallel-item:first-child::after {align-self: flex-end;width: 50%;}#sk-container-id-2 div.sk-parallel-item:last-child::after {align-self: flex-start;width: 50%;}#sk-container-id-2 div.sk-parallel-item:only-child::after {width: 0;}#sk-container-id-2 div.sk-dashed-wrapped {border: 1px dashed gray;margin: 0 0.4em 0.5em 0.4em;box-sizing: border-box;padding-bottom: 0.4em;background-color: white;}#sk-container-id-2 div.sk-label label {font-family: monospace;font-weight: bold;display: inline-block;line-height: 1.2em;}#sk-container-id-2 div.sk-label-container {text-align: center;}#sk-container-id-2 div.sk-container {/* jupyter's `normalize.less` sets `[hidden] { display: none; }` but bootstrap.min.css set `[hidden] { display: none !important; }` so we also need the `!important` here to be able to override the default hidden behavior on the sphinx rendered scikit-learn.org. See: https://github.com/scikit-learn/scikit-learn/issues/21755 */display: inline-block !important;position: relative;}#sk-container-id-2 div.sk-text-repr-fallback {display: none;}</style><div id=\"sk-container-id-2\" class=\"sk-top-container\"><div class=\"sk-text-repr-fallback\"><pre>RandomForestRegressor(random_state=RandomState(MT19937) at 0x26331809840)</pre><b>In a Jupyter environment, please rerun this cell to show the HTML representation or trust the notebook. <br />On GitHub, the HTML representation is unable to render, please try loading this page with nbviewer.org.</b></div><div class=\"sk-container\" hidden><div class=\"sk-item\"><div class=\"sk-estimator sk-toggleable\"><input class=\"sk-toggleable__control sk-hidden--visually\" id=\"sk-estimator-id-2\" type=\"checkbox\" checked><label for=\"sk-estimator-id-2\" class=\"sk-toggleable__label sk-toggleable__label-arrow\">RandomForestRegressor</label><div class=\"sk-toggleable__content\"><pre>RandomForestRegressor(random_state=RandomState(MT19937) at 0x26331809840)</pre></div></div></div></div></div>"
      ],
      "text/plain": [
       "RandomForestRegressor(random_state=RandomState(MT19937) at 0x26331809840)"
      ]
     },
     "execution_count": 6,
     "metadata": {},
     "output_type": "execute_result"
    }
   ],
   "source": [
    "Reg_Data.Random_Forest()"
   ]
  },
  {
   "cell_type": "code",
   "execution_count": 7,
   "id": "398368f4-ea2f-4999-acd3-5cf7b7b43db2",
   "metadata": {},
   "outputs": [
    {
     "name": "stdout",
     "output_type": "stream",
     "text": [
      "-0.3147379417650189\n"
     ]
    },
    {
     "data": {
      "text/html": [
       "<style>#sk-container-id-3 {color: black;background-color: white;}#sk-container-id-3 pre{padding: 0;}#sk-container-id-3 div.sk-toggleable {background-color: white;}#sk-container-id-3 label.sk-toggleable__label {cursor: pointer;display: block;width: 100%;margin-bottom: 0;padding: 0.3em;box-sizing: border-box;text-align: center;}#sk-container-id-3 label.sk-toggleable__label-arrow:before {content: \"▸\";float: left;margin-right: 0.25em;color: #696969;}#sk-container-id-3 label.sk-toggleable__label-arrow:hover:before {color: black;}#sk-container-id-3 div.sk-estimator:hover label.sk-toggleable__label-arrow:before {color: black;}#sk-container-id-3 div.sk-toggleable__content {max-height: 0;max-width: 0;overflow: hidden;text-align: left;background-color: #f0f8ff;}#sk-container-id-3 div.sk-toggleable__content pre {margin: 0.2em;color: black;border-radius: 0.25em;background-color: #f0f8ff;}#sk-container-id-3 input.sk-toggleable__control:checked~div.sk-toggleable__content {max-height: 200px;max-width: 100%;overflow: auto;}#sk-container-id-3 input.sk-toggleable__control:checked~label.sk-toggleable__label-arrow:before {content: \"▾\";}#sk-container-id-3 div.sk-estimator input.sk-toggleable__control:checked~label.sk-toggleable__label {background-color: #d4ebff;}#sk-container-id-3 div.sk-label input.sk-toggleable__control:checked~label.sk-toggleable__label {background-color: #d4ebff;}#sk-container-id-3 input.sk-hidden--visually {border: 0;clip: rect(1px 1px 1px 1px);clip: rect(1px, 1px, 1px, 1px);height: 1px;margin: -1px;overflow: hidden;padding: 0;position: absolute;width: 1px;}#sk-container-id-3 div.sk-estimator {font-family: monospace;background-color: #f0f8ff;border: 1px dotted black;border-radius: 0.25em;box-sizing: border-box;margin-bottom: 0.5em;}#sk-container-id-3 div.sk-estimator:hover {background-color: #d4ebff;}#sk-container-id-3 div.sk-parallel-item::after {content: \"\";width: 100%;border-bottom: 1px solid gray;flex-grow: 1;}#sk-container-id-3 div.sk-label:hover label.sk-toggleable__label {background-color: #d4ebff;}#sk-container-id-3 div.sk-serial::before {content: \"\";position: absolute;border-left: 1px solid gray;box-sizing: border-box;top: 0;bottom: 0;left: 50%;z-index: 0;}#sk-container-id-3 div.sk-serial {display: flex;flex-direction: column;align-items: center;background-color: white;padding-right: 0.2em;padding-left: 0.2em;position: relative;}#sk-container-id-3 div.sk-item {position: relative;z-index: 1;}#sk-container-id-3 div.sk-parallel {display: flex;align-items: stretch;justify-content: center;background-color: white;position: relative;}#sk-container-id-3 div.sk-item::before, #sk-container-id-3 div.sk-parallel-item::before {content: \"\";position: absolute;border-left: 1px solid gray;box-sizing: border-box;top: 0;bottom: 0;left: 50%;z-index: -1;}#sk-container-id-3 div.sk-parallel-item {display: flex;flex-direction: column;z-index: 1;position: relative;background-color: white;}#sk-container-id-3 div.sk-parallel-item:first-child::after {align-self: flex-end;width: 50%;}#sk-container-id-3 div.sk-parallel-item:last-child::after {align-self: flex-start;width: 50%;}#sk-container-id-3 div.sk-parallel-item:only-child::after {width: 0;}#sk-container-id-3 div.sk-dashed-wrapped {border: 1px dashed gray;margin: 0 0.4em 0.5em 0.4em;box-sizing: border-box;padding-bottom: 0.4em;background-color: white;}#sk-container-id-3 div.sk-label label {font-family: monospace;font-weight: bold;display: inline-block;line-height: 1.2em;}#sk-container-id-3 div.sk-label-container {text-align: center;}#sk-container-id-3 div.sk-container {/* jupyter's `normalize.less` sets `[hidden] { display: none; }` but bootstrap.min.css set `[hidden] { display: none !important; }` so we also need the `!important` here to be able to override the default hidden behavior on the sphinx rendered scikit-learn.org. See: https://github.com/scikit-learn/scikit-learn/issues/21755 */display: inline-block !important;position: relative;}#sk-container-id-3 div.sk-text-repr-fallback {display: none;}</style><div id=\"sk-container-id-3\" class=\"sk-top-container\"><div class=\"sk-text-repr-fallback\"><pre>GaussianProcessRegressor()</pre><b>In a Jupyter environment, please rerun this cell to show the HTML representation or trust the notebook. <br />On GitHub, the HTML representation is unable to render, please try loading this page with nbviewer.org.</b></div><div class=\"sk-container\" hidden><div class=\"sk-item\"><div class=\"sk-estimator sk-toggleable\"><input class=\"sk-toggleable__control sk-hidden--visually\" id=\"sk-estimator-id-3\" type=\"checkbox\" checked><label for=\"sk-estimator-id-3\" class=\"sk-toggleable__label sk-toggleable__label-arrow\">GaussianProcessRegressor</label><div class=\"sk-toggleable__content\"><pre>GaussianProcessRegressor()</pre></div></div></div></div></div>"
      ],
      "text/plain": [
       "GaussianProcessRegressor()"
      ]
     },
     "execution_count": 7,
     "metadata": {},
     "output_type": "execute_result"
    }
   ],
   "source": [
    "Reg_Data.GP()"
   ]
  },
  {
   "cell_type": "code",
   "execution_count": 8,
   "id": "2c3e6ee4-d474-4439-99ab-063132debc9b",
   "metadata": {},
   "outputs": [
    {
     "name": "stdout",
     "output_type": "stream",
     "text": [
      "0.4424291212732512\n"
     ]
    },
    {
     "data": {
      "text/html": [
       "<style>#sk-container-id-4 {color: black;background-color: white;}#sk-container-id-4 pre{padding: 0;}#sk-container-id-4 div.sk-toggleable {background-color: white;}#sk-container-id-4 label.sk-toggleable__label {cursor: pointer;display: block;width: 100%;margin-bottom: 0;padding: 0.3em;box-sizing: border-box;text-align: center;}#sk-container-id-4 label.sk-toggleable__label-arrow:before {content: \"▸\";float: left;margin-right: 0.25em;color: #696969;}#sk-container-id-4 label.sk-toggleable__label-arrow:hover:before {color: black;}#sk-container-id-4 div.sk-estimator:hover label.sk-toggleable__label-arrow:before {color: black;}#sk-container-id-4 div.sk-toggleable__content {max-height: 0;max-width: 0;overflow: hidden;text-align: left;background-color: #f0f8ff;}#sk-container-id-4 div.sk-toggleable__content pre {margin: 0.2em;color: black;border-radius: 0.25em;background-color: #f0f8ff;}#sk-container-id-4 input.sk-toggleable__control:checked~div.sk-toggleable__content {max-height: 200px;max-width: 100%;overflow: auto;}#sk-container-id-4 input.sk-toggleable__control:checked~label.sk-toggleable__label-arrow:before {content: \"▾\";}#sk-container-id-4 div.sk-estimator input.sk-toggleable__control:checked~label.sk-toggleable__label {background-color: #d4ebff;}#sk-container-id-4 div.sk-label input.sk-toggleable__control:checked~label.sk-toggleable__label {background-color: #d4ebff;}#sk-container-id-4 input.sk-hidden--visually {border: 0;clip: rect(1px 1px 1px 1px);clip: rect(1px, 1px, 1px, 1px);height: 1px;margin: -1px;overflow: hidden;padding: 0;position: absolute;width: 1px;}#sk-container-id-4 div.sk-estimator {font-family: monospace;background-color: #f0f8ff;border: 1px dotted black;border-radius: 0.25em;box-sizing: border-box;margin-bottom: 0.5em;}#sk-container-id-4 div.sk-estimator:hover {background-color: #d4ebff;}#sk-container-id-4 div.sk-parallel-item::after {content: \"\";width: 100%;border-bottom: 1px solid gray;flex-grow: 1;}#sk-container-id-4 div.sk-label:hover label.sk-toggleable__label {background-color: #d4ebff;}#sk-container-id-4 div.sk-serial::before {content: \"\";position: absolute;border-left: 1px solid gray;box-sizing: border-box;top: 0;bottom: 0;left: 50%;z-index: 0;}#sk-container-id-4 div.sk-serial {display: flex;flex-direction: column;align-items: center;background-color: white;padding-right: 0.2em;padding-left: 0.2em;position: relative;}#sk-container-id-4 div.sk-item {position: relative;z-index: 1;}#sk-container-id-4 div.sk-parallel {display: flex;align-items: stretch;justify-content: center;background-color: white;position: relative;}#sk-container-id-4 div.sk-item::before, #sk-container-id-4 div.sk-parallel-item::before {content: \"\";position: absolute;border-left: 1px solid gray;box-sizing: border-box;top: 0;bottom: 0;left: 50%;z-index: -1;}#sk-container-id-4 div.sk-parallel-item {display: flex;flex-direction: column;z-index: 1;position: relative;background-color: white;}#sk-container-id-4 div.sk-parallel-item:first-child::after {align-self: flex-end;width: 50%;}#sk-container-id-4 div.sk-parallel-item:last-child::after {align-self: flex-start;width: 50%;}#sk-container-id-4 div.sk-parallel-item:only-child::after {width: 0;}#sk-container-id-4 div.sk-dashed-wrapped {border: 1px dashed gray;margin: 0 0.4em 0.5em 0.4em;box-sizing: border-box;padding-bottom: 0.4em;background-color: white;}#sk-container-id-4 div.sk-label label {font-family: monospace;font-weight: bold;display: inline-block;line-height: 1.2em;}#sk-container-id-4 div.sk-label-container {text-align: center;}#sk-container-id-4 div.sk-container {/* jupyter's `normalize.less` sets `[hidden] { display: none; }` but bootstrap.min.css set `[hidden] { display: none !important; }` so we also need the `!important` here to be able to override the default hidden behavior on the sphinx rendered scikit-learn.org. See: https://github.com/scikit-learn/scikit-learn/issues/21755 */display: inline-block !important;position: relative;}#sk-container-id-4 div.sk-text-repr-fallback {display: none;}</style><div id=\"sk-container-id-4\" class=\"sk-top-container\"><div class=\"sk-text-repr-fallback\"><pre>LinearRegression()</pre><b>In a Jupyter environment, please rerun this cell to show the HTML representation or trust the notebook. <br />On GitHub, the HTML representation is unable to render, please try loading this page with nbviewer.org.</b></div><div class=\"sk-container\" hidden><div class=\"sk-item\"><div class=\"sk-estimator sk-toggleable\"><input class=\"sk-toggleable__control sk-hidden--visually\" id=\"sk-estimator-id-4\" type=\"checkbox\" checked><label for=\"sk-estimator-id-4\" class=\"sk-toggleable__label sk-toggleable__label-arrow\">LinearRegression</label><div class=\"sk-toggleable__content\"><pre>LinearRegression()</pre></div></div></div></div></div>"
      ],
      "text/plain": [
       "LinearRegression()"
      ]
     },
     "execution_count": 8,
     "metadata": {},
     "output_type": "execute_result"
    }
   ],
   "source": [
    "Reg_Data.L_Regression()"
   ]
  },
  {
   "cell_type": "code",
   "execution_count": 9,
   "id": "a6f5d586-fb1b-42f6-8586-be6270da7c34",
   "metadata": {},
   "outputs": [
    {
     "name": "stdout",
     "output_type": "stream",
     "text": [
      "['Passive_0', 'Passive_1', 'Active_2', 'Active_3', 'Active_4', 'Active_5', 'Active_6', 'Active_7']\n"
     ]
    }
   ],
   "source": [
    "print(Reg_Data.get_features())"
   ]
  },
  {
   "cell_type": "code",
   "execution_count": 10,
   "id": "c1975436-74b2-4311-b48d-193f2b21c159",
   "metadata": {},
   "outputs": [],
   "source": [
    "#Default settings\n",
    "from unravel_2.ur_model import UR_Model\n",
    "\n",
    "X_train, X_test, y_train, y_test = Reg_Data.get_TT_data()\n",
    "\n",
    "#Initializing the explainer object\n",
    "URM_Exp = UR_Model(bbox_model           = Reg_Data.get_Random_Forest(),\n",
    "                   train_data           = X_train,\n",
    "                   feature_names        = Reg_Data.get_features(),\n",
    "                   categorical_features = Reg_Data.get_catagorical(),\n",
    "                   mode                 = Reg_Data.get_mode(),\n",
    "                   sampling_optimize    = \"opt\")\n",
    "\n",
    "#sur_GP = Surrogate_GP()\n"
   ]
  },
  {
   "cell_type": "code",
   "execution_count": 11,
   "id": "120e21b9-1596-4156-95e0-822be3c8df55",
   "metadata": {},
   "outputs": [],
   "source": [
    "#I2nd explainer object\n",
    "URM_Exp_2 = UR_Model(bbox_model           = Reg_Data.get_L_Regression(),\n",
    "                     train_data           = X_train,\n",
    "                     feature_names        = Reg_Data.get_features(),\n",
    "                     categorical_features = Reg_Data.get_catagorical(),\n",
    "                     mode                 = Reg_Data.get_mode(),\n",
    "                     sampling_optimize    = \"opt\")\n",
    "\n"
   ]
  },
  {
   "cell_type": "code",
   "execution_count": 12,
   "id": "81327488-ab1c-456a-97ed-afb4783c433d",
   "metadata": {},
   "outputs": [
    {
     "name": "stdout",
     "output_type": "stream",
     "text": [
      "Mean 0: [ 5.15837232  6.34234789 16.05288978 12.94419436 16.02674942 12.65881157\n",
      " -7.9762513  16.44492107]\n",
      "Std 0:  [2.66067262 4.89243852 4.20674962 4.82203991 3.15896192 2.43211781\n",
      " 2.74987494 3.0794973 ]\n"
     ]
    }
   ],
   "source": [
    "mean = np.mean(X_train, axis=0)\n",
    "std = np.std(X_train, axis=0)\n",
    "print('Mean 0:', mean)\n",
    "print('Std 0: ', std)\n"
   ]
  },
  {
   "cell_type": "code",
   "execution_count": 13,
   "id": "3d88776e-ffe0-4186-a30e-e2c3377c9709",
   "metadata": {},
   "outputs": [
    {
     "name": "stdout",
     "output_type": "stream",
     "text": [
      "INSTANCE:  0\n",
      "[-78.05431875] [-7.80543188e+01  1.00000004e-05] [-78.05431876]\n",
      "N_points:  5\n",
      "-0.5\n",
      "X0    [[ 2.75377793  2.00433599 14.43593787 13.24876546 11.50570991 10.8242556\n",
      "  -8.30141486 15.91330785]]\n",
      "XDIFF [[ 1.42344162 -0.44188327 12.33256305 10.83774551  9.92622895  9.6081967\n",
      "  -9.67635233 14.3735592 ]]\n",
      "Yp:  [-68.48336317   0.39270525]\n",
      "-0.25\n",
      "X0    [[ 2.75377793  2.00433599 14.43593787 13.24876546 11.50570991 10.8242556\n",
      "  -8.30141486 15.91330785]]\n",
      "XDIFF [[ 2.08860977  0.78122636 13.38425046 12.04325548 10.71596943 10.21622615\n",
      "  -8.9888836  15.14343353]]\n",
      "Yp:  [-91.61639542   0.1261823 ]\n",
      "0.0\n",
      "X0    [[ 2.75377793  2.00433599 14.43593787 13.24876546 11.50570991 10.8242556\n",
      "  -8.30141486 15.91330785]]\n",
      "XDIFF [[ 2.75377793  2.00433599 14.43593787 13.24876546 11.50570991 10.8242556\n",
      "  -8.30141486 15.91330785]]\n",
      "Yp:  [-7.80543188e+01  1.00000004e-05]\n",
      "0.25\n",
      "X0    [[ 2.75377793  2.00433599 14.43593787 13.24876546 11.50570991 10.8242556\n",
      "  -8.30141486 15.91330785]]\n",
      "XDIFF [[ 3.41894608  3.22744562 15.48762527 14.45427544 12.29545039 11.43228506\n",
      "  -7.61394613 16.68318218]]\n",
      "Yp:  [-57.4801716    0.16481347]\n",
      "0.5\n",
      "X0    [[ 2.75377793  2.00433599 14.43593787 13.24876546 11.50570991 10.8242556\n",
      "  -8.30141486 15.91330785]]\n",
      "XDIFF [[ 4.08411424  4.45055525 16.53931268 15.65978541 13.08519087 12.04031451\n",
      "  -6.92647739 17.4530565 ]]\n",
      "Yp:  [-54.56906998   0.30824023]\n"
     ]
    },
    {
     "name": "stderr",
     "output_type": "stream",
     "text": [
      "C:\\Users\\deneb\\AppData\\Local\\Programs\\Python\\Python311\\Lib\\site-packages\\sklearn\\gaussian_process\\_gpr.py:616: ConvergenceWarning: lbfgs failed to converge (status=2):\n",
      "ABNORMAL_TERMINATION_IN_LNSRCH.\n",
      "\n",
      "Increase the number of iterations (max_iter) or scale the data as shown in:\n",
      "    https://scikit-learn.org/stable/modules/preprocessing.html\n",
      "  _check_optimize_result(\"lbfgs\", opt_res)\n"
     ]
    },
    {
     "ename": "<class 'TypeError'>",
     "evalue": "Feature_Statistics.Add_Sample() missing 1 required positional argument: 'consistancy'",
     "output_type": "error",
     "traceback": [
      "\u001b[1;31m---------------------------------------------------------------------------\u001b[0m",
      "\u001b[1;31mTypeError\u001b[0m                                 Traceback (most recent call last)",
      "Cell \u001b[1;32mIn[13], line 84\u001b[0m\n\u001b[0;32m     80\u001b[0m e_predict \u001b[38;5;241m=\u001b[39m np\u001b[38;5;241m.\u001b[39marray(e_predict)\u001b[38;5;241m.\u001b[39mravel()\n\u001b[0;32m     82\u001b[0m scores \u001b[38;5;241m=\u001b[39m URM_Exp_2\u001b[38;5;241m.\u001b[39mpermutation_importance()\n\u001b[1;32m---> 84\u001b[0m \u001b[43mReg_Stats_2\u001b[49m\u001b[38;5;241;43m.\u001b[39;49m\u001b[43mAdd_Sample\u001b[49m\u001b[43m(\u001b[49m\u001b[43msample_scores\u001b[49m\u001b[43m \u001b[49m\u001b[38;5;241;43m=\u001b[39;49m\u001b[43m \u001b[49m\u001b[43mscores\u001b[49m\u001b[43m,\u001b[49m\n\u001b[0;32m     85\u001b[0m \u001b[43m                       \u001b[49m\u001b[43moutcome\u001b[49m\u001b[43m       \u001b[49m\u001b[38;5;241;43m=\u001b[39;49m\u001b[43m \u001b[49m\u001b[43my_test\u001b[49m\u001b[43m[\u001b[49m\u001b[43mtest_instance\u001b[49m\u001b[43m]\u001b[49m\u001b[43m,\u001b[49m\n\u001b[0;32m     86\u001b[0m \u001b[43m                       \u001b[49m\u001b[43mX_row\u001b[49m\u001b[43m         \u001b[49m\u001b[38;5;241;43m=\u001b[39;49m\u001b[43m \u001b[49m\u001b[43mdata_row\u001b[49m\u001b[38;5;241;43m.\u001b[39;49m\u001b[43mreshape\u001b[49m\u001b[43m(\u001b[49m\u001b[38;5;241;43m1\u001b[39;49m\u001b[43m,\u001b[49m\u001b[43m \u001b[49m\u001b[38;5;241;43m-\u001b[39;49m\u001b[38;5;241;43m1\u001b[39;49m\u001b[43m)\u001b[49m\u001b[43m,\u001b[49m\n\u001b[0;32m     87\u001b[0m \u001b[43m                       \u001b[49m\u001b[43mf_prediction\u001b[49m\u001b[43m  \u001b[49m\u001b[38;5;241;43m=\u001b[39;49m\u001b[43m \u001b[49m\u001b[43mf_predict\u001b[49m\u001b[43m,\u001b[49m\n\u001b[0;32m     88\u001b[0m \u001b[43m                       \u001b[49m\u001b[43me_prediction\u001b[49m\u001b[43m  \u001b[49m\u001b[38;5;241;43m=\u001b[39;49m\u001b[43m \u001b[49m\u001b[43me_predict\u001b[49m\u001b[38;5;241;43m.\u001b[39;49m\u001b[43mravel\u001b[49m\u001b[43m(\u001b[49m\u001b[43m)\u001b[49m\u001b[43m,\u001b[49m\n\u001b[0;32m     89\u001b[0m \u001b[43m                       \u001b[49m\u001b[43mfeopt\u001b[49m\u001b[43m         \u001b[49m\u001b[38;5;241;43m=\u001b[39;49m\u001b[43m \u001b[49m\u001b[38;5;28;43;01mNone\u001b[39;49;00m\u001b[43m,\u001b[49m\n\u001b[0;32m     90\u001b[0m \u001b[43m                       \u001b[49m\u001b[43mmodel\u001b[49m\u001b[43m         \u001b[49m\u001b[38;5;241;43m=\u001b[39;49m\u001b[43m \u001b[49m\u001b[43mURM_Exp_2\u001b[49m\u001b[38;5;241;43m.\u001b[39;49m\u001b[43mget_exp_model\u001b[49m\u001b[43m(\u001b[49m\u001b[43m)\u001b[49m\u001b[43m)\u001b[49m\n",
      "\u001b[1;31mTypeError\u001b[0m: Feature_Statistics.Add_Sample() missing 1 required positional argument: 'consistancy'"
     ]
    }
   ],
   "source": [
    "# Generate explantion data for Random Forest\n",
    "\n",
    "Reg_Stats   = Feature_Statistics(feature_names = Reg_Data.get_features(),\n",
    "                                 mode          = Reg_Data.get_mode(),\n",
    "                                 X_train_std   = Reg_Data.get_X_train_std(),\n",
    "                                 N_consistancy = 5)\n",
    "\n",
    "Reg_Stats_2 = Feature_Statistics(feature_names = Reg_Data.get_features(),\n",
    "                                 mode          = Reg_Data.get_mode(),\n",
    "                                 X_train_std   = Reg_Data.get_X_train_std())\n",
    "\n",
    "\n",
    "if Num_Points > X_test.shape[0]: Num_Points = X_test.shape[0]\n",
    "\n",
    "elif Num_Points == 0:            Num_Points = X_test.shape[0]\n",
    "\n",
    "for test_instance in range(Num_Points):\n",
    "\n",
    "    print('INSTANCE: ', test_instance)\n",
    "       \n",
    "    data_row  = np.array([X_test[test_instance]])\n",
    "    \n",
    "#    data_row  = np.array([0.4])\n",
    "\n",
    "#    print('data row ',data_row)\n",
    "    \n",
    "    URM_Exp.explain(X_init      = data_row.reshape(1, -1),\n",
    "                    Dimension   = 'Multi D',\n",
    "                    kernel_type = \"Matern\",\n",
    "                    max_iter    = 20,\n",
    "                    alpha       = \"FUR_W\",\n",
    "                    #jitter=5,\n",
    "                    interval    = 1,\n",
    "                    weight      = FUR_Weight,\n",
    "                    normalize   = False)\n",
    "       \n",
    "    f_predict = Reg_Data.get_Random_Forest().predict(data_row.reshape(1, -1))\n",
    "\n",
    "    e_predict = URM_Exp.exp_predict(data_row.reshape(1, -1))\n",
    "    e_predict = np.array(e_predict).ravel()\n",
    "    \n",
    "    acq_data = URM_Exp.get_acq_data()\n",
    "    \n",
    "#    X, y = URM_Exp.get_surrogate_data()\n",
    "\n",
    "#    e_predict = sur_GP.predict(X, y)\n",
    "#    e_predict = sur_GP.predict(URM_Exp.get_surrogate_data())\n",
    "\n",
    "    print(f_predict, e_predict, acq_data.get_fe_x0())\n",
    "    \n",
    "    scores = URM_Exp.permutation_importance()\n",
    "    \n",
    "    consistancy = URM_Exp.Y_Consistancy(N_points = N_consistancy)\n",
    "    \n",
    "    Reg_Stats.Add_Sample(sample_scores = scores,\n",
    "                         outcome       = y_test[test_instance],\n",
    "                         X_row         = data_row.reshape(1, -1),\n",
    "                         f_prediction  = f_predict,\n",
    "                         e_prediction  = e_predict.ravel(),\n",
    "                         feopt         = acq_data.get_fe_x0(),\n",
    "                         model         = URM_Exp.get_exp_model(),\n",
    "                         consistancy   = consistancy)\n",
    "    \n",
    "    \n",
    "    ############################################################################################\n",
    "    \n",
    "    URM_Exp_2.explain(X_init      = data_row.reshape(1, -1),\n",
    "                      Dimension   = 'Multi D',\n",
    "                      kernel_type = \"Matern\",\n",
    "                      max_iter    = 20,\n",
    "                      alpha       = \"FUR_W\",\n",
    "                      #jitter=5,\n",
    "                      interval    = 1,\n",
    "                      weight      = FUR_Weight,\n",
    "                      normalize   = False)\n",
    "       \n",
    "    f_predict = Reg_Data.get_L_Regression().predict(data_row.reshape(1, -1))\n",
    "\n",
    "    e_predict = URM_Exp_2.exp_predict(data_row.reshape(1, -1))\n",
    "    e_predict = np.array(e_predict).ravel()\n",
    "    \n",
    "    scores = URM_Exp_2.permutation_importance()\n",
    "    \n",
    "    Reg_Stats_2.Add_Sample(sample_scores = scores,\n",
    "                           outcome       = y_test[test_instance],\n",
    "                           X_row         = data_row.reshape(1, -1),\n",
    "                           f_prediction  = f_predict,\n",
    "                           e_prediction  = e_predict.ravel(),\n",
    "                           feopt         = None,\n",
    "                           model         = URM_Exp_2.get_exp_model())\n",
    "    \n"
   ]
  },
  {
   "cell_type": "code",
   "execution_count": null,
   "id": "4e60ec92-4b90-4dce-9408-e3f771da3b8b",
   "metadata": {},
   "outputs": [],
   "source": [
    "import matplotlib.pyplot as plt\n"
   ]
  },
  {
   "cell_type": "code",
   "execution_count": null,
   "id": "850c1211-b3ba-4299-a091-e190ee07b43e",
   "metadata": {},
   "outputs": [],
   "source": [
    "print(f_predict)\n",
    "print(e_predict)\n"
   ]
  },
  {
   "cell_type": "code",
   "execution_count": null,
   "id": "668a0159-af7d-44e0-88f5-18556053b061",
   "metadata": {},
   "outputs": [],
   "source": [
    "Reg_Stats.Feature_Counts(max_features=20, scaled=True, threshold=0.05)\n"
   ]
  },
  {
   "cell_type": "code",
   "execution_count": null,
   "id": "7f58c97d-7f82-4b6a-8e00-41f2e22df774",
   "metadata": {},
   "outputs": [],
   "source": [
    "Reg_Stats.Frequency_Plot()\n"
   ]
  },
  {
   "cell_type": "code",
   "execution_count": null,
   "id": "f63f1ab3-faac-43a2-a415-8ecde903060e",
   "metadata": {},
   "outputs": [],
   "source": [
    "Reg_Stats.Fidelity()"
   ]
  },
  {
   "cell_type": "code",
   "execution_count": null,
   "id": "c2580756-1f4e-497d-bab3-0e65979a448d",
   "metadata": {},
   "outputs": [],
   "source": [
    "Reg_Stats.Jaccard_Values()"
   ]
  },
  {
   "cell_type": "code",
   "execution_count": null,
   "id": "aee227c0-3941-4fe0-a65b-3510d07f995d",
   "metadata": {},
   "outputs": [],
   "source": [
    "Reg_Stats.Reg_Fidelity_Graph()"
   ]
  },
  {
   "cell_type": "code",
   "execution_count": null,
   "id": "835eb5c2-72bd-4d80-adff-fdae7343164e",
   "metadata": {},
   "outputs": [],
   "source": [
    "Reg_Stats.Box_Plot()\n"
   ]
  },
  {
   "cell_type": "code",
   "execution_count": null,
   "id": "be382092-3677-4620-ab42-71d108d7a1bd",
   "metadata": {},
   "outputs": [],
   "source": [
    "Reg_Stats.View_Explanation(instance = 0)"
   ]
  },
  {
   "cell_type": "code",
   "execution_count": null,
   "id": "80ffd675-aebf-4d27-b405-08e2b2ba5eab",
   "metadata": {},
   "outputs": [],
   "source": []
  },
  {
   "cell_type": "code",
   "execution_count": null,
   "id": "5bf1cf59-a107-4a96-aa82-e5bb18de747e",
   "metadata": {},
   "outputs": [],
   "source": [
    "scores = URM_Exp.permutation_importance()\n",
    "    \n",
    "print(scores)"
   ]
  },
  {
   "cell_type": "code",
   "execution_count": null,
   "id": "e8f23dea-0e62-42ab-aa68-0ecfae0ff72f",
   "metadata": {},
   "outputs": [],
   "source": [
    "scores_k = URM_Exp.KL_imp()\n",
    "\n",
    "print(scores_k)"
   ]
  },
  {
   "cell_type": "code",
   "execution_count": null,
   "id": "bdfaa06b-0958-448c-8f19-1eb128dd4710",
   "metadata": {},
   "outputs": [],
   "source": []
  },
  {
   "cell_type": "code",
   "execution_count": null,
   "id": "55caa5cc-5f95-4a34-9f59-607c36882c38",
   "metadata": {},
   "outputs": [],
   "source": []
  },
  {
   "cell_type": "code",
   "execution_count": null,
   "id": "616108d3-b97a-4591-84f7-6d05dfa5c206",
   "metadata": {},
   "outputs": [],
   "source": [
    "scores_v = URM_Exp.Var_imp()\n",
    "\n",
    "print(scores_v)"
   ]
  },
  {
   "cell_type": "code",
   "execution_count": null,
   "id": "7f98268d-3502-4c15-b906-6304a0377fa6",
   "metadata": {},
   "outputs": [],
   "source": []
  },
  {
   "cell_type": "code",
   "execution_count": null,
   "id": "1483ef16-efc6-4eeb-929a-b066b9b40360",
   "metadata": {},
   "outputs": [],
   "source": [
    "scores_d1 = URM_Exp.del_1_rel()\n",
    "\n",
    "print(scores_d1)"
   ]
  },
  {
   "cell_type": "code",
   "execution_count": null,
   "id": "eba6cae5-4fc0-4a77-9858-8e5c878c9aeb",
   "metadata": {},
   "outputs": [],
   "source": [
    "scores_d2 = URM_Exp.del_2_rel()\n",
    "\n",
    "print(scores_d2)"
   ]
  },
  {
   "cell_type": "code",
   "execution_count": null,
   "id": "28590fdf-a2d6-4177-8153-adfdbb0b4c02",
   "metadata": {},
   "outputs": [],
   "source": [
    "lin_scores = URM_Exp.Lin_scores()\n",
    "\n",
    "print(lin_scores)"
   ]
  },
  {
   "cell_type": "code",
   "execution_count": null,
   "id": "dd03f49c-c1a9-4890-b9e0-e0cb5de0ba25",
   "metadata": {},
   "outputs": [],
   "source": [
    "URM_Exp.plot_scores(Title, FUR_Weight)"
   ]
  },
  {
   "cell_type": "code",
   "execution_count": null,
   "id": "a35e214b-8994-4ac6-bf5b-e432527e5c1c",
   "metadata": {},
   "outputs": [],
   "source": [
    "print(URM_Exp.get_exp_L())\n"
   ]
  },
  {
   "cell_type": "code",
   "execution_count": null,
   "id": "05d27bec-36f8-4160-8aee-08014b43c44e",
   "metadata": {},
   "outputs": [],
   "source": []
  },
  {
   "cell_type": "code",
   "execution_count": null,
   "id": "48f68673-a26a-4b9d-8d2f-c4202b57a880",
   "metadata": {},
   "outputs": [],
   "source": []
  },
  {
   "cell_type": "code",
   "execution_count": null,
   "id": "157868f3-949f-417b-a6a7-898b0746512d",
   "metadata": {},
   "outputs": [],
   "source": [
    "acq_data.Create_BB_plot()"
   ]
  },
  {
   "cell_type": "code",
   "execution_count": null,
   "id": "19f1d167-eba5-4f4b-8ecf-a1f8e4f4d5f1",
   "metadata": {},
   "outputs": [],
   "source": []
  },
  {
   "cell_type": "code",
   "execution_count": null,
   "id": "6782e250-2920-4783-a7c8-726d6e9e84c2",
   "metadata": {},
   "outputs": [],
   "source": [
    "acq_data.plot_point(0)"
   ]
  },
  {
   "cell_type": "code",
   "execution_count": null,
   "id": "367b48cf-496f-47d7-8d9c-9430d46691ae",
   "metadata": {},
   "outputs": [],
   "source": [
    "acq_data.plot_point(5)"
   ]
  },
  {
   "cell_type": "code",
   "execution_count": null,
   "id": "9afb003b-65b0-4651-9a2b-2f18f3f304c1",
   "metadata": {},
   "outputs": [],
   "source": [
    "acq_data.plot_point(10)"
   ]
  },
  {
   "cell_type": "code",
   "execution_count": null,
   "id": "d5e1b372-8b1f-468c-8809-82b5bb30dfaf",
   "metadata": {},
   "outputs": [],
   "source": [
    "acq_data.plot_point(15)"
   ]
  },
  {
   "cell_type": "code",
   "execution_count": null,
   "id": "200d95bd-475d-49bf-a6eb-fbd0103a67c2",
   "metadata": {},
   "outputs": [],
   "source": [
    "acq_data.plot_point(19)"
   ]
  },
  {
   "cell_type": "code",
   "execution_count": null,
   "id": "99be2580-0617-4f98-b001-1579bcdc12d1",
   "metadata": {},
   "outputs": [],
   "source": [
    "acq_data.plot_all()"
   ]
  },
  {
   "cell_type": "code",
   "execution_count": null,
   "id": "9dc0c4b9-d344-450d-8c82-72414c7c1b4a",
   "metadata": {},
   "outputs": [],
   "source": [
    "#acq_data.plot_t1_t2(0)"
   ]
  },
  {
   "cell_type": "code",
   "execution_count": null,
   "id": "2a2165bf-d7d6-4211-b898-23df33c8e929",
   "metadata": {},
   "outputs": [],
   "source": [
    "#acq_data.plot_t1_t2(1)"
   ]
  },
  {
   "cell_type": "code",
   "execution_count": null,
   "id": "66257855-5195-46ba-b121-1921c13aa137",
   "metadata": {},
   "outputs": [],
   "source": [
    "#acq_data.plot_t1_t2(2)"
   ]
  },
  {
   "cell_type": "code",
   "execution_count": null,
   "id": "dcac374e-a54c-47c2-a199-3bd26c05480d",
   "metadata": {},
   "outputs": [],
   "source": [
    "#acq_data.plot_t1_t2(3)"
   ]
  },
  {
   "cell_type": "code",
   "execution_count": null,
   "id": "5f064d08-93c1-4790-aafe-bc1fe5aa37a4",
   "metadata": {},
   "outputs": [],
   "source": [
    "#acq_data.plot_t1_t2(4)"
   ]
  },
  {
   "cell_type": "code",
   "execution_count": null,
   "id": "4eeb304e-aa7e-41ff-b741-262e1a64d830",
   "metadata": {},
   "outputs": [],
   "source": [
    "#acq_data.plot_t1_t2(5)"
   ]
  },
  {
   "cell_type": "code",
   "execution_count": null,
   "id": "5c5c5c49-c616-4eca-9e75-ec7152847d0c",
   "metadata": {},
   "outputs": [],
   "source": [
    "#acq_data.plot_t1_t2(6)"
   ]
  },
  {
   "cell_type": "code",
   "execution_count": null,
   "id": "215bf24b-afdd-44eb-9d4c-bbfec38088f0",
   "metadata": {},
   "outputs": [],
   "source": [
    "#acq_data.plot_t1_t2(7)"
   ]
  },
  {
   "cell_type": "code",
   "execution_count": null,
   "id": "451e9afd-5904-409f-b8a5-cac67084cbe6",
   "metadata": {},
   "outputs": [],
   "source": [
    "#acq_data.plot_t1_t2(8)"
   ]
  },
  {
   "cell_type": "code",
   "execution_count": null,
   "id": "1c87b882-415e-4bb8-b660-553649b9f26b",
   "metadata": {},
   "outputs": [],
   "source": [
    "#acq_data.plot_t1_t2(9)"
   ]
  },
  {
   "cell_type": "code",
   "execution_count": null,
   "id": "0f3964bf-3922-4f9f-89e6-f39d57236a4b",
   "metadata": {},
   "outputs": [],
   "source": [
    "#acq_data.plot_t1_t2(10)"
   ]
  },
  {
   "cell_type": "code",
   "execution_count": null,
   "id": "b6d5055b-0b1d-4172-8fe4-453bd63373f3",
   "metadata": {},
   "outputs": [],
   "source": [
    "#acq_data.plot_t1_t2(11)"
   ]
  },
  {
   "cell_type": "code",
   "execution_count": null,
   "id": "8cda32fb-fbb2-4dfc-aada-2786542dfb8c",
   "metadata": {},
   "outputs": [],
   "source": [
    "#acq_data.plot_t1_t2(12)"
   ]
  },
  {
   "cell_type": "code",
   "execution_count": null,
   "id": "5ccfbb32-5eb3-4f13-a28d-51c7dfe3e9cc",
   "metadata": {},
   "outputs": [],
   "source": [
    "#acq_data.plot_t1_t2(13)"
   ]
  },
  {
   "cell_type": "code",
   "execution_count": null,
   "id": "3e2b3049-9230-4035-8922-41e290274a5d",
   "metadata": {},
   "outputs": [],
   "source": [
    "#acq_data.plot_t1_t2(14)"
   ]
  },
  {
   "cell_type": "code",
   "execution_count": null,
   "id": "ae12c3bf-a4b1-4d51-b965-418fb92bc627",
   "metadata": {},
   "outputs": [],
   "source": [
    "#acq_data.plot_t1_t2(15)"
   ]
  },
  {
   "cell_type": "code",
   "execution_count": null,
   "id": "0bbc48b4-d3da-40b0-a159-f0d6a8e278e3",
   "metadata": {},
   "outputs": [],
   "source": [
    "#acq_data.plot_t1_t2(16)"
   ]
  },
  {
   "cell_type": "code",
   "execution_count": null,
   "id": "8cc50aba-1b30-426a-baec-020fbc36a700",
   "metadata": {},
   "outputs": [],
   "source": [
    "#acq_data.plot_t1_t2(17)"
   ]
  },
  {
   "cell_type": "code",
   "execution_count": null,
   "id": "4c618a80-cfda-464b-aaa2-9f2e4d21cede",
   "metadata": {},
   "outputs": [],
   "source": [
    "#acq_data.plot_t1_t2(18)"
   ]
  },
  {
   "cell_type": "code",
   "execution_count": null,
   "id": "5c452a03-83b9-4b38-9770-9cd8eed56303",
   "metadata": {},
   "outputs": [],
   "source": [
    "#acq_data.plot_t1_t2(19)"
   ]
  },
  {
   "cell_type": "code",
   "execution_count": null,
   "id": "f1962695-2cd5-4f2c-90bf-818abe266dbd",
   "metadata": {},
   "outputs": [],
   "source": []
  },
  {
   "cell_type": "code",
   "execution_count": null,
   "id": "abcef1ed-6f05-4dbf-98f9-7aa7cab6ded1",
   "metadata": {},
   "outputs": [],
   "source": [
    "Reg_Stats.Fidelity()\n",
    "\n",
    "print('Fidelity: ', Reg_Stats.fidelity)"
   ]
  },
  {
   "cell_type": "code",
   "execution_count": null,
   "id": "d4d54d94-0bd0-4076-9245-f168ca0d3b87",
   "metadata": {},
   "outputs": [],
   "source": [
    "Reg_Stats.Jaccard_Values(top_k=4)\n",
    "\n",
    "print('Jaccard: ', Reg_Stats.jaccard_similarities)"
   ]
  },
  {
   "cell_type": "code",
   "execution_count": null,
   "id": "d3dca71a-66e8-4264-aebe-eb0278c93b5b",
   "metadata": {},
   "outputs": [],
   "source": [
    "Reg_Stats.add_Feature_Coeffs(Feature_Coeffs = Reg_Data.get_Feature_Coeffs())\n",
    "        \n",
    "print('Coeff Ratio: ', Reg_Stats.coeffs_ratio)"
   ]
  },
  {
   "cell_type": "code",
   "execution_count": null,
   "id": "1e204145-e89f-4c8c-a4e2-fdacd83b7f62",
   "metadata": {},
   "outputs": [],
   "source": [
    "delete_1_var = Reg_Stats.delete_one()\n",
    "\n",
    "print('Delete 1 Variance: ', delete_1_var)"
   ]
  },
  {
   "cell_type": "code",
   "execution_count": null,
   "id": "fa5d38b4-4845-4acb-ba2a-3d6cd862c782",
   "metadata": {},
   "outputs": [],
   "source": [
    "Reg_Stats.Consistancy(plot=True, title = Title)"
   ]
  },
  {
   "cell_type": "code",
   "execution_count": null,
   "id": "6f0f772e-74aa-40d4-9cea-17ef3e2a2d1b",
   "metadata": {},
   "outputs": [],
   "source": [
    "Reg_Stats.Compare_Models (model_b = Reg_Stats_2)"
   ]
  },
  {
   "cell_type": "code",
   "execution_count": null,
   "id": "5f9fc832-2b13-4c38-a999-bba13bd3e6c2",
   "metadata": {},
   "outputs": [],
   "source": []
  },
  {
   "cell_type": "code",
   "execution_count": null,
   "id": "009c5b96-2096-475d-90a5-c4b577b525b3",
   "metadata": {},
   "outputs": [],
   "source": []
  },
  {
   "cell_type": "code",
   "execution_count": null,
   "id": "324ca7c9-3515-4533-b881-c2cc0e7791e0",
   "metadata": {},
   "outputs": [],
   "source": []
  },
  {
   "cell_type": "code",
   "execution_count": null,
   "id": "7b7a8b6a-0beb-4e87-af94-f57166736c37",
   "metadata": {},
   "outputs": [],
   "source": []
  }
 ],
 "metadata": {
  "kernelspec": {
   "display_name": "Python 3.11 (XPython)",
   "language": "python",
   "name": "xpython"
  },
  "language_info": {
   "file_extension": ".py",
   "mimetype": "text/x-python",
   "name": "python",
   "version": "3.11.0"
  }
 },
 "nbformat": 4,
 "nbformat_minor": 5
}
