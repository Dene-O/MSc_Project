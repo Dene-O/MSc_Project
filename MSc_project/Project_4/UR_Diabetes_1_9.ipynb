{
 "cells": [
  {
   "cell_type": "code",
   "execution_count": null,
   "id": "33815253-dca2-4013-b9e5-e64aacdeda2e",
   "metadata": {},
   "outputs": [],
   "source": [
    "# Import Libraries\n",
    "import numpy as np\n",
    "\n",
    "from project_utils.bb_model         import BB_Model\n",
    "from project_utils.feature_stats    import Feature_Statistics_C\n",
    "from project_utils.feature_stats    import Regression_Container\n",
    "from project_utils.acq_data_capture import Acq_Data_nD\n",
    "from project_utils.surroagte_gp     import Surrogate_GP\n",
    "\n"
   ]
  },
  {
   "cell_type": "code",
   "execution_count": null,
   "id": "6b40f5d7-967b-4e4f-8d57-4d989682cb85",
   "metadata": {},
   "outputs": [],
   "source": [
    "Num_Points    = 5\n",
    "Title         = 'Diabetes'\n",
    "FUR_Weight    = 0.1\n",
    "N_consistancy = 25\n",
    "consist_bound = 0.3"
   ]
  },
  {
   "cell_type": "code",
   "execution_count": null,
   "id": "7a7b9d93-fa67-4472-9f45-04e52ecab422",
   "metadata": {},
   "outputs": [],
   "source": [
    "if isinstance(FUR_Weight, float):\n",
    "    FUR_Weight = [FUR_Weight, 1.0 - FUR_Weight]\n",
    "    \n",
    "print(FUR_Weight)"
   ]
  },
  {
   "cell_type": "code",
   "execution_count": null,
   "id": "00b2ff71-dfab-4b09-8d53-956b9384663f",
   "metadata": {},
   "outputs": [],
   "source": [
    "Title = Title + ' W:'+ str(FUR_Weight)"
   ]
  },
  {
   "cell_type": "code",
   "execution_count": null,
   "id": "f29a7de3-601a-44ed-924d-f6d83c6d8004",
   "metadata": {},
   "outputs": [],
   "source": [
    "# Load Forrester model\n",
    "\n",
    "Class_data = BB_Model(dataset = 'Diabetes')\n",
    "                      \n",
    "#Class_data.df().head()"
   ]
  },
  {
   "cell_type": "code",
   "execution_count": null,
   "id": "ea385186-88ac-4037-8d21-cf7f3f0cf5a2",
   "metadata": {},
   "outputs": [],
   "source": [
    "Class_data.MPL()"
   ]
  },
  {
   "cell_type": "code",
   "execution_count": null,
   "id": "18a03da2-e036-4695-b08b-cf31394ef7b6",
   "metadata": {},
   "outputs": [],
   "source": [
    "Class_data.Random_Forest()"
   ]
  },
  {
   "cell_type": "code",
   "execution_count": null,
   "id": "398368f4-ea2f-4999-acd3-5cf7b7b43db2",
   "metadata": {},
   "outputs": [],
   "source": [
    "#Class_data.GP()"
   ]
  },
  {
   "cell_type": "code",
   "execution_count": null,
   "id": "2c3e6ee4-d474-4439-99ab-063132debc9b",
   "metadata": {},
   "outputs": [],
   "source": [
    "Class_data.L_Regression()"
   ]
  },
  {
   "cell_type": "code",
   "execution_count": null,
   "id": "a6f5d586-fb1b-42f6-8586-be6270da7c34",
   "metadata": {},
   "outputs": [],
   "source": [
    "print(Class_data.get_features())"
   ]
  },
  {
   "cell_type": "code",
   "execution_count": null,
   "id": "c1975436-74b2-4311-b48d-193f2b21c159",
   "metadata": {},
   "outputs": [],
   "source": [
    "#Default settings\n",
    "from unravel_2.ur_model import UR_Model\n",
    "\n",
    "X_train, X_test, y_train, y_test = Class_data.get_TT_data()\n",
    "\n",
    "#Initializing the explainer object\n",
    "URM_Exp = UR_Model(bbox_model           = Class_data.get_Random_Forest(),\n",
    "                   train_data           = X_train,\n",
    "                   feature_names        = Class_data.get_features(),\n",
    "                   categorical_features = Class_data.get_catagorical(),\n",
    "                   mode                 = Class_data.get_mode(),\n",
    "                   sampling_optimize    = \"opt\")\n",
    "\n",
    "#sur_GP = Surrogate_GP()\n"
   ]
  },
  {
   "cell_type": "code",
   "execution_count": null,
   "id": "120e21b9-1596-4156-95e0-822be3c8df55",
   "metadata": {},
   "outputs": [],
   "source": [
    "#I2nd explainer object\n",
    "URM_Exp_2 = UR_Model(bbox_model           = Class_data.get_L_Regression(),\n",
    "                     train_data           = X_train,\n",
    "                     feature_names        = Class_data.get_features(),\n",
    "                     categorical_features = Class_data.get_catagorical(),\n",
    "                     mode                 = Class_data.get_mode(),\n",
    "                     sampling_optimize    = \"opt\")\n",
    "\n"
   ]
  },
  {
   "cell_type": "code",
   "execution_count": null,
   "id": "81327488-ab1c-456a-97ed-afb4783c433d",
   "metadata": {},
   "outputs": [],
   "source": [
    "mean = np.mean(X_train, axis=0)\n",
    "std = np.std(X_train, axis=0)\n",
    "print('Mean 0:', mean)\n",
    "print('Std 0: ', std)\n"
   ]
  },
  {
   "cell_type": "code",
   "execution_count": null,
   "id": "3d88776e-ffe0-4186-a30e-e2c3377c9709",
   "metadata": {},
   "outputs": [],
   "source": [
    "# Generate explantion data for Random Forest\n",
    "\n",
    "Class_Stats   = Feature_Statistics_C(feature_names = Class_data.get_features(),\n",
    "                                     mode          = Class_data.get_mode(),\n",
    "                                     classes       = ['Not-Diabetic', 'Diabetic'],\n",
    "                                     X_train_std   = Class_data.get_X_train_std(),\n",
    "                                     N_consistancy = N_consistancy)\n",
    "\n",
    "Class_Stats_2 = Feature_Statistics_C(feature_names = Class_data.get_features(),\n",
    "                                     mode          = Class_data.get_mode(),\n",
    "                                     classes       = ['Not-Diabetic', 'Diabetic'],\n",
    "                                     X_train_std   = Class_data.get_X_train_std())\n",
    "\n",
    "\n",
    "if Num_Points > X_test.shape[0]: Num_Points = X_test.shape[0]\n",
    "\n",
    "elif Num_Points == 0:            Num_Points = X_test.shape[0]\n",
    "\n",
    "for test_instance in range(Num_Points):\n",
    "\n",
    "    print('INSTANCE: ', test_instance)\n",
    "       \n",
    "    data_row  = np.array([X_test[test_instance]])\n",
    "    \n",
    "#    data_row  = np.array([0.4])\n",
    "\n",
    "#    print('data row ',data_row)\n",
    "    \n",
    "    URM_Exp.explain(X_init      = data_row.reshape(1, -1),\n",
    "                    Dimension   = 'Multi D',\n",
    "                    kernel_type = \"Matern_3\",\n",
    "                    max_iter    = 20,\n",
    "                    alpha       = \"FUR_W\",\n",
    "                    #jitter=5,\n",
    "                    interval    = 1,\n",
    "                    weight      = FUR_Weight)\n",
    "       \n",
    "    f_predict = Class_data.get_Random_Forest().predict_proba(data_row.reshape(1, -1))\n",
    "\n",
    "    e_predict = URM_Exp.exp_predict_proba(data_row.reshape(1, -1))\n",
    "    e_predict = np.array(e_predict).ravel()\n",
    "    \n",
    "    acq_data = URM_Exp.get_acq_data()\n",
    "    \n",
    "#    X, y = URM_Exp.get_surrogate_data()\n",
    "\n",
    "#    e_predict = sur_GP.predict(X, y)\n",
    "#    e_predict = sur_GP.predict(URM_Exp.get_surrogate_data())\n",
    "\n",
    "#    print(f_predict, e_predict, acq_data.get_fe_x0())\n",
    "    \n",
    "    scores = URM_Exp.permutation_importance()\n",
    "    \n",
    "    consistancy = URM_Exp.Y_Consistancy(N_points = N_consistancy, std_bound = consist_bound)\n",
    "    \n",
    "    URM_Exp.del_1_rel()\n",
    "    \n",
    "    del_1_var = URM_Exp.get_del_1_variance()\n",
    "    \n",
    "    Class_Stats.Add_Sample(sample_scores = scores,\n",
    "                         outcome       = y_test[test_instance],\n",
    "                         X_row         = data_row.reshape(1, -1),\n",
    "                         f_prediction  = f_predict,\n",
    "                         e_prediction  = e_predict.ravel(),\n",
    "                         feopt         = acq_data.get_fe_x0(),\n",
    "                         consistancy   = consistancy,\n",
    "                         del_1_var     = del_1_var)\n",
    "    \n",
    "    \n",
    "    ############################################################################################\n",
    "    \n",
    "    URM_Exp_2.explain(X_init      = data_row.reshape(1, -1),\n",
    "                      Dimension   = 'Multi D',\n",
    "                      kernel_type = \"Matern_3\",\n",
    "                      max_iter    = 20,\n",
    "                      alpha       = \"FUR_W\",\n",
    "                      #jitter=5,\n",
    "                      interval    = 1,\n",
    "                      weight      = FUR_Weight)\n",
    "       \n",
    "    f_predict = Class_data.get_L_Regression().predict_proba(data_row.reshape(1, -1))\n",
    "\n",
    "    e_predict = URM_Exp_2.exp_predict_proba(data_row.reshape(1, -1))\n",
    "    e_predict = np.array(e_predict).ravel()\n",
    "    \n",
    "    scores = URM_Exp_2.permutation_importance()\n",
    "    \n",
    "    Class_Stats_2.Add_Sample(sample_scores = scores,\n",
    "                           outcome       = y_test[test_instance],\n",
    "                           X_row         = data_row.reshape(1, -1),\n",
    "                           f_prediction  = f_predict,\n",
    "                           e_prediction  = e_predict.ravel(),\n",
    "                           feopt         = None)\n",
    "    \n"
   ]
  },
  {
   "cell_type": "code",
   "execution_count": null,
   "id": "4e60ec92-4b90-4dce-9408-e3f771da3b8b",
   "metadata": {},
   "outputs": [],
   "source": [
    "import matplotlib.pyplot as plt\n"
   ]
  },
  {
   "cell_type": "code",
   "execution_count": null,
   "id": "850c1211-b3ba-4299-a091-e190ee07b43e",
   "metadata": {},
   "outputs": [],
   "source": [
    "print(f_predict)\n",
    "print(e_predict)\n"
   ]
  },
  {
   "cell_type": "code",
   "execution_count": null,
   "id": "668a0159-af7d-44e0-88f5-18556053b061",
   "metadata": {},
   "outputs": [],
   "source": [
    "Class_Stats.Feature_Counts(max_features=20, scaled=True, threshold=0.05)\n"
   ]
  },
  {
   "cell_type": "code",
   "execution_count": null,
   "id": "7f58c97d-7f82-4b6a-8e00-41f2e22df774",
   "metadata": {},
   "outputs": [],
   "source": [
    "Class_Stats.Frequency_Plot()\n"
   ]
  },
  {
   "cell_type": "code",
   "execution_count": null,
   "id": "f63f1ab3-faac-43a2-a415-8ecde903060e",
   "metadata": {},
   "outputs": [],
   "source": [
    "Class_Stats.Class_Fidelity()"
   ]
  },
  {
   "cell_type": "code",
   "execution_count": null,
   "id": "c2580756-1f4e-497d-bab3-0e65979a448d",
   "metadata": {},
   "outputs": [],
   "source": [
    "Class_Stats.Jaccard_Values()"
   ]
  },
  {
   "cell_type": "code",
   "execution_count": null,
   "id": "aee227c0-3941-4fe0-a65b-3510d07f995d",
   "metadata": {},
   "outputs": [],
   "source": []
  },
  {
   "cell_type": "code",
   "execution_count": null,
   "id": "835eb5c2-72bd-4d80-adff-fdae7343164e",
   "metadata": {},
   "outputs": [],
   "source": [
    "Class_Stats.Box_Plot()\n"
   ]
  },
  {
   "cell_type": "code",
   "execution_count": null,
   "id": "be382092-3677-4620-ab42-71d108d7a1bd",
   "metadata": {},
   "outputs": [],
   "source": [
    "Class_Stats.View_Explanation(instance = 0)"
   ]
  },
  {
   "cell_type": "code",
   "execution_count": null,
   "id": "80ffd675-aebf-4d27-b405-08e2b2ba5eab",
   "metadata": {},
   "outputs": [],
   "source": []
  },
  {
   "cell_type": "code",
   "execution_count": null,
   "id": "5bf1cf59-a107-4a96-aa82-e5bb18de747e",
   "metadata": {},
   "outputs": [],
   "source": [
    "scores = URM_Exp.permutation_importance()\n",
    "    \n",
    "print(scores)"
   ]
  },
  {
   "cell_type": "code",
   "execution_count": null,
   "id": "e8f23dea-0e62-42ab-aa68-0ecfae0ff72f",
   "metadata": {},
   "outputs": [],
   "source": [
    "scores_k = URM_Exp.KL_imp()\n",
    "\n",
    "print(scores_k)"
   ]
  },
  {
   "cell_type": "code",
   "execution_count": null,
   "id": "bdfaa06b-0958-448c-8f19-1eb128dd4710",
   "metadata": {},
   "outputs": [],
   "source": []
  },
  {
   "cell_type": "code",
   "execution_count": null,
   "id": "55caa5cc-5f95-4a34-9f59-607c36882c38",
   "metadata": {},
   "outputs": [],
   "source": []
  },
  {
   "cell_type": "code",
   "execution_count": null,
   "id": "616108d3-b97a-4591-84f7-6d05dfa5c206",
   "metadata": {},
   "outputs": [],
   "source": [
    "scores_v = URM_Exp.Var_imp()\n",
    "\n",
    "print(scores_v)"
   ]
  },
  {
   "cell_type": "code",
   "execution_count": null,
   "id": "7f98268d-3502-4c15-b906-6304a0377fa6",
   "metadata": {},
   "outputs": [],
   "source": []
  },
  {
   "cell_type": "code",
   "execution_count": null,
   "id": "1483ef16-efc6-4eeb-929a-b066b9b40360",
   "metadata": {},
   "outputs": [],
   "source": [
    "scores_d1 = URM_Exp.del_1_rel()\n",
    "\n",
    "print(scores_d1)"
   ]
  },
  {
   "cell_type": "code",
   "execution_count": null,
   "id": "eba6cae5-4fc0-4a77-9858-8e5c878c9aeb",
   "metadata": {},
   "outputs": [],
   "source": [
    "scores_d2 = URM_Exp.del_2_rel()\n",
    "\n",
    "print(scores_d2)"
   ]
  },
  {
   "cell_type": "code",
   "execution_count": null,
   "id": "28590fdf-a2d6-4177-8153-adfdbb0b4c02",
   "metadata": {},
   "outputs": [],
   "source": [
    "lin_scores = URM_Exp.Lin_scores()\n",
    "\n",
    "print(lin_scores)"
   ]
  },
  {
   "cell_type": "code",
   "execution_count": null,
   "id": "dd03f49c-c1a9-4890-b9e0-e0cb5de0ba25",
   "metadata": {},
   "outputs": [],
   "source": [
    "URM_Exp.plot_scores(Title)"
   ]
  },
  {
   "cell_type": "code",
   "execution_count": null,
   "id": "a35e214b-8994-4ac6-bf5b-e432527e5c1c",
   "metadata": {},
   "outputs": [],
   "source": [
    "print(URM_Exp.get_exp_L())\n"
   ]
  },
  {
   "cell_type": "code",
   "execution_count": null,
   "id": "05d27bec-36f8-4160-8aee-08014b43c44e",
   "metadata": {},
   "outputs": [],
   "source": []
  },
  {
   "cell_type": "code",
   "execution_count": null,
   "id": "48f68673-a26a-4b9d-8d2f-c4202b57a880",
   "metadata": {},
   "outputs": [],
   "source": []
  },
  {
   "cell_type": "code",
   "execution_count": null,
   "id": "157868f3-949f-417b-a6a7-898b0746512d",
   "metadata": {},
   "outputs": [],
   "source": [
    "acq_data.Create_BB_plot()"
   ]
  },
  {
   "cell_type": "code",
   "execution_count": null,
   "id": "19f1d167-eba5-4f4b-8ecf-a1f8e4f4d5f1",
   "metadata": {},
   "outputs": [],
   "source": []
  },
  {
   "cell_type": "code",
   "execution_count": null,
   "id": "6782e250-2920-4783-a7c8-726d6e9e84c2",
   "metadata": {},
   "outputs": [],
   "source": [
    "acq_data.plot_point(0)"
   ]
  },
  {
   "cell_type": "code",
   "execution_count": null,
   "id": "367b48cf-496f-47d7-8d9c-9430d46691ae",
   "metadata": {},
   "outputs": [],
   "source": [
    "acq_data.plot_point(5)"
   ]
  },
  {
   "cell_type": "code",
   "execution_count": null,
   "id": "9afb003b-65b0-4651-9a2b-2f18f3f304c1",
   "metadata": {},
   "outputs": [],
   "source": [
    "acq_data.plot_point(10)"
   ]
  },
  {
   "cell_type": "code",
   "execution_count": null,
   "id": "d5e1b372-8b1f-468c-8809-82b5bb30dfaf",
   "metadata": {},
   "outputs": [],
   "source": [
    "acq_data.plot_point(15)"
   ]
  },
  {
   "cell_type": "code",
   "execution_count": null,
   "id": "200d95bd-475d-49bf-a6eb-fbd0103a67c2",
   "metadata": {},
   "outputs": [],
   "source": [
    "acq_data.plot_point(19)"
   ]
  },
  {
   "cell_type": "code",
   "execution_count": null,
   "id": "99be2580-0617-4f98-b001-1579bcdc12d1",
   "metadata": {},
   "outputs": [],
   "source": [
    "acq_data.plot_all()"
   ]
  },
  {
   "cell_type": "code",
   "execution_count": null,
   "id": "9dc0c4b9-d344-450d-8c82-72414c7c1b4a",
   "metadata": {},
   "outputs": [],
   "source": [
    "acq_data.plot_t1_t2(0)"
   ]
  },
  {
   "cell_type": "code",
   "execution_count": null,
   "id": "2a2165bf-d7d6-4211-b898-23df33c8e929",
   "metadata": {},
   "outputs": [],
   "source": [
    "acq_data.plot_t1_t2(1)"
   ]
  },
  {
   "cell_type": "code",
   "execution_count": null,
   "id": "66257855-5195-46ba-b121-1921c13aa137",
   "metadata": {},
   "outputs": [],
   "source": [
    "acq_data.plot_t1_t2(2)"
   ]
  },
  {
   "cell_type": "code",
   "execution_count": null,
   "id": "dcac374e-a54c-47c2-a199-3bd26c05480d",
   "metadata": {},
   "outputs": [],
   "source": [
    "acq_data.plot_t1_t2(3)"
   ]
  },
  {
   "cell_type": "code",
   "execution_count": null,
   "id": "5f064d08-93c1-4790-aafe-bc1fe5aa37a4",
   "metadata": {},
   "outputs": [],
   "source": [
    "acq_data.plot_t1_t2(4)"
   ]
  },
  {
   "cell_type": "code",
   "execution_count": null,
   "id": "4eeb304e-aa7e-41ff-b741-262e1a64d830",
   "metadata": {},
   "outputs": [],
   "source": [
    "acq_data.plot_t1_t2(5)"
   ]
  },
  {
   "cell_type": "code",
   "execution_count": null,
   "id": "5c5c5c49-c616-4eca-9e75-ec7152847d0c",
   "metadata": {},
   "outputs": [],
   "source": [
    "acq_data.plot_t1_t2(6)"
   ]
  },
  {
   "cell_type": "code",
   "execution_count": null,
   "id": "215bf24b-afdd-44eb-9d4c-bbfec38088f0",
   "metadata": {},
   "outputs": [],
   "source": [
    "acq_data.plot_t1_t2(7)"
   ]
  },
  {
   "cell_type": "code",
   "execution_count": null,
   "id": "451e9afd-5904-409f-b8a5-cac67084cbe6",
   "metadata": {},
   "outputs": [],
   "source": [
    "acq_data.plot_t1_t2(8)"
   ]
  },
  {
   "cell_type": "code",
   "execution_count": null,
   "id": "1c87b882-415e-4bb8-b660-553649b9f26b",
   "metadata": {},
   "outputs": [],
   "source": [
    "acq_data.plot_t1_t2(9)"
   ]
  },
  {
   "cell_type": "code",
   "execution_count": null,
   "id": "0f3964bf-3922-4f9f-89e6-f39d57236a4b",
   "metadata": {},
   "outputs": [],
   "source": [
    "acq_data.plot_t1_t2(10)"
   ]
  },
  {
   "cell_type": "code",
   "execution_count": null,
   "id": "b6d5055b-0b1d-4172-8fe4-453bd63373f3",
   "metadata": {},
   "outputs": [],
   "source": [
    "acq_data.plot_t1_t2(11)"
   ]
  },
  {
   "cell_type": "code",
   "execution_count": null,
   "id": "8cda32fb-fbb2-4dfc-aada-2786542dfb8c",
   "metadata": {},
   "outputs": [],
   "source": [
    "acq_data.plot_t1_t2(12)"
   ]
  },
  {
   "cell_type": "code",
   "execution_count": null,
   "id": "5ccfbb32-5eb3-4f13-a28d-51c7dfe3e9cc",
   "metadata": {},
   "outputs": [],
   "source": [
    "acq_data.plot_t1_t2(13)"
   ]
  },
  {
   "cell_type": "code",
   "execution_count": null,
   "id": "3e2b3049-9230-4035-8922-41e290274a5d",
   "metadata": {},
   "outputs": [],
   "source": [
    "acq_data.plot_t1_t2(14)"
   ]
  },
  {
   "cell_type": "code",
   "execution_count": null,
   "id": "ae12c3bf-a4b1-4d51-b965-418fb92bc627",
   "metadata": {},
   "outputs": [],
   "source": [
    "acq_data.plot_t1_t2(15)"
   ]
  },
  {
   "cell_type": "code",
   "execution_count": null,
   "id": "0bbc48b4-d3da-40b0-a159-f0d6a8e278e3",
   "metadata": {},
   "outputs": [],
   "source": [
    "acq_data.plot_t1_t2(16)"
   ]
  },
  {
   "cell_type": "code",
   "execution_count": null,
   "id": "8cc50aba-1b30-426a-baec-020fbc36a700",
   "metadata": {},
   "outputs": [],
   "source": [
    "acq_data.plot_t1_t2(17)"
   ]
  },
  {
   "cell_type": "code",
   "execution_count": null,
   "id": "4c618a80-cfda-464b-aaa2-9f2e4d21cede",
   "metadata": {},
   "outputs": [],
   "source": [
    "acq_data.plot_t1_t2(18)"
   ]
  },
  {
   "cell_type": "code",
   "execution_count": null,
   "id": "5c452a03-83b9-4b38-9770-9cd8eed56303",
   "metadata": {},
   "outputs": [],
   "source": [
    "acq_data.plot_t1_t2(19)"
   ]
  },
  {
   "cell_type": "code",
   "execution_count": null,
   "id": "f1962695-2cd5-4f2c-90bf-818abe266dbd",
   "metadata": {},
   "outputs": [],
   "source": []
  },
  {
   "cell_type": "code",
   "execution_count": null,
   "id": "abcef1ed-6f05-4dbf-98f9-7aa7cab6ded1",
   "metadata": {},
   "outputs": [],
   "source": [
    "Class_Stats.Class_Fidelity()\n",
    "\n",
    "print('Fidelity: ', Class_Stats.fidelity)"
   ]
  },
  {
   "cell_type": "code",
   "execution_count": null,
   "id": "d4d54d94-0bd0-4076-9245-f168ca0d3b87",
   "metadata": {},
   "outputs": [],
   "source": [
    "Class_Stats.Jaccard_Values(top_k=4)\n",
    "\n",
    "print('Jaccard: ', Class_Stats.jaccard_similarities)"
   ]
  },
  {
   "cell_type": "code",
   "execution_count": null,
   "id": "4cd2c240-7c8a-4e91-9494-5bd97effd4f5",
   "metadata": {},
   "outputs": [],
   "source": []
  },
  {
   "cell_type": "code",
   "execution_count": null,
   "id": "fa5d38b4-4845-4acb-ba2a-3d6cd862c782",
   "metadata": {},
   "outputs": [],
   "source": [
    "Class_Stats.Consistancy(std_bound = consist_bound, plot=True, title = Title)"
   ]
  },
  {
   "cell_type": "code",
   "execution_count": null,
   "id": "6f0f772e-74aa-40d4-9cea-17ef3e2a2d1b",
   "metadata": {},
   "outputs": [],
   "source": [
    "Class_Stats.Compare_Models (model_b = Class_Stats_2)"
   ]
  },
  {
   "cell_type": "code",
   "execution_count": null,
   "id": "5f9fc832-2b13-4c38-a999-bba13bd3e6c2",
   "metadata": {},
   "outputs": [],
   "source": []
  },
  {
   "cell_type": "code",
   "execution_count": null,
   "id": "cf95b47f-4628-4c47-9747-3dcf0513f3e6",
   "metadata": {},
   "outputs": [],
   "source": [
    "Class_Stats.Calibration()"
   ]
  },
  {
   "cell_type": "code",
   "execution_count": null,
   "id": "ff112fb8-df80-4bbb-b4fa-a40efd484205",
   "metadata": {},
   "outputs": [],
   "source": []
  },
  {
   "cell_type": "code",
   "execution_count": null,
   "id": "bd4afbd9-b5b9-43ef-94fc-934834a5ef57",
   "metadata": {},
   "outputs": [],
   "source": [
    "Class_Stats.add_bb_del_1(Class_data.get_Random_Forest())\n",
    "\n",
    "Class_Stats.delete_one()"
   ]
  },
  {
   "cell_type": "code",
   "execution_count": null,
   "id": "6f9a00f4-eb3f-4a9a-9e87-fe0bd577b8cc",
   "metadata": {},
   "outputs": [],
   "source": []
  },
  {
   "cell_type": "code",
   "execution_count": null,
   "id": "9528a42f-64c4-4210-9e95-ad3b14523638",
   "metadata": {},
   "outputs": [],
   "source": [
    "Class_Stats.Results_Summary(Title)"
   ]
  },
  {
   "cell_type": "code",
   "execution_count": null,
   "id": "40f523ef-6933-4f41-a896-d0d7c6b4bb63",
   "metadata": {},
   "outputs": [],
   "source": []
  },
  {
   "cell_type": "code",
   "execution_count": null,
   "id": "05795f2c-a402-4df8-8f14-4f3ad14902f0",
   "metadata": {},
   "outputs": [],
   "source": []
  },
  {
   "cell_type": "code",
   "execution_count": null,
   "id": "ed8865e9-daac-4d41-af80-266665455a20",
   "metadata": {},
   "outputs": [],
   "source": []
  },
  {
   "cell_type": "code",
   "execution_count": null,
   "id": "57efae76-5ef4-45bc-8871-6512e4f144b4",
   "metadata": {},
   "outputs": [],
   "source": []
  }
 ],
 "metadata": {
  "kernelspec": {
   "display_name": "Python 3.11 (XPython)",
   "language": "python",
   "name": "xpython"
  },
  "language_info": {
   "file_extension": ".py",
   "mimetype": "text/x-python",
   "name": "python",
   "version": "3.11.0"
  }
 },
 "nbformat": 4,
 "nbformat_minor": 5
}
