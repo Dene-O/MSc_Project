{
 "cells": [
  {
   "cell_type": "code",
   "execution_count": 1,
   "id": "ec4f7db1-ed50-4132-8ed1-242e11372447",
   "metadata": {},
   "outputs": [],
   "source": [
    "import numpy as np"
   ]
  },
  {
   "cell_type": "code",
   "execution_count": 11,
   "id": "49456339-bc63-4fb4-90ff-e03638ff50ee",
   "metadata": {},
   "outputs": [
    {
     "name": "stdout",
     "output_type": "stream",
     "text": [
      "[16 13 19 11 12 18 17 10 15 14]\n"
     ]
    }
   ],
   "source": [
    "a = np.array([16,13,19,11,12,18,17,10,15,14])\n",
    "print(a)"
   ]
  },
  {
   "cell_type": "code",
   "execution_count": 12,
   "id": "5b585f60-c5aa-4a50-af83-3872c82850ab",
   "metadata": {},
   "outputs": [
    {
     "name": "stdout",
     "output_type": "stream",
     "text": [
      "[10 11 12 13 14 15 16 17 18 19]\n"
     ]
    }
   ],
   "source": [
    "b = np.sort(a)\n",
    "print(b)"
   ]
  },
  {
   "cell_type": "code",
   "execution_count": 18,
   "id": "6dac3f77-1c07-41df-9be3-26a1ba4dc20d",
   "metadata": {},
   "outputs": [
    {
     "name": "stdout",
     "output_type": "stream",
     "text": [
      "[6 5 2]\n"
     ]
    }
   ],
   "source": [
    "c = np.argpartition(a, -3)[-3:]\n",
    "print(c)"
   ]
  },
  {
   "cell_type": "code",
   "execution_count": 19,
   "id": "f107d1b8-eb66-4547-9b66-0ed3105d8f76",
   "metadata": {},
   "outputs": [
    {
     "name": "stdout",
     "output_type": "stream",
     "text": [
      "[17 18 19]\n"
     ]
    }
   ],
   "source": [
    "print(a[c])"
   ]
  },
  {
   "cell_type": "code",
   "execution_count": 20,
   "id": "7a186f63-4791-4dbe-a34b-6ec971056aa4",
   "metadata": {},
   "outputs": [
    {
     "name": "stdout",
     "output_type": "stream",
     "text": [
      "[19 18 17]\n"
     ]
    }
   ],
   "source": [
    "d = np.sort(c)\n",
    "print(a[d])"
   ]
  },
  {
   "cell_type": "code",
   "execution_count": null,
   "id": "0ad308c6-c48a-4c45-a8d3-104f2296fa3a",
   "metadata": {},
   "outputs": [],
   "source": []
  }
 ],
 "metadata": {
  "kernelspec": {
   "display_name": "Python 3.11 (XPython)",
   "language": "python",
   "name": "xpython"
  },
  "language_info": {
   "file_extension": ".py",
   "mimetype": "text/x-python",
   "name": "python",
   "version": "3.11.0"
  }
 },
 "nbformat": 4,
 "nbformat_minor": 5
}
