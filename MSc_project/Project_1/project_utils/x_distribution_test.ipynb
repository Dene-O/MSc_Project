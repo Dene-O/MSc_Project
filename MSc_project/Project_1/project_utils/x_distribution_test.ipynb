{
 "cells": [
  {
   "cell_type": "code",
   "execution_count": 1,
   "id": "40d05b95-6d62-4a4d-9611-540f59787fdf",
   "metadata": {},
   "outputs": [],
   "source": [
    "from x_distribution import X_distribution\n",
    "from x_distribution import L_distribution\n",
    "from x_distribution import Shuffle\n",
    "\n",
    "import numpy as np"
   ]
  },
  {
   "cell_type": "code",
   "execution_count": 2,
   "id": "d4febfc7-6f5e-42ad-9935-9548897a3c8e",
   "metadata": {},
   "outputs": [],
   "source": [
    "dist = X_distribution(N_features=5, N_ranges=5, N_points=25, bounds=1)"
   ]
  },
  {
   "cell_type": "code",
   "execution_count": 3,
   "id": "e20da1bc-e213-4862-a72c-c09b7656393d",
   "metadata": {},
   "outputs": [],
   "source": [
    "dist = X_distribution(N_features=5, N_ranges=5, N_points=0, bounds=2)"
   ]
  },
  {
   "cell_type": "code",
   "execution_count": 4,
   "id": "a725c275-7bc0-4748-a670-e3bb2e0ba96b",
   "metadata": {},
   "outputs": [],
   "source": [
    "dist = X_distribution(N_features=5, N_ranges=5, N_points=100, bounds=1)"
   ]
  },
  {
   "cell_type": "code",
   "execution_count": 5,
   "id": "cd4d684a-45b7-405d-b258-fc7811561f84",
   "metadata": {},
   "outputs": [],
   "source": [
    "dist = X_distribution(N_features=6, N_ranges=0, N_points=0, bounds=1)"
   ]
  },
  {
   "cell_type": "code",
   "execution_count": 9,
   "id": "5f690c91-4fce-4ef0-b5ce-8755b26676d8",
   "metadata": {},
   "outputs": [
    {
     "name": "stdout",
     "output_type": "stream",
     "text": [
      "range_limits [-1.  -0.5  0.   0.5  1. ]\n",
      "4\n",
      "[2 3 0 1]\n",
      "4\n",
      "[1 0 2 3]\n",
      "4\n",
      "[1 2 3 0]\n",
      "[[-0.6108231   0.20830306 -0.4902979  -0.09939337]\n",
      " [-0.2200552   0.89383651 -0.64712453  0.06345119]\n",
      " [ 0.10697727 -0.54952161  0.10697331  0.71783607]\n",
      " [ 0.81811714 -0.41180182  0.65888113 -0.50247305]]\n"
     ]
    }
   ],
   "source": [
    "dist = L_distribution(N_features=4, N_points=4, bounds=1)\n",
    "print(dist)"
   ]
  },
  {
   "cell_type": "code",
   "execution_count": 7,
   "id": "f302130f-5a07-488c-8c6c-57912cd84a06",
   "metadata": {},
   "outputs": [
    {
     "name": "stdout",
     "output_type": "stream",
     "text": [
      "[-0.70040949  0.94423149 -0.12947155  0.06121802  0.23342982 -0.94779081\n",
      "  0.87647437 -0.43455807]\n",
      "8\n",
      "[5 4 6 0 2 1 3 7]\n",
      "[-0.70040949  0.94423149 -0.12947155  0.06121802  0.23342982 -0.94779081\n",
      "  0.87647437 -0.43455807]\n"
     ]
    }
   ],
   "source": [
    "a = dist.ravel()\n",
    "print(a)\n",
    "Shuffle(a)\n",
    "print(a)"
   ]
  },
  {
   "cell_type": "code",
   "execution_count": null,
   "id": "a59d6009-c9b7-49b1-82ff-e13297a3358f",
   "metadata": {},
   "outputs": [],
   "source": []
  }
 ],
 "metadata": {
  "kernelspec": {
   "display_name": "Python 3.11 (XPython)",
   "language": "python",
   "name": "xpython"
  },
  "language_info": {
   "file_extension": ".py",
   "mimetype": "text/x-python",
   "name": "python",
   "version": "3.11.0"
  }
 },
 "nbformat": 4,
 "nbformat_minor": 5
}
