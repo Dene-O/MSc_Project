{
 "cells": [
  {
   "cell_type": "code",
   "execution_count": 7,
   "id": "2781fa28-ad5f-44b8-879f-6f9ad4a4a17c",
   "metadata": {
    "tags": []
   },
   "outputs": [],
   "source": [
    "import parkinson as pk"
   ]
  },
  {
   "cell_type": "code",
   "execution_count": 8,
   "id": "d8dbc12d-59d1-4c7c-af5c-e28f2dda2e09",
   "metadata": {},
   "outputs": [
    {
     "name": "stdout",
     "output_type": "stream",
     "text": [
      "(195, 22)\n",
      "(195, 1)\n"
     ]
    }
   ],
   "source": [
    "pk = pk.Parkinson()\n",
    "\n",
    "x_values, y_values = pk.x_y_values()\n",
    "\n",
    "print(x_values.shape)\n",
    "print(y_values.shape)"
   ]
  },
  {
   "cell_type": "code",
   "execution_count": null,
   "id": "0cbd77f8-73b2-4755-b25f-0427f99a25dd",
   "metadata": {},
   "outputs": [],
   "source": []
  }
 ],
 "metadata": {
  "kernelspec": {
   "display_name": "Python 3 (ipykernel)",
   "language": "python",
   "name": "python3"
  },
  "language_info": {
   "codemirror_mode": {
    "name": "ipython",
    "version": 3
   },
   "file_extension": ".py",
   "mimetype": "text/x-python",
   "name": "python",
   "nbconvert_exporter": "python",
   "pygments_lexer": "ipython3",
   "version": "3.11.0"
  },
  "toc-showtags": true
 },
 "nbformat": 4,
 "nbformat_minor": 5
}
