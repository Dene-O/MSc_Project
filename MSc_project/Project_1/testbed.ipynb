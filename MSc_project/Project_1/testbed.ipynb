{
 "cells": [
  {
   "cell_type": "code",
   "execution_count": 1,
   "id": "86bea74b-9520-42f6-8dd4-7feb7812d277",
   "metadata": {},
   "outputs": [],
   "source": [
    "import numpy as np"
   ]
  },
  {
   "cell_type": "code",
   "execution_count": 20,
   "id": "51ead72a-ebb6-42a6-bb68-621d0750e2bc",
   "metadata": {},
   "outputs": [],
   "source": [
    "a = np.array([[1, 4, -2],[6 , 4 , 3]])\n",
    "\n",
    "b = np.array([[3, 4, 1],[6 , 2 , 1]])\n",
    "\n",
    "c = np.array([6,10, 1, 9, 3])"
   ]
  },
  {
   "cell_type": "code",
   "execution_count": 21,
   "id": "23a0e99d-6d10-404a-a44f-f3fae88b319b",
   "metadata": {},
   "outputs": [
    {
     "name": "stdout",
     "output_type": "stream",
     "text": [
      "[[-2  0 -3]\n",
      " [ 0  2  2]]\n"
     ]
    }
   ],
   "source": [
    "x = a - b\n",
    "\n",
    "print(x)"
   ]
  },
  {
   "cell_type": "code",
   "execution_count": 22,
   "id": "c97c9876-5fcb-478c-bd41-b4bf65bf5703",
   "metadata": {},
   "outputs": [
    {
     "name": "stdout",
     "output_type": "stream",
     "text": [
      "[[4 0 9]\n",
      " [0 4 4]]\n"
     ]
    }
   ],
   "source": [
    "z = np.square(x)\n",
    "\n",
    "print(z)"
   ]
  },
  {
   "cell_type": "code",
   "execution_count": 23,
   "id": "c565a6c0-9bb8-4e37-9985-42eef38a2c82",
   "metadata": {},
   "outputs": [
    {
     "name": "stdout",
     "output_type": "stream",
     "text": [
      "[[4 0 9]\n",
      " [0 4 4]]\n"
     ]
    }
   ],
   "source": [
    "y = np.square(a - b)\n",
    "\n",
    "print(y)"
   ]
  },
  {
   "cell_type": "code",
   "execution_count": 24,
   "id": "ff96d47a-27c2-4a2f-893c-71bbc8aeec6c",
   "metadata": {},
   "outputs": [
    {
     "name": "stdout",
     "output_type": "stream",
     "text": [
      "3.5\n"
     ]
    }
   ],
   "source": [
    "print(np.mean(y))"
   ]
  },
  {
   "cell_type": "code",
   "execution_count": 25,
   "id": "f3d6ea1a-d0a0-4b46-8032-dd185bc3c42e",
   "metadata": {},
   "outputs": [
    {
     "name": "stdout",
     "output_type": "stream",
     "text": [
      "1\n"
     ]
    }
   ],
   "source": [
    "print(c.argmax())"
   ]
  },
  {
   "cell_type": "code",
   "execution_count": null,
   "id": "e556b76e-8fc1-444f-8fa3-343532f43470",
   "metadata": {},
   "outputs": [],
   "source": []
  },
  {
   "cell_type": "code",
   "execution_count": null,
   "id": "d6a201e9-b62f-4085-8143-7562969f1669",
   "metadata": {},
   "outputs": [],
   "source": []
  }
 ],
 "metadata": {
  "kernelspec": {
   "display_name": "Python 3.11 (XPython)",
   "language": "python",
   "name": "xpython"
  },
  "language_info": {
   "file_extension": ".py",
   "mimetype": "text/x-python",
   "name": "python",
   "version": "3.11.0"
  }
 },
 "nbformat": 4,
 "nbformat_minor": 5
}
