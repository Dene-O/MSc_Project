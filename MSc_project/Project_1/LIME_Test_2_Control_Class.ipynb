{
 "cells": [
  {
   "cell_type": "markdown",
   "id": "278b44ac-a7bc-41e4-8c34-c35f4304c5cb",
   "metadata": {
    "tags": []
   },
   "source": [
    "## LIME Test 2 Control Data Classification"
   ]
  },
  {
   "cell_type": "code",
   "execution_count": 1,
   "id": "1025d3e3-337e-40ec-8ecd-e7949c6a79f3",
   "metadata": {},
   "outputs": [],
   "source": [
    "# Import Libraries\n",
    "import numpy as np\n",
    "#import pandas as pd\n",
    "from sklearn.model_selection import train_test_split\n",
    "\n",
    "from control_data  import Control_Data\n",
    "from feature_stats import Feature_Statistics\n"
   ]
  },
  {
   "cell_type": "code",
   "execution_count": 2,
   "id": "c4cfb715-40d3-4f4d-81ac-cc684d7da848",
   "metadata": {},
   "outputs": [],
   "source": [
    "active_features  = [\"Active_1\", \"Active_2\", \"Active_3\", \"Active_4\", \"Active_5\"]\n",
    "passive_features = [\"Passive_1\", \"Passive_2\", \"Passive_3\", \"Passive_4\", \"Passive_5\"]\n",
    "all_features     = active_features + passive_features"
   ]
  },
  {
   "cell_type": "code",
   "execution_count": 3,
   "id": "1716f0ab-1734-488e-8f7f-58916a9ede7a",
   "metadata": {},
   "outputs": [],
   "source": [
    "data = Control_Data(Y_std_dev=0.1,\n",
    "                    Y_Func='Classification',\n",
    "                    Active_X=active_features,\n",
    "                    Passive_X=passive_features,\n",
    "                    Num_Samples=500,\n",
    "                    feature_bounds=[[0,2],[1,2],[2,3],[0,5],[8,10],\\\n",
    "                                    [0,2],[0,4],[0,5],[0,8],[0,10]])\n"
   ]
  },
  {
   "cell_type": "code",
   "execution_count": 4,
   "id": "84a8e7b0-0ca2-4975-942d-88afcf093e3a",
   "metadata": {},
   "outputs": [
    {
     "name": "stdout",
     "output_type": "stream",
     "text": [
      "Train Test Shapes: (400, 10) (100, 10)\n"
     ]
    }
   ],
   "source": [
    "# Splitting X & y into training and testing set\n",
    "X = data.Get_Features()\n",
    "y = data.Get_Outcomes()\n",
    "\n",
    "X_train, X_test, y_train, y_test = train_test_split(X, y, train_size=0.80)\n",
    "\n",
    "print('Train Test Shapes:', X_train.shape, X_test.shape)\n"
   ]
  },
  {
   "cell_type": "code",
   "execution_count": 5,
   "id": "fe0f341c-5bbc-4b56-8a7b-9383c4920ee5",
   "metadata": {},
   "outputs": [
    {
     "data": {
      "text/html": [
       "<style>#sk-container-id-1 {color: black;background-color: white;}#sk-container-id-1 pre{padding: 0;}#sk-container-id-1 div.sk-toggleable {background-color: white;}#sk-container-id-1 label.sk-toggleable__label {cursor: pointer;display: block;width: 100%;margin-bottom: 0;padding: 0.3em;box-sizing: border-box;text-align: center;}#sk-container-id-1 label.sk-toggleable__label-arrow:before {content: \"▸\";float: left;margin-right: 0.25em;color: #696969;}#sk-container-id-1 label.sk-toggleable__label-arrow:hover:before {color: black;}#sk-container-id-1 div.sk-estimator:hover label.sk-toggleable__label-arrow:before {color: black;}#sk-container-id-1 div.sk-toggleable__content {max-height: 0;max-width: 0;overflow: hidden;text-align: left;background-color: #f0f8ff;}#sk-container-id-1 div.sk-toggleable__content pre {margin: 0.2em;color: black;border-radius: 0.25em;background-color: #f0f8ff;}#sk-container-id-1 input.sk-toggleable__control:checked~div.sk-toggleable__content {max-height: 200px;max-width: 100%;overflow: auto;}#sk-container-id-1 input.sk-toggleable__control:checked~label.sk-toggleable__label-arrow:before {content: \"▾\";}#sk-container-id-1 div.sk-estimator input.sk-toggleable__control:checked~label.sk-toggleable__label {background-color: #d4ebff;}#sk-container-id-1 div.sk-label input.sk-toggleable__control:checked~label.sk-toggleable__label {background-color: #d4ebff;}#sk-container-id-1 input.sk-hidden--visually {border: 0;clip: rect(1px 1px 1px 1px);clip: rect(1px, 1px, 1px, 1px);height: 1px;margin: -1px;overflow: hidden;padding: 0;position: absolute;width: 1px;}#sk-container-id-1 div.sk-estimator {font-family: monospace;background-color: #f0f8ff;border: 1px dotted black;border-radius: 0.25em;box-sizing: border-box;margin-bottom: 0.5em;}#sk-container-id-1 div.sk-estimator:hover {background-color: #d4ebff;}#sk-container-id-1 div.sk-parallel-item::after {content: \"\";width: 100%;border-bottom: 1px solid gray;flex-grow: 1;}#sk-container-id-1 div.sk-label:hover label.sk-toggleable__label {background-color: #d4ebff;}#sk-container-id-1 div.sk-serial::before {content: \"\";position: absolute;border-left: 1px solid gray;box-sizing: border-box;top: 0;bottom: 0;left: 50%;z-index: 0;}#sk-container-id-1 div.sk-serial {display: flex;flex-direction: column;align-items: center;background-color: white;padding-right: 0.2em;padding-left: 0.2em;position: relative;}#sk-container-id-1 div.sk-item {position: relative;z-index: 1;}#sk-container-id-1 div.sk-parallel {display: flex;align-items: stretch;justify-content: center;background-color: white;position: relative;}#sk-container-id-1 div.sk-item::before, #sk-container-id-1 div.sk-parallel-item::before {content: \"\";position: absolute;border-left: 1px solid gray;box-sizing: border-box;top: 0;bottom: 0;left: 50%;z-index: -1;}#sk-container-id-1 div.sk-parallel-item {display: flex;flex-direction: column;z-index: 1;position: relative;background-color: white;}#sk-container-id-1 div.sk-parallel-item:first-child::after {align-self: flex-end;width: 50%;}#sk-container-id-1 div.sk-parallel-item:last-child::after {align-self: flex-start;width: 50%;}#sk-container-id-1 div.sk-parallel-item:only-child::after {width: 0;}#sk-container-id-1 div.sk-dashed-wrapped {border: 1px dashed gray;margin: 0 0.4em 0.5em 0.4em;box-sizing: border-box;padding-bottom: 0.4em;background-color: white;}#sk-container-id-1 div.sk-label label {font-family: monospace;font-weight: bold;display: inline-block;line-height: 1.2em;}#sk-container-id-1 div.sk-label-container {text-align: center;}#sk-container-id-1 div.sk-container {/* jupyter's `normalize.less` sets `[hidden] { display: none; }` but bootstrap.min.css set `[hidden] { display: none !important; }` so we also need the `!important` here to be able to override the default hidden behavior on the sphinx rendered scikit-learn.org. See: https://github.com/scikit-learn/scikit-learn/issues/21755 */display: inline-block !important;position: relative;}#sk-container-id-1 div.sk-text-repr-fallback {display: none;}</style><div id=\"sk-container-id-1\" class=\"sk-top-container\"><div class=\"sk-text-repr-fallback\"><pre>RandomForestClassifier(criterion=&#x27;log_loss&#x27;)</pre><b>In a Jupyter environment, please rerun this cell to show the HTML representation or trust the notebook. <br />On GitHub, the HTML representation is unable to render, please try loading this page with nbviewer.org.</b></div><div class=\"sk-container\" hidden><div class=\"sk-item\"><div class=\"sk-estimator sk-toggleable\"><input class=\"sk-toggleable__control sk-hidden--visually\" id=\"sk-estimator-id-1\" type=\"checkbox\" checked><label for=\"sk-estimator-id-1\" class=\"sk-toggleable__label sk-toggleable__label-arrow\">RandomForestClassifier</label><div class=\"sk-toggleable__content\"><pre>RandomForestClassifier(criterion=&#x27;log_loss&#x27;)</pre></div></div></div></div></div>"
      ],
      "text/plain": [
       "RandomForestClassifier(criterion='log_loss')"
      ]
     },
     "execution_count": 5,
     "metadata": {},
     "output_type": "execute_result"
    }
   ],
   "source": [
    "#Train and Test a Random Forest with the data\n",
    "from sklearn.ensemble import RandomForestClassifier\n",
    "RF_Model = RandomForestClassifier(n_estimators=100, criterion='log_loss')\n",
    "RF_Model.fit(X_train, y_train)"
   ]
  },
  {
   "cell_type": "code",
   "execution_count": 6,
   "id": "b1a26ba4-502a-45a1-9651-feefd9fb5117",
   "metadata": {},
   "outputs": [
    {
     "data": {
      "text/html": [
       "<style>#sk-container-id-2 {color: black;background-color: white;}#sk-container-id-2 pre{padding: 0;}#sk-container-id-2 div.sk-toggleable {background-color: white;}#sk-container-id-2 label.sk-toggleable__label {cursor: pointer;display: block;width: 100%;margin-bottom: 0;padding: 0.3em;box-sizing: border-box;text-align: center;}#sk-container-id-2 label.sk-toggleable__label-arrow:before {content: \"▸\";float: left;margin-right: 0.25em;color: #696969;}#sk-container-id-2 label.sk-toggleable__label-arrow:hover:before {color: black;}#sk-container-id-2 div.sk-estimator:hover label.sk-toggleable__label-arrow:before {color: black;}#sk-container-id-2 div.sk-toggleable__content {max-height: 0;max-width: 0;overflow: hidden;text-align: left;background-color: #f0f8ff;}#sk-container-id-2 div.sk-toggleable__content pre {margin: 0.2em;color: black;border-radius: 0.25em;background-color: #f0f8ff;}#sk-container-id-2 input.sk-toggleable__control:checked~div.sk-toggleable__content {max-height: 200px;max-width: 100%;overflow: auto;}#sk-container-id-2 input.sk-toggleable__control:checked~label.sk-toggleable__label-arrow:before {content: \"▾\";}#sk-container-id-2 div.sk-estimator input.sk-toggleable__control:checked~label.sk-toggleable__label {background-color: #d4ebff;}#sk-container-id-2 div.sk-label input.sk-toggleable__control:checked~label.sk-toggleable__label {background-color: #d4ebff;}#sk-container-id-2 input.sk-hidden--visually {border: 0;clip: rect(1px 1px 1px 1px);clip: rect(1px, 1px, 1px, 1px);height: 1px;margin: -1px;overflow: hidden;padding: 0;position: absolute;width: 1px;}#sk-container-id-2 div.sk-estimator {font-family: monospace;background-color: #f0f8ff;border: 1px dotted black;border-radius: 0.25em;box-sizing: border-box;margin-bottom: 0.5em;}#sk-container-id-2 div.sk-estimator:hover {background-color: #d4ebff;}#sk-container-id-2 div.sk-parallel-item::after {content: \"\";width: 100%;border-bottom: 1px solid gray;flex-grow: 1;}#sk-container-id-2 div.sk-label:hover label.sk-toggleable__label {background-color: #d4ebff;}#sk-container-id-2 div.sk-serial::before {content: \"\";position: absolute;border-left: 1px solid gray;box-sizing: border-box;top: 0;bottom: 0;left: 50%;z-index: 0;}#sk-container-id-2 div.sk-serial {display: flex;flex-direction: column;align-items: center;background-color: white;padding-right: 0.2em;padding-left: 0.2em;position: relative;}#sk-container-id-2 div.sk-item {position: relative;z-index: 1;}#sk-container-id-2 div.sk-parallel {display: flex;align-items: stretch;justify-content: center;background-color: white;position: relative;}#sk-container-id-2 div.sk-item::before, #sk-container-id-2 div.sk-parallel-item::before {content: \"\";position: absolute;border-left: 1px solid gray;box-sizing: border-box;top: 0;bottom: 0;left: 50%;z-index: -1;}#sk-container-id-2 div.sk-parallel-item {display: flex;flex-direction: column;z-index: 1;position: relative;background-color: white;}#sk-container-id-2 div.sk-parallel-item:first-child::after {align-self: flex-end;width: 50%;}#sk-container-id-2 div.sk-parallel-item:last-child::after {align-self: flex-start;width: 50%;}#sk-container-id-2 div.sk-parallel-item:only-child::after {width: 0;}#sk-container-id-2 div.sk-dashed-wrapped {border: 1px dashed gray;margin: 0 0.4em 0.5em 0.4em;box-sizing: border-box;padding-bottom: 0.4em;background-color: white;}#sk-container-id-2 div.sk-label label {font-family: monospace;font-weight: bold;display: inline-block;line-height: 1.2em;}#sk-container-id-2 div.sk-label-container {text-align: center;}#sk-container-id-2 div.sk-container {/* jupyter's `normalize.less` sets `[hidden] { display: none; }` but bootstrap.min.css set `[hidden] { display: none !important; }` so we also need the `!important` here to be able to override the default hidden behavior on the sphinx rendered scikit-learn.org. See: https://github.com/scikit-learn/scikit-learn/issues/21755 */display: inline-block !important;position: relative;}#sk-container-id-2 div.sk-text-repr-fallback {display: none;}</style><div id=\"sk-container-id-2\" class=\"sk-top-container\"><div class=\"sk-text-repr-fallback\"><pre>LogisticRegression()</pre><b>In a Jupyter environment, please rerun this cell to show the HTML representation or trust the notebook. <br />On GitHub, the HTML representation is unable to render, please try loading this page with nbviewer.org.</b></div><div class=\"sk-container\" hidden><div class=\"sk-item\"><div class=\"sk-estimator sk-toggleable\"><input class=\"sk-toggleable__control sk-hidden--visually\" id=\"sk-estimator-id-2\" type=\"checkbox\" checked><label for=\"sk-estimator-id-2\" class=\"sk-toggleable__label sk-toggleable__label-arrow\">LogisticRegression</label><div class=\"sk-toggleable__content\"><pre>LogisticRegression()</pre></div></div></div></div></div>"
      ],
      "text/plain": [
       "LogisticRegression()"
      ]
     },
     "execution_count": 6,
     "metadata": {},
     "output_type": "execute_result"
    }
   ],
   "source": [
    "#Train and Test a Linear Classifier with the data\n",
    "from sklearn.linear_model import LogisticRegression\n",
    "\n",
    "LR_Model = LogisticRegression()\n",
    "LR_Model.fit(X_train, y_train)"
   ]
  },
  {
   "cell_type": "code",
   "execution_count": 7,
   "id": "08dce04f-225c-4edf-b1dc-bdc29f4bdcf0",
   "metadata": {},
   "outputs": [],
   "source": [
    "#Train and Test a Dummy Classifier with the data\n",
    "#from sklearn.dummy import DummyClassifier \n",
    "#Dumb_Model = DummyClassifier (strategy = 'uniform')\n",
    "#Dumb_Model.fit(X_train, y_train)"
   ]
  },
  {
   "cell_type": "code",
   "execution_count": 8,
   "id": "dfa2b5b3-1639-4b0f-b95b-7bf2335cf770",
   "metadata": {},
   "outputs": [
    {
     "name": "stdout",
     "output_type": "stream",
     "text": [
      "Model Score Random Forest 0.88\n"
     ]
    }
   ],
   "source": [
    "print('Model Score Random Forest', RF_Model.score(X_test, y_test))\n",
    "#print('Model Score Linear Reg.  ', LR_Model.score(X_test, y_test))\n",
    "#print('Model Score Dummy        ', Dumb_Model.score(X_test, y_test))"
   ]
  },
  {
   "cell_type": "code",
   "execution_count": 9,
   "id": "f060652f-2bee-4f7d-9060-bd512ec7b5a4",
   "metadata": {},
   "outputs": [
    {
     "name": "stdout",
     "output_type": "stream",
     "text": [
      "RF Feature Importances:   [0.14978693 0.14481011 0.17795709 0.16653799 0.14875621 0.04189996\n",
      " 0.04618535 0.04131093 0.04039468 0.04236074]\n"
     ]
    }
   ],
   "source": [
    "print('RF Feature Importances:  ', RF_Model.feature_importances_)\n",
    "#print('LR Feature Coefficients: ', LR_Model.coef_)\n",
    "#print('LR Feature No.Features:  ', LR_Model.n_features_in_)\n",
    "#print('Dumb Output Classes:     ', Dumb_Model.classes_)\n",
    "#print('Dumb Class Prior:        ', Dumb_Model.class_prior_)"
   ]
  },
  {
   "cell_type": "code",
   "execution_count": 10,
   "id": "5ab3659b-870e-472d-ae30-fff476c55325",
   "metadata": {},
   "outputs": [],
   "source": [
    "# LIME Explanation for Training Data\n",
    "from lime import lime_tabular\n",
    "\n",
    "RF_LIME = lime_tabular.LimeTabularExplainer(training_data=X_train,\n",
    "                                            mode=\"classification\",\n",
    "                                            #training_labels=None,\n",
    "                                            feature_names=data.Get_Feature_Names(),\n",
    "                                            #categorical_features=None,\n",
    "                                            #categorical_names=None,\n",
    "                                            #kernel_width=None,\n",
    "                                            #kernel=None,\n",
    "                                            verbose=False,\n",
    "                                            class_names=data.Get_Class_Names(),\n",
    "                                            #feature_selection='auto',\n",
    "                                            discretize_continuous=False,\n",
    "                                            #discretizer='quartile',\n",
    "                                            sample_around_instance=True)\n",
    "                                            #random_state=None,\n",
    "                                            #training_data_stats=None)\n"
   ]
  },
  {
   "cell_type": "code",
   "execution_count": null,
   "id": "4b8cbdb5-0d13-43ef-b7e2-78dc9b8a88d6",
   "metadata": {},
   "outputs": [
    {
     "name": "stdout",
     "output_type": "stream",
     "text": [
      "INSTANCE:  0\n",
      "INSTANCE:  1\n",
      "INSTANCE:  2\n",
      "INSTANCE:  3\n",
      "INSTANCE:  4\n",
      "INSTANCE:  5\n",
      "INSTANCE:  6\n",
      "INSTANCE:  7\n",
      "INSTANCE:  8\n",
      "INSTANCE:  9\n",
      "INSTANCE:  10\n",
      "INSTANCE:  11\n",
      "INSTANCE:  12\n",
      "INSTANCE:  13\n",
      "INSTANCE:  14\n",
      "INSTANCE:  15\n",
      "INSTANCE:  16\n",
      "INSTANCE:  17\n",
      "INSTANCE:  18\n",
      "INSTANCE:  19\n",
      "INSTANCE:  20\n",
      "INSTANCE:  21\n",
      "INSTANCE:  22\n",
      "INSTANCE:  23\n",
      "INSTANCE:  24\n",
      "INSTANCE:  25\n",
      "INSTANCE:  26\n",
      "INSTANCE:  27\n",
      "INSTANCE:  28\n",
      "INSTANCE:  29\n",
      "INSTANCE:  30\n",
      "INSTANCE:  31\n",
      "INSTANCE:  32\n",
      "INSTANCE:  33\n",
      "INSTANCE:  34\n",
      "INSTANCE:  35\n",
      "INSTANCE:  36\n",
      "INSTANCE:  37\n",
      "INSTANCE:  38\n",
      "INSTANCE:  39\n",
      "INSTANCE:  40\n",
      "INSTANCE:  41\n",
      "INSTANCE:  42\n",
      "INSTANCE:  43\n",
      "INSTANCE:  44\n",
      "INSTANCE:  45\n",
      "INSTANCE:  46\n",
      "INSTANCE:  47\n",
      "INSTANCE:  48\n",
      "INSTANCE:  49\n",
      "INSTANCE:  50\n",
      "INSTANCE:  51\n",
      "INSTANCE:  52\n",
      "INSTANCE:  53\n",
      "INSTANCE:  54\n",
      "INSTANCE:  55\n",
      "INSTANCE:  56\n",
      "INSTANCE:  57\n",
      "INSTANCE:  58\n",
      "INSTANCE:  59\n",
      "INSTANCE:  60\n",
      "INSTANCE:  61\n",
      "INSTANCE:  62\n",
      "INSTANCE:  63\n",
      "INSTANCE:  64\n",
      "INSTANCE:  65\n",
      "INSTANCE:  66\n",
      "INSTANCE:  67\n",
      "INSTANCE:  68\n",
      "INSTANCE:  69\n",
      "INSTANCE:  70\n",
      "INSTANCE:  71\n",
      "INSTANCE:  72\n",
      "INSTANCE:  73\n",
      "INSTANCE:  74\n",
      "INSTANCE:  75\n",
      "INSTANCE:  76\n",
      "INSTANCE:  77\n",
      "INSTANCE:  78\n",
      "INSTANCE:  79\n",
      "INSTANCE:  80\n",
      "INSTANCE:  81\n",
      "INSTANCE:  82\n",
      "INSTANCE:  83\n",
      "INSTANCE:  84\n",
      "INSTANCE:  85\n",
      "INSTANCE:  86\n",
      "INSTANCE:  87\n",
      "INSTANCE:  88\n"
     ]
    }
   ],
   "source": [
    "# Generate explantion data for Random Foreall_featuresst\n",
    "\n",
    "RF_Stats = Feature_Statistics(all_features, classes=['Zero', 'One'])\n",
    "\n",
    "for test_instance in range(X_test.shape[0]):\n",
    "\n",
    "    data_row  = X_test[test_instance,:]\n",
    "    \n",
    "    RF_explain_inst = RF_LIME.explain_instance(data_row=data_row,\n",
    "                                               predict_fn=RF_Model.predict_proba,\n",
    "                                               #labels=None,\n",
    "                                               #top_labels=None,\n",
    "                                               #num_features=10,\n",
    "                                               num_samples=100,\n",
    "                                               #distance_metric='euclidean',\n",
    "                                               #model_regressor=None,\n",
    "                                               sampling_method='gaussian')\n",
    "    \n",
    "    data_row  = data_row\n",
    "    \n",
    "    y_predict = RF_Model.predict_proba(data_row.reshape(1, -1))\n",
    "\n",
    "    print('INSTANCE: ', test_instance)\n",
    "    \n",
    "    RF_Stats.Add_Sample(sample     = RF_explain_inst.as_list(),\n",
    "                        outcome    = y_test[test_instance],\n",
    "                        prediction = y_predict)\n",
    "    \n",
    "    last_instance = test_instance"
   ]
  },
  {
   "cell_type": "code",
   "execution_count": null,
   "id": "f018704c-e76a-4142-b68f-fbf0439e8059",
   "metadata": {},
   "outputs": [],
   "source": [
    "print(RF_explain_inst.as_list())\n",
    "\n",
    "print(y_predict)"
   ]
  },
  {
   "cell_type": "code",
   "execution_count": null,
   "id": "c295a809-ecf9-439e-bc2b-c9ac14332c4c",
   "metadata": {},
   "outputs": [],
   "source": [
    "RF_explain_inst.show_in_notebook()"
   ]
  },
  {
   "cell_type": "code",
   "execution_count": null,
   "id": "80499cdf-864f-4b36-bfd9-4795b15cbe81",
   "metadata": {},
   "outputs": [],
   "source": [
    "RF_Stats.Feature_Counts(max_features=8, scaled=True, threshold=0.075)"
   ]
  },
  {
   "cell_type": "code",
   "execution_count": null,
   "id": "13f3d852-7889-42a1-b0a0-1a2f71329861",
   "metadata": {},
   "outputs": [],
   "source": [
    "RF_Stats.Frequency_Plot()"
   ]
  },
  {
   "cell_type": "code",
   "execution_count": null,
   "id": "60416838-2c4c-453d-81a7-2736f965f7d2",
   "metadata": {},
   "outputs": [],
   "source": [
    "RF_Stats.Frequency_Plot(top_features=False)"
   ]
  },
  {
   "cell_type": "code",
   "execution_count": null,
   "id": "d900bac5-1fab-49e7-8c13-1ddc579c41dd",
   "metadata": {},
   "outputs": [],
   "source": [
    "RF_Stats.Box_Plot()"
   ]
  },
  {
   "cell_type": "code",
   "execution_count": null,
   "id": "0274f8d9-e6f7-4ac2-ac07-19cbfef34cc2",
   "metadata": {},
   "outputs": [],
   "source": [
    "RF_Stats.Box_Plot(top_features=False)"
   ]
  },
  {
   "cell_type": "code",
   "execution_count": null,
   "id": "51bcd0f2-e474-4697-a8a7-0bae2f458abb",
   "metadata": {},
   "outputs": [],
   "source": [
    "RF_Stats.Violin_Plot()"
   ]
  },
  {
   "cell_type": "code",
   "execution_count": null,
   "id": "5d31c039-fd1a-412c-b4a2-ec8fbf4f1020",
   "metadata": {},
   "outputs": [],
   "source": [
    "RF_Stats.Violin_Plot(top_features=False)"
   ]
  },
  {
   "cell_type": "code",
   "execution_count": null,
   "id": "b7be93c4-f76b-4cb0-9a47-efd4c626be93",
   "metadata": {},
   "outputs": [],
   "source": [
    "RF_Stats.View_Explanation(instance=last_instance)"
   ]
  },
  {
   "cell_type": "code",
   "execution_count": null,
   "id": "7575e8a1-cdb9-477f-a5e4-63ffcfa81ff7",
   "metadata": {},
   "outputs": [],
   "source": [
    "RF_Stats.View_Explanation(instance=last_instance, max_features=6)"
   ]
  },
  {
   "cell_type": "code",
   "execution_count": null,
   "id": "a33b72dc-09f6-4b6c-aedc-867ea694212e",
   "metadata": {},
   "outputs": [],
   "source": []
  },
  {
   "cell_type": "code",
   "execution_count": null,
   "id": "cec02312-8af2-4789-a007-aa4005601ecb",
   "metadata": {},
   "outputs": [],
   "source": []
  },
  {
   "cell_type": "code",
   "execution_count": null,
   "id": "62e3fbd2-beb0-42ad-89e8-30197fc9b173",
   "metadata": {},
   "outputs": [],
   "source": []
  },
  {
   "cell_type": "code",
   "execution_count": null,
   "id": "d5cb214a-e5ac-4d24-b3a4-3949c0b805a3",
   "metadata": {},
   "outputs": [],
   "source": []
  },
  {
   "cell_type": "code",
   "execution_count": null,
   "id": "8ed59b55-efdf-450f-84b3-3bb3cc8085ed",
   "metadata": {},
   "outputs": [],
   "source": []
  },
  {
   "cell_type": "code",
   "execution_count": null,
   "id": "73e08ec6-ab68-4194-862f-d2dc137a1d1a",
   "metadata": {},
   "outputs": [],
   "source": []
  },
  {
   "cell_type": "code",
   "execution_count": null,
   "id": "517fa4bb-ee37-4349-806e-785c1fb9bc92",
   "metadata": {},
   "outputs": [],
   "source": []
  }
 ],
 "metadata": {
  "kernelspec": {
   "display_name": "Python 3.11 (XPython)",
   "language": "python",
   "name": "xpython"
  },
  "language_info": {
   "file_extension": ".py",
   "mimetype": "text/x-python",
   "name": "python",
   "version": "3.11.0"
  }
 },
 "nbformat": 4,
 "nbformat_minor": 5
}
