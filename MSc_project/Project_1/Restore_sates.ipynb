{
 "cells": [
  {
   "cell_type": "markdown",
   "id": "58b64bb4-fcef-4228-8356-4f7c06fd547e",
   "metadata": {},
   "source": [
    "## Read a data Stats Object from a File"
   ]
  },
  {
   "cell_type": "code",
   "execution_count": 1,
   "id": "0a7dba38-c8a6-4349-8c87-db1ff3ca8716",
   "metadata": {},
   "outputs": [],
   "source": [
    "from project_utils.feature_stats import Feature_Statistics\n"
   ]
  },
  {
   "cell_type": "code",
   "execution_count": 2,
   "id": "2430ea31-7b78-4ab2-830b-9f4dbe336b69",
   "metadata": {},
   "outputs": [],
   "source": [
    "file_handle = open('results_dir\\\\test.res', 'rb')\n"
   ]
  },
  {
   "cell_type": "code",
   "execution_count": 3,
   "id": "072f9597-e26a-4fbb-a515-18c889f51cc1",
   "metadata": {},
   "outputs": [],
   "source": [
    "fs = Feature_Statistics(file_handle)"
   ]
  },
  {
   "cell_type": "code",
   "execution_count": 4,
   "id": "4189d65a-3737-46da-9ba2-77724cbf1ee4",
   "metadata": {},
   "outputs": [],
   "source": [
    "file_handle.close()"
   ]
  },
  {
   "cell_type": "code",
   "execution_count": null,
   "id": "0cec1a3e-33c6-4ade-9173-d3da4c496613",
   "metadata": {},
   "outputs": [],
   "source": [
    "fs.Feature_Counts(max_features=8, scaled=True, threshold=0.075)"
   ]
  },
  {
   "cell_type": "code",
   "execution_count": null,
   "id": "dc88cb25-3459-4b41-9b86-3bee90db549a",
   "metadata": {},
   "outputs": [],
   "source": []
  }
 ],
 "metadata": {
  "kernelspec": {
   "display_name": "Python 3 (ipykernel)",
   "language": "python",
   "name": "python3"
  },
  "language_info": {
   "codemirror_mode": {
    "name": "ipython",
    "version": 3
   },
   "file_extension": ".py",
   "mimetype": "text/x-python",
   "name": "python",
   "nbconvert_exporter": "python",
   "pygments_lexer": "ipython3",
   "version": "3.11.0"
  }
 },
 "nbformat": 4,
 "nbformat_minor": 5
}
