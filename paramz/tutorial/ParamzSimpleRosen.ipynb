{
 "cells": [
  {
   "cell_type": "markdown",
   "metadata": {},
   "source": [
    "# Paramz Tutorial\n",
    "\n",
    "A simple introduction into Paramz based gradient based optimization of parameterized models.\n",
    "\n",
    "Paramz is a python based parameterized modelling framework, that handles parameterization, printing, randomizing and many other parameter based operations to be done to a parameterized model.\n",
    "\n",
    "In this example we will make use of the [rosenbrock](https://docs.scipy.org/doc/scipy-0.19.0/reference/generated/scipy.optimize.rosen.html) function of scipy. We will write a paramz model calling the scipy rosen function as an objective function and its gradients and use it to show the features of Paramz."
   ]
  },
  {
   "cell_type": "code",
   "execution_count": 1,
   "metadata": {
    "collapsed": true
   },
   "outputs": [],
   "source": [
    "import paramz, numpy as np\n",
    "from scipy.optimize import rosen_der, rosen"
   ]
  },
  {
   "cell_type": "markdown",
   "metadata": {},
   "source": [
    "The starting position of the rosen function is set to be \n",
    "$$ x_0 = [-1,1] $$"
   ]
  },
  {
   "cell_type": "code",
   "execution_count": 2,
   "metadata": {
    "collapsed": false
   },
   "outputs": [],
   "source": [
    "x = np.array([-1,1])"
   ]
  },
  {
   "cell_type": "markdown",
   "metadata": {},
   "source": [
    "For paramz to understand your model there is three steps involved:"
   ]
  },
  {
   "cell_type": "markdown",
   "metadata": {},
   "source": [
    "## Step One: Initialization of the Model\n",
    "\n",
    "Initialize your model using the `__init__()` function. The init function contains a call to the super class to make sure paramz can setup the model structure. Then we setup the parameters contained for this model and lastly we tell the model that we have those parameters by linking them to `self`."
   ]
  },
  {
   "cell_type": "code",
   "execution_count": 3,
   "metadata": {
    "collapsed": false
   },
   "outputs": [],
   "source": [
    "class Rosen(paramz.Model): # Inherit from paramz.Model to ensure all model functionality.\n",
    "    def __init__(self, x, name='rosen'): # Initialize the Rosen model with a numpy array `x` and name `name`.\n",
    "        super(Rosen, self).__init__(name=name) # Call to super to make sure the structure is set up.\n",
    "        self.x = paramz.Param('position', x) # setup a Param object for the position parameter.\n",
    "        self.link_parameter(self.x) # Tell the model that the parameter `x` exists."
   ]
  },
  {
   "cell_type": "markdown",
   "metadata": {},
   "source": [
    "The class created above only holds the information about the parameters, we still have to implement the objective function to optimize over. For now the class can be instantiated but is not functional yet."
   ]
  },
  {
   "cell_type": "code",
   "execution_count": 4,
   "metadata": {
    "collapsed": false
   },
   "outputs": [
    {
     "name": "stdout",
     "output_type": "stream",
     "text": [
      "Implement the result of the objective function here\n"
     ]
    }
   ],
   "source": [
    "r = Rosen(x)\n",
    "try:\n",
    "    print(r)\n",
    "except NotImplementedError as e:\n",
    "    print(e)"
   ]
  },
  {
   "cell_type": "markdown",
   "metadata": {},
   "source": [
    "## Step Two: Adding the Objective Function\n",
    "\n",
    "The optimization of a gradient based mathematical model is based on an objective function to optimize over. The `paramz` framework expects the `objective_function` to be overwridden, returning the current objective of the model. It can make use of all parameters inside the model and you can rely on the parameters to be updated when the objective function is called. This function does not take any parameters."
   ]
  },
  {
   "cell_type": "code",
   "execution_count": 5,
   "metadata": {
    "collapsed": false,
    "deletable": true,
    "editable": true
   },
   "outputs": [],
   "source": [
    "class Rosen(paramz.Model):\n",
    "    def __init__(self, x, name='rosen'):\n",
    "        super(Rosen, self).__init__(name=name)\n",
    "        self.x = paramz.Param('position', x)\n",
    "        self.link_parameter(self.x)\n",
    "    def objective_function(self): # The function to overwrite for the framework to know about the objective to optimize\n",
    "        return rosen(self.x) # Call the rosenbrock function of scipy as objective function."
   ]
  },
  {
   "cell_type": "markdown",
   "metadata": {},
   "source": [
    "## Step Three: Adding Update Routine for Parameter Changes\n",
    "\n",
    "This model is now functional, except optimization. The gradients are not initialized and an optimization will stagnate, as there are no gradients to consider. The optimization of parameters requires the gradients of the parameters to be updated. For this, we provide an *inversion of control* based approach, in which to update parameters and set gradients of parameters. The gradients for parameters are saved in the `gradient` of the parameter itself. The model handles the distribution and collection of correct gradients to the optimizer itself. \n",
    "\n",
    "To implement the `parameters_changed(self)` function we overwrite the function on the class. This function has the expensive bits of computation in it, as it is only being called if an update is absolutely necessary. We also compute the objective for the current parameter set and store it as a variable, so that a call to `objective_function()` can be done in a lazy function and to prevent computational overhead: "
   ]
  },
  {
   "cell_type": "code",
   "execution_count": 6,
   "metadata": {
    "collapsed": false,
    "deletable": true,
    "editable": true
   },
   "outputs": [],
   "source": [
    "class Rosen(paramz.Model):\n",
    "    def __init__(self, x, name='rosen'):\n",
    "        super(Rosen, self).__init__(name=name)\n",
    "        self.x = paramz.Param('position', x)\n",
    "        self.link_parameter(self.x)\n",
    "    def objective_function(self):\n",
    "        return self._obj\n",
    "    def parameters_changed(self): # Overwrite the parameters_changed function for model updates\n",
    "        self._obj = rosen(self.x) # Lazy evaluation of the rosen function only when there is an update\n",
    "        self.x.gradient[:] = rosen_der(self.x) # Compuataion and storing of the gradients for the position parameter"
   ]
  },
  {
   "cell_type": "markdown",
   "metadata": {},
   "source": [
    "# Model Usage\n",
    "\n",
    "Having implemented a paramz model with its necessary functions, the whole set of functionality of paramz is available for us. We will instantiate a rosen model class to play around with."
   ]
  },
  {
   "cell_type": "code",
   "execution_count": 7,
   "metadata": {
    "collapsed": false
   },
   "outputs": [],
   "source": [
    "r = Rosen(x)"
   ]
  },
  {
   "cell_type": "markdown",
   "metadata": {},
   "source": [
    "This rosen model is a fully working parameterized model for gradient based optimization of the rosen function of scipy."
   ]
  },
  {
   "cell_type": "markdown",
   "metadata": {},
   "source": [
    "## Printing and Naming\n",
    "\n",
    "All `Parameterized` and `Param` objects are named and can be accessed by name. This ensures a cleaner model creation and printing, when big models are created. In our simple example we only have a `position` and the model name itself: `rosen`."
   ]
  },
  {
   "cell_type": "code",
   "execution_count": 8,
   "metadata": {
    "collapsed": false
   },
   "outputs": [
    {
     "name": "stdout",
     "output_type": "stream",
     "text": [
      "\n",
      "Name : rosen\n",
      "Objective : 4.0\n",
      "Number of Parameters : 2\n",
      "Number of Optimization Parameters : 2\n",
      "Updates : True\n",
      "Parameters:\n",
      "  \u001b[1mrosen.  \u001b[0;0m  |  value  |  constraints\n",
      "  \u001b[1mposition\u001b[0;0m  |   (2,)  |             \n"
     ]
    }
   ],
   "source": [
    "print(r)"
   ]
  },
  {
   "cell_type": "markdown",
   "metadata": {},
   "source": [
    "Or use the notebook representation:"
   ]
  },
  {
   "cell_type": "code",
   "execution_count": 9,
   "metadata": {
    "collapsed": false
   },
   "outputs": [
    {
     "data": {
      "text/html": [
       "<style type=\"text/css\">\n",
       ".pd{\n",
       "    font-family: \"Courier New\", Courier, monospace !important;\n",
       "    width: 100%;\n",
       "    padding: 3px;\n",
       "}\n",
       "</style>\n",
       "\n",
       "<p class=pd>\n",
       "<b>Model</b>: rosen<br>\n",
       "<b>Objective</b>: 4.0<br>\n",
       "<b>Number of Parameters</b>: 2<br>\n",
       "<b>Number of Optimization Parameters</b>: 2<br>\n",
       "<b>Updates</b>: True<br>\n",
       "</p>\n",
       "<style type=\"text/css\">\n",
       ".tg  {font-family:\"Courier New\", Courier, monospace !important;padding:2px 3px;word-break:normal;border-collapse:collapse;border-spacing:0;border-color:#DCDCDC;margin:0px auto;width:100%;}\n",
       ".tg td{font-family:\"Courier New\", Courier, monospace !important;font-weight:bold;color:#444;background-color:#F7FDFA;border-style:solid;border-width:1px;overflow:hidden;word-break:normal;border-color:#DCDCDC;}\n",
       ".tg th{font-family:\"Courier New\", Courier, monospace !important;font-weight:normal;color:#fff;background-color:#26ADE4;border-style:solid;border-width:1px;overflow:hidden;word-break:normal;border-color:#DCDCDC;}\n",
       ".tg .tg-left{font-family:\"Courier New\", Courier, monospace !important;font-weight:normal;text-align:left;}\n",
       ".tg .tg-center{font-family:\"Courier New\", Courier, monospace !important;font-weight:normal;text-align:center;}\n",
       ".tg .tg-right{font-family:\"Courier New\", Courier, monospace !important;font-weight:normal;text-align:right;}\n",
       "</style>\n",
       "<table class=\"tg\"><tr><th><b>  rosen.  </b></th><th><b>value</b></th><th><b>constraints</b></th></tr>\n",
       "<tr><td class=tg-left>  position</td><td class=tg-right> (2,)</td><td class=tg-center>           </td></tr>\n",
       "</table>"
      ],
      "text/plain": [
       "<__main__.Rosen at 0x10d2c1320>"
      ]
     },
     "execution_count": 9,
     "metadata": {},
     "output_type": "execute_result"
    }
   ],
   "source": [
    "r"
   ]
  },
  {
   "cell_type": "markdown",
   "metadata": {},
   "source": [
    "Note the model just printing the shape (in the `value` column) of the parameters, as parameters can be any sized arrays or matrices (with arbitrary numbers of dimensions). \n",
    "\n",
    "We can print the actual values of the parameters directly, either by programmatically assigned variable"
   ]
  },
  {
   "cell_type": "code",
   "execution_count": 10,
   "metadata": {
    "collapsed": false
   },
   "outputs": [
    {
     "data": {
      "text/html": [
       "<style type=\"text/css\">\n",
       ".tg  {padding:2px 3px;word-break:normal;border-collapse:collapse;border-spacing:0;border-color:#DCDCDC;margin:0px auto;width:100%;}\n",
       ".tg td{font-family:\"Courier New\", Courier, monospace !important;font-weight:bold;color:#444;background-color:#F7FDFA;border-style:solid;border-width:1px;overflow:hidden;word-break:normal;border-color:#DCDCDC;}\n",
       ".tg th{font-family:\"Courier New\", Courier, monospace !important;font-weight:normal;color:#fff;background-color:#26ADE4;border-style:solid;border-width:1px;overflow:hidden;word-break:normal;border-color:#DCDCDC;}\n",
       ".tg .tg-left{font-family:\"Courier New\", Courier, monospace !important;font-weight:normal;text-align:left;}\n",
       ".tg .tg-right{font-family:\"Courier New\", Courier, monospace !important;font-weight:normal;text-align:right;}\n",
       "</style>\n",
       "<table class=\"tg\">\n",
       "\n",
       "<tr>\n",
       "  <th><b>index</b></th>\n",
       "  <th><b>rosen.position</b></th>\n",
       "  <th><b>constraints</b></th>\n",
       "</tr>\n",
       "<tr><td class=tg-left>  [0]  </td><td class=tg-right>   -1.00000000</td><td class=tg-left>           </td></tr>\n",
       "<tr><td class=tg-left>  [1]  </td><td class=tg-right>    1.00000000</td><td class=tg-left>           </td></tr>"
      ],
      "text/plain": [
       "\u001b[1mrosen.position\u001b[0;0m:\n",
       "Param([-1.,  1.])"
      ]
     },
     "execution_count": 10,
     "metadata": {},
     "output_type": "execute_result"
    }
   ],
   "source": [
    "r.x "
   ]
  },
  {
   "cell_type": "markdown",
   "metadata": {},
   "source": [
    "Or by name:"
   ]
  },
  {
   "cell_type": "code",
   "execution_count": 11,
   "metadata": {
    "collapsed": false
   },
   "outputs": [
    {
     "data": {
      "text/html": [
       "<style type=\"text/css\">\n",
       ".tg  {padding:2px 3px;word-break:normal;border-collapse:collapse;border-spacing:0;border-color:#DCDCDC;margin:0px auto;width:100%;}\n",
       ".tg td{font-family:\"Courier New\", Courier, monospace !important;font-weight:bold;color:#444;background-color:#F7FDFA;border-style:solid;border-width:1px;overflow:hidden;word-break:normal;border-color:#DCDCDC;}\n",
       ".tg th{font-family:\"Courier New\", Courier, monospace !important;font-weight:normal;color:#fff;background-color:#26ADE4;border-style:solid;border-width:1px;overflow:hidden;word-break:normal;border-color:#DCDCDC;}\n",
       ".tg .tg-left{font-family:\"Courier New\", Courier, monospace !important;font-weight:normal;text-align:left;}\n",
       ".tg .tg-right{font-family:\"Courier New\", Courier, monospace !important;font-weight:normal;text-align:right;}\n",
       "</style>\n",
       "<table class=\"tg\">\n",
       "\n",
       "<tr>\n",
       "  <th><b>index</b></th>\n",
       "  <th><b>rosen.position</b></th>\n",
       "  <th><b>constraints</b></th>\n",
       "</tr>\n",
       "<tr><td class=tg-left>  [0]  </td><td class=tg-right>   -1.00000000</td><td class=tg-left>           </td></tr>\n",
       "<tr><td class=tg-left>  [1]  </td><td class=tg-right>    1.00000000</td><td class=tg-left>           </td></tr>"
      ],
      "text/plain": [
       "\u001b[1mrosen.position\u001b[0;0m:\n",
       "Param([-1.,  1.])"
      ]
     },
     "execution_count": 11,
     "metadata": {},
     "output_type": "execute_result"
    }
   ],
   "source": [
    "r.position"
   ]
  },
  {
   "cell_type": "markdown",
   "metadata": {},
   "source": [
    "We can redefine the name freely, as long as it does not exist already:"
   ]
  },
  {
   "cell_type": "code",
   "execution_count": 12,
   "metadata": {
    "collapsed": false
   },
   "outputs": [],
   "source": [
    "r.x.name = 'pos'"
   ]
  },
  {
   "cell_type": "code",
   "execution_count": 13,
   "metadata": {
    "collapsed": false
   },
   "outputs": [
    {
     "data": {
      "text/html": [
       "<style type=\"text/css\">\n",
       ".pd{\n",
       "    font-family: \"Courier New\", Courier, monospace !important;\n",
       "    width: 100%;\n",
       "    padding: 3px;\n",
       "}\n",
       "</style>\n",
       "\n",
       "<p class=pd>\n",
       "<b>Model</b>: rosen<br>\n",
       "<b>Objective</b>: 4.0<br>\n",
       "<b>Number of Parameters</b>: 2<br>\n",
       "<b>Number of Optimization Parameters</b>: 2<br>\n",
       "<b>Updates</b>: True<br>\n",
       "</p>\n",
       "<style type=\"text/css\">\n",
       ".tg  {font-family:\"Courier New\", Courier, monospace !important;padding:2px 3px;word-break:normal;border-collapse:collapse;border-spacing:0;border-color:#DCDCDC;margin:0px auto;width:100%;}\n",
       ".tg td{font-family:\"Courier New\", Courier, monospace !important;font-weight:bold;color:#444;background-color:#F7FDFA;border-style:solid;border-width:1px;overflow:hidden;word-break:normal;border-color:#DCDCDC;}\n",
       ".tg th{font-family:\"Courier New\", Courier, monospace !important;font-weight:normal;color:#fff;background-color:#26ADE4;border-style:solid;border-width:1px;overflow:hidden;word-break:normal;border-color:#DCDCDC;}\n",
       ".tg .tg-left{font-family:\"Courier New\", Courier, monospace !important;font-weight:normal;text-align:left;}\n",
       ".tg .tg-center{font-family:\"Courier New\", Courier, monospace !important;font-weight:normal;text-align:center;}\n",
       ".tg .tg-right{font-family:\"Courier New\", Courier, monospace !important;font-weight:normal;text-align:right;}\n",
       "</style>\n",
       "<table class=\"tg\"><tr><th><b>  rosen.</b></th><th><b>value</b></th><th><b>constraints</b></th></tr>\n",
       "<tr><td class=tg-left>  pos   </td><td class=tg-right> (2,)</td><td class=tg-center>           </td></tr>\n",
       "</table>"
      ],
      "text/plain": [
       "<__main__.Rosen at 0x10d2c1320>"
      ]
     },
     "execution_count": 13,
     "metadata": {},
     "output_type": "execute_result"
    }
   ],
   "source": [
    "r"
   ]
  },
  {
   "cell_type": "markdown",
   "metadata": {},
   "source": [
    "Now `r.position` will not be accessible anymore!"
   ]
  },
  {
   "cell_type": "code",
   "execution_count": 14,
   "metadata": {
    "collapsed": false
   },
   "outputs": [
    {
     "name": "stdout",
     "output_type": "stream",
     "text": [
      "Attribute Error: 'Rosen' object has no attribute 'position'\n"
     ]
    }
   ],
   "source": [
    "try:\n",
    "    r.position\n",
    "except AttributeError as v:\n",
    "    print(\"Attribute Error: \" + str(v))"
   ]
  },
  {
   "cell_type": "markdown",
   "metadata": {},
   "source": [
    "### Setting Parameters and Automated Updates\n",
    "\n",
    "`Param` objects represent the parameters for the model. We told the model in the initialization that the position parameter (re-)named `pos` is a parameter of the model. Thus the model will listen to changes of the parameter values and update on any changes. We will set one element of the parameter and see what happens to the model:"
   ]
  },
  {
   "cell_type": "code",
   "execution_count": 15,
   "metadata": {
    "collapsed": false
   },
   "outputs": [
    {
     "name": "stdout",
     "output_type": "stream",
     "text": [
      "Objective before change: 4.0\n",
      "Objective after change: 0.0\n"
     ]
    }
   ],
   "source": [
    "print(\"Objective before change: {}\".format(r._obj))\n",
    "r.x[0] = 1\n",
    "print(\"Objective after change: {}\".format(r._obj))"
   ]
  },
  {
   "cell_type": "markdown",
   "metadata": {
    "collapsed": false,
    "deletable": true,
    "editable": true
   },
   "source": [
    "Note that we never actually told the model to update. It listened to changes to any of its parameters and updated accordingly. This update chain is based on the hierarchy of the model structure. Specific values of parameters can be accessed through indexing, just like indexing numpy arrays. In fact `Param` is a derivative of `ndarray` and inherits all its traits. Thus, `Param` can be used in any calculation involved with numpy. Importantly, when using a `Param` parameter inside a computation, it will be returning a normal numpy array. This prevents unwanted side effects and pointer errors."
   ]
  },
  {
   "cell_type": "code",
   "execution_count": 18,
   "metadata": {
    "collapsed": false
   },
   "outputs": [
    {
     "data": {
      "text/plain": [
       "array([ 2.,  2.])"
      ]
     },
     "execution_count": 18,
     "metadata": {},
     "output_type": "execute_result"
    }
   ],
   "source": [
    "2 * r.x"
   ]
  },
  {
   "cell_type": "markdown",
   "metadata": {},
   "source": [
    "## Optimization \n",
    "\n",
    "The optimization routine for the model can be accessed by the `optimize()` function. A call to optimize will setup the optimizer, do the iteration through getting and setting the parameters in an optimal 'in memory' fashion. By supplying `messages=1` as an optional parameter we can print the progress of the optimization itself."
   ]
  },
  {
   "cell_type": "code",
   "execution_count": 20,
   "metadata": {
    "collapsed": true
   },
   "outputs": [],
   "source": [
    "r.x[:] = [100,5] # Set to a difficult starting position to show the messages of the optimization."
   ]
  },
  {
   "cell_type": "code",
   "execution_count": 23,
   "metadata": {
    "collapsed": false
   },
   "outputs": [
    {
     "data": {
      "application/vnd.jupyter.widget-view+json": {
       "model_id": "741a88ab983e4de29626dcd071d1b7b5"
      }
     },
     "metadata": {},
     "output_type": "display_data"
    },
    {
     "data": {
      "text/plain": [
       "<paramz.optimization.optimization.opt_lbfgsb at 0x110417d68>"
      ]
     },
     "execution_count": 23,
     "metadata": {},
     "output_type": "execute_result"
    }
   ],
   "source": [
    "r.optimize(messages=1) # Call the optimization and show the progress."
   ]
  },
  {
   "cell_type": "markdown",
   "metadata": {},
   "source": [
    "To show the values of the positions itself, we directly print the `Param` object:"
   ]
  },
  {
   "cell_type": "code",
   "execution_count": 25,
   "metadata": {
    "collapsed": false
   },
   "outputs": [
    {
     "data": {
      "text/html": [
       "<style type=\"text/css\">\n",
       ".tg  {padding:2px 3px;word-break:normal;border-collapse:collapse;border-spacing:0;border-color:#DCDCDC;margin:0px auto;width:100%;}\n",
       ".tg td{font-family:\"Courier New\", Courier, monospace !important;font-weight:bold;color:#444;background-color:#F7FDFA;border-style:solid;border-width:1px;overflow:hidden;word-break:normal;border-color:#DCDCDC;}\n",
       ".tg th{font-family:\"Courier New\", Courier, monospace !important;font-weight:normal;color:#fff;background-color:#26ADE4;border-style:solid;border-width:1px;overflow:hidden;word-break:normal;border-color:#DCDCDC;}\n",
       ".tg .tg-left{font-family:\"Courier New\", Courier, monospace !important;font-weight:normal;text-align:left;}\n",
       ".tg .tg-right{font-family:\"Courier New\", Courier, monospace !important;font-weight:normal;text-align:right;}\n",
       "</style>\n",
       "<table class=\"tg\">\n",
       "\n",
       "<tr>\n",
       "  <th><b>index</b></th>\n",
       "  <th><b>rosen.pos</b></th>\n",
       "  <th><b>constraints</b></th>\n",
       "</tr>\n",
       "<tr><td class=tg-left>  [0]  </td><td class=tg-right>1.00000003</td><td class=tg-left>           </td></tr>\n",
       "<tr><td class=tg-left>  [1]  </td><td class=tg-right>1.00000006</td><td class=tg-left>           </td></tr>"
      ],
      "text/plain": [
       "\u001b[1mrosen.pos\u001b[0;0m:\n",
       "Param([ 1.00000003,  1.00000006])"
      ]
     },
     "execution_count": 25,
     "metadata": {},
     "output_type": "execute_result"
    }
   ],
   "source": [
    "r.x"
   ]
  },
  {
   "cell_type": "markdown",
   "metadata": {},
   "source": [
    "We could also randomize the model by using the convenience function `randomize()`, on the part we want to randomize. It can be any part of the model, also the whole model can be randomized:"
   ]
  },
  {
   "cell_type": "code",
   "execution_count": 34,
   "metadata": {
    "collapsed": false
   },
   "outputs": [],
   "source": [
    "np.random.seed(100)\n",
    "r.randomize()"
   ]
  },
  {
   "cell_type": "code",
   "execution_count": 35,
   "metadata": {
    "collapsed": false
   },
   "outputs": [
    {
     "data": {
      "text/html": [
       "<style type=\"text/css\">\n",
       ".tg  {padding:2px 3px;word-break:normal;border-collapse:collapse;border-spacing:0;border-color:#DCDCDC;margin:0px auto;width:100%;}\n",
       ".tg td{font-family:\"Courier New\", Courier, monospace !important;font-weight:bold;color:#444;background-color:#F7FDFA;border-style:solid;border-width:1px;overflow:hidden;word-break:normal;border-color:#DCDCDC;}\n",
       ".tg th{font-family:\"Courier New\", Courier, monospace !important;font-weight:normal;color:#fff;background-color:#26ADE4;border-style:solid;border-width:1px;overflow:hidden;word-break:normal;border-color:#DCDCDC;}\n",
       ".tg .tg-left{font-family:\"Courier New\", Courier, monospace !important;font-weight:normal;text-align:left;}\n",
       ".tg .tg-right{font-family:\"Courier New\", Courier, monospace !important;font-weight:normal;text-align:right;}\n",
       "</style>\n",
       "<table class=\"tg\">\n",
       "\n",
       "<tr>\n",
       "  <th><b>index</b></th>\n",
       "  <th><b>rosen.pos</b></th>\n",
       "  <th><b>constraints</b></th>\n",
       "</tr>\n",
       "<tr><td class=tg-left>  [0]  </td><td class=tg-right>-1.74976547</td><td class=tg-left>           </td></tr>\n",
       "<tr><td class=tg-left>  [1]  </td><td class=tg-right>0.34268040</td><td class=tg-left>           </td></tr>"
      ],
      "text/plain": [
       "\u001b[1mrosen.pos\u001b[0;0m:\n",
       "Param([-1.74976547,  0.3426804 ])"
      ]
     },
     "execution_count": 35,
     "metadata": {},
     "output_type": "execute_result"
    }
   ],
   "source": [
    "r.x"
   ]
  },
  {
   "cell_type": "code",
   "execution_count": 36,
   "metadata": {
    "collapsed": true
   },
   "outputs": [],
   "source": [
    "r.x.randomize()"
   ]
  },
  {
   "cell_type": "code",
   "execution_count": 37,
   "metadata": {
    "collapsed": false
   },
   "outputs": [
    {
     "data": {
      "text/html": [
       "<style type=\"text/css\">\n",
       ".tg  {padding:2px 3px;word-break:normal;border-collapse:collapse;border-spacing:0;border-color:#DCDCDC;margin:0px auto;width:100%;}\n",
       ".tg td{font-family:\"Courier New\", Courier, monospace !important;font-weight:bold;color:#444;background-color:#F7FDFA;border-style:solid;border-width:1px;overflow:hidden;word-break:normal;border-color:#DCDCDC;}\n",
       ".tg th{font-family:\"Courier New\", Courier, monospace !important;font-weight:normal;color:#fff;background-color:#26ADE4;border-style:solid;border-width:1px;overflow:hidden;word-break:normal;border-color:#DCDCDC;}\n",
       ".tg .tg-left{font-family:\"Courier New\", Courier, monospace !important;font-weight:normal;text-align:left;}\n",
       ".tg .tg-right{font-family:\"Courier New\", Courier, monospace !important;font-weight:normal;text-align:right;}\n",
       "</style>\n",
       "<table class=\"tg\">\n",
       "\n",
       "<tr>\n",
       "  <th><b>index</b></th>\n",
       "  <th><b>rosen.pos</b></th>\n",
       "  <th><b>constraints</b></th>\n",
       "</tr>\n",
       "<tr><td class=tg-left>  [0]  </td><td class=tg-right> 1.15303580</td><td class=tg-left>           </td></tr>\n",
       "<tr><td class=tg-left>  [1]  </td><td class=tg-right>-0.25243604</td><td class=tg-left>           </td></tr>"
      ],
      "text/plain": [
       "\u001b[1mrosen.pos\u001b[0;0m:\n",
       "Param([ 1.1530358 , -0.25243604])"
      ]
     },
     "execution_count": 37,
     "metadata": {},
     "output_type": "execute_result"
    }
   ],
   "source": [
    "r.x"
   ]
  },
  {
   "cell_type": "markdown",
   "metadata": {},
   "source": [
    "### Gradient Checking\n",
    "\n",
    "Importantly when implementing gradient based optimization is to make sure, that the gradients implemented match the numerical gradients of the objective function. This can be achieved using the `checkgrad()` function in paramz. It does a triangle numerical gradient estimate around the current position of the parameter. The verbosity of the gradient checker can be adjusted using the `verbose` option. If `verbose` is `False`, only one `bool` will be returned, specifying whether the gradients check the numerical gradients or not. The option of `verbose=True` returns a full list of every parameter, checking each parameter individually. This can be called on each subpart of the model again. \n",
    "\n",
    "Here we can either directly call it on the parameter:"
   ]
  },
  {
   "cell_type": "code",
   "execution_count": 43,
   "metadata": {
    "collapsed": false
   },
   "outputs": [
    {
     "name": "stdout",
     "output_type": "stream",
     "text": [
      "       Name        |     Ratio     |  Difference   |  Analytical   |   Numerical   |   dF_ratio    \n",
      "---------------------------------------------------------------------------------------------------\n",
      "\u001b[92m rosen.pos[[0]] \u001b[0m   |   1.000000    |   0.000000    |  729.913735   |  729.913735   |     6e-06     \n",
      "\u001b[92m rosen.pos[[1]] \u001b[0m   |   1.000000    |   0.000000    |  -316.385520  |  -316.385520  |     3e-06     \n"
     ]
    },
    {
     "data": {
      "text/plain": [
       "True"
      ]
     },
     "execution_count": 43,
     "metadata": {},
     "output_type": "execute_result"
    }
   ],
   "source": [
    "r.x.checkgrad(verbose=1)"
   ]
  },
  {
   "cell_type": "markdown",
   "metadata": {},
   "source": [
    "Or on the whole model (verbose or not):"
   ]
  },
  {
   "cell_type": "code",
   "execution_count": 44,
   "metadata": {
    "collapsed": false
   },
   "outputs": [
    {
     "data": {
      "text/plain": [
       "True"
      ]
     },
     "execution_count": 44,
     "metadata": {},
     "output_type": "execute_result"
    }
   ],
   "source": [
    "r.checkgrad()"
   ]
  },
  {
   "cell_type": "code",
   "execution_count": 45,
   "metadata": {
    "collapsed": false
   },
   "outputs": [
    {
     "name": "stdout",
     "output_type": "stream",
     "text": [
      "       Name        |     Ratio     |  Difference   |  Analytical   |   Numerical   |   dF_ratio    \n",
      "---------------------------------------------------------------------------------------------------\n",
      "\u001b[92m rosen.pos[[0]] \u001b[0m   |   1.000000    |   0.000000    |  729.913735   |  729.913735   |     6e-06     \n",
      "\u001b[92m rosen.pos[[1]] \u001b[0m   |   1.000000    |   0.000000    |  -316.385520  |  -316.385520  |     3e-06     \n"
     ]
    },
    {
     "data": {
      "text/plain": [
       "True"
      ]
     },
     "execution_count": 45,
     "metadata": {},
     "output_type": "execute_result"
    }
   ],
   "source": [
    "r.checkgrad(verbose=1)"
   ]
  },
  {
   "cell_type": "markdown",
   "metadata": {},
   "source": [
    "Or on individual parameters, note that numpy indexing is used:"
   ]
  },
  {
   "cell_type": "code",
   "execution_count": 46,
   "metadata": {
    "collapsed": false
   },
   "outputs": [
    {
     "name": "stdout",
     "output_type": "stream",
     "text": [
      "       Name        |     Ratio     |  Difference   |  Analytical   |   Numerical   |   dF_ratio    \n",
      "---------------------------------------------------------------------------------------------------\n",
      "\u001b[92m rosen.pos[[0]] \u001b[0m   |   1.000000    |   0.000000    |  729.913735   |  729.913735   |     6e-06     \n"
     ]
    },
    {
     "data": {
      "text/plain": [
       "True"
      ]
     },
     "execution_count": 46,
     "metadata": {},
     "output_type": "execute_result"
    }
   ],
   "source": [
    "r.x[[0]].checkgrad(verbose=1)"
   ]
  },
  {
   "cell_type": "markdown",
   "metadata": {},
   "source": [
    "## Constraining Parameter Spaces\n",
    "\n",
    "In many optimization scenarios it is necessary to constrain parameters to only take on certain ranges of values, may it be bounded in a region (between two numbers), fixed or constrained to only be positive or negative numbers. This can be achieved in paramz by applying a transformation to a parameter. For convenience the most common constraints are placed in specific functions, found by `r.constrain_<tab>`:"
   ]
  },
  {
   "cell_type": "markdown",
   "metadata": {},
   "source": [
    "Each parameter can be constrain individually, by subindexing the `Param` object or `Parameterized` objects as a whole. Note that indexing functions like numpy indexing, so we need to make sure to keep the array structure when indexing singular elements. Next we bound $x_0$ to be constrained between $-10$ and $-1$ and $x_1$ to be constrained to only positive values:"
   ]
  },
  {
   "cell_type": "code",
   "execution_count": 47,
   "metadata": {
    "collapsed": false
   },
   "outputs": [
    {
     "name": "stdout",
     "output_type": "stream",
     "text": [
      "Warning: changing parameters to satisfy constraints\n"
     ]
    }
   ],
   "source": [
    "r.x[[0]].constrain_bounded(-10,-1)"
   ]
  },
  {
   "cell_type": "code",
   "execution_count": 48,
   "metadata": {
    "collapsed": false
   },
   "outputs": [
    {
     "name": "stdout",
     "output_type": "stream",
     "text": [
      "Warning: changing parameters to satisfy constraints\n"
     ]
    }
   ],
   "source": [
    "r.x[[1]].constrain_positive()"
   ]
  },
  {
   "cell_type": "markdown",
   "metadata": {},
   "source": [
    "The printing will contain the constraints, either directly on the object, or it lists the constraints contained within a parameter. If a parameter has multiple constraints spread across the `Param` object all constraints contained in the whole `Param` object are indicated with `{<partial constraint>}`:"
   ]
  },
  {
   "cell_type": "code",
   "execution_count": 49,
   "metadata": {
    "collapsed": false
   },
   "outputs": [
    {
     "data": {
      "text/html": [
       "<style type=\"text/css\">\n",
       ".pd{\n",
       "    font-family: \"Courier New\", Courier, monospace !important;\n",
       "    width: 100%;\n",
       "    padding: 3px;\n",
       "}\n",
       "</style>\n",
       "\n",
       "<p class=pd>\n",
       "<b>Model</b>: rosen<br>\n",
       "<b>Objective</b>: 250.27291265120238<br>\n",
       "<b>Number of Parameters</b>: 2<br>\n",
       "<b>Number of Optimization Parameters</b>: 2<br>\n",
       "<b>Updates</b>: True<br>\n",
       "</p>\n",
       "<style type=\"text/css\">\n",
       ".tg  {font-family:\"Courier New\", Courier, monospace !important;padding:2px 3px;word-break:normal;border-collapse:collapse;border-spacing:0;border-color:#DCDCDC;margin:0px auto;width:100%;}\n",
       ".tg td{font-family:\"Courier New\", Courier, monospace !important;font-weight:bold;color:#444;background-color:#F7FDFA;border-style:solid;border-width:1px;overflow:hidden;word-break:normal;border-color:#DCDCDC;}\n",
       ".tg th{font-family:\"Courier New\", Courier, monospace !important;font-weight:normal;color:#fff;background-color:#26ADE4;border-style:solid;border-width:1px;overflow:hidden;word-break:normal;border-color:#DCDCDC;}\n",
       ".tg .tg-left{font-family:\"Courier New\", Courier, monospace !important;font-weight:normal;text-align:left;}\n",
       ".tg .tg-center{font-family:\"Courier New\", Courier, monospace !important;font-weight:normal;text-align:center;}\n",
       ".tg .tg-right{font-family:\"Courier New\", Courier, monospace !important;font-weight:normal;text-align:right;}\n",
       "</style>\n",
       "<table class=\"tg\"><tr><th><b>  rosen.</b></th><th><b>value</b></th><th><b>   constraints    </b></th></tr>\n",
       "<tr><td class=tg-left>  pos   </td><td class=tg-right> (2,)</td><td class=tg-center>{-10.0,-1.0} {+ve}</td></tr>\n",
       "</table>"
      ],
      "text/plain": [
       "<__main__.Rosen at 0x10d2c1320>"
      ]
     },
     "execution_count": 49,
     "metadata": {},
     "output_type": "execute_result"
    }
   ],
   "source": [
    "r"
   ]
  },
  {
   "cell_type": "markdown",
   "metadata": {},
   "source": [
    "To show the individual constraints, we look at the `Param` object of interest directly:"
   ]
  },
  {
   "cell_type": "code",
   "execution_count": 50,
   "metadata": {
    "collapsed": false
   },
   "outputs": [
    {
     "data": {
      "text/html": [
       "<style type=\"text/css\">\n",
       ".tg  {padding:2px 3px;word-break:normal;border-collapse:collapse;border-spacing:0;border-color:#DCDCDC;margin:0px auto;width:100%;}\n",
       ".tg td{font-family:\"Courier New\", Courier, monospace !important;font-weight:bold;color:#444;background-color:#F7FDFA;border-style:solid;border-width:1px;overflow:hidden;word-break:normal;border-color:#DCDCDC;}\n",
       ".tg th{font-family:\"Courier New\", Courier, monospace !important;font-weight:normal;color:#fff;background-color:#26ADE4;border-style:solid;border-width:1px;overflow:hidden;word-break:normal;border-color:#DCDCDC;}\n",
       ".tg .tg-left{font-family:\"Courier New\", Courier, monospace !important;font-weight:normal;text-align:left;}\n",
       ".tg .tg-right{font-family:\"Courier New\", Courier, monospace !important;font-weight:normal;text-align:right;}\n",
       "</style>\n",
       "<table class=\"tg\">\n",
       "\n",
       "<tr>\n",
       "  <th><b>index</b></th>\n",
       "  <th><b>rosen.pos</b></th>\n",
       "  <th><b>constraints</b></th>\n",
       "</tr>\n",
       "<tr><td class=tg-left>  [0]  </td><td class=tg-right> 1.15303580</td><td class=tg-left>-10.0,-1.0 </td></tr>\n",
       "<tr><td class=tg-left>  [1]  </td><td class=tg-right>-0.25243604</td><td class=tg-left>    +ve    </td></tr>"
      ],
      "text/plain": [
       "\u001b[1mrosen.pos\u001b[0;0m:\n",
       "Param([ 1.1530358 , -0.25243604])"
      ]
     },
     "execution_count": 50,
     "metadata": {},
     "output_type": "execute_result"
    }
   ],
   "source": [
    "r.x"
   ]
  },
  {
   "cell_type": "markdown",
   "metadata": {},
   "source": [
    "The constraints (and other indexed properties) are held by each parameter as a dictionary with the name. For example the constraints are held in a constraints dictionary, where the keys are the constraints, and the values are the indices this constraint refers to. You can either ask for the constraints of the whole model:"
   ]
  },
  {
   "cell_type": "code",
   "execution_count": 53,
   "metadata": {
    "collapsed": false
   },
   "outputs": [
    {
     "data": {
      "text/plain": [
       "[(Logexp, array([1])), (Logistic, array([0]))]"
      ]
     },
     "execution_count": 53,
     "metadata": {},
     "output_type": "execute_result"
    }
   ],
   "source": [
    "list(r.constraints.items())"
   ]
  },
  {
   "cell_type": "markdown",
   "metadata": {},
   "source": [
    "Or the constraints of individual `Parameterized` objects:"
   ]
  },
  {
   "cell_type": "code",
   "execution_count": 55,
   "metadata": {
    "collapsed": false
   },
   "outputs": [
    {
     "data": {
      "text/plain": [
       "[(Logexp, array([1])), (Logistic, array([0]))]"
      ]
     },
     "execution_count": 55,
     "metadata": {},
     "output_type": "execute_result"
    }
   ],
   "source": [
    "list(r.x.constraints.items())"
   ]
  },
  {
   "cell_type": "markdown",
   "metadata": {},
   "source": [
    "The constraints of subparts of the model are only views into the actual constaints held by the root of the model hierarchy."
   ]
  },
  {
   "cell_type": "markdown",
   "metadata": {},
   "source": [
    "## Models Inside Models\n",
    "\n",
    "The hierarchy of a Paramz model is a tree, where the nodes of the tree are `Parameterized` objects and the leaves are `Param` objects. The `Model` class is `Parameterized` itself and, thus can serve as a child itself. This opens the possibility for combining models together in a bigger model. As a simple example, we will just add two rosen models together into a single model:"
   ]
  },
  {
   "cell_type": "code",
   "execution_count": 59,
   "metadata": {
    "collapsed": true
   },
   "outputs": [],
   "source": [
    "class DoubleRosen(paramz.Model):\n",
    "    def __init__(self, x1, x2, name='silly_double'):\n",
    "        super(DoubleRosen, self).__init__(name=name) # Call super to initiate the structure of the model\n",
    "        self.r1 = Rosen(x1) # Instantiate the underlying Rosen classes\n",
    "        self.r2 = Rosen(x2)\n",
    "        # Tell this model, which parameters it has. Models are just the same as parameters:\n",
    "        self.link_parameters(self.r1, self.r2) \n",
    "    def objective_function(self):\n",
    "        return self._obj # Lazy evaluation of the objective\n",
    "    def parameters_changed(self):\n",
    "        self._obj = self.r1._obj + self.r2._obj # Just add both objectives together to optimize both models."
   ]
  },
  {
   "cell_type": "markdown",
   "metadata": {},
   "source": [
    "The keen eyed will have noticed, that we did not set any gradients in the above definition. That is because the underlying rosen models handle their gradients directly!"
   ]
  },
  {
   "cell_type": "code",
   "execution_count": 62,
   "metadata": {
    "collapsed": false
   },
   "outputs": [],
   "source": [
    "dr = DoubleRosen(np.random.normal(size=2), np.random.normal(size=2))"
   ]
  },
  {
   "cell_type": "markdown",
   "metadata": {},
   "source": [
    "All options listed above are availible for this model now. No additional steps need to be taken!"
   ]
  },
  {
   "cell_type": "code",
   "execution_count": 63,
   "metadata": {
    "collapsed": false
   },
   "outputs": [
    {
     "name": "stdout",
     "output_type": "stream",
     "text": [
      "                 Name                  |     Ratio     |  Difference   |  Analytical   |   Numerical   |   dF_ratio    \n",
      "-----------------------------------------------------------------------------------------------------------------------\n",
      "\u001b[92m silly_double.rosen.position[[0]] \u001b[0m     |   1.000000    |   0.000000    |  108.010909   |  108.010909   |     4e-06     \n",
      "\u001b[92m silly_double.rosen.position[[1]] \u001b[0m     |   1.000000    |   0.000000    |   95.252778   |   95.252778   |     3e-06     \n",
      "\u001b[92m silly_double.rosen_1.position[[0]] \u001b[0m   |   1.000000    |   0.000000    |  149.218065   |  149.218065   |     5e-06     \n",
      "\u001b[92m silly_double.rosen_1.position[[1]] \u001b[0m   |   1.000000    |   0.000000    |  -111.392885  |  -111.392885  |     4e-06     \n"
     ]
    },
    {
     "data": {
      "text/plain": [
       "True"
      ]
     },
     "execution_count": 63,
     "metadata": {},
     "output_type": "execute_result"
    }
   ],
   "source": [
    "dr.checkgrad(verbose=1)"
   ]
  },
  {
   "cell_type": "markdown",
   "metadata": {},
   "source": [
    "To show the different ways of how constraints are displayed, we constrain different parts of the model and fix parts of it too:"
   ]
  },
  {
   "cell_type": "code",
   "execution_count": 66,
   "metadata": {
    "collapsed": false
   },
   "outputs": [
    {
     "name": "stdout",
     "output_type": "stream",
     "text": [
      "Warning: changing parameters to satisfy constraints\n",
      "WARNING: reconstraining parameters silly_double.rosen\n",
      "WARNING: reconstraining parameters silly_double.rosen_1.position\n"
     ]
    }
   ],
   "source": [
    "dr.r1.constrain_negative()\n",
    "dr.r1.x[[0]].fix()\n",
    "dr.r2.x[[1]].constrain_bounded(-30, 5)\n",
    "dr.r2.x[[0]].constrain_positive()"
   ]
  },
  {
   "cell_type": "code",
   "execution_count": 67,
   "metadata": {
    "collapsed": false
   },
   "outputs": [
    {
     "data": {
      "text/html": [
       "<style type=\"text/css\">\n",
       ".pd{\n",
       "    font-family: \"Courier New\", Courier, monospace !important;\n",
       "    width: 100%;\n",
       "    padding: 3px;\n",
       "}\n",
       "</style>\n",
       "\n",
       "<p class=pd>\n",
       "<b>Model</b>: silly_double<br>\n",
       "<b>Objective</b>: 167.60030150881036<br>\n",
       "<b>Number of Parameters</b>: 4<br>\n",
       "<b>Number of Optimization Parameters</b>: 3<br>\n",
       "<b>Updates</b>: True<br>\n",
       "</p>\n",
       "<style type=\"text/css\">\n",
       ".tg  {font-family:\"Courier New\", Courier, monospace !important;padding:2px 3px;word-break:normal;border-collapse:collapse;border-spacing:0;border-color:#DCDCDC;margin:0px auto;width:100%;}\n",
       ".tg td{font-family:\"Courier New\", Courier, monospace !important;font-weight:bold;color:#444;background-color:#F7FDFA;border-style:solid;border-width:1px;overflow:hidden;word-break:normal;border-color:#DCDCDC;}\n",
       ".tg th{font-family:\"Courier New\", Courier, monospace !important;font-weight:normal;color:#fff;background-color:#26ADE4;border-style:solid;border-width:1px;overflow:hidden;word-break:normal;border-color:#DCDCDC;}\n",
       ".tg .tg-left{font-family:\"Courier New\", Courier, monospace !important;font-weight:normal;text-align:left;}\n",
       ".tg .tg-center{font-family:\"Courier New\", Courier, monospace !important;font-weight:normal;text-align:center;}\n",
       ".tg .tg-right{font-family:\"Courier New\", Courier, monospace !important;font-weight:normal;text-align:right;}\n",
       "</style>\n",
       "<table class=\"tg\"><tr><th><b>  silly_double.   </b></th><th><b>value</b></th><th><b>   constraints   </b></th></tr>\n",
       "<tr><td class=tg-left>  rosen.position  </td><td class=tg-right> (2,)</td><td class=tg-center>   -ve {fixed}   </td></tr>\n",
       "<tr><td class=tg-left>  rosen_1.position</td><td class=tg-right> (2,)</td><td class=tg-center>{-30.0,5.0} {+ve}</td></tr>\n",
       "</table>"
      ],
      "text/plain": [
       "<__main__.DoubleRosen at 0x123f62b00>"
      ]
     },
     "execution_count": 67,
     "metadata": {},
     "output_type": "execute_result"
    }
   ],
   "source": [
    "dr"
   ]
  },
  {
   "cell_type": "markdown",
   "metadata": {},
   "source": [
    "First, we can see, that because two models with the same name were added to `dr`, the framework renamed the second model to have a unique name. This only happens when two childs of one parameter share the same name. If the two childs not under the same parameter share names, it is just fine, as you can see in the name of x in both models: `position`.\n",
    "\n",
    "Second, the constraints are displayed in curly brackets `{}` if they do not span all underlying parameters. If a constraint, however, spans all parameters, it is shown without curly brackets, such as `-ve` for the first rosen model.\n",
    "\n",
    "We can now just like before perform all actions paramz support on this model, as well as on sub models. For example we can check the gradients of only one part of the model:"
   ]
  },
  {
   "cell_type": "code",
   "execution_count": 69,
   "metadata": {
    "collapsed": false
   },
   "outputs": [
    {
     "name": "stdout",
     "output_type": "stream",
     "text": [
      "                 Name                  |     Ratio     |  Difference   |  Analytical   |   Numerical   |   dF_ratio    \n",
      "-----------------------------------------------------------------------------------------------------------------------\n",
      "\u001b[92m silly_double.rosen_1.position[[0]] \u001b[0m   |   1.000000    |   0.000000    |   73.069369   |   73.069369   |     9e-07     \n",
      "\u001b[92m silly_double.rosen_1.position[[1]] \u001b[0m   |   1.000000    |   0.000000    |  -485.670996  |  -485.670996  |     6e-06     \n"
     ]
    },
    {
     "data": {
      "text/plain": [
       "True"
      ]
     },
     "execution_count": 69,
     "metadata": {},
     "output_type": "execute_result"
    }
   ],
   "source": [
    "dr.r2.checkgrad(verbose=1)"
   ]
  },
  {
   "cell_type": "markdown",
   "metadata": {},
   "source": [
    "Or print only one model:"
   ]
  },
  {
   "cell_type": "code",
   "execution_count": 70,
   "metadata": {
    "collapsed": false
   },
   "outputs": [
    {
     "data": {
      "text/html": [
       "<style type=\"text/css\">\n",
       ".pd{\n",
       "    font-family: \"Courier New\", Courier, monospace !important;\n",
       "    width: 100%;\n",
       "    padding: 3px;\n",
       "}\n",
       "</style>\n",
       "\n",
       "<p class=pd>\n",
       "<b>Model</b>: rosen<br>\n",
       "<b>Objective</b>: 136.4722526743063<br>\n",
       "<b>Number of Parameters</b>: 2<br>\n",
       "<b>Number of Optimization Parameters</b>: 1<br>\n",
       "<b>Updates</b>: True<br>\n",
       "</p>\n",
       "<style type=\"text/css\">\n",
       ".tg  {font-family:\"Courier New\", Courier, monospace !important;padding:2px 3px;word-break:normal;border-collapse:collapse;border-spacing:0;border-color:#DCDCDC;margin:0px auto;width:100%;}\n",
       ".tg td{font-family:\"Courier New\", Courier, monospace !important;font-weight:bold;color:#444;background-color:#F7FDFA;border-style:solid;border-width:1px;overflow:hidden;word-break:normal;border-color:#DCDCDC;}\n",
       ".tg th{font-family:\"Courier New\", Courier, monospace !important;font-weight:normal;color:#fff;background-color:#26ADE4;border-style:solid;border-width:1px;overflow:hidden;word-break:normal;border-color:#DCDCDC;}\n",
       ".tg .tg-left{font-family:\"Courier New\", Courier, monospace !important;font-weight:normal;text-align:left;}\n",
       ".tg .tg-center{font-family:\"Courier New\", Courier, monospace !important;font-weight:normal;text-align:center;}\n",
       ".tg .tg-right{font-family:\"Courier New\", Courier, monospace !important;font-weight:normal;text-align:right;}\n",
       "</style>\n",
       "<table class=\"tg\"><tr><th><b>  rosen.  </b></th><th><b>value</b></th><th><b>constraints</b></th></tr>\n",
       "<tr><td class=tg-left>  position</td><td class=tg-right> (2,)</td><td class=tg-center>-ve {fixed}</td></tr>\n",
       "</table>"
      ],
      "text/plain": [
       "<__main__.Rosen at 0x123f62358>"
      ]
     },
     "execution_count": 70,
     "metadata": {},
     "output_type": "execute_result"
    }
   ],
   "source": [
    "dr.r1"
   ]
  },
  {
   "cell_type": "markdown",
   "metadata": {},
   "source": [
    "We can showcase that constraints are mapped to each parameter directly. We can either access the constraints of the whole model directly:"
   ]
  },
  {
   "cell_type": "code",
   "execution_count": 71,
   "metadata": {
    "collapsed": false
   },
   "outputs": [
    {
     "name": "stdout",
     "output_type": "stream",
     "text": [
      "{Logexp: array([2]),\n",
      " Logistic: array([3]),\n",
      " NegativeLogexp: array([0, 1]),\n",
      " 'fixed': array([0])}\n"
     ]
    }
   ],
   "source": [
    "print(dr.constraints)"
   ]
  },
  {
   "cell_type": "markdown",
   "metadata": {},
   "source": [
    "Or for parameters directly:"
   ]
  },
  {
   "cell_type": "code",
   "execution_count": 72,
   "metadata": {
    "collapsed": false
   },
   "outputs": [
    {
     "name": "stdout",
     "output_type": "stream",
     "text": [
      "{Logexp: array([0]), Logistic: array([1])}\n"
     ]
    }
   ],
   "source": [
    "print(dr.r2.constraints)"
   ]
  },
  {
   "cell_type": "markdown",
   "metadata": {},
   "source": [
    "Note, that the constraints are remapped to directly index the parameters locally. This directly leeds up to the in memory handling of parameters. The root node of the hierarchy holds one parameter array `param_array` comprising all parameters. The same goes for the gradient `gradient`:"
   ]
  },
  {
   "cell_type": "code",
   "execution_count": 73,
   "metadata": {
    "collapsed": false
   },
   "outputs": [
    {
     "data": {
      "text/plain": [
       "array([-0.58359505, -0.81684707,  0.67272081, -0.10441114])"
      ]
     },
     "execution_count": 73,
     "metadata": {},
     "output_type": "execute_result"
    }
   ],
   "source": [
    "dr.param_array"
   ]
  },
  {
   "cell_type": "markdown",
   "metadata": {},
   "source": [
    "Each child parameter (and subsequent parameters) have their own view into the memory of the root node:"
   ]
  },
  {
   "cell_type": "code",
   "execution_count": 75,
   "metadata": {
    "collapsed": false
   },
   "outputs": [
    {
     "data": {
      "text/plain": [
       "array([ 0.67272081, -0.10441114])"
      ]
     },
     "execution_count": 75,
     "metadata": {},
     "output_type": "execute_result"
    }
   ],
   "source": [
    "dr.r2.param_array"
   ]
  },
  {
   "cell_type": "markdown",
   "metadata": {},
   "source": [
    "When changing the `param_array` of a parameter it directly edits the memory of the root node. This is a big part of the optimization of paramz, as getting and setting parameters works directly in memory and does not need any python routines (such as loops or traversal) functionality. \n",
    "\n",
    "The constraints as described above, directly index the `param_array` of their `Parameterized` or `Param` object. That is why the remapping exists. \n",
    "\n",
    "This `param_array` has its counterpart for the optimizer, which holds the remapped parameters by the constraints. The constraints are transformation mappings, which transform model parameters `param_array` into optimizer parameters `optimizer_array`. This optimizer array is presented to the optimizer and the constraints framework handles the mapping directly."
   ]
  },
  {
   "cell_type": "code",
   "execution_count": 76,
   "metadata": {
    "collapsed": false
   },
   "outputs": [
    {
     "name": "stdout",
     "output_type": "stream",
     "text": [
      "[-0.58359505 -0.81684707  0.67272081 -0.10441114]\n",
      "[ 0.23376881 -0.0412787   1.76760584]\n"
     ]
    }
   ],
   "source": [
    "print(dr.param_array)\n",
    "print(dr.optimizer_array)"
   ]
  },
  {
   "cell_type": "markdown",
   "metadata": {},
   "source": [
    "Note, that the optimizer array does only contain three values. This is because the first element of the the first rosen model is fixed and is not presented to the optimizer. The transformed gradients can be computed by the root node directly:"
   ]
  },
  {
   "cell_type": "code",
   "execution_count": 77,
   "metadata": {
    "collapsed": false
   },
   "outputs": [
    {
     "data": {
      "text/plain": [
       "array([-29910.38352466,     73.06936887,   -485.6709962 ])"
      ]
     },
     "execution_count": 77,
     "metadata": {},
     "output_type": "execute_result"
    }
   ],
   "source": [
    "dr._transform_gradients(dr.gradient)"
   ]
  },
  {
   "cell_type": "markdown",
   "metadata": {},
   "source": [
    "These gradients and parameters are presented to the optimizer and mapped back into model parameters after each iteration. "
   ]
  },
  {
   "cell_type": "markdown",
   "metadata": {},
   "source": [
    "## Further Reading\n",
    "\n",
    "For more details into the paramz framework there is the API documentation hosted [here](http://opendsi.cc/paramz/).\n",
    "The source code can be found on [github](https://github.com/sods/paramz), where also discussions and other issues are discussed in the [github issues](https://github.com/sods/paramz/issues)."
   ]
  }
 ],
 "metadata": {
  "anaconda-cloud": {},
  "kernelspec": {
   "display_name": "Python [conda env:py35]",
   "language": "python",
   "name": "conda-env-py35-py"
  },
  "language_info": {
   "codemirror_mode": {
    "name": "ipython",
    "version": 3
   },
   "file_extension": ".py",
   "mimetype": "text/x-python",
   "name": "python",
   "nbconvert_exporter": "python",
   "pygments_lexer": "ipython3",
   "version": "3.5.2"
  }
 },
 "nbformat": 4,
 "nbformat_minor": 2
}
